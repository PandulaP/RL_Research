{
 "cells": [
  {
   "cell_type": "markdown",
   "metadata": {},
   "source": [
    "Based on the model proposed in Zhao et al. (2009) \n",
    "\n",
    "It is designed to reflect:\n",
    "   - tumor growth in the absence of chemotherapy,\n",
    "   - patients’ negative wellness outcomes in response to chemotherapy,\n",
    "   - the drug’s capability for killing tumor cells while also increasing toxicity,\n",
    "   - n interaction between tumor cells and patient wellness\n",
    "   \n",
    "Dynamic model has two state variables:\n",
    " - m_t : Tumor size at time 't'\n",
    " - w_t : Patient's negative wellness at time 't'\n",
    "\n",
    "Dynamic model has one action variable:\n",
    " - d_t : chemotherapy treatment given at time 't'\n",
    " \n",
    "'t' represents time (with month as unit) and t = 0, 1, ..., T−1"
   ]
  },
  {
   "cell_type": "markdown",
   "metadata": {},
   "source": [
    "## Developing the environment"
   ]
  },
  {
   "cell_type": "code",
   "execution_count": 213,
   "metadata": {
    "ExecuteTime": {
     "end_time": "2020-12-30T15:19:06.144199Z",
     "start_time": "2020-12-30T15:19:05.487206Z"
    }
   },
   "outputs": [],
   "source": [
    "import numpy as np\n",
    "import pandas as pd\n",
    "from scipy.integrate import quad\n",
    "import matplotlib.pyplot as plt"
   ]
  },
  {
   "cell_type": "code",
   "execution_count": 22,
   "metadata": {
    "ExecuteTime": {
     "end_time": "2020-12-30T14:01:53.246598Z",
     "start_time": "2020-12-30T14:01:53.242600Z"
    }
   },
   "outputs": [],
   "source": [
    "def model_dynamics(m0, mt, w0, wt, dt):\n",
    "    \n",
    "    # Model parameters\n",
    "    a1 = 0.1\n",
    "    a2 = 0.15\n",
    "    b1 = 1.2\n",
    "    b2 = 1.2\n",
    "\n",
    "    d1 = 0.5\n",
    "    d2 = 0.5\n",
    "\n",
    "    m_0 = m0 # Tumor size at time '0', i.e., the begining of the study\n",
    "    m_t = mt # Tumor size at time 't'\n",
    "    ind_m_t = np.sign(m_t) # Indicator func. of tumor size at time 't': if tumour size = 0, patient is completely cured\n",
    "\n",
    "    w_0 = w0 # Initial value of patient's (negative) wellness\n",
    "    w_t = wt # Value of patient's (negative) wellness at time 't'\n",
    "    \n",
    "    d_t = np.clip(dt,a_min=0,a_max=1) # chemotherapy dose given at time 't': acceptable dose range of [0,1]\n",
    "\n",
    "    # Indicator transition functions\n",
    "    w_dot_t = a1 * max(m_t, m_0) + b1 * (d_t - d1)\n",
    "    m_dot_t = (a2 * max(w_t,w_0) - b2 * (d_t - d2)) * ind_m_t\n",
    "    \n",
    "    return w_dot_t, m_dot_t"
   ]
  },
  {
   "cell_type": "code",
   "execution_count": 26,
   "metadata": {
    "ExecuteTime": {
     "end_time": "2020-12-30T14:05:24.330019Z",
     "start_time": "2020-12-30T14:05:24.327484Z"
    }
   },
   "outputs": [],
   "source": [
    "def next_state(w_t, w_dot_t, m_t, m_dot_t):\n",
    "    \n",
    "    w_t_new = w_t + w_dot_t\n",
    "    m_t_new = m_t + m_dot_t\n",
    "    \n",
    "    return w_t_new, m_t_new"
   ]
  },
  {
   "cell_type": "code",
   "execution_count": null,
   "metadata": {
    "ExecuteTime": {
     "end_time": "2020-12-30T14:53:53.975650Z",
     "start_time": "2020-12-30T14:53:53.973009Z"
    }
   },
   "outputs": [],
   "source": [
    "def init_patient_state():\n",
    "    \n",
    "    \"\"\"\n",
    "    The initial values w0 and m0 for each patient are generated from independent uniform (0,2) deviates.\n",
    "            \n",
    "    \"\"\"\n",
    "    w0, m0 = np.random.uniform(low=0, high=2, size = 2)\n",
    "    \n",
    "    return w0, m0\n",
    "    "
   ]
  },
  {
   "cell_type": "code",
   "execution_count": 200,
   "metadata": {
    "ExecuteTime": {
     "end_time": "2020-12-30T15:15:59.360983Z",
     "start_time": "2020-12-30T15:15:59.358190Z"
    }
   },
   "outputs": [],
   "source": [
    "def select_dosage(random=False, fixed_dosage=None):\n",
    "    \n",
    "    if fixed_dosage is not None:\n",
    "        return fixed_dosage\n",
    "    elif random:\n",
    "        return np.random.choice([0.1, 0.4, 0.7, 1.0])    \n",
    "    else:\n",
    "        pass"
   ]
  },
  {
   "cell_type": "code",
   "execution_count": 120,
   "metadata": {
    "ExecuteTime": {
     "end_time": "2020-12-30T14:45:29.821590Z",
     "start_time": "2020-12-30T14:45:29.818683Z"
    }
   },
   "outputs": [],
   "source": [
    "def hazard_func(t):\n",
    "    \n",
    "    \"\"\"\n",
    "    The possible death of a patient in the course of a treatment is modeled by means of a hazard rate model.\n",
    "    \"\"\"\n",
    "    \n",
    "    mu_0 = -4\n",
    "    mu_1, mu_2 = 1,2 # both the tumor size and the toxicity have an equally important influence on patient’s survival.\n",
    "    \n",
    "    lambda_t = np.exp(mu_0 + mu_1*wt_vec[t] + mu_2 * mt_vec[t])\n",
    "    \n",
    "    return lambda_t"
   ]
  },
  {
   "cell_type": "code",
   "execution_count": 128,
   "metadata": {
    "ExecuteTime": {
     "end_time": "2020-12-30T14:46:20.785675Z",
     "start_time": "2020-12-30T14:46:20.782708Z"
    }
   },
   "outputs": [],
   "source": [
    "def prob_death(start_t,end_t):\n",
    "    \n",
    "    \"\"\"\n",
    "    Computes the probability of the patient’s death during the time interval (start_t, end_t].\n",
    "    \"\"\"\n",
    "    \n",
    "    # intergral = quad(hazard_func, start_t, end_t, args = (wt,mt))\n",
    "        \n",
    "    # In discrete form, integration is just summation\n",
    "    intergral = 0\n",
    "    for t in [start_t,end_t]:\n",
    "        intergral += hazard_func(t)\n",
    "    \n",
    "    p_death = 1 - np.exp(-intergral)\n",
    "    \n",
    "    return p_death"
   ]
  },
  {
   "cell_type": "code",
   "execution_count": 242,
   "metadata": {
    "ExecuteTime": {
     "end_time": "2020-12-30T15:24:53.044513Z",
     "start_time": "2020-12-30T15:24:53.039095Z"
    }
   },
   "outputs": [],
   "source": [
    "# Length of the treatment (in months)\n",
    "treat_len = 6\n",
    "\n",
    "# Compute the initial patient's state\n",
    "w0, m0 = init_patient_state()\n",
    "\n",
    "# Compute the dosage\n",
    "d0 = select_dosage(random=True)\n",
    "\n",
    "# Record the observed tumor size, wellness, and dosage\n",
    "wt_vec = [] # Store toxicity\n",
    "wt_vec.append(w0)\n",
    "\n",
    "mt_vec = [] # Store tumor size\n",
    "mt_vec.append(m0)\n",
    "\n",
    "dt_vec = [] # Store applied dosage\n",
    "dt_vec.append(d0)\n",
    "\n",
    "p_death_vec = []\n",
    "p_death_vec.append(None)\n",
    "\n",
    "for _ in range(treat_len-1):\n",
    "    \n",
    "    # Compute the transition values\n",
    "    w_dot_t, m_dot_t = model_dynamics(m0, mt_vec[-1], w0, wt_vec[-1], dt_vec[-1])\n",
    "\n",
    "    # Compute the next state\n",
    "    w_t_new, m_t_new = next_state(wt_vec[-1], w_dot_t, mt_vec[-1], m_dot_t)\n",
    "\n",
    "    # Update the state vectors\n",
    "    wt_vec.append(w_t_new)\n",
    "    mt_vec.append(m_t_new)\n",
    "\n",
    "    # Compute the probability of death\n",
    "    end_t = int(len(wt_vec)-1)\n",
    "    start_t = end_t - 1 \n",
    "\n",
    "    p_death = prob_death(start_t, end_t)\n",
    "    p_death_vec.append(p_death)\n",
    "    \n",
    "    if p_death >= 1.0:\n",
    "        dt_vec.append(None)\n",
    "        break\n",
    "    else:\n",
    "        dt_vec.append(select_dosage(fixed_dosage=.5))"
   ]
  },
  {
   "cell_type": "code",
   "execution_count": 243,
   "metadata": {
    "ExecuteTime": {
     "end_time": "2020-12-30T15:24:53.880189Z",
     "start_time": "2020-12-30T15:24:53.872326Z"
    }
   },
   "outputs": [
    {
     "data": {
      "text/html": [
       "<div>\n",
       "<style scoped>\n",
       "    .dataframe tbody tr th:only-of-type {\n",
       "        vertical-align: middle;\n",
       "    }\n",
       "\n",
       "    .dataframe tbody tr th {\n",
       "        vertical-align: top;\n",
       "    }\n",
       "\n",
       "    .dataframe thead th {\n",
       "        text-align: right;\n",
       "    }\n",
       "</style>\n",
       "<table border=\"1\" class=\"dataframe\">\n",
       "  <thead>\n",
       "    <tr style=\"text-align: right;\">\n",
       "      <th></th>\n",
       "      <th>tumor size</th>\n",
       "      <th>negative wellness</th>\n",
       "      <th>prob. death</th>\n",
       "      <th>dosage</th>\n",
       "    </tr>\n",
       "  </thead>\n",
       "  <tbody>\n",
       "    <tr>\n",
       "      <th>0</th>\n",
       "      <td>0.453565</td>\n",
       "      <td>0.223210</td>\n",
       "      <td>NaN</td>\n",
       "      <td>0.4</td>\n",
       "    </tr>\n",
       "    <tr>\n",
       "      <th>1</th>\n",
       "      <td>0.607046</td>\n",
       "      <td>0.148567</td>\n",
       "      <td>0.120384</td>\n",
       "      <td>0.5</td>\n",
       "    </tr>\n",
       "    <tr>\n",
       "      <th>2</th>\n",
       "      <td>0.640528</td>\n",
       "      <td>0.209271</td>\n",
       "      <td>0.141738</td>\n",
       "      <td>0.5</td>\n",
       "    </tr>\n",
       "    <tr>\n",
       "      <th>3</th>\n",
       "      <td>0.674009</td>\n",
       "      <td>0.273324</td>\n",
       "      <td>0.159678</td>\n",
       "      <td>0.5</td>\n",
       "    </tr>\n",
       "    <tr>\n",
       "      <th>4</th>\n",
       "      <td>0.715008</td>\n",
       "      <td>0.340725</td>\n",
       "      <td>0.181501</td>\n",
       "      <td>0.5</td>\n",
       "    </tr>\n",
       "    <tr>\n",
       "      <th>5</th>\n",
       "      <td>0.766117</td>\n",
       "      <td>0.412226</td>\n",
       "      <td>0.209928</td>\n",
       "      <td>0.5</td>\n",
       "    </tr>\n",
       "  </tbody>\n",
       "</table>\n",
       "</div>"
      ],
      "text/plain": [
       "   tumor size  negative wellness  prob. death  dosage\n",
       "0    0.453565           0.223210          NaN     0.4\n",
       "1    0.607046           0.148567     0.120384     0.5\n",
       "2    0.640528           0.209271     0.141738     0.5\n",
       "3    0.674009           0.273324     0.159678     0.5\n",
       "4    0.715008           0.340725     0.181501     0.5\n",
       "5    0.766117           0.412226     0.209928     0.5"
      ]
     },
     "execution_count": 243,
     "metadata": {},
     "output_type": "execute_result"
    }
   ],
   "source": [
    "pd.DataFrame({'tumor size' : mt_vec\n",
    "            , 'negative wellness' : wt_vec\n",
    "            , 'prob. death' : p_death_vec\n",
    "            , 'dosage' : dt_vec})"
   ]
  },
  {
   "cell_type": "code",
   "execution_count": 180,
   "metadata": {
    "ExecuteTime": {
     "end_time": "2020-12-30T15:03:40.768913Z",
     "start_time": "2020-12-30T15:03:40.671893Z"
    }
   },
   "outputs": [
    {
     "data": {
      "text/plain": [
       "[<matplotlib.lines.Line2D at 0x7effd8b00650>]"
      ]
     },
     "execution_count": 180,
     "metadata": {},
     "output_type": "execute_result"
    },
    {
     "data": {
      "image/png": "[encoded data removed]",
      "text/plain": [
       "<Figure size 432x288 with 1 Axes>"
      ]
     },
     "metadata": {
      "needs_background": "light"
     },
     "output_type": "display_data"
    }
   ],
   "source": [
    "plt.plot(mt_vec[-1],max(wt_vec))"
   ]
  },
  {
   "cell_type": "markdown",
   "metadata": {},
   "source": [
    "## ChemoSimulation class"
   ]
  },
  {
   "cell_type": "code",
   "execution_count": 302,
   "metadata": {
    "ExecuteTime": {
     "end_time": "2020-12-30T19:01:06.007401Z",
     "start_time": "2020-12-30T19:01:05.996798Z"
    }
   },
   "outputs": [],
   "source": [
    "import math\n",
    "import gym\n",
    "from gym import spaces, logger\n",
    "from gym.utils import seeding\n",
    "import numpy as np\n",
    "\n",
    "class ChemoSimulation(gym.Env):\n",
    "    \n",
    "    def __init__(self):\n",
    "        \n",
    "        \n",
    "        # Indicator transition functions parameters\n",
    "        self.a1 = 0.1\n",
    "        self.a2 = 0.15\n",
    "        self.b1 = 1.2\n",
    "        self.b2 = 1.2\n",
    "\n",
    "        self.d1 = 0.5\n",
    "        self.d2 = 0.5 \n",
    "        \n",
    "        self.m_0 = None # Tumor size at time '0', i.e., the begining of the study\n",
    "        self.w_0 = None # Initial value of patient's (negative) wellness\n",
    "        \n",
    "        # Hazard function paremeters\n",
    "        self.mu_0 = -4\n",
    "        self.mu_1, self.mu_2 = 1,1 # both tumor size and toxicity have an equally important influence on patient’s survival.\n",
    "\n",
    "        # Termination condition based on patient's probabilty of death\n",
    "        self.death_prop_threshold = 1.0\n",
    "        \n",
    "        # Chemotherapy agent dose level is in the range [0,1]\n",
    "        self.action_space = spaces.Box(low=0, high=1, shape = (1,), dtype=np.float32)\n",
    "    \n",
    "        # State space include the tumor size and patient's (negative) well-being\n",
    "        self.observation_space = spaces.Box(low = np.array([0,0]), high = np.array([10,10]) , dtype=np.float32)\n",
    "    \n",
    "        self.seed()\n",
    "        #self.viewer = None\n",
    "        self.state = None  \n",
    "    \n",
    "    \n",
    "    \n",
    "    def seed(self, seed=None):\n",
    "        self.np_random, seed = seeding.np_random(seed)\n",
    "        return [seed]\n",
    "    \n",
    "    def step(self, action):\n",
    "        \n",
    "        err_msg = \"%r (%s) invalid\" % (action, type(action))\n",
    "        assert self.action_space.contains(action), err_msg\n",
    "        \n",
    "        m_t, w_t = self.state\n",
    "        \n",
    "        # Chemotherapy dose given at time 't'\n",
    "        # Acceptable dose range of [0,1]\n",
    "        d_t = np.clip(action,a_min=0,a_max=1) \n",
    "        \n",
    "        # Indicator func. of tumor size at time 't' \n",
    "        # If tumour size = 0, we consider patient to be completely cured (tumor won't grow again)\n",
    "        ind_m_t = np.sign(m_t) \n",
    "\n",
    "        # Indicator transition functions\n",
    "        w_dot_t = self.a1 * max(m_t, self.m_0) + self.b1 * (d_t - self.d1)\n",
    "        m_dot_t = (self.a2 * max(w_t, self.w_0) - self.b2 * (d_t - self.d2)) * ind_m_t\n",
    "\n",
    "        \n",
    "        # Compute the next state values\n",
    "        m_t_new = m_t + m_dot_t\n",
    "        w_t_new = w_t + w_dot_t\n",
    "\n",
    "        self.state = (m_t_new, w_t_new)\n",
    "        \n",
    "        # Hazard rate model\n",
    "        lambda_t     = np.exp(self.mu_0 + self.mu_1*w_t + self.mu_2 * m_t)\n",
    "        lambda_t_new = np.exp(self.mu_0 + self.mu_1*w_t_new + self.mu_2 * m_t_new)\n",
    "        \n",
    "        # Compute patient's probability of death (\n",
    "        # Summing the Hazard rate model values for (t-1,t] time steps\n",
    "        #  since in discrete time steps, integration is equal to the summation.\n",
    "        p_death = 1 - np.exp(-(lambda_t+lambda_t_new))\n",
    "        \n",
    "        done = bool(p_death>=self.death_prop_threshold)\n",
    "        \n",
    "        if not done:\n",
    "            reward = 1.0\n",
    "        else:\n",
    "            reward = 0.0\n",
    "            logger.warn(\n",
    "                    \"You are calling 'step()' even though this \"\n",
    "                    \"environment has already returned done = True. You \"\n",
    "                    \"should always call 'reset()' once you receive 'done = \"\n",
    "                    \"True' -- any further steps are undefined behavior.\"\n",
    "                )\n",
    "        \n",
    "        return self.state, reward, done, p_death\n",
    "    \n",
    "    \n",
    "    \n",
    "    def reset(self, init_state=None):\n",
    "        \n",
    "        \"\"\"\n",
    "        The initial values w0 and m0 for each patient are generated from independent uniform (0,2) deviates.\n",
    "\n",
    "        \"\"\"\n",
    "\n",
    "        # Accept an initial state at reset\n",
    "        if init_state is not None:\n",
    "            self.state = init_state \n",
    "        else:\n",
    "            self.state = self.np_random.uniform(low=0, high=2, size = (2,))\n",
    "        \n",
    "        # Set the patient's tumor size and (negative) well-being at initialization \n",
    "        self.m_0, self.w_0 = self.state\n",
    "        \n",
    "        return np.array(self.state)"
   ]
  },
  {
   "cell_type": "markdown",
   "metadata": {},
   "source": [
    "### Testing the environment"
   ]
  },
  {
   "cell_type": "code",
   "execution_count": 303,
   "metadata": {
    "ExecuteTime": {
     "end_time": "2020-12-30T19:01:09.105821Z",
     "start_time": "2020-12-30T19:01:09.102931Z"
    }
   },
   "outputs": [],
   "source": [
    "env = ChemoSimulation()"
   ]
  },
  {
   "cell_type": "code",
   "execution_count": 313,
   "metadata": {
    "ExecuteTime": {
     "end_time": "2020-12-30T19:03:37.141179Z",
     "start_time": "2020-12-30T19:03:37.125055Z"
    }
   },
   "outputs": [
    {
     "name": "stdout",
     "output_type": "stream",
     "text": [
      "(array([0.02190003]), array([2.56572828])) [0.34287781] False 1.0\n",
      "(array([-0.19324073]), array([3.19893039])) [0.45857106] False 1.0\n",
      "(array([-0.07308029]), array([3.8321325])) [0.68521367] False 1.0\n",
      "(array([-0.04790017]), array([4.46533461])) [0.90013585] False 1.0\n",
      "(array([-0.11770036]), array([5.09853672])) [0.98477395] False 1.0\n",
      "(array([-0.28248087]), array([5.73173883])) [0.99901871] False 1.0\n",
      "(array([-0.54224169]), array([6.36494094])) [0.99997101] False 1.0\n",
      "(array([-0.89698283]), array([6.99814305])) [0.99999942] False 1.0\n",
      "(array([-1.34670429]), array([7.63134516])) [0.99999998] False 1.0\n",
      "(array([-1.89140607]), array([8.26454727])) [1.] False 1.0\n"
     ]
    }
   ],
   "source": [
    "env.reset()\n",
    "\n",
    "patient_status = []\n",
    "reward = []\n",
    "\n",
    "\n",
    "for _ in range(10):\n",
    "    dose = env.action_space.sample()\n",
    "    patient_status, reward, done, prob_death = env.step(np.array([1]))\n",
    "    \n",
    "    print(patient_status,prob_death,done,reward)\n",
    "    if done:\n",
    "        break\n",
    "    "
   ]
  }
 ],
 "metadata": {
  "hide_input": false,
  "kernelspec": {
   "display_name": "Python 3",
   "language": "python",
   "name": "python3"
  },
  "language_info": {
   "codemirror_mode": {
    "name": "ipython",
    "version": 3
   },
   "file_extension": ".py",
   "mimetype": "text/x-python",
   "name": "python",
   "nbconvert_exporter": "python",
   "pygments_lexer": "ipython3",
   "version": "3.7.8"
  }
 },
 "nbformat": 4,
 "nbformat_minor": 4
}
