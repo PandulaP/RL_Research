{
 "cells": [
  {
   "cell_type": "markdown",
   "metadata": {},
   "source": [
    "## Preference-based Policy Iteration Algorithm - Application on Mountain-Car Problem\n",
    "\n",
    "This is an attempt to replicate the work done by Fürnkranz et al., (2012) in their paper \"Preference-based reinforcement learning: a formal framework and a policy iteration algorithm\""
   ]
  },
  {
   "cell_type": "markdown",
   "metadata": {},
   "source": [
    "*TO-DOs:*\n",
    ">- Run t-tests for pair-wise comparisons (only add preferences for significantly different pairs) -> might help to converge. -->\n",
    "\n",
    "*ISSUES/UNCLEAR POINTS:*\n",
    ">- how to handle the two state values that were not considered? (cart-position and velocity)\n",
    "- how the NN (approximator) actually makes the prediction?\n",
    "- how does the environment execute actions in the extended action space?"
   ]
  },
  {
   "cell_type": "code",
   "execution_count": 1,
   "metadata": {
    "ExecuteTime": {
     "end_time": "2020-12-10T08:20:56.010612Z",
     "start_time": "2020-12-10T08:20:53.809362Z"
    }
   },
   "outputs": [],
   "source": [
    "import numpy as np\n",
    "import pandas as pd\n",
    "\n",
    "import torch\n",
    "import torch.nn as nn\n",
    "import torch.nn.functional as F\n",
    "from torch.utils.data import TensorDataset, DataLoader\n",
    "\n",
    "import matplotlib.pyplot as plt\n",
    "from IPython import display\n",
    "from IPython.display import HTML\n",
    "\n",
    "import gym\n",
    "from gym import wrappers\n",
    "\n",
    "import io\n",
    "import base64\n",
    "import itertools\n",
    "import tqdm\n",
    "\n",
    "from scipy.stats import rankdata as rd\n",
    "from scipy import stats"
   ]
  },
  {
   "cell_type": "markdown",
   "metadata": {},
   "source": [
    "    Description:\n",
    "    \n",
    "        The agent (a car) is started at the bottom of a valley. For any given\n",
    "        state the agent may choose to accelerate to the left, right or cease\n",
    "        any acceleration.\n",
    "        \n",
    "    Source:\n",
    "        The environment appeared first in Andrew Moore's PhD Thesis (1990).\n",
    "        \n",
    "    Observation:\n",
    "        Type: Box(2)\n",
    "        Num    Observation               Min            Max\n",
    "        0      Car Position              -1.2           0.6\n",
    "        1      Car Velocity              -0.07          0.07\n",
    "        \n",
    "    Actions:\n",
    "        Type: Discrete(3)\n",
    "        Num    Action\n",
    "        0      Accelerate to the Left\n",
    "        1      Don't accelerate\n",
    "        2      Accelerate to the Right\n",
    "        \n",
    "        Note: This does not affect the amount of velocity affected by the\n",
    "        gravitational pull acting on the car.\n",
    "        \n",
    "    Reward:\n",
    "    \n",
    "         Reward of 0 is awarded if the agent reached the flag (position = 0.5)\n",
    "         on top of the mountain.\n",
    "         Reward of -1 is awarded if the position of the agent is less than 0.5.\n",
    "         \n",
    "    Starting State:\n",
    "    \n",
    "         The position of the car is assigned a uniform random value in\n",
    "         [-0.6 , -0.4].\n",
    "         The starting velocity of the car is always assigned to 0.\n",
    "         \n",
    "    Episode Termination:\n",
    "         The car position is more than 0.5\n",
    "         Episode length is greater than 200"
   ]
  },
  {
   "cell_type": "code",
   "execution_count": 3,
   "metadata": {
    "ExecuteTime": {
     "end_time": "2020-12-10T08:21:47.514709Z",
     "start_time": "2020-12-10T08:21:47.498177Z"
    }
   },
   "outputs": [
    {
     "name": "stdout",
     "output_type": "stream",
     "text": [
      "Number of actions: 3\n",
      "Observation space: Box(2,)\n",
      "Max. values of observation space:[0.6  0.07]\n",
      "Min. values of observation space:[-1.2  -0.07]\n"
     ]
    }
   ],
   "source": [
    "# updating the maximum length of trajectory trajectory to 1000 steps\n",
    "gym.envs.register(\n",
    "    id='MountainCar_PbPI_Version-v0',\n",
    "    entry_point='gym.envs.classic_control:MountainCarEnv',\n",
    "    max_episode_steps=1000,      # MountainCar-v0 uses 200\n",
    ")\n",
    "\n",
    "env = gym.make('MountainCar_PbPI_Version-v0')\n",
    "env.reset()\n",
    "\n",
    "print(\"Number of actions: \" + str(env.action_space.n))\n",
    "print(\"Observation space: \" + str(env.observation_space))\n",
    "print(\"Max. values of observation space:\" + str(env.observation_space.high))\n",
    "print(\"Min. values of observation space:\" + str(env.observation_space.low))"
   ]
  },
  {
   "cell_type": "code",
   "execution_count": 6,
   "metadata": {},
   "outputs": [],
   "source": [
    "# helper functions\n",
    "def random_action(environment):\n",
    "    \"\"\" return a random action from the given environment\"\"\"\n",
    "    \n",
    "    action = environment.action_space.sample()  \n",
    "    return action\n",
    "\n",
    "\n",
    "def generate_init_states_S(env_name:'string', seed):\n",
    "    \"\"\"this function returns a list of randomly generated initial states from an input environment \"\"\"\n",
    "    \n",
    "    np.random.seed(seed)\n",
    "    \n",
    "    n_actions = np.random.randint(low=1, high=101)                # how many actions to generate\n",
    "    seq_actions = np.random.randint(low=0,high=2,size=n_actions)  # random sequence of actions\n",
    "\n",
    "    # array to store initial states\n",
    "    init_states_S = []\n",
    "\n",
    "    # initialize environment\n",
    "    env = gym.make(env_name)\n",
    "    env.reset()\n",
    "\n",
    "    # execute the randomly generated sequence of actions\n",
    "    for action in seq_actions:\n",
    "\n",
    "        state, reward, done, info = env.step(action)  \n",
    "        \n",
    "        init_states_S.append(state) \n",
    "    \n",
    "        if done: \n",
    "            env.reset()    \n",
    "            \n",
    "    env.close()\n",
    "            \n",
    "    return init_states_S"
   ]
  },
  {
   "cell_type": "code",
   "execution_count": 6,
   "metadata": {},
   "outputs": [],
   "source": [
    "# generate sample states\n",
    "init_states_S = generate_init_states_S('MountainCar_PbPI_Version-v0', 20)\n",
    "\n",
    "# display the first 10 initial states\n",
    "env = gym.make('MountainCar_PbPI_Version-v0')\n",
    "env = env.unwrapped # unwrap the environment to set custom initial states\n",
    "fig = plt.figure(figsize=(20,10))\n",
    "\n",
    "for i in range(20):\n",
    "    env.state = init_states_S[i] # set state\n",
    "    fig.add_subplot(4,5,i+1)\n",
    "    plt.imshow(env.render(mode=\"rgb_array\"))\n",
    "    env.close()\n",
    "    \n",
    "plt.show()"
   ]
  },
  {
   "cell_type": "code",
   "execution_count": 13,
   "metadata": {},
   "outputs": [],
   "source": [
    "def partition_action_space(env_name:'string',n_actions:'int'):\n",
    "    \"\"\"function to partitions the action space of an environment into a given number of actions`\"\"\"\n",
    "    \n",
    "    # initialize environment\n",
    "    env = gym.make(env_name)\n",
    "    \n",
    "    actions = np.arange(env.action_space.n)\n",
    "\n",
    "    # a uniform noise term is added to action signals to make all state transitions non-deterministic\n",
    "    part_act_space = np.linspace(actions[0],actions[-1],n_actions) + np.random.uniform(low = -.2,high=.2) \n",
    "    \n",
    "    return part_act_space                                                                                "
   ]
  },
  {
   "cell_type": "code",
   "execution_count": 30,
   "metadata": {},
   "outputs": [
    {
     "name": "stdout",
     "output_type": "stream",
     "text": [
      "Original action space: 3\n",
      "Partitioned into 3 actions: [-0.16648653  0.83351347  1.83351347]\n",
      "Partitioned into 6 actions: [-0.10794132  0.29205868  0.69205868  1.09205868  1.49205868  1.89205868]\n"
     ]
    }
   ],
   "source": [
    "env_name = 'MountainCar_PbPI_Version-v0'\n",
    "env = gym.make(env_name)\n",
    "\n",
    "print(\"Original action space: \" + str(env.action_space.n))\n",
    "print(\"Partitioned into 3 actions: \" + str(partition_action_space(env_name,3)))\n",
    "print(\"Partitioned into 6 actions: \" + str(partition_action_space(env_name,6)))"
   ]
  },
  {
   "cell_type": "markdown",
   "metadata": {},
   "source": [
    "### Preference-based Approximate Policy Iteration algorithm"
   ]
  },
  {
   "cell_type": "code",
   "execution_count": 149,
   "metadata": {},
   "outputs": [],
   "source": [
    "#####################################\n",
    "### Evaluate-Preference procedure ###\n",
    "\n",
    "### Functionality:\n",
    "### - INPUTS  : starting state (s), two-actions(a_k, a_j), (current) policy (\\pi), max. length of trajectoris (L)\n",
    "### - PROCESS : generate roll-out (fixed time horizon) and calculate accumulate reward\n",
    "### - OUTPUT  : compare return from each rollout: store preference info in training dataset as (s,a_k > a_j)\n",
    "\n",
    "### - Run this procedure for every action-pair at all initial-states\n",
    "\n",
    "def evaluate_preference(starting_state # starting state of roll-outs\n",
    "                        , action_1     # first action to execute at the starting-state\n",
    "                        , action_2     # second action to execute at the starting state\n",
    "                        , policy_in    # policy to folow\n",
    "                        , environment_name = 'MountainCar_PbPI_Version-v0'   # name of the environment\n",
    "                        , discount_fac = 1        # discounting factor\n",
    "                        , n_rollouts = 100        # number of roll-outs to generate per action\n",
    "                        , max_rollout_len = 1000  # maximum length of a roll-out\n",
    "                        , label_ranker=False      # whether to use the label-ranking model or not\n",
    "                        , p_sig = 0.05            # p-value to use for t-test (to compare avg. returns of roll-outs from each action)\n",
    "                       ):\n",
    "    \n",
    "    \"\"\"\n",
    "    Description:\n",
    "        At every state in the initial state set, roll-outs are generated by starting from each action and following the given policy.\n",
    "        Accumulated rewards from each roll-out at each action are used to generate preferences for the given pair of actions.\n",
    "        Preferences generated through this method are stored to create a training set to learn the label ranking model.\n",
    "    \n",
    "    \"\"\"\n",
    "    \n",
    "    ### initialize local variables  ###\n",
    "    \n",
    "    policy = policy_in          \n",
    "    n_rollouts = n_rollouts     \n",
    "    gamma = discount_fac    \n",
    "    s_init = starting_state\n",
    "        \n",
    "    actions = { 'one' : action_1    # dictionary to store input actions\n",
    "              , 'two' : action_2}    \n",
    "\n",
    "    r = { 'one' : [None]*n_rollouts # dictionary to store rewards of roll-outs, starting from each action\n",
    "        , 'two' : [None]*n_rollouts}  \n",
    "\n",
    "    avg_r = {}  # dictionary to store average discounted return for each action\n",
    "\n",
    "    max_traj_len = max_rollout_len # maximum roll-out trajectory length\n",
    "\n",
    "    \n",
    "    # select one action from the two given action and generate roll-outs\n",
    "    for action_key, action_value in actions.items():\n",
    "\n",
    "        for rollout in range(n_rollouts):\n",
    "\n",
    "            env = gym.make(environment_name)\n",
    "            env = env.unwrapped\n",
    "            \n",
    "            env.state = s_init  # set the starting state\n",
    "\n",
    "            # pre-process the action value in case the action-space is partitioned: environment only accepts discrete action values\n",
    "            action_val_processed = int(abs(round(action_value)))\n",
    "            observation, reward, done, info = env.step(action_val_processed)\n",
    "            \n",
    "            hist = observation # store the last state (observation)\n",
    "            \n",
    "            r[action_key][rollout] = reward  # add the immediate reward received after executing the action\n",
    "\n",
    "            # follow the given policy to generate a roll-out trajectory \n",
    "            # until the agent meets a terminal state or exceeds the max. trajectory length is exceeded\n",
    "            traj_len = 1\n",
    "            while traj_len < max_traj_len and not done: \n",
    "                \n",
    "                \n",
    "                if label_ranker: # if the policy should be derived from the label-ranking model\n",
    "                    observation, reward, done, info = env.step(policy.label_ranking_policy(hist))\n",
    "                    hist = observation\n",
    "                    \n",
    "                else: # if the policy should be derived from a random-action selection model\n",
    "                    observation, reward, done, info = env.step(policy(env))\n",
    "\n",
    "                # compute discounted-reward at each step of the roll-out and store the roll-out return\n",
    "                r[action_key][rollout] += (gamma**traj_len) * reward\n",
    "\n",
    "                traj_len += 1\n",
    "\n",
    "            # close the environment after creating a single roll-out (and delete it)\n",
    "            env.close()\n",
    "            del env\n",
    "            \n",
    "        #print(r[action_key])\n",
    "        \n",
    "        # calculate average discounted return for the two actions executed at starting state\n",
    "        avg_r[action_key]  = sum(r[action_key]) / len(r[action_key])\n",
    "\n",
    "        \n",
    "    ### TO-DO ###\n",
    "    # RUN T-TEST AND RETURN ACTION PREFERENCE ONLY IF THERE IS A SIGNIFICANT DIFFERENCE\n",
    "    #t_val, p_val = stats.ttest_ind(r['one'],r['two']) # unpaird t-tests: equal variance\n",
    "    #print(p_val)\n",
    "    \n",
    "    # return preference info. to generate training data\n",
    "    if (avg_r['one'] > avg_r['two']):\n",
    "        return {'state': s_init\n",
    "               , 'a_j' : actions['one']\n",
    "               , 'a_k' : actions['two']\n",
    "               , 'preference_label' : 1}\n",
    "    \n",
    "    elif(avg_r['one'] < avg_r['two']):\n",
    "        return {'state': s_init\n",
    "               , 'a_j' : actions['one']\n",
    "               , 'a_k' : actions['two']\n",
    "               , 'preference_label' : 0}\n",
    "    \n",
    "    else: # return NaN if avg. rewards of both actions are the same\n",
    "        return {'state': np.nan\n",
    "               , 'a_j' : np.nan\n",
    "               , 'a_k' : np.nan\n",
    "               , 'preference_label' : np.nan}\n",
    "    \n",
    "   "
   ]
  },
  {
   "cell_type": "code",
   "execution_count": 150,
   "metadata": {},
   "outputs": [
    {
     "data": {
      "text/plain": [
       "{'state': nan, 'a_j': nan, 'a_k': nan, 'preference_label': nan}"
      ]
     },
     "execution_count": 150,
     "metadata": {},
     "output_type": "execute_result"
    }
   ],
   "source": [
    "# test function\n",
    "evaluate_preference(env.reset(),0.1,1.6,policy_in=random_action,label_ranker=False)"
   ]
  },
  {
   "cell_type": "code",
   "execution_count": 309,
   "metadata": {},
   "outputs": [],
   "source": [
    "############################################\n",
    "### LABEL-RANKER MODEL-TRAINING procedure ###\n",
    "\n",
    "### Description:\n",
    "###  XXX..\n",
    "\n",
    "### Functionality:\n",
    "### - INPUTS  : Xxx\n",
    "### - PROCESS : Xxx\n",
    "### - OUTPUT  : Xxx\n",
    "\n",
    "### FUNCTION TO CREATE TRAINING DATASET + MODEL + RETURN THE TRAINED MODEL ###\n",
    "\n",
    "def train_model(train_data                  # collection of all preference data\n",
    "                , action_space              # action space of the task\n",
    "                , model_name:str = 'mount_car'        # name for the model (to store)\n",
    "                , batch_s = 3               # batch size to train the NN model\n",
    "                , mod_layers = [100,500,50] # num. of hidden-layers (list length) and the num. of hidden units per each layer (list item value)\n",
    "                , n_epochs = 300):          # num. of epochs to train the model\n",
    "\n",
    "    ###########################################\n",
    "    ###### CONSTRUCTING TRAINING-DATASET ######\n",
    "        \n",
    "        \n",
    "    # create a training dataframe | remove rows that have np.nan -> corresponds to roll-outs with no action preference\n",
    "    train_df = pd.DataFrame(train_data).dropna()\n",
    "\n",
    "    # create a key for each state\n",
    "    train_df.loc[:, 'state_key'] = train_df.state.apply(lambda x: x[0].astype(str)+\"_\"+x[1].astype(str))\n",
    "\n",
    "    # drop all states (rows) which does not include any preferred action\n",
    "    temp_df1 = train_df.groupby('state_key').preference_label.sum().reset_index()\n",
    "    temp_df1 = temp_df1.loc[temp_df1.preference_label>0] # pick the states that have at least one prefered action\n",
    "    train_df = train_df.merge(right = temp_df1.loc[:,'state_key']\n",
    "                              , right_on = 'state_key'\n",
    "                              , left_on = 'state_key'\n",
    "                              , how = 'right')\n",
    "\n",
    "#     # create a single column to include all actions executed at each state (row)\n",
    "#     temp_df1 = train_df.groupby('state_key')['a_j'].unique().reset_index()\n",
    "#     temp_df2 = train_df.groupby('state_key')['a_k'].unique().reset_index()\n",
    "#     temp_df3 = temp_df1.merge(right=temp_df2\n",
    "#                               , right_on = 'state_key'\n",
    "#                               , left_on = 'state_key'\n",
    "#                               , how = 'inner')\n",
    "#     temp_df3.loc[:,'unique_acts'] = temp_df3.apply(lambda row: set(list(row['a_j']) + list(row['a_k'])) ,axis=1)\n",
    "\n",
    "#     # add the unique-action column to train dataset\n",
    "#     train_df = train_df.merge(right = temp_df3.loc[:,['state_key', 'unique_acts']]\n",
    "#                               , right_on =  'state_key'\n",
    "#                               , left_on = 'state_key'\n",
    "#                               , how = 'left')\n",
    "\n",
    "    # create a 'prefered-action' value for each state, action-preference pair\n",
    "    train_df.loc[:,'prefered_action'] = train_df.apply(lambda row: row['a_j'] if row['preference_label'] == 1 else row['a_k']  ,axis=1)\n",
    "\n",
    "    # compute the number of times each action is prefered at a state\n",
    "    action_preference_counts = train_df.groupby('state_key').prefered_action.value_counts().unstack()\n",
    "    action_preference_counts.replace(np.nan,0,inplace=True) # if an action is not preferred at a state, set it to '0'\n",
    "\n",
    "    # remove the column index names of the `action_preference_counts' summary table\n",
    "    action_preference_counts.columns.name = None\n",
    "\n",
    "    # find actions not selected as a preferred action at any state \n",
    "    # (this is important because all actions has to be included here to create the correct target/label information for NN)\n",
    "    missed_actions = [action for action in action_space if action not in action_preference_counts.columns.tolist()]\n",
    "    missed_actions = np.array(missed_actions).astype(action_preference_counts.columns.dtype) # convert to the same data-type of remaining columns\n",
    "\n",
    "    # add any missing actions to the `action_preference_counts' summary table\n",
    "    if len(missed_actions)>0:\n",
    "\n",
    "        # add the missing action (with a preference value of zero)\n",
    "        for action in missed_actions:\n",
    "            action_preference_counts.loc[:,action] = 0\n",
    "\n",
    "        # sort the actions in the summary according to arrangement in action space (ascending order)\n",
    "        action_preference_counts = action_preference_counts.reindex(sorted(action_preference_counts.columns), axis=1)    \n",
    "    \n",
    "    # convert the action-preference-counts of each action to a vector and add as a new column (to be used as training labels)\n",
    "    action_preference_counts.loc[:, 'preference_label_vector'] = action_preference_counts.iloc[:,0:].values.tolist()\n",
    "\n",
    "    # add preference label vector to training dataset\n",
    "    train_df = train_df.merge(right = action_preference_counts.loc[:,['preference_label_vector']]\n",
    "                              , right_index= True\n",
    "                              , left_on = 'state_key'\n",
    "                              , how = 'left')\n",
    "\n",
    "    # create the reduced training dataset (drop unnecessary columns & duplicate rows: which have data for the same state)\n",
    "    train_df_reduced = train_df.loc[:,['state', 'state_key', 'preference_label_vector']]\n",
    "    train_df_reduced.drop_duplicates(subset=['state_key'],inplace=True)\n",
    "\n",
    "\n",
    "\n",
    "    ###### PREPARING TRAINING-DATA TENSORS (FOR MODEL) ######\n",
    "\n",
    "    # normalizing the target (preference label) vectors\n",
    "    output_labels_temp = np.array(train_df_reduced.preference_label_vector.tolist())\n",
    "    row_sums = output_labels_temp.sum(axis=1)\n",
    "    output_labels_normalized = output_labels_temp / row_sums[:, np.newaxis]\n",
    "\n",
    "    # creating training data tensors\n",
    "    input_states  = torch.from_numpy(np.array(train_df_reduced.state.apply(lambda x: x.astype(float)).tolist()))\n",
    "    output_labels = torch.from_numpy(output_labels_normalized)\n",
    "\n",
    "    # creating TensorDataset\n",
    "    train_ds = TensorDataset(input_states , output_labels)\n",
    "\n",
    "    # defining data loader\n",
    "    batch_size = batch_s\n",
    "    train_dl = DataLoader(train_ds, batch_size, shuffle=True, drop_last=True)\n",
    "\n",
    "\n",
    "    ###### CREATING NEURAL NETWORK FUNCTION APPROXIMATOR (MODEL) ######\n",
    "\n",
    "    class Model(nn.Module):\n",
    "\n",
    "        def __init__(self, input_state_len, output_label_len, layers, p=0.3):\n",
    "\n",
    "            super().__init__()\n",
    "            self.batch_norm_num = nn.BatchNorm1d(input_state_len)\n",
    "\n",
    "            all_layers = []\n",
    "            input_size = input_state_len\n",
    "\n",
    "            # create layers\n",
    "            for layer_dim in layers:\n",
    "                all_layers.append(nn.Linear(input_size, layer_dim))\n",
    "                all_layers.append(nn.ReLU(inplace=True))\n",
    "                all_layers.append(nn.BatchNorm1d(layer_dim))\n",
    "                all_layers.append(nn.Dropout(p))\n",
    "                input_size = layer_dim\n",
    "\n",
    "            all_layers.append(nn.Linear(layers[-1], output_label_len))\n",
    "\n",
    "            self.layers = nn.Sequential(*all_layers)\n",
    "\n",
    "        def forward(self, state_vec):\n",
    "            x = self.batch_norm_num(state_vec)\n",
    "            x = self.layers(x)\n",
    "            return x\n",
    "\n",
    "    # define model instance\n",
    "    model = Model(input_states.shape[1], output_labels.shape[1], mod_layers)\n",
    "\n",
    "    opt = torch.optim.SGD(model.parameters(), lr = 1e-1)\n",
    "    loss_fn = F.mse_loss\n",
    "\n",
    "\n",
    "    ###### DEFINING FIT-FUNCTION TO TRAIN THE MODEL ######\n",
    "\n",
    "#     print('Training model...\\n',end='\\r')\n",
    "\n",
    "    # to store losses\n",
    "    aggregated_losses = []\n",
    "\n",
    "    # Define a utility function to train the model\n",
    "    def fit(num_epochs, model, loss_fn, opt):\n",
    "\n",
    "        for epoch in range(num_epochs):\n",
    "            for xb,yb in train_dl:\n",
    "\n",
    "                # Generate predictions\n",
    "                pred = model(xb.float())\n",
    "                loss = loss_fn(pred, yb.float())            \n",
    "\n",
    "                # Perform gradient descent\n",
    "                loss.backward()\n",
    "                opt.step()\n",
    "                opt.zero_grad()\n",
    "\n",
    "            aggregated_losses.append(loss_fn(model(input_states.float()), output_labels.float()).detach().numpy())\n",
    "\n",
    "#             if epoch%100 == 0:\n",
    "#                     print(f'epoch: {epoch:3} loss: {loss.item():10.8f}')\n",
    "#       print('\\nTraining loss: ', loss_fn(model(input_states.float()), output_labels.float()).detach().numpy(),'\\n', end = '\\r')\n",
    "\n",
    "\n",
    "    ###### TRAINING-DATA THE MODEL ######\n",
    "\n",
    "    epochs = n_epochs\n",
    "    fit(epochs, model, loss_fn, opt)\n",
    "    \n",
    "    \n",
    "    ###### SAVE MODEL (for inference) ######\n",
    "    \n",
    "    PATH = f\"./models/{model_name}_pbpi_model.pt\" # path\n",
    "    torch.save(model.state_dict(), PATH) # save\n",
    "\n",
    "#     # plotting model loss\n",
    "#     plt.plot(range(epochs), aggregated_losses)\n",
    "#     plt.ylabel('Loss')\n",
    "#     plt.xlabel('epoch')\n",
    "#     plt.show()\n",
    "\n",
    "    # set the model to evaluation mode\n",
    "    model.eval()\n",
    "    \n",
    "    #return the model\n",
    "    return model"
   ]
  },
  {
   "cell_type": "code",
   "execution_count": 313,
   "metadata": {},
   "outputs": [],
   "source": [
    "#############################\n",
    "### LABEL RANKER (POLICY) ###\n",
    "\n",
    "# This takes the trained model as an input\n",
    "# When a new state is given, the model makes a prediction for each action\n",
    "# This function then rank the actions based on the prediction\n",
    "# I select the Highest ranked (most prefered action) 90% time and second most preferred action 10% time\n",
    "\n",
    "class Policy():\n",
    "    \n",
    "    def __init__(self, action_space, model):\n",
    "        self.action_space = action_space\n",
    "        self.model = model\n",
    "        \n",
    "    def label_ranking_policy(self,obs):\n",
    "\n",
    "        state_obs = obs \n",
    "        state_obs = state_obs.reshape(-1,state_obs.shape[0]) # reshape to be a 2D array\n",
    "        state_obs = torch.from_numpy(state_obs) # convert to a tensor\n",
    "\n",
    "        # make the prediction for actions\n",
    "        with torch.no_grad():\n",
    "            preds = self.model(state_obs.float()) \n",
    "\n",
    "        # rank the indexes of actions (from highest ranked/preferred action to lowest)\n",
    "        ranked_action_idx = (-rd(preds.detach().numpy())).argsort()[:preds.shape[1]]\n",
    "\n",
    "        ## return the action value ##\n",
    "        \n",
    "        # if there are more than 2 actions\n",
    "        if len(self.action_space)>2:\n",
    "            remain_probs = .1/len(ranked_action_idx[2:])\n",
    "            n_remain_actions = ranked_action_idx.shape[0]-2\n",
    "\n",
    "            # - select first two (highest preferred actions) 80% and 10% of the time\n",
    "            # - select one of the remaining actions 10% time\n",
    "            action = np.random.choice(ranked_action_idx,1 , p=[0.8, 0.1] + list(np.repeat(remain_probs,n_remain_actions)))[0]\n",
    "        \n",
    "        else:\n",
    "            # if there are only 2 actions\n",
    "            action = np.random.choice(ranked_action_idx,1 , p=[0.8, 0.1])[0]\n",
    "        \n",
    "        # when action space is divided, return the correct action\n",
    "        return int(abs(round(self.action_space[int(action)])))"
   ]
  },
  {
   "cell_type": "raw",
   "metadata": {},
   "source": [
    "observation = env.reset()\n",
    "act_space = partition_action_space(env,4)\n",
    "\n",
    "policy = Policy(act_space,model)\n",
    "\n",
    "policy.label_ranking_policy(observation)"
   ]
  },
  {
   "cell_type": "code",
   "execution_count": null,
   "metadata": {},
   "outputs": [
    {
     "name": "stdout",
     "output_type": "stream",
     "text": [
      "\n",
      "Number of initial states: 100\n",
      "\n",
      "\n",
      "Number of actions (per states): 3\n",
      "\n"
     ]
    },
    {
     "data": {
      "application/vnd.jupyter.widget-view+json": {
       "model_id": "7de65f00fc7a4905b85aa9f17867ed4c",
       "version_major": 2,
       "version_minor": 0
      },
      "text/plain": [
       "HBox(children=(IntProgress(value=0, max=10), HTML(value='')))"
      ]
     },
     "metadata": {},
     "output_type": "display_data"
    },
    {
     "name": "stdout",
     "output_type": "stream",
     "text": [
      "Average reward for 5 episodes: -1000.0\r"
     ]
    }
   ],
   "source": [
    "###################################################\n",
    "### Preference-Based Policy Iteration Algorithm ###\n",
    "\n",
    "### Functionality:\n",
    "### - INPUTS  : sample states (s'), initial (random) policy (\\pi0), max. num. of policy iterations (p)\n",
    "### - PROCESS : generate roll-out (fixed time horizon) and calculate accumulate reward\n",
    "### - OUTPUT  : compare return from each rollout: store preference info in training dataset as (s,a_k > a_j)\n",
    "\n",
    "\n",
    "# initialize environment\n",
    "env = gym.make('MountainCar_PbPI_Version-v0')\n",
    "\n",
    "# sample states\n",
    "seed = 20 #np.random.randint(1000)\n",
    "sample_states = generate_init_states_S('MountainCar_PbPI_Version-v0',seed = seed) # randomly generated states initial\n",
    "\n",
    "print(f'\\nNumber of initial states: {len(sample_states)}\\n')\n",
    "\n",
    "# maximum number of policy iterations\n",
    "max_iterr = 10\n",
    "\n",
    "# action space to consider\n",
    "act_space = partition_action_space('MountainCar_PbPI_Version-v0',3)\n",
    "print(f'\\nNumber of actions (per states): {len(act_space)}\\n')\n",
    "\n",
    "# generate action-pairs (per each)\n",
    "act_pairs = list(itertools.combinations(act_space,2))\n",
    "\n",
    "iterr = 1\n",
    "\n",
    "pbar = tqdm.notebook.tqdm(total=max_iterr)\n",
    "\n",
    "# initial random policy\n",
    "policy_init = random_action\n",
    "policy = policy_init\n",
    "\n",
    "lr_flag = False # pass empty value for Model \n",
    "while iterr < max_iterr:\n",
    "    \n",
    "    # place-holder for training data\n",
    "    train_data = [] # uncomment this after adding LabelRanker\n",
    "\n",
    "    for state in sample_states:\n",
    "        \n",
    "        for action_pair in act_pairs:\n",
    "            preference_out = evaluate_preference(state\n",
    "                                                 , action_pair[0]\n",
    "                                                 , action_pair[1]\n",
    "                                                 , policy\n",
    "                                                 , label_ranker=lr_flag\n",
    "                                                 , n_rollouts=30)   \n",
    "            \n",
    "            if preference_out is not None:\n",
    "                train_data.append(preference_out)\n",
    "            else:\n",
    "                pass\n",
    "    \n",
    "    # process training data and learn a model\n",
    "    model = train_model(train_data, act_space)\n",
    "    \n",
    "    # derive a new policy using trained model\n",
    "    policy = Policy(act_space,model)\n",
    "    \n",
    "    # turn on inference from learnt policy\n",
    "    lr_flag = True\n",
    "    \n",
    "    # test the learned policy\n",
    "    env_test = gym.make('MountainCar_PbPI_Version-v0')\n",
    "    reward_sum = 0\n",
    "    \n",
    "    for test in range(5):\n",
    "        obs = env_test.reset()\n",
    "        \n",
    "        for _ in range(1000):\n",
    "            action = policy.label_ranking_policy(obs)\n",
    "            observation, reward, done, info = env_test.step(action)\n",
    "            obs = observation\n",
    "            reward_sum += reward\n",
    "            if done: break\n",
    "        \n",
    "    env_test.close()\n",
    "    print(f'Average reward for 5 episodes: {reward_sum/5}', end='\\r')\n",
    "          \n",
    "    pbar.update(1)\n",
    "    iterr += 1\n",
    "        \n",
    "pbar.close()\n"
   ]
  },
  {
   "cell_type": "code",
   "execution_count": 10,
   "metadata": {},
   "outputs": [
    {
     "ename": "NameError",
     "evalue": "name 'Model' is not defined",
     "output_type": "error",
     "traceback": [
      "\u001b[1;31m---------------------------------------------------------------------------\u001b[0m",
      "\u001b[1;31mNameError\u001b[0m                                 Traceback (most recent call last)",
      "\u001b[1;32m<ipython-input-10-4ee9d5f7d371>\u001b[0m in \u001b[0;36m<module>\u001b[1;34m\u001b[0m\n\u001b[0;32m      5\u001b[0m \u001b[1;33m\u001b[0m\u001b[0m\n\u001b[0;32m      6\u001b[0m \u001b[1;31m# Load\u001b[0m\u001b[1;33m\u001b[0m\u001b[1;33m\u001b[0m\u001b[1;33m\u001b[0m\u001b[0m\n\u001b[1;32m----> 7\u001b[1;33m \u001b[0mmodel\u001b[0m \u001b[1;33m=\u001b[0m \u001b[0mModel\u001b[0m\u001b[1;33m(\u001b[0m\u001b[0minput_states\u001b[0m\u001b[1;33m.\u001b[0m\u001b[0mshape\u001b[0m\u001b[1;33m[\u001b[0m\u001b[1;36m1\u001b[0m\u001b[1;33m]\u001b[0m\u001b[1;33m,\u001b[0m \u001b[0mlen\u001b[0m\u001b[1;33m(\u001b[0m\u001b[0mact_space\u001b[0m\u001b[1;33m)\u001b[0m\u001b[1;33m,\u001b[0m \u001b[1;33m[\u001b[0m\u001b[1;36m100\u001b[0m\u001b[1;33m,\u001b[0m\u001b[1;36m500\u001b[0m\u001b[1;33m,\u001b[0m\u001b[1;36m50\u001b[0m\u001b[1;33m]\u001b[0m\u001b[1;33m,\u001b[0m \u001b[0mp\u001b[0m\u001b[1;33m=\u001b[0m\u001b[1;36m0.4\u001b[0m\u001b[1;33m)\u001b[0m\u001b[1;33m\u001b[0m\u001b[1;33m\u001b[0m\u001b[0m\n\u001b[0m\u001b[0;32m      8\u001b[0m \u001b[0mmodel\u001b[0m\u001b[1;33m.\u001b[0m\u001b[0mload_state_dict\u001b[0m\u001b[1;33m(\u001b[0m\u001b[0mtorch\u001b[0m\u001b[1;33m.\u001b[0m\u001b[0mload\u001b[0m\u001b[1;33m(\u001b[0m\u001b[0mPATH\u001b[0m\u001b[1;33m)\u001b[0m\u001b[1;33m)\u001b[0m\u001b[1;33m\u001b[0m\u001b[1;33m\u001b[0m\u001b[0m\n\u001b[0;32m      9\u001b[0m \u001b[0mmodel\u001b[0m\u001b[1;33m.\u001b[0m\u001b[0meval\u001b[0m\u001b[1;33m(\u001b[0m\u001b[1;33m)\u001b[0m\u001b[1;33m\u001b[0m\u001b[1;33m\u001b[0m\u001b[0m\n",
      "\u001b[1;31mNameError\u001b[0m: name 'Model' is not defined"
     ]
    }
   ],
   "source": [
    "### Test-run for learned policy ###\n",
    "\n",
    "# model path\n",
    "PATH = \"./models/cart_pole_pbpi_model.pt\"\n",
    "\n",
    "# Load\n",
    "model = Model(input_states.shape[1], len(act_space), [100,500,50], p=0.4)\n",
    "model.load_state_dict(torch.load(PATH))\n",
    "model.eval()\n",
    "\n",
    "# create policy\n",
    "policy = Policy(act_space,model)\n",
    "\n",
    "# create environment and apply policy\n",
    "env = gym.make('CartPole-v0')\n",
    "env = wrappers.Monitor(env, \"./gym-results\", force=True)\n",
    "env.reset()\n",
    "for _ in range(1000):\n",
    "    action = policy.label_ranking_policy(obs)\n",
    "    observation, reward, done, info = env.step(action)\n",
    "    obs = observation\n",
    "    if done: break\n",
    "env.close()\n",
    "\n",
    "# observe policy performance\n",
    "video = io.open('./gym-results/openaigym.video.%s.video000000.mp4' % env.file_infix, 'r+b').read()\n",
    "encoded = base64.b64encode(video)\n",
    "HTML(data='''\n",
    "    <video width=\"360\" height=\"auto\" alt=\"test\" controls><source src=\"data:video/mp4;base64,{0}\" type=\"video/mp4\" /></video>'''\n",
    ".format(encoded.decode('ascii')))"
   ]
  },
  {
   "cell_type": "markdown",
   "metadata": {},
   "source": [
    "---\n",
    "---"
   ]
  },
  {
   "cell_type": "markdown",
   "metadata": {},
   "source": [
    "## APPENDIX"
   ]
  },
  {
   "cell_type": "markdown",
   "metadata": {},
   "source": [
    "---\n",
    "#### 1. TRAINING DATASET PREP + MODEL + TRAINING [BREAKDOWN]"
   ]
  },
  {
   "cell_type": "code",
   "execution_count": 214,
   "metadata": {},
   "outputs": [
    {
     "data": {
      "text/html": [
       "<div>\n",
       "<style scoped>\n",
       "    .dataframe tbody tr th:only-of-type {\n",
       "        vertical-align: middle;\n",
       "    }\n",
       "\n",
       "    .dataframe tbody tr th {\n",
       "        vertical-align: top;\n",
       "    }\n",
       "\n",
       "    .dataframe thead th {\n",
       "        text-align: right;\n",
       "    }\n",
       "</style>\n",
       "<table border=\"1\" class=\"dataframe\">\n",
       "  <thead>\n",
       "    <tr style=\"text-align: right;\">\n",
       "      <th></th>\n",
       "      <th>state</th>\n",
       "      <th>a_j</th>\n",
       "      <th>a_k</th>\n",
       "      <th>preference_label</th>\n",
       "    </tr>\n",
       "  </thead>\n",
       "  <tbody>\n",
       "    <tr>\n",
       "      <td>6</td>\n",
       "      <td>[-0.5665183082740587, -4.866996316856405e-05]</td>\n",
       "      <td>-0.051218</td>\n",
       "      <td>0.948782</td>\n",
       "      <td>0.0</td>\n",
       "    </tr>\n",
       "    <tr>\n",
       "      <td>27</td>\n",
       "      <td>[-0.5764000743998458, -0.001612115278060486]</td>\n",
       "      <td>-0.051218</td>\n",
       "      <td>0.948782</td>\n",
       "      <td>1.0</td>\n",
       "    </tr>\n",
       "    <tr>\n",
       "      <td>42</td>\n",
       "      <td>[-0.5921530383128618, -0.0034337244843501637]</td>\n",
       "      <td>-0.051218</td>\n",
       "      <td>0.948782</td>\n",
       "      <td>1.0</td>\n",
       "    </tr>\n",
       "  </tbody>\n",
       "</table>\n",
       "</div>"
      ],
      "text/plain": [
       "                                            state       a_j       a_k  \\\n",
       "6   [-0.5665183082740587, -4.866996316856405e-05] -0.051218  0.948782   \n",
       "27   [-0.5764000743998458, -0.001612115278060486] -0.051218  0.948782   \n",
       "42  [-0.5921530383128618, -0.0034337244843501637] -0.051218  0.948782   \n",
       "\n",
       "    preference_label  \n",
       "6                0.0  \n",
       "27               1.0  \n",
       "42               1.0  "
      ]
     },
     "execution_count": 214,
     "metadata": {},
     "output_type": "execute_result"
    }
   ],
   "source": [
    "# create a training dataframe\n",
    "train_df = pd.DataFrame(train_data).dropna()\n",
    "train_df.head(3)"
   ]
  },
  {
   "cell_type": "code",
   "execution_count": 215,
   "metadata": {},
   "outputs": [],
   "source": [
    "# create a key for state\n",
    "train_df.loc[:, 'state_key'] = train_df.state.apply(lambda x: x[0].astype(str)+\"_\"+x[1].astype(str))"
   ]
  },
  {
   "cell_type": "code",
   "execution_count": 217,
   "metadata": {},
   "outputs": [],
   "source": [
    "# drop all states which does not have any preferred action\n",
    "temp_df1 = train_df.groupby('state_key').preference_label.sum().reset_index()\n",
    "temp_df1 = temp_df1.loc[temp_df1.preference_label>0] # pick the states that have at least one prefered action\n",
    "train_df = train_df.merge(right = temp_df1.loc[:,'state_key']\n",
    "                          , right_on = 'state_key'\n",
    "                          , left_on = 'state_key'\n",
    "                          , how = 'right')"
   ]
  },
  {
   "cell_type": "raw",
   "metadata": {},
   "source": [
    "#### THIS CODE IS NOT NEEDED TO TRAIN THE MODEL ####\n",
    "\n",
    "### THERE IS AN ISSUE HERE! - IF ANY OF THE ACTIONS ARE NOT PREFERRED - THAT WILL NOT BE INCLUDED IN THE UNIQUE ACTIONS###\n",
    "### - MANUALLY PASS ALL ACTIONS IN THE ACTION SPACE TO GET THE UNIQUE SET OF ACTIONS\n",
    "\n",
    "# create a single column with the set of actions executed per state\n",
    "temp_df1 = train_df.groupby('state_key')['a_j'].unique().reset_index()\n",
    "temp_df2 = train_df.groupby('state_key')['a_k'].unique().reset_index()\n",
    "temp_df3 = temp_df1.merge(right=temp_df2\n",
    "                          , right_on = 'state_key'\n",
    "                          , left_on = 'state_key'\n",
    "                          , how = 'inner')\n",
    "temp_df3.loc[:,'unique_acts'] = temp_df3.apply(lambda row: set(list(row['a_j']) + list(row['a_k'])) ,axis=1)\n",
    "\n",
    "temp_df3.head(2)\n",
    "\n",
    "# add the unique-action column to train dataset\n",
    "train_df = train_df.merge(right = temp_df3.loc[:,['state_key', 'unique_acts']]\n",
    "              , right_on =  'state_key'\n",
    "              , left_on = 'state_key'\n",
    "              , how = 'left')"
   ]
  },
  {
   "cell_type": "code",
   "execution_count": 218,
   "metadata": {},
   "outputs": [],
   "source": [
    "# create a 'prefered-action' value for each state\n",
    "train_df.loc[:,'prefered_action'] = train_df.apply(lambda row: row['a_j'] if row['preference_label'] == 1 else row['a_k']  ,axis=1)"
   ]
  },
  {
   "cell_type": "code",
   "execution_count": 222,
   "metadata": {},
   "outputs": [
    {
     "data": {
      "text/html": [
       "<div>\n",
       "<style scoped>\n",
       "    .dataframe tbody tr th:only-of-type {\n",
       "        vertical-align: middle;\n",
       "    }\n",
       "\n",
       "    .dataframe tbody tr th {\n",
       "        vertical-align: top;\n",
       "    }\n",
       "\n",
       "    .dataframe thead th {\n",
       "        text-align: right;\n",
       "    }\n",
       "</style>\n",
       "<table border=\"1\" class=\"dataframe\">\n",
       "  <thead>\n",
       "    <tr style=\"text-align: right;\">\n",
       "      <th></th>\n",
       "      <th>state</th>\n",
       "      <th>a_j</th>\n",
       "      <th>a_k</th>\n",
       "      <th>preference_label</th>\n",
       "      <th>state_key</th>\n",
       "      <th>prefered_action</th>\n",
       "    </tr>\n",
       "  </thead>\n",
       "  <tbody>\n",
       "    <tr>\n",
       "      <td>0</td>\n",
       "      <td>[-0.5764000743998458, -0.001612115278060486]</td>\n",
       "      <td>-0.051218</td>\n",
       "      <td>0.948782</td>\n",
       "      <td>1.0</td>\n",
       "      <td>-0.5764000743998458_-0.001612115278060486</td>\n",
       "      <td>-0.051218</td>\n",
       "    </tr>\n",
       "    <tr>\n",
       "      <td>1</td>\n",
       "      <td>[-0.5921530383128618, -0.0034337244843501637]</td>\n",
       "      <td>-0.051218</td>\n",
       "      <td>0.948782</td>\n",
       "      <td>1.0</td>\n",
       "      <td>-0.5921530383128618_-0.0034337244843501637</td>\n",
       "      <td>-0.051218</td>\n",
       "    </tr>\n",
       "    <tr>\n",
       "      <td>2</td>\n",
       "      <td>[-0.5921530383128618, -0.0034337244843501637]</td>\n",
       "      <td>-0.051218</td>\n",
       "      <td>1.948782</td>\n",
       "      <td>0.0</td>\n",
       "      <td>-0.5921530383128618_-0.0034337244843501637</td>\n",
       "      <td>1.948782</td>\n",
       "    </tr>\n",
       "  </tbody>\n",
       "</table>\n",
       "</div>"
      ],
      "text/plain": [
       "                                           state       a_j       a_k  \\\n",
       "0   [-0.5764000743998458, -0.001612115278060486] -0.051218  0.948782   \n",
       "1  [-0.5921530383128618, -0.0034337244843501637] -0.051218  0.948782   \n",
       "2  [-0.5921530383128618, -0.0034337244843501637] -0.051218  1.948782   \n",
       "\n",
       "   preference_label                                   state_key  \\\n",
       "0               1.0   -0.5764000743998458_-0.001612115278060486   \n",
       "1               1.0  -0.5921530383128618_-0.0034337244843501637   \n",
       "2               0.0  -0.5921530383128618_-0.0034337244843501637   \n",
       "\n",
       "   prefered_action  \n",
       "0        -0.051218  \n",
       "1        -0.051218  \n",
       "2         1.948782  "
      ]
     },
     "execution_count": 222,
     "metadata": {},
     "output_type": "execute_result"
    }
   ],
   "source": [
    "train_df.head(3)"
   ]
  },
  {
   "cell_type": "code",
   "execution_count": 300,
   "metadata": {},
   "outputs": [
    {
     "data": {
      "text/html": [
       "<div>\n",
       "<style scoped>\n",
       "    .dataframe tbody tr th:only-of-type {\n",
       "        vertical-align: middle;\n",
       "    }\n",
       "\n",
       "    .dataframe tbody tr th {\n",
       "        vertical-align: top;\n",
       "    }\n",
       "\n",
       "    .dataframe thead th {\n",
       "        text-align: right;\n",
       "    }\n",
       "</style>\n",
       "<table border=\"1\" class=\"dataframe\">\n",
       "  <thead>\n",
       "    <tr style=\"text-align: right;\">\n",
       "      <th>prefered_action</th>\n",
       "      <th>-0.051218</th>\n",
       "      <th>0.948782</th>\n",
       "      <th>1.948782</th>\n",
       "    </tr>\n",
       "    <tr>\n",
       "      <th>state_key</th>\n",
       "      <th></th>\n",
       "      <th></th>\n",
       "      <th></th>\n",
       "    </tr>\n",
       "  </thead>\n",
       "  <tbody>\n",
       "    <tr>\n",
       "      <td>-0.5351616773972389_0.0026662085471278888</td>\n",
       "      <td>0.0</td>\n",
       "      <td>1.0</td>\n",
       "      <td>0.0</td>\n",
       "    </tr>\n",
       "    <tr>\n",
       "      <td>-0.5764000743998458_-0.001612115278060486</td>\n",
       "      <td>1.0</td>\n",
       "      <td>0.0</td>\n",
       "      <td>0.0</td>\n",
       "    </tr>\n",
       "    <tr>\n",
       "      <td>-0.5921530383128618_-0.0034337244843501637</td>\n",
       "      <td>1.0</td>\n",
       "      <td>0.0</td>\n",
       "      <td>1.0</td>\n",
       "    </tr>\n",
       "    <tr>\n",
       "      <td>-0.6119571997788764_0.005380434309903239</td>\n",
       "      <td>1.0</td>\n",
       "      <td>0.0</td>\n",
       "      <td>0.0</td>\n",
       "    </tr>\n",
       "    <tr>\n",
       "      <td>-0.6220242567980885_0.003959111857211172</td>\n",
       "      <td>1.0</td>\n",
       "      <td>0.0</td>\n",
       "      <td>0.0</td>\n",
       "    </tr>\n",
       "  </tbody>\n",
       "</table>\n",
       "</div>"
      ],
      "text/plain": [
       "prefered_action                             -0.051218   0.948782   1.948782\n",
       "state_key                                                                  \n",
       "-0.5351616773972389_0.0026662085471278888         0.0        1.0        0.0\n",
       "-0.5764000743998458_-0.001612115278060486         1.0        0.0        0.0\n",
       "-0.5921530383128618_-0.0034337244843501637        1.0        0.0        1.0\n",
       "-0.6119571997788764_0.005380434309903239          1.0        0.0        0.0\n",
       "-0.6220242567980885_0.003959111857211172          1.0        0.0        0.0"
      ]
     },
     "execution_count": 300,
     "metadata": {},
     "output_type": "execute_result"
    }
   ],
   "source": [
    "# count the number of times each action (IN THE ACTION SPACE) is prefered at a state\n",
    "action_preference_counts = train_df.groupby('state_key').prefered_action.value_counts().unstack()\n",
    "action_preference_counts.replace(np.nan,0,inplace=True)\n",
    "action_preference_counts.head()"
   ]
  },
  {
   "cell_type": "code",
   "execution_count": 304,
   "metadata": {},
   "outputs": [],
   "source": [
    "# remove the column index nameS\n",
    "action_preference_counts.columns.name = None\n",
    "\n",
    "# find actions not selected as a preferred action at any state \n",
    "missed_actions = [action for action in act_space if action not in action_preference_counts.columns.tolist()]\n",
    "missed_actions = np.array(missed_actions).astype(action_preference_counts.columns.dtype) # convert to the same data-type of columns\n",
    "\n",
    "# add any missing actions to the summary table\n",
    "if len(missed_actions)>0:\n",
    "    \n",
    "    # add the missing action (with 0 preference value)\n",
    "    for action in missed_actions:\n",
    "        action_preference_counts.loc[:,action] = 0\n",
    "\n",
    "    # sort the actions in the summary according to arrangement in action space (ascending order)\n",
    "    action_preference_counts = action_preference_counts.reindex(sorted(action_preference_counts.columns), axis=1)"
   ]
  },
  {
   "cell_type": "code",
   "execution_count": 305,
   "metadata": {},
   "outputs": [
    {
     "ename": "ValueError",
     "evalue": "Must have equal len keys and value when setting with an ndarray",
     "output_type": "error",
     "traceback": [
      "\u001b[1;31m---------------------------------------------------------------------------\u001b[0m",
      "\u001b[1;31mValueError\u001b[0m                                Traceback (most recent call last)",
      "\u001b[1;32m<ipython-input-305-d7d35f9a869f>\u001b[0m in \u001b[0;36m<module>\u001b[1;34m\u001b[0m\n\u001b[0;32m      1\u001b[0m \u001b[1;31m### convert the action-preference-counts to a vector (to be used as training labels)\u001b[0m\u001b[1;33m\u001b[0m\u001b[1;33m\u001b[0m\u001b[1;33m\u001b[0m\u001b[0m\n\u001b[1;32m----> 2\u001b[1;33m \u001b[0maction_preference_counts\u001b[0m\u001b[1;33m.\u001b[0m\u001b[0mloc\u001b[0m\u001b[1;33m[\u001b[0m\u001b[1;33m:\u001b[0m\u001b[1;33m,\u001b[0m \u001b[1;34m'preference_label_vector'\u001b[0m\u001b[1;33m]\u001b[0m \u001b[1;33m=\u001b[0m \u001b[0maction_preference_counts\u001b[0m\u001b[1;33m.\u001b[0m\u001b[0miloc\u001b[0m\u001b[1;33m[\u001b[0m\u001b[1;33m:\u001b[0m\u001b[1;33m,\u001b[0m\u001b[1;36m0\u001b[0m\u001b[1;33m:\u001b[0m\u001b[1;33m]\u001b[0m\u001b[1;33m.\u001b[0m\u001b[0mvalues\u001b[0m\u001b[1;33m.\u001b[0m\u001b[0mtolist\u001b[0m\u001b[1;33m(\u001b[0m\u001b[1;33m)\u001b[0m\u001b[1;33m\u001b[0m\u001b[1;33m\u001b[0m\u001b[0m\n\u001b[0m",
      "\u001b[1;32mC:\\ProgramData\\Anaconda3\\lib\\site-packages\\pandas\\core\\indexing.py\u001b[0m in \u001b[0;36m__setitem__\u001b[1;34m(self, key, value)\u001b[0m\n\u001b[0;32m    203\u001b[0m             \u001b[0mkey\u001b[0m \u001b[1;33m=\u001b[0m \u001b[0mcom\u001b[0m\u001b[1;33m.\u001b[0m\u001b[0mapply_if_callable\u001b[0m\u001b[1;33m(\u001b[0m\u001b[0mkey\u001b[0m\u001b[1;33m,\u001b[0m \u001b[0mself\u001b[0m\u001b[1;33m.\u001b[0m\u001b[0mobj\u001b[0m\u001b[1;33m)\u001b[0m\u001b[1;33m\u001b[0m\u001b[1;33m\u001b[0m\u001b[0m\n\u001b[0;32m    204\u001b[0m         \u001b[0mindexer\u001b[0m \u001b[1;33m=\u001b[0m \u001b[0mself\u001b[0m\u001b[1;33m.\u001b[0m\u001b[0m_get_setitem_indexer\u001b[0m\u001b[1;33m(\u001b[0m\u001b[0mkey\u001b[0m\u001b[1;33m)\u001b[0m\u001b[1;33m\u001b[0m\u001b[1;33m\u001b[0m\u001b[0m\n\u001b[1;32m--> 205\u001b[1;33m         \u001b[0mself\u001b[0m\u001b[1;33m.\u001b[0m\u001b[0m_setitem_with_indexer\u001b[0m\u001b[1;33m(\u001b[0m\u001b[0mindexer\u001b[0m\u001b[1;33m,\u001b[0m \u001b[0mvalue\u001b[0m\u001b[1;33m)\u001b[0m\u001b[1;33m\u001b[0m\u001b[1;33m\u001b[0m\u001b[0m\n\u001b[0m\u001b[0;32m    206\u001b[0m \u001b[1;33m\u001b[0m\u001b[0m\n\u001b[0;32m    207\u001b[0m     \u001b[1;32mdef\u001b[0m \u001b[0m_validate_key\u001b[0m\u001b[1;33m(\u001b[0m\u001b[0mself\u001b[0m\u001b[1;33m,\u001b[0m \u001b[0mkey\u001b[0m\u001b[1;33m,\u001b[0m \u001b[0maxis\u001b[0m\u001b[1;33m:\u001b[0m \u001b[0mint\u001b[0m\u001b[1;33m)\u001b[0m\u001b[1;33m:\u001b[0m\u001b[1;33m\u001b[0m\u001b[1;33m\u001b[0m\u001b[0m\n",
      "\u001b[1;32mC:\\ProgramData\\Anaconda3\\lib\\site-packages\\pandas\\core\\indexing.py\u001b[0m in \u001b[0;36m_setitem_with_indexer\u001b[1;34m(self, indexer, value)\u001b[0m\n\u001b[0;32m    525\u001b[0m                     \u001b[1;32mif\u001b[0m \u001b[0mlen\u001b[0m\u001b[1;33m(\u001b[0m\u001b[0mlabels\u001b[0m\u001b[1;33m)\u001b[0m \u001b[1;33m!=\u001b[0m \u001b[0mvalue\u001b[0m\u001b[1;33m.\u001b[0m\u001b[0mshape\u001b[0m\u001b[1;33m[\u001b[0m\u001b[1;36m1\u001b[0m\u001b[1;33m]\u001b[0m\u001b[1;33m:\u001b[0m\u001b[1;33m\u001b[0m\u001b[1;33m\u001b[0m\u001b[0m\n\u001b[0;32m    526\u001b[0m                         raise ValueError(\n\u001b[1;32m--> 527\u001b[1;33m                             \u001b[1;34m\"Must have equal len keys and value \"\u001b[0m\u001b[1;33m\u001b[0m\u001b[1;33m\u001b[0m\u001b[0m\n\u001b[0m\u001b[0;32m    528\u001b[0m                             \u001b[1;34m\"when setting with an ndarray\"\u001b[0m\u001b[1;33m\u001b[0m\u001b[1;33m\u001b[0m\u001b[0m\n\u001b[0;32m    529\u001b[0m                         )\n",
      "\u001b[1;31mValueError\u001b[0m: Must have equal len keys and value when setting with an ndarray"
     ]
    }
   ],
   "source": [
    "### convert the action-preference-counts to a vector (to be used as training labels)\n",
    "action_preference_counts.loc[:, 'preference_label_vector'] = action_preference_counts.iloc[:,0:].values.tolist()"
   ]
  },
  {
   "cell_type": "code",
   "execution_count": 306,
   "metadata": {},
   "outputs": [
    {
     "data": {
      "text/html": [
       "<div>\n",
       "<style scoped>\n",
       "    .dataframe tbody tr th:only-of-type {\n",
       "        vertical-align: middle;\n",
       "    }\n",
       "\n",
       "    .dataframe tbody tr th {\n",
       "        vertical-align: top;\n",
       "    }\n",
       "\n",
       "    .dataframe thead th {\n",
       "        text-align: right;\n",
       "    }\n",
       "</style>\n",
       "<table border=\"1\" class=\"dataframe\">\n",
       "  <thead>\n",
       "    <tr style=\"text-align: right;\">\n",
       "      <th></th>\n",
       "      <th>-0.05121800777720384</th>\n",
       "      <th>0.9487819922227961</th>\n",
       "      <th>1.9487819922227962</th>\n",
       "      <th>preference_label_vector</th>\n",
       "    </tr>\n",
       "    <tr>\n",
       "      <th>state_key</th>\n",
       "      <th></th>\n",
       "      <th></th>\n",
       "      <th></th>\n",
       "      <th></th>\n",
       "    </tr>\n",
       "  </thead>\n",
       "  <tbody>\n",
       "    <tr>\n",
       "      <td>-0.5351616773972389_0.0026662085471278888</td>\n",
       "      <td>0.0</td>\n",
       "      <td>1.0</td>\n",
       "      <td>0.0</td>\n",
       "      <td>[0.0, 1.0, 0.0]</td>\n",
       "    </tr>\n",
       "    <tr>\n",
       "      <td>-0.5764000743998458_-0.001612115278060486</td>\n",
       "      <td>1.0</td>\n",
       "      <td>0.0</td>\n",
       "      <td>0.0</td>\n",
       "      <td>[1.0, 0.0, 0.0]</td>\n",
       "    </tr>\n",
       "    <tr>\n",
       "      <td>-0.5921530383128618_-0.0034337244843501637</td>\n",
       "      <td>1.0</td>\n",
       "      <td>0.0</td>\n",
       "      <td>1.0</td>\n",
       "      <td>[1.0, 0.0, 1.0]</td>\n",
       "    </tr>\n",
       "    <tr>\n",
       "      <td>-0.6119571997788764_0.005380434309903239</td>\n",
       "      <td>1.0</td>\n",
       "      <td>0.0</td>\n",
       "      <td>0.0</td>\n",
       "      <td>[1.0, 0.0, 0.0]</td>\n",
       "    </tr>\n",
       "    <tr>\n",
       "      <td>-0.6220242567980885_0.003959111857211172</td>\n",
       "      <td>1.0</td>\n",
       "      <td>0.0</td>\n",
       "      <td>0.0</td>\n",
       "      <td>[1.0, 0.0, 0.0]</td>\n",
       "    </tr>\n",
       "  </tbody>\n",
       "</table>\n",
       "</div>"
      ],
      "text/plain": [
       "                                            -0.05121800777720384  \\\n",
       "state_key                                                          \n",
       "-0.5351616773972389_0.0026662085471278888                    0.0   \n",
       "-0.5764000743998458_-0.001612115278060486                    1.0   \n",
       "-0.5921530383128618_-0.0034337244843501637                   1.0   \n",
       "-0.6119571997788764_0.005380434309903239                     1.0   \n",
       "-0.6220242567980885_0.003959111857211172                     1.0   \n",
       "\n",
       "                                            0.9487819922227961  \\\n",
       "state_key                                                        \n",
       "-0.5351616773972389_0.0026662085471278888                  1.0   \n",
       "-0.5764000743998458_-0.001612115278060486                  0.0   \n",
       "-0.5921530383128618_-0.0034337244843501637                 0.0   \n",
       "-0.6119571997788764_0.005380434309903239                   0.0   \n",
       "-0.6220242567980885_0.003959111857211172                   0.0   \n",
       "\n",
       "                                            1.9487819922227962  \\\n",
       "state_key                                                        \n",
       "-0.5351616773972389_0.0026662085471278888                  0.0   \n",
       "-0.5764000743998458_-0.001612115278060486                  0.0   \n",
       "-0.5921530383128618_-0.0034337244843501637                 1.0   \n",
       "-0.6119571997788764_0.005380434309903239                   0.0   \n",
       "-0.6220242567980885_0.003959111857211172                   0.0   \n",
       "\n",
       "                                           preference_label_vector  \n",
       "state_key                                                           \n",
       "-0.5351616773972389_0.0026662085471278888          [0.0, 1.0, 0.0]  \n",
       "-0.5764000743998458_-0.001612115278060486          [1.0, 0.0, 0.0]  \n",
       "-0.5921530383128618_-0.0034337244843501637         [1.0, 0.0, 1.0]  \n",
       "-0.6119571997788764_0.005380434309903239           [1.0, 0.0, 0.0]  \n",
       "-0.6220242567980885_0.003959111857211172           [1.0, 0.0, 0.0]  "
      ]
     },
     "execution_count": 306,
     "metadata": {},
     "output_type": "execute_result"
    }
   ],
   "source": [
    "action_preference_counts.head()"
   ]
  },
  {
   "cell_type": "code",
   "execution_count": 208,
   "metadata": {},
   "outputs": [],
   "source": [
    "# add preference label vector to training dataset\n",
    "train_df = train_df.merge(right = action_preference_counts.loc[:,['preference_label_vector']]\n",
    "                          , right_index= True\n",
    "                          , left_on = 'state_key'\n",
    "                          , how = 'left')"
   ]
  },
  {
   "cell_type": "code",
   "execution_count": 209,
   "metadata": {},
   "outputs": [
    {
     "data": {
      "text/html": [
       "<div>\n",
       "<style scoped>\n",
       "    .dataframe tbody tr th:only-of-type {\n",
       "        vertical-align: middle;\n",
       "    }\n",
       "\n",
       "    .dataframe tbody tr th {\n",
       "        vertical-align: top;\n",
       "    }\n",
       "\n",
       "    .dataframe thead th {\n",
       "        text-align: right;\n",
       "    }\n",
       "</style>\n",
       "<table border=\"1\" class=\"dataframe\">\n",
       "  <thead>\n",
       "    <tr style=\"text-align: right;\">\n",
       "      <th></th>\n",
       "      <th>state</th>\n",
       "      <th>a_j</th>\n",
       "      <th>a_k</th>\n",
       "      <th>preference_label</th>\n",
       "      <th>state_key</th>\n",
       "      <th>prefered_action</th>\n",
       "      <th>unique_acts</th>\n",
       "      <th>preference_label_vector</th>\n",
       "    </tr>\n",
       "  </thead>\n",
       "  <tbody>\n",
       "    <tr>\n",
       "      <td>0</td>\n",
       "      <td>[-0.5764000743998458, -0.001612115278060486]</td>\n",
       "      <td>-0.051218</td>\n",
       "      <td>0.948782</td>\n",
       "      <td>1.0</td>\n",
       "      <td>-0.5764000743998458_-0.001612115278060486</td>\n",
       "      <td>-0.051218</td>\n",
       "      <td>{-0.05121800777720384, 0.9487819922227961}</td>\n",
       "      <td>[1.0, 0.0, 0.0]</td>\n",
       "    </tr>\n",
       "    <tr>\n",
       "      <td>1</td>\n",
       "      <td>[-0.5921530383128618, -0.0034337244843501637]</td>\n",
       "      <td>-0.051218</td>\n",
       "      <td>0.948782</td>\n",
       "      <td>1.0</td>\n",
       "      <td>-0.5921530383128618_-0.0034337244843501637</td>\n",
       "      <td>-0.051218</td>\n",
       "      <td>{-0.05121800777720384, 0.9487819922227961, 1.9...</td>\n",
       "      <td>[1.0, 0.0, 1.0]</td>\n",
       "    </tr>\n",
       "  </tbody>\n",
       "</table>\n",
       "</div>"
      ],
      "text/plain": [
       "                                           state       a_j       a_k  \\\n",
       "0   [-0.5764000743998458, -0.001612115278060486] -0.051218  0.948782   \n",
       "1  [-0.5921530383128618, -0.0034337244843501637] -0.051218  0.948782   \n",
       "\n",
       "   preference_label                                   state_key  \\\n",
       "0               1.0   -0.5764000743998458_-0.001612115278060486   \n",
       "1               1.0  -0.5921530383128618_-0.0034337244843501637   \n",
       "\n",
       "   prefered_action                                        unique_acts  \\\n",
       "0        -0.051218         {-0.05121800777720384, 0.9487819922227961}   \n",
       "1        -0.051218  {-0.05121800777720384, 0.9487819922227961, 1.9...   \n",
       "\n",
       "  preference_label_vector  \n",
       "0         [1.0, 0.0, 0.0]  \n",
       "1         [1.0, 0.0, 1.0]  "
      ]
     },
     "execution_count": 209,
     "metadata": {},
     "output_type": "execute_result"
    }
   ],
   "source": [
    "train_df.head(2)"
   ]
  },
  {
   "cell_type": "code",
   "execution_count": 210,
   "metadata": {},
   "outputs": [
    {
     "data": {
      "text/html": [
       "<div>\n",
       "<style scoped>\n",
       "    .dataframe tbody tr th:only-of-type {\n",
       "        vertical-align: middle;\n",
       "    }\n",
       "\n",
       "    .dataframe tbody tr th {\n",
       "        vertical-align: top;\n",
       "    }\n",
       "\n",
       "    .dataframe thead th {\n",
       "        text-align: right;\n",
       "    }\n",
       "</style>\n",
       "<table border=\"1\" class=\"dataframe\">\n",
       "  <thead>\n",
       "    <tr style=\"text-align: right;\">\n",
       "      <th></th>\n",
       "      <th>state</th>\n",
       "      <th>state_key</th>\n",
       "      <th>unique_acts</th>\n",
       "      <th>preference_label_vector</th>\n",
       "    </tr>\n",
       "  </thead>\n",
       "  <tbody>\n",
       "    <tr>\n",
       "      <td>0</td>\n",
       "      <td>[-0.5764000743998458, -0.001612115278060486]</td>\n",
       "      <td>-0.5764000743998458_-0.001612115278060486</td>\n",
       "      <td>{-0.05121800777720384, 0.9487819922227961}</td>\n",
       "      <td>[1.0, 0.0, 0.0]</td>\n",
       "    </tr>\n",
       "    <tr>\n",
       "      <td>1</td>\n",
       "      <td>[-0.5921530383128618, -0.0034337244843501637]</td>\n",
       "      <td>-0.5921530383128618_-0.0034337244843501637</td>\n",
       "      <td>{-0.05121800777720384, 0.9487819922227961, 1.9...</td>\n",
       "      <td>[1.0, 0.0, 1.0]</td>\n",
       "    </tr>\n",
       "    <tr>\n",
       "      <td>3</td>\n",
       "      <td>[-0.6364340517421864, -0.0017184270790650252]</td>\n",
       "      <td>-0.6364340517421864_-0.0017184270790650252</td>\n",
       "      <td>{-0.05121800777720384, 0.9487819922227961}</td>\n",
       "      <td>[1.0, 0.0, 0.0]</td>\n",
       "    </tr>\n",
       "  </tbody>\n",
       "</table>\n",
       "</div>"
      ],
      "text/plain": [
       "                                           state  \\\n",
       "0   [-0.5764000743998458, -0.001612115278060486]   \n",
       "1  [-0.5921530383128618, -0.0034337244843501637]   \n",
       "3  [-0.6364340517421864, -0.0017184270790650252]   \n",
       "\n",
       "                                    state_key  \\\n",
       "0   -0.5764000743998458_-0.001612115278060486   \n",
       "1  -0.5921530383128618_-0.0034337244843501637   \n",
       "3  -0.6364340517421864_-0.0017184270790650252   \n",
       "\n",
       "                                         unique_acts preference_label_vector  \n",
       "0         {-0.05121800777720384, 0.9487819922227961}         [1.0, 0.0, 0.0]  \n",
       "1  {-0.05121800777720384, 0.9487819922227961, 1.9...         [1.0, 0.0, 1.0]  \n",
       "3         {-0.05121800777720384, 0.9487819922227961}         [1.0, 0.0, 0.0]  "
      ]
     },
     "execution_count": 210,
     "metadata": {},
     "output_type": "execute_result"
    }
   ],
   "source": [
    "# create the reduced training dataset (drop unnecessary columns + duplicate rows: which have data for same state)\n",
    "train_df_reduced = train_df.loc[:,['state', 'state_key', 'unique_acts', 'preference_label_vector']]\n",
    "\n",
    "train_df_reduced.drop_duplicates(subset=['state_key'],inplace=True)\n",
    "train_df_reduced.head(3)"
   ]
  },
  {
   "cell_type": "code",
   "execution_count": null,
   "metadata": {},
   "outputs": [],
   "source": [
    "# above dataset has - state + list of actions + # preferences made for each action (at state) --> each row"
   ]
  },
  {
   "cell_type": "code",
   "execution_count": 990,
   "metadata": {},
   "outputs": [],
   "source": [
    "output_labels_temp = np.array(train_df_reduced.preference_label_vector.tolist())\n",
    "\n",
    "# to handle 1-D output label vector\n",
    "if len(output_labels_temp.shape) == 1:\n",
    "    output_labels_normalized = output_labels_temp\n",
    "else:\n",
    "    row_sums = output_labels_temp.sum(axis=1)\n",
    "    output_labels_normalized = output_labels_temp / row_sums[:, np.newaxis]"
   ]
  },
  {
   "cell_type": "code",
   "execution_count": 991,
   "metadata": {},
   "outputs": [],
   "source": [
    "# create training dataset\n",
    "input_states  = torch.from_numpy(np.array(train_df_reduced.state.apply(lambda x: x.astype(float)).tolist()))\n",
    "output_labels = torch.from_numpy(output_labels_normalized)"
   ]
  },
  {
   "cell_type": "code",
   "execution_count": 992,
   "metadata": {},
   "outputs": [],
   "source": [
    "# Import tensor dataset & data loader\n",
    "from torch.utils.data import TensorDataset, DataLoader"
   ]
  },
  {
   "cell_type": "code",
   "execution_count": 993,
   "metadata": {},
   "outputs": [],
   "source": [
    "train_ds = TensorDataset(input_states , output_labels )"
   ]
  },
  {
   "cell_type": "code",
   "execution_count": 1033,
   "metadata": {},
   "outputs": [
    {
     "data": {
      "text/plain": [
       "[tensor([[-0.1020,  0.0784],\n",
       "         [-0.1270, -0.9492],\n",
       "         [-0.1146, -0.6227]], dtype=torch.float64),\n",
       " tensor([1, 1, 1], dtype=torch.int32)]"
      ]
     },
     "execution_count": 1033,
     "metadata": {},
     "output_type": "execute_result"
    }
   ],
   "source": [
    "# Define data loader\n",
    "batch_size = 3\n",
    "train_dl = DataLoader(train_ds, batch_size, shuffle=True, drop_last=True)\n",
    "next(iter(train_dl))"
   ]
  },
  {
   "cell_type": "code",
   "execution_count": 1035,
   "metadata": {},
   "outputs": [],
   "source": [
    "class Model(nn.Module):\n",
    "\n",
    "    def __init__(self, input_state_len, output_label_len, layers, p=0.4):\n",
    "        \n",
    "        super().__init__()\n",
    "        self.batch_norm_num = nn.BatchNorm1d(input_state_len)\n",
    "\n",
    "        all_layers = []\n",
    "        input_size = input_state_len\n",
    "\n",
    "        # create layers\n",
    "        for layer_dim in layers:\n",
    "            all_layers.append(nn.Linear(input_size, layer_dim))\n",
    "            all_layers.append(nn.ReLU(inplace=True))\n",
    "            all_layers.append(nn.BatchNorm1d(layer_dim))\n",
    "            all_layers.append(nn.Dropout(p))\n",
    "            input_size = layer_dim\n",
    "\n",
    "        all_layers.append(nn.Linear(layers[-1], output_label_len))\n",
    "\n",
    "        self.layers = nn.Sequential(*all_layers)\n",
    "\n",
    "    def forward(self, state_vec):\n",
    "        x = self.batch_norm_num(state_vec)\n",
    "        x = self.layers(x)\n",
    "        return x"
   ]
  },
  {
   "cell_type": "code",
   "execution_count": 1036,
   "metadata": {},
   "outputs": [],
   "source": [
    "# Define model\n",
    "model = Model(input_states.shape[1], output_labels.shape[1], [100,500,50], p=0.4)\n",
    "# model = Model(input_states.shape[1], 1 if len(output_labels.shape)== 1 else output_labels.shape[1], [100,500,50], p=0.4) # for 1-D targets\n"
   ]
  },
  {
   "cell_type": "code",
   "execution_count": 1037,
   "metadata": {},
   "outputs": [
    {
     "data": {
      "text/plain": [
       "Model(\n",
       "  (batch_norm_num): BatchNorm1d(2, eps=1e-05, momentum=0.1, affine=True, track_running_stats=True)\n",
       "  (layers): Sequential(\n",
       "    (0): Linear(in_features=2, out_features=100, bias=True)\n",
       "    (1): ReLU(inplace=True)\n",
       "    (2): BatchNorm1d(100, eps=1e-05, momentum=0.1, affine=True, track_running_stats=True)\n",
       "    (3): Dropout(p=0.4, inplace=False)\n",
       "    (4): Linear(in_features=100, out_features=500, bias=True)\n",
       "    (5): ReLU(inplace=True)\n",
       "    (6): BatchNorm1d(500, eps=1e-05, momentum=0.1, affine=True, track_running_stats=True)\n",
       "    (7): Dropout(p=0.4, inplace=False)\n",
       "    (8): Linear(in_features=500, out_features=50, bias=True)\n",
       "    (9): ReLU(inplace=True)\n",
       "    (10): BatchNorm1d(50, eps=1e-05, momentum=0.1, affine=True, track_running_stats=True)\n",
       "    (11): Dropout(p=0.4, inplace=False)\n",
       "    (12): Linear(in_features=50, out_features=1, bias=True)\n",
       "  )\n",
       ")"
      ]
     },
     "execution_count": 1037,
     "metadata": {},
     "output_type": "execute_result"
    }
   ],
   "source": [
    "model"
   ]
  },
  {
   "cell_type": "code",
   "execution_count": 1049,
   "metadata": {},
   "outputs": [],
   "source": [
    "opt = torch.optim.SGD(model.parameters(), lr = 1e-1)\n",
    "loss_fn = F.mse_loss"
   ]
  },
  {
   "cell_type": "raw",
   "metadata": {},
   "source": [
    "for xb,yb in train_dl:\n",
    "    print(yb.reshape(3,1))"
   ]
  },
  {
   "cell_type": "code",
   "execution_count": 1053,
   "metadata": {},
   "outputs": [],
   "source": [
    "# to store losses\n",
    "aggregated_losses = []\n",
    "\n",
    "# Define a utility function to train the model\n",
    "def fit(num_epochs, model, loss_fn, opt):\n",
    "    \n",
    "    for epoch in range(num_epochs):\n",
    "        for xb,yb in train_dl:\n",
    "            \n",
    "            # Generate predictions\n",
    "            pred = model(xb.float())\n",
    "            #loss = loss_fn(pred, yb.float())            \n",
    "            loss = loss_fn(pred, yb.reshape(3,1).float()) \n",
    "            \n",
    "            # Perform gradient descent\n",
    "            loss.backward()\n",
    "            opt.step()\n",
    "            opt.zero_grad()\n",
    "            \n",
    "        #aggregated_losses.append(loss_fn(model(input_states.float()), output_labels.float()).detach().numpy())\n",
    "        \n",
    "        if epoch%25 == 0:\n",
    "                print(f'epoch: {epoch:3} loss: {loss.item():10.8f}')\n",
    "            \n",
    "    print('Training loss: ', loss_fn(model(input_states.float()), output_labels.float()))"
   ]
  },
  {
   "cell_type": "code",
   "execution_count": 1052,
   "metadata": {},
   "outputs": [
    {
     "data": {
      "text/plain": [
       "torch.Size([3, 1])"
      ]
     },
     "execution_count": 1052,
     "metadata": {},
     "output_type": "execute_result"
    }
   ],
   "source": [
    "xb,yb = next(iter(train_dl))\n",
    "pred = model(xb.float())\n",
    "#loss_fn(pred, yb.float())  \n",
    "yb.reshape(3,1).float()"
   ]
  },
  {
   "cell_type": "code",
   "execution_count": 1054,
   "metadata": {},
   "outputs": [
    {
     "name": "stdout",
     "output_type": "stream",
     "text": [
      "epoch:   0 loss:        nan\n",
      "epoch:  25 loss:        nan\n",
      "epoch:  50 loss:        nan\n",
      "epoch:  75 loss:        nan\n",
      "epoch: 100 loss:        nan\n",
      "epoch: 125 loss:        nan\n",
      "epoch: 150 loss:        nan\n",
      "epoch: 175 loss:        nan\n",
      "epoch: 200 loss:        nan\n",
      "epoch: 225 loss:        nan\n",
      "epoch: 250 loss:        nan\n",
      "epoch: 275 loss:        nan\n"
     ]
    },
    {
     "name": "stderr",
     "output_type": "stream",
     "text": [
      "C:\\ProgramData\\Anaconda3\\lib\\site-packages\\ipykernel_launcher.py:25: UserWarning: Using a target size (torch.Size([60])) that is different to the input size (torch.Size([60, 1])). This will likely lead to incorrect results due to broadcasting. Please ensure they have the same size.\n"
     ]
    },
    {
     "name": "stdout",
     "output_type": "stream",
     "text": [
      "Training loss:  tensor(nan, grad_fn=<MseLossBackward>)\n"
     ]
    }
   ],
   "source": [
    "epochs= 300\n",
    "fit(epochs, model, loss_fn, opt)"
   ]
  },
  {
   "cell_type": "code",
   "execution_count": 1007,
   "metadata": {},
   "outputs": [
    {
     "data": {
      "image/png": "[encoded data removed]",
      "text/plain": [
       "<Figure size 432x288 with 1 Axes>"
      ]
     },
     "metadata": {
      "needs_background": "light"
     },
     "output_type": "display_data"
    }
   ],
   "source": [
    "plt.plot(range(epochs), aggregated_losses)\n",
    "plt.ylabel('Loss')\n",
    "plt.xlabel('epoch')\n",
    "plt.show()"
   ]
  },
  {
   "cell_type": "markdown",
   "metadata": {},
   "source": [
    "---"
   ]
  },
  {
   "cell_type": "markdown",
   "metadata": {},
   "source": [
    "#### Label Ranking Policy"
   ]
  },
  {
   "cell_type": "code",
   "execution_count": 821,
   "metadata": {},
   "outputs": [
    {
     "data": {
      "text/plain": [
       "0"
      ]
     },
     "execution_count": 821,
     "metadata": {},
     "output_type": "execute_result"
    }
   ],
   "source": [
    "env = gym.make('CartPole-v0')\n",
    "observation = env.reset()\n",
    "\n",
    "state_obs = observation[[2,3]] # only select angel and angular velo. of pendulum from state vector\n",
    "state_obs = state_obs.reshape(-1,state_obs.shape[0]) # reshape to be a 2D array\n",
    "state_obs = torch.from_numpy(state_obs) # convert to a tensor\n",
    "\n",
    "# make the prediction for actions\n",
    "with torch.no_grad():\n",
    "    preds = model(state_obs.float()) \n",
    "    \n",
    "# rank the indexes of actions (from highest ranked/preferred action to lowest)\n",
    "ranked_action_idx = (-rd(preds.detach().numpy())).argsort()[:preds.shape[1]]\n",
    "\n",
    "# return the action value\n",
    "remain_probs = .1/len(ranked_action_idx[2:])\n",
    "n_remain_actions = ranked_action_idx.shape[0]-2\n",
    "\n",
    "# - select first two (highest preferred actions) 80% and 10% of the time\n",
    "# - select one of the remaining actions 10% time\n",
    "action = np.random.choice(ranked_action_idx,1 , p=[0.8, 0.1] + list(np.repeat(remain_probs,n_remain_actions)))[0]\n",
    "\n",
    "action"
   ]
  },
  {
   "cell_type": "markdown",
   "metadata": {},
   "source": [
    "---"
   ]
  },
  {
   "cell_type": "markdown",
   "metadata": {},
   "source": [
    "### Visualize episode"
   ]
  },
  {
   "cell_type": "markdown",
   "metadata": {},
   "source": [
    "##### METHOD 1:"
   ]
  },
  {
   "cell_type": "code",
   "execution_count": 70,
   "metadata": {},
   "outputs": [
    {
     "data": {
      "text/html": [
       "\n",
       "    <video width=\"360\" height=\"auto\" alt=\"test\" controls><source src=\"data:video/mp4;base64,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\" type=\"video/mp4\" /></video>"
      ],
      "text/plain": [
       "<IPython.core.display.HTML object>"
      ]
     },
     "execution_count": 70,
     "metadata": {},
     "output_type": "execute_result"
    }
   ],
   "source": [
    "env = gym.make('MountainCar_PbPI_Version-v0')\n",
    "env = wrappers.Monitor(env, \"./gym-results/mount-car\", force=True)\n",
    "env.reset()\n",
    "for _ in range(1000):\n",
    "    action = env.action_space.sample()\n",
    "    observation, reward, done, info = env.step(random_action(env))\n",
    "    if done: break\n",
    "env.close()\n",
    "\n",
    "video = io.open('./gym-results/mount-car/openaigym.video.%s.video000000.mp4' % env.file_infix, 'r+b').read()\n",
    "encoded = base64.b64encode(video)\n",
    "HTML(data='''\n",
    "    <video width=\"360\" height=\"auto\" alt=\"test\" controls><source src=\"data:video/mp4;base64,{0}\" type=\"video/mp4\" /></video>'''\n",
    ".format(encoded.decode('ascii')))"
   ]
  },
  {
   "cell_type": "markdown",
   "metadata": {},
   "source": [
    "##### METHOD 2:"
   ]
  },
  {
   "cell_type": "code",
   "execution_count": 1077,
   "metadata": {},
   "outputs": [
    {
     "ename": "TypeError",
     "evalue": "Image data of dtype object cannot be converted to float",
     "output_type": "error",
     "traceback": [
      "\u001b[1;31m---------------------------------------------------------------------------\u001b[0m",
      "\u001b[1;31mTypeError\u001b[0m                                 Traceback (most recent call last)",
      "\u001b[1;32m<ipython-input-1077-415a9fafd9f8>\u001b[0m in \u001b[0;36m<module>\u001b[1;34m\u001b[0m\n\u001b[0;32m      1\u001b[0m \u001b[0mnb_episodes\u001b[0m \u001b[1;33m=\u001b[0m \u001b[1;36m20\u001b[0m\u001b[1;33m\u001b[0m\u001b[1;33m\u001b[0m\u001b[0m\n\u001b[0;32m      2\u001b[0m \u001b[0mnb_timesteps\u001b[0m \u001b[1;33m=\u001b[0m \u001b[1;36m100\u001b[0m\u001b[1;33m\u001b[0m\u001b[1;33m\u001b[0m\u001b[0m\n\u001b[1;32m----> 3\u001b[1;33m \u001b[0mimg\u001b[0m \u001b[1;33m=\u001b[0m \u001b[0mplt\u001b[0m\u001b[1;33m.\u001b[0m\u001b[0mimshow\u001b[0m\u001b[1;33m(\u001b[0m\u001b[0menv\u001b[0m\u001b[1;33m.\u001b[0m\u001b[0mrender\u001b[0m\u001b[1;33m(\u001b[0m\u001b[0mmode\u001b[0m\u001b[1;33m=\u001b[0m\u001b[1;34m'rgb_array'\u001b[0m\u001b[1;33m)\u001b[0m\u001b[1;33m)\u001b[0m \u001b[1;31m# only call this once\u001b[0m\u001b[1;33m\u001b[0m\u001b[1;33m\u001b[0m\u001b[0m\n\u001b[0m\u001b[0;32m      4\u001b[0m \u001b[1;33m\u001b[0m\u001b[0m\n\u001b[0;32m      5\u001b[0m \u001b[1;32mfor\u001b[0m \u001b[0mepisode\u001b[0m \u001b[1;32min\u001b[0m \u001b[0mrange\u001b[0m\u001b[1;33m(\u001b[0m\u001b[0mnb_episodes\u001b[0m\u001b[1;33m)\u001b[0m\u001b[1;33m:\u001b[0m  \u001b[1;31m# iterate over the episodes\u001b[0m\u001b[1;33m\u001b[0m\u001b[1;33m\u001b[0m\u001b[0m\n",
      "\u001b[1;32mC:\\ProgramData\\Anaconda3\\lib\\site-packages\\matplotlib\\pyplot.py\u001b[0m in \u001b[0;36mimshow\u001b[1;34m(X, cmap, norm, aspect, interpolation, alpha, vmin, vmax, origin, extent, shape, filternorm, filterrad, imlim, resample, url, data, **kwargs)\u001b[0m\n\u001b[0;32m   2681\u001b[0m         \u001b[0mfilternorm\u001b[0m\u001b[1;33m=\u001b[0m\u001b[0mfilternorm\u001b[0m\u001b[1;33m,\u001b[0m \u001b[0mfilterrad\u001b[0m\u001b[1;33m=\u001b[0m\u001b[0mfilterrad\u001b[0m\u001b[1;33m,\u001b[0m \u001b[0mimlim\u001b[0m\u001b[1;33m=\u001b[0m\u001b[0mimlim\u001b[0m\u001b[1;33m,\u001b[0m\u001b[1;33m\u001b[0m\u001b[1;33m\u001b[0m\u001b[0m\n\u001b[0;32m   2682\u001b[0m         resample=resample, url=url, **({\"data\": data} if data is not\n\u001b[1;32m-> 2683\u001b[1;33m         None else {}), **kwargs)\n\u001b[0m\u001b[0;32m   2684\u001b[0m     \u001b[0msci\u001b[0m\u001b[1;33m(\u001b[0m\u001b[0m__ret\u001b[0m\u001b[1;33m)\u001b[0m\u001b[1;33m\u001b[0m\u001b[1;33m\u001b[0m\u001b[0m\n\u001b[0;32m   2685\u001b[0m     \u001b[1;32mreturn\u001b[0m \u001b[0m__ret\u001b[0m\u001b[1;33m\u001b[0m\u001b[1;33m\u001b[0m\u001b[0m\n",
      "\u001b[1;32mC:\\ProgramData\\Anaconda3\\lib\\site-packages\\matplotlib\\__init__.py\u001b[0m in \u001b[0;36minner\u001b[1;34m(ax, data, *args, **kwargs)\u001b[0m\n\u001b[0;32m   1599\u001b[0m     \u001b[1;32mdef\u001b[0m \u001b[0minner\u001b[0m\u001b[1;33m(\u001b[0m\u001b[0max\u001b[0m\u001b[1;33m,\u001b[0m \u001b[1;33m*\u001b[0m\u001b[0margs\u001b[0m\u001b[1;33m,\u001b[0m \u001b[0mdata\u001b[0m\u001b[1;33m=\u001b[0m\u001b[1;32mNone\u001b[0m\u001b[1;33m,\u001b[0m \u001b[1;33m**\u001b[0m\u001b[0mkwargs\u001b[0m\u001b[1;33m)\u001b[0m\u001b[1;33m:\u001b[0m\u001b[1;33m\u001b[0m\u001b[1;33m\u001b[0m\u001b[0m\n\u001b[0;32m   1600\u001b[0m         \u001b[1;32mif\u001b[0m \u001b[0mdata\u001b[0m \u001b[1;32mis\u001b[0m \u001b[1;32mNone\u001b[0m\u001b[1;33m:\u001b[0m\u001b[1;33m\u001b[0m\u001b[1;33m\u001b[0m\u001b[0m\n\u001b[1;32m-> 1601\u001b[1;33m             \u001b[1;32mreturn\u001b[0m \u001b[0mfunc\u001b[0m\u001b[1;33m(\u001b[0m\u001b[0max\u001b[0m\u001b[1;33m,\u001b[0m \u001b[1;33m*\u001b[0m\u001b[0mmap\u001b[0m\u001b[1;33m(\u001b[0m\u001b[0msanitize_sequence\u001b[0m\u001b[1;33m,\u001b[0m \u001b[0margs\u001b[0m\u001b[1;33m)\u001b[0m\u001b[1;33m,\u001b[0m \u001b[1;33m**\u001b[0m\u001b[0mkwargs\u001b[0m\u001b[1;33m)\u001b[0m\u001b[1;33m\u001b[0m\u001b[1;33m\u001b[0m\u001b[0m\n\u001b[0m\u001b[0;32m   1602\u001b[0m \u001b[1;33m\u001b[0m\u001b[0m\n\u001b[0;32m   1603\u001b[0m         \u001b[0mbound\u001b[0m \u001b[1;33m=\u001b[0m \u001b[0mnew_sig\u001b[0m\u001b[1;33m.\u001b[0m\u001b[0mbind\u001b[0m\u001b[1;33m(\u001b[0m\u001b[0max\u001b[0m\u001b[1;33m,\u001b[0m \u001b[1;33m*\u001b[0m\u001b[0margs\u001b[0m\u001b[1;33m,\u001b[0m \u001b[1;33m**\u001b[0m\u001b[0mkwargs\u001b[0m\u001b[1;33m)\u001b[0m\u001b[1;33m\u001b[0m\u001b[1;33m\u001b[0m\u001b[0m\n",
      "\u001b[1;32mC:\\ProgramData\\Anaconda3\\lib\\site-packages\\matplotlib\\cbook\\deprecation.py\u001b[0m in \u001b[0;36mwrapper\u001b[1;34m(*args, **kwargs)\u001b[0m\n\u001b[0;32m    367\u001b[0m                 \u001b[1;34mf\"%(removal)s.  If any parameter follows {name!r}, they \"\u001b[0m\u001b[1;33m\u001b[0m\u001b[1;33m\u001b[0m\u001b[0m\n\u001b[0;32m    368\u001b[0m                 f\"should be pass as keyword, not positionally.\")\n\u001b[1;32m--> 369\u001b[1;33m         \u001b[1;32mreturn\u001b[0m \u001b[0mfunc\u001b[0m\u001b[1;33m(\u001b[0m\u001b[1;33m*\u001b[0m\u001b[0margs\u001b[0m\u001b[1;33m,\u001b[0m \u001b[1;33m**\u001b[0m\u001b[0mkwargs\u001b[0m\u001b[1;33m)\u001b[0m\u001b[1;33m\u001b[0m\u001b[1;33m\u001b[0m\u001b[0m\n\u001b[0m\u001b[0;32m    370\u001b[0m \u001b[1;33m\u001b[0m\u001b[0m\n\u001b[0;32m    371\u001b[0m     \u001b[1;32mreturn\u001b[0m \u001b[0mwrapper\u001b[0m\u001b[1;33m\u001b[0m\u001b[1;33m\u001b[0m\u001b[0m\n",
      "\u001b[1;32mC:\\ProgramData\\Anaconda3\\lib\\site-packages\\matplotlib\\cbook\\deprecation.py\u001b[0m in \u001b[0;36mwrapper\u001b[1;34m(*args, **kwargs)\u001b[0m\n\u001b[0;32m    367\u001b[0m                 \u001b[1;34mf\"%(removal)s.  If any parameter follows {name!r}, they \"\u001b[0m\u001b[1;33m\u001b[0m\u001b[1;33m\u001b[0m\u001b[0m\n\u001b[0;32m    368\u001b[0m                 f\"should be pass as keyword, not positionally.\")\n\u001b[1;32m--> 369\u001b[1;33m         \u001b[1;32mreturn\u001b[0m \u001b[0mfunc\u001b[0m\u001b[1;33m(\u001b[0m\u001b[1;33m*\u001b[0m\u001b[0margs\u001b[0m\u001b[1;33m,\u001b[0m \u001b[1;33m**\u001b[0m\u001b[0mkwargs\u001b[0m\u001b[1;33m)\u001b[0m\u001b[1;33m\u001b[0m\u001b[1;33m\u001b[0m\u001b[0m\n\u001b[0m\u001b[0;32m    370\u001b[0m \u001b[1;33m\u001b[0m\u001b[0m\n\u001b[0;32m    371\u001b[0m     \u001b[1;32mreturn\u001b[0m \u001b[0mwrapper\u001b[0m\u001b[1;33m\u001b[0m\u001b[1;33m\u001b[0m\u001b[0m\n",
      "\u001b[1;32mC:\\ProgramData\\Anaconda3\\lib\\site-packages\\matplotlib\\axes\\_axes.py\u001b[0m in \u001b[0;36mimshow\u001b[1;34m(self, X, cmap, norm, aspect, interpolation, alpha, vmin, vmax, origin, extent, shape, filternorm, filterrad, imlim, resample, url, **kwargs)\u001b[0m\n\u001b[0;32m   5669\u001b[0m                               resample=resample, **kwargs)\n\u001b[0;32m   5670\u001b[0m \u001b[1;33m\u001b[0m\u001b[0m\n\u001b[1;32m-> 5671\u001b[1;33m         \u001b[0mim\u001b[0m\u001b[1;33m.\u001b[0m\u001b[0mset_data\u001b[0m\u001b[1;33m(\u001b[0m\u001b[0mX\u001b[0m\u001b[1;33m)\u001b[0m\u001b[1;33m\u001b[0m\u001b[1;33m\u001b[0m\u001b[0m\n\u001b[0m\u001b[0;32m   5672\u001b[0m         \u001b[0mim\u001b[0m\u001b[1;33m.\u001b[0m\u001b[0mset_alpha\u001b[0m\u001b[1;33m(\u001b[0m\u001b[0malpha\u001b[0m\u001b[1;33m)\u001b[0m\u001b[1;33m\u001b[0m\u001b[1;33m\u001b[0m\u001b[0m\n\u001b[0;32m   5673\u001b[0m         \u001b[1;32mif\u001b[0m \u001b[0mim\u001b[0m\u001b[1;33m.\u001b[0m\u001b[0mget_clip_path\u001b[0m\u001b[1;33m(\u001b[0m\u001b[1;33m)\u001b[0m \u001b[1;32mis\u001b[0m \u001b[1;32mNone\u001b[0m\u001b[1;33m:\u001b[0m\u001b[1;33m\u001b[0m\u001b[1;33m\u001b[0m\u001b[0m\n",
      "\u001b[1;32mC:\\ProgramData\\Anaconda3\\lib\\site-packages\\matplotlib\\image.py\u001b[0m in \u001b[0;36mset_data\u001b[1;34m(self, A)\u001b[0m\n\u001b[0;32m    683\u001b[0m                 not np.can_cast(self._A.dtype, float, \"same_kind\")):\n\u001b[0;32m    684\u001b[0m             raise TypeError(\"Image data of dtype {} cannot be converted to \"\n\u001b[1;32m--> 685\u001b[1;33m                             \"float\".format(self._A.dtype))\n\u001b[0m\u001b[0;32m    686\u001b[0m \u001b[1;33m\u001b[0m\u001b[0m\n\u001b[0;32m    687\u001b[0m         if not (self._A.ndim == 2\n",
      "\u001b[1;31mTypeError\u001b[0m: Image data of dtype object cannot be converted to float"
     ]
    },
    {
     "data": {
      "image/png": "[encoded data removed]",
      "text/plain": [
       "<Figure size 432x288 with 1 Axes>"
      ]
     },
     "metadata": {
      "needs_background": "light"
     },
     "output_type": "display_data"
    }
   ],
   "source": [
    "nb_episodes = 20\n",
    "nb_timesteps = 100\n",
    "img = plt.imshow(env.render(mode='rgb_array')) # only call this once\n",
    "\n",
    "for episode in range(nb_episodes):  # iterate over the episodes\n",
    "    state = env.reset()             # initialise the environment\n",
    "    rewards = []\n",
    "    \n",
    "    for t in range(nb_timesteps):    # iterate over time steps\n",
    "        #env.render()                 # display the environment\n",
    "        img.set_data(env.render(mode='rgb_array')) # just update the data\n",
    "        display.display(plt.gcf())\n",
    "        display.clear_output(wait=True)\n",
    "        state, reward, done, info = env.step(0)  # implement the action chosen by the policy\n",
    "        rewards.append(reward)      # add 1 to the rewards list\n",
    "        \n",
    "        if done: # the episode ends either if the pole is > 15 deg from vertical or the cart move by > 2.4 unit from the centre\n",
    "            cumulative_reward = sum(rewards)\n",
    "            print(\"episode {} finished after {} timesteps. Total reward: {}\".format(episode, t+1, cumulative_reward))  \n",
    "            break\n",
    "    \n",
    "env.close()"
   ]
  },
  {
   "cell_type": "markdown",
   "metadata": {},
   "source": [
    "---"
   ]
  },
  {
   "cell_type": "markdown",
   "metadata": {},
   "source": [
    "##### OTHER USEFUL-INFO:"
   ]
  },
  {
   "cell_type": "raw",
   "metadata": {},
   "source": [
    "- useful links\n",
    "    - how to initialize to a custom state: https://stackoverflow.com/questions/57263759/how-can-i-start-the-environment-from-a-custom-initial-state-for-mountain-car"
   ]
  }
 ],
 "metadata": {
  "hide_input": false,
  "kernelspec": {
   "display_name": "Python 3",
   "language": "python",
   "name": "python3"
  },
  "language_info": {
   "codemirror_mode": {
    "name": "ipython",
    "version": 3
   },
   "file_extension": ".py",
   "mimetype": "text/x-python",
   "name": "python",
   "nbconvert_exporter": "python",
   "pygments_lexer": "ipython3",
   "version": "3.7.4"
  }
 },
 "nbformat": 4,
 "nbformat_minor": 4
}
