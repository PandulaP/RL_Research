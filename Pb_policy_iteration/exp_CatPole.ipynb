{
 "cells": [
  {
   "cell_type": "markdown",
   "metadata": {},
   "source": [
    "#### Preference-based Policy Iteration Algorithm\n",
    "\n",
    "This is an attempt to replicate the work done by Fürnkranz et al., (2012) in their paper \"Preference-based reinforcement learning: a formal framework and a policy iteration algorithm\""
   ]
  },
  {
   "cell_type": "code",
   "execution_count": 15,
   "metadata": {},
   "outputs": [],
   "source": [
    "import numpy as np\n",
    "import pandas as pd\n",
    "import torch\n",
    "import torch.nn as nn\n",
    "import matplotlib.pyplot as plt\n",
    "from IPython import display\n",
    "from IPython.display import HTML\n",
    "import gym\n",
    "from gym import wrappers\n",
    "import io\n",
    "import base64\n",
    "import itertools\n",
    "import tqdm"
   ]
  },
  {
   "cell_type": "markdown",
   "metadata": {},
   "source": [
    "**State observation**:\n",
    "    \n",
    "    Type: Box(4)\n",
    "\n",
    "    Num     Observation               Min                     Max\n",
    "    0       Cart Position             -4.8                    4.8\n",
    "    1       Cart Velocity             -Inf                    Inf\n",
    "    2       Pole Angle                -0.418 rad (-24 deg)    0.418 rad (24 deg)\n",
    "    3       Pole Angular Velocity     -Inf                    Inf\n",
    "\n",
    "- For this project, I will describe the state of the pendulum using only the angle and angular velocity of the pole, ignoring the position and the velocity of cart.\n",
    "\n",
    "**Actions**:\n",
    "\n",
    "    Type: Discrete(2)\n",
    "    \n",
    "    Num   Action\n",
    "    0     Push cart to the left\n",
    "    1     Push cart to the right"
   ]
  },
  {
   "cell_type": "code",
   "execution_count": 2,
   "metadata": {},
   "outputs": [
    {
     "name": "stdout",
     "output_type": "stream",
     "text": [
      "Number of actions: 2\n",
      "Observation space: Box(4,)\n",
      "Max. values of observation space:[4.8000002e+00 3.4028235e+38 4.1887903e-01 3.4028235e+38]\n",
      "Min. values of observation space:[-4.8000002e+00 -3.4028235e+38 -4.1887903e-01 -3.4028235e+38]\n"
     ]
    }
   ],
   "source": [
    "env = gym.make('CartPole-v0')\n",
    "env.reset()\n",
    "\n",
    "print(\"Number of actions: \" + str(env.action_space.n))\n",
    "print(\"Observation space: \" + str(env.observation_space))\n",
    "print(\"Max. values of observation space:\" + str(env.observation_space.high))\n",
    "print(\"Min. values of observation space:\" + str(env.observation_space.low))"
   ]
  },
  {
   "cell_type": "code",
   "execution_count": 3,
   "metadata": {},
   "outputs": [],
   "source": [
    "# helper functions\n",
    "\n",
    "def state_filter(state):\n",
    "    \"\"\" only use the angle and the angular velocity of the pole to describe the state\"\"\"\n",
    "    \n",
    "    return state[[2,3]]\n",
    "\n",
    "\n",
    "def random_action(state):\n",
    "    \"\"\" return a random action: either 0 (left) or 1 (right)\"\"\"\n",
    "    \n",
    "    action = env.action_space.sample()  \n",
    "    return action"
   ]
  },
  {
   "cell_type": "markdown",
   "metadata": {},
   "source": [
    "I generate random samples $S$ in this setting by simulating a uniform random number (max 100) of uniform random actions from the initial state. If the pendulum fell within this sequence, the procedure was repeated."
   ]
  },
  {
   "cell_type": "code",
   "execution_count": 4,
   "metadata": {},
   "outputs": [],
   "source": [
    "def generate_init_states_S(seed, filter_state=True):\n",
    "    \"\"\"this function returns a list of randomly generated initial states from the CartPole-v0 environment \"\"\"\n",
    "    \n",
    "    np.random.seed(seed)\n",
    "    \n",
    "    n_actions = np.random.randint(low=1, high=101)                # how many actions to generate\n",
    "    seq_actions = np.random.randint(low=0,high=2,size=n_actions)  # random sequence of actions\n",
    "\n",
    "    init_states_S = []   # to store initial states\n",
    "\n",
    "    env = gym.make('CartPole-v0')\n",
    "    env.reset()\n",
    "\n",
    "    for action in seq_actions:\n",
    "\n",
    "        state, reward, done, info = env.step(action)  # implement the actions in the random sequence\n",
    "        \n",
    "        if filter_state:\n",
    "            init_states_S.append(state_filter(state)) # append the environment state to list (only angular velocity and angle)\n",
    "        else:\n",
    "            init_states_S.append(state) # all 4 state observations\n",
    "            \n",
    "        if done: # the episode ends either if the pole is > 15 deg from vertical or the cart move by > 2.4 unit from the centre\n",
    "            env.reset()    \n",
    "            \n",
    "    env.close()\n",
    "            \n",
    "    return init_states_S"
   ]
  },
  {
   "cell_type": "markdown",
   "metadata": {},
   "source": [
    " Generate a sequence of intial states (for $S$) and display first 10"
   ]
  },
  {
   "cell_type": "code",
   "execution_count": 5,
   "metadata": {},
   "outputs": [
    {
     "data": {
      "image/png": "[encoded data removed]",
      "text/plain": [
       "<Figure size 1440x360 with 10 Axes>"
      ]
     },
     "metadata": {
      "needs_background": "light"
     },
     "output_type": "display_data"
    }
   ],
   "source": [
    "init_states_S = generate_init_states_S(16) # randomly generated states initial\n",
    "\n",
    "env = gym.make('CartPole-v0') # create inv. pend environment\n",
    "env = env.unwrapped           # unwrap the environment to send custom initial states\n",
    "fig = plt.figure(figsize=(20,5))\n",
    "\n",
    "for i in range(10):\n",
    "    env.state = np.concatenate((np.array([0.0,0.0]),init_states_S[i])) # manually adding cart-posi & cart-velocity\n",
    "    fig.add_subplot(2,5,i+1)\n",
    "    plt.imshow(env.render(mode=\"rgb_array\"))\n",
    "    env.close()\n",
    "    \n",
    "plt.show()"
   ]
  },
  {
   "cell_type": "markdown",
   "metadata": {},
   "source": [
    "I partition the action space to create multiple actions, because in these cases it becomes less and less likely that a unique best actions can be found. The range of the original action set {0, 1} is partitioned equidistantly into the given number of actions:"
   ]
  },
  {
   "cell_type": "code",
   "execution_count": 6,
   "metadata": {},
   "outputs": [],
   "source": [
    "def partition_action_space(env,n_actions):\n",
    "    \"\"\"this function partitions the action space of a given environment into a given number of `n_actions`\"\"\"\n",
    "    \n",
    "    actions = np.arange(env.action_space.n)\n",
    "\n",
    "    # a uniform noise term is added to action signals to make all state transitions non-deterministic\n",
    "    part_act_space = np.linspace(actions[0],actions[-1],n_actions) + np.random.uniform(low = -.2,high=.2) \n",
    "    \n",
    "    return part_act_space                                                                                "
   ]
  },
  {
   "cell_type": "code",
   "execution_count": 7,
   "metadata": {},
   "outputs": [
    {
     "name": "stdout",
     "output_type": "stream",
     "text": [
      "Original action space: 2\n",
      "Partitioned into 3 actions: [-0.12215384  0.37784616  0.87784616]\n",
      "Partitioned into 9 actions: [-0.09014737  0.03485263  0.15985263  0.28485263  0.40985263  0.53485263\n",
      "  0.65985263  0.78485263  0.90985263]\n",
      "Partitioned into 17 actions: [-0.14760155 -0.08510155 -0.02260155  0.03989845  0.10239845  0.16489845\n",
      "  0.22739845  0.28989845  0.35239845  0.41489845  0.47739845  0.53989845\n",
      "  0.60239845  0.66489845  0.72739845  0.78989845  0.85239845]\n"
     ]
    }
   ],
   "source": [
    "env = gym.make('CartPole-v0')\n",
    "\n",
    "print(\"Original action space: \" + str(env.action_space.n))\n",
    "print(\"Partitioned into 3 actions: \" + str(partition_action_space(env,3)))\n",
    "print(\"Partitioned into 9 actions: \" + str(partition_action_space(env,9)))\n",
    "print(\"Partitioned into 17 actions: \" + str(partition_action_space(env,17)))"
   ]
  },
  {
   "cell_type": "markdown",
   "metadata": {},
   "source": [
    "### Preference-based Approximate Policy Iteration algorithm"
   ]
  },
  {
   "cell_type": "code",
   "execution_count": 100,
   "metadata": {},
   "outputs": [],
   "source": [
    "#####################################\n",
    "### Evaluate-Preference procedure ###\n",
    "\n",
    "### Description:\n",
    "###  This is done using roll-outs\n",
    "###  At every state in the initial state set, roll-outs are generated from each action for the same policy\n",
    "###  Accumulated rewards from each roll-out from each action are used to generate preferences for every pair of actions\n",
    "###  Generated preferences are stored in the training set; training data are used to learn the LabelRanker\n",
    "\n",
    "### Functionality:\n",
    "### - INPUTS  : starting state (s), two-actions(a_k, a_j), (current) policy (\\pi), max. length of trajectoris (L)\n",
    "### - PROCESS : generate roll-out (fixed time horizon) and calculate accumulate reward\n",
    "### - OUTPUT  : compare return from each rollout: store preference info in training dataset as (s,a_k > a_j)\n",
    "\n",
    "### - Run this procedure for every action-pair at all initial-states\n",
    "\n",
    "def evaluate_preference(starting_state\n",
    "                        , action_1\n",
    "                        , action_2\n",
    "                        , policy\n",
    "                        , environment_name = 'CartPole-v0'\n",
    "                        , discount_fac = 0.99\n",
    "                        , n_rollouts = 10\n",
    "                        , max_rollout_len = 10\n",
    "                       ):\n",
    "    \n",
    "    policy = policy              # policy to follow in roll-outs\n",
    "    n_rollouts = n_rollouts      # number of roll-outs to generate\n",
    "    gamma = discount_fac         # discount factor\n",
    "\n",
    "    # state is 4 dimensional by default: if only 2 give, has to expand to 4 dimensions\n",
    "    if len(starting_state) == 2:\n",
    "        # manually define state-values for 'cart-position' & 'cart-velocity'\n",
    "        cart_posi, cart_velo = 0,0   \n",
    "        s_init = np.concatenate((np.array([cart_posi,cart_velo]),starting_state))\n",
    "    else:\n",
    "        s_init = starting_state\n",
    "        \n",
    "    # dict. to store actions\n",
    "    actions = { 'one' : action_1 \n",
    "              , 'two' : action_2}    \n",
    "\n",
    "    # dict to store  rewards of roll-outs starting from each action\n",
    "    r = { 'one' : [None]*n_rollouts \n",
    "        , 'two' : [None]*n_rollouts}  \n",
    "\n",
    "    # dict to store average discounted return for for each action\n",
    "    avg_r = {}  \n",
    "\n",
    "    max_traj_len = max_rollout_len # maximum roll-out trajectory length\n",
    "\n",
    "    for action_key, action_value in actions.items():\n",
    "\n",
    "        # generate roll-outs\n",
    "        for rollout in range(n_rollouts):\n",
    "\n",
    "            env = gym.make(environment_name)\n",
    "            env = env.unwrapped\n",
    "\n",
    "            env.state = s_init  # set the starting state\n",
    "\n",
    "            # absolute of the rounded action value is applied in case action space is partitioned\n",
    "            #print(abs(round(action_value)))\n",
    "            observation, reward, done, info = env.step(int(abs(round(action_value))))\n",
    "\n",
    "            r[action_key][rollout] = reward # add the immediate reward of the action\n",
    "\n",
    "            traj_len = 1\n",
    "            while traj_len < max_traj_len and not done:\n",
    "\n",
    "                observation, reward, done, info = env.step(policy(observation)) ### NEED TO DEFINE A POLICY\n",
    "\n",
    "                r[action_key][rollout] += (gamma**traj_len) * reward\n",
    "\n",
    "                traj_len += 1\n",
    "\n",
    "            env.reset()\n",
    "            env.close()\n",
    "\n",
    "        # calculate average discounted return \n",
    "        avg_r[action_key]  = sum(r[action_key]) / len(r[action_key])\n",
    "\n",
    "    # return preference info. to generate training data\n",
    "    if avg_r['one'] > avg_r['two']:\n",
    "        return {'state': s_init[[2,3]] if len(s_init)>2 else s_init # only use the angel and velocity of pendulum for state\n",
    "               , 'a_j' : actions['one']\n",
    "               , 'a_k' : actions['two']\n",
    "               , 'preference_label' : 1}\n",
    "#     elif avg_r['two'] > avg_r['one']:\n",
    "#         return {'state': s_init[[2,3]] if len(s_init)>2 else s_init  # only use the angel and velocity of pendulum for state\n",
    "#                , 'a_k_prefered_a_j' : [actions['two'],actions['one']]\n",
    "#                , 'preference_label' : 1}\n",
    "    else:\n",
    "        return {'state': s_init[[2,3]] if len(s_init)>2 else s_init # only use the angel and velocity of pendulum for state\n",
    "               , 'a_j' : actions['one']\n",
    "               , 'a_k' : actions['two']\n",
    "               , 'preference_label' : 0}"
   ]
  },
  {
   "cell_type": "code",
   "execution_count": 108,
   "metadata": {},
   "outputs": [
    {
     "data": {
      "text/plain": [
       "{'state': array([0.04932088, 0.04057652]),\n",
       " 'a_j': 0.3,\n",
       " 'a_k': 0.6,\n",
       " 'preference_label': 0}"
      ]
     },
     "execution_count": 108,
     "metadata": {},
     "output_type": "execute_result"
    }
   ],
   "source": [
    "evaluate_preference(env.reset(),0.3,0.6,random_action)"
   ]
  },
  {
   "cell_type": "code",
   "execution_count": 201,
   "metadata": {},
   "outputs": [
    {
     "name": "stderr",
     "output_type": "stream",
     "text": [
      "100%|████████████████████████████████████████████████████████████████████████████████████| 1/1 [00:01<00:00,  1.56s/it]\n"
     ]
    }
   ],
   "source": [
    "###################################################\n",
    "### Preference-Based Policy Iteration Algorithm ###\n",
    "\n",
    "### Functionality:\n",
    "### - INPUTS  : sample states (s'), initial (random) policy (\\pi0), max. num. of policy iterations (p)\n",
    "### - PROCESS : generate roll-out (fixed time horizon) and calculate accumulate reward\n",
    "### - OUTPUT  : compare return from each rollout: store preference info in training dataset as (s,a_k > a_j)\n",
    "\n",
    "\n",
    "# initialize environment\n",
    "env = gym.make('CartPole-v0')\n",
    "\n",
    "# initial random policy\n",
    "policy_init = random_action\n",
    "policy = policy_init\n",
    "\n",
    "# sample states\n",
    "sample_states = generate_init_states_S(seed = 16) # randomly generated states initial\n",
    "\n",
    "# maximum number of policy iterations\n",
    "max_iterr = 1 # increase this after writing the LabelRanker\n",
    "\n",
    "# action space to consider\n",
    "act_space = partition_action_space(env,3)\n",
    "\n",
    "# generate action-pairs (per each)\n",
    "act_pairs = list(itertools.combinations(act_space,2))\n",
    "\n",
    "# place-holder for training data\n",
    "train_data = []\n",
    "\n",
    "iterr = 0\n",
    "\n",
    "pbar = tqdm.tqdm(total=max_iterr)\n",
    "\n",
    "while iterr < max_iterr:\n",
    "    \n",
    "    # place-holder for training data\n",
    "    #train_data = [] # uncomment this after adding LabelRanker\n",
    "\n",
    "    \n",
    "    for state in sample_states:\n",
    "        \n",
    "        for action_pair in act_pairs:\n",
    "            preference_out = evaluate_preference(state, action_pair[0], action_pair[1], policy)\n",
    "            \n",
    "            if preference_out is not None:\n",
    "                train_data.append(preference_out)\n",
    "            else:\n",
    "                pass\n",
    "            \n",
    "    pbar.update(1)\n",
    "    iterr += 1\n",
    "    \n",
    "    \n",
    "pbar.close()\n",
    "\n",
    "### Train LaberRanker using train-data\n",
    "### Create new policy using LabeRanker\n",
    "### Re-run loop with new policy\n",
    "\n",
    "        \n",
    "        \n",
    "    \n",
    "\n",
    "\n"
   ]
  },
  {
   "cell_type": "markdown",
   "metadata": {},
   "source": [
    "### `LABEL-RANKER` Model training Experiment"
   ]
  },
  {
   "cell_type": "code",
   "execution_count": 271,
   "metadata": {},
   "outputs": [],
   "source": [
    "train_df = pd.DataFrame(train_data)"
   ]
  },
  {
   "cell_type": "code",
   "execution_count": 272,
   "metadata": {},
   "outputs": [
    {
     "data": {
      "text/html": [
       "<div>\n",
       "<style scoped>\n",
       "    .dataframe tbody tr th:only-of-type {\n",
       "        vertical-align: middle;\n",
       "    }\n",
       "\n",
       "    .dataframe tbody tr th {\n",
       "        vertical-align: top;\n",
       "    }\n",
       "\n",
       "    .dataframe thead th {\n",
       "        text-align: right;\n",
       "    }\n",
       "</style>\n",
       "<table border=\"1\" class=\"dataframe\">\n",
       "  <thead>\n",
       "    <tr style=\"text-align: right;\">\n",
       "      <th></th>\n",
       "      <th>state</th>\n",
       "      <th>a_j</th>\n",
       "      <th>a_k</th>\n",
       "      <th>preference_label</th>\n",
       "    </tr>\n",
       "  </thead>\n",
       "  <tbody>\n",
       "    <tr>\n",
       "      <td>0</td>\n",
       "      <td>[-0.04042570338131652, 0.2768141014688637]</td>\n",
       "      <td>-0.122154</td>\n",
       "      <td>0.377846</td>\n",
       "      <td>0</td>\n",
       "    </tr>\n",
       "    <tr>\n",
       "      <td>1</td>\n",
       "      <td>[-0.04042570338131652, 0.2768141014688637]</td>\n",
       "      <td>-0.122154</td>\n",
       "      <td>0.877846</td>\n",
       "      <td>0</td>\n",
       "    </tr>\n",
       "    <tr>\n",
       "      <td>2</td>\n",
       "      <td>[-0.04042570338131652, 0.2768141014688637]</td>\n",
       "      <td>0.377846</td>\n",
       "      <td>0.877846</td>\n",
       "      <td>0</td>\n",
       "    </tr>\n",
       "  </tbody>\n",
       "</table>\n",
       "</div>"
      ],
      "text/plain": [
       "                                        state       a_j       a_k  \\\n",
       "0  [-0.04042570338131652, 0.2768141014688637] -0.122154  0.377846   \n",
       "1  [-0.04042570338131652, 0.2768141014688637] -0.122154  0.877846   \n",
       "2  [-0.04042570338131652, 0.2768141014688637]  0.377846  0.877846   \n",
       "\n",
       "   preference_label  \n",
       "0                 0  \n",
       "1                 0  \n",
       "2                 0  "
      ]
     },
     "execution_count": 272,
     "metadata": {},
     "output_type": "execute_result"
    }
   ],
   "source": [
    "train_df.head(3)"
   ]
  },
  {
   "cell_type": "code",
   "execution_count": 273,
   "metadata": {},
   "outputs": [],
   "source": [
    "# create a key for state\n",
    "train_df.loc[:, 'state_key'] = train_df.state.apply(lambda x: x[0].astype(str)+\"_\"+x[1].astype(str))"
   ]
  },
  {
   "cell_type": "code",
   "execution_count": 275,
   "metadata": {},
   "outputs": [],
   "source": [
    "# drop all states which does not have any preferred action\n",
    "temp_df1 = train_df.groupby('state_key').preference_label.sum().reset_index()\n",
    "temp_df1 = temp_df1.loc[temp_df1.preference_label>0] # pick the states that have at least one prefered action\n",
    "train_df = train_df.merge(right = temp_df1.loc[:,'state_key']\n",
    "                          , right_on = 'state_key'\n",
    "                          , left_on = 'state_key'\n",
    "                          , how = 'right')"
   ]
  },
  {
   "cell_type": "code",
   "execution_count": 276,
   "metadata": {},
   "outputs": [],
   "source": [
    "# create a single column with the set of actions executed per state\n",
    "temp_df1 = train_df.groupby('state_key')['a_j'].unique().reset_index()\n",
    "temp_df2 = train_df.groupby('state_key')['a_k'].unique().reset_index()\n",
    "temp_df3 = temp_df1.merge(right=temp_df2\n",
    "                          , right_on = 'state_key'\n",
    "                          , left_on = 'state_key'\n",
    "                          , how = 'inner')\n",
    "temp_df3.loc[:,'unique_acts'] = temp_df3.apply(lambda row: set(list(row['a_j']) + list(row['a_k'])) ,axis=1)"
   ]
  },
  {
   "cell_type": "code",
   "execution_count": 277,
   "metadata": {},
   "outputs": [
    {
     "data": {
      "text/html": [
       "<div>\n",
       "<style scoped>\n",
       "    .dataframe tbody tr th:only-of-type {\n",
       "        vertical-align: middle;\n",
       "    }\n",
       "\n",
       "    .dataframe tbody tr th {\n",
       "        vertical-align: top;\n",
       "    }\n",
       "\n",
       "    .dataframe thead th {\n",
       "        text-align: right;\n",
       "    }\n",
       "</style>\n",
       "<table border=\"1\" class=\"dataframe\">\n",
       "  <thead>\n",
       "    <tr style=\"text-align: right;\">\n",
       "      <th></th>\n",
       "      <th>state_key</th>\n",
       "      <th>a_j</th>\n",
       "      <th>a_k</th>\n",
       "      <th>unique_acts</th>\n",
       "    </tr>\n",
       "  </thead>\n",
       "  <tbody>\n",
       "    <tr>\n",
       "      <td>0</td>\n",
       "      <td>-0.007119426465262891_0.010133984961571807</td>\n",
       "      <td>[-0.12215383778081441, 0.3778461622191856]</td>\n",
       "      <td>[0.3778461622191856, 0.8778461622191855]</td>\n",
       "      <td>{-0.12215383778081441, 0.8778461622191855, 0.3...</td>\n",
       "    </tr>\n",
       "    <tr>\n",
       "      <td>1</td>\n",
       "      <td>-0.035456221985432065_-0.331823583123806</td>\n",
       "      <td>[-0.12215383778081441, 0.3778461622191856]</td>\n",
       "      <td>[0.3778461622191856, 0.8778461622191855]</td>\n",
       "      <td>{-0.12215383778081441, 0.8778461622191855, 0.3...</td>\n",
       "    </tr>\n",
       "    <tr>\n",
       "      <td>2</td>\n",
       "      <td>-0.042092693647908186_-0.635473455421564</td>\n",
       "      <td>[-0.12215383778081441, 0.3778461622191856]</td>\n",
       "      <td>[0.3778461622191856, 0.8778461622191855]</td>\n",
       "      <td>{-0.12215383778081441, 0.8778461622191855, 0.3...</td>\n",
       "    </tr>\n",
       "  </tbody>\n",
       "</table>\n",
       "</div>"
      ],
      "text/plain": [
       "                                    state_key  \\\n",
       "0  -0.007119426465262891_0.010133984961571807   \n",
       "1    -0.035456221985432065_-0.331823583123806   \n",
       "2    -0.042092693647908186_-0.635473455421564   \n",
       "\n",
       "                                          a_j  \\\n",
       "0  [-0.12215383778081441, 0.3778461622191856]   \n",
       "1  [-0.12215383778081441, 0.3778461622191856]   \n",
       "2  [-0.12215383778081441, 0.3778461622191856]   \n",
       "\n",
       "                                        a_k  \\\n",
       "0  [0.3778461622191856, 0.8778461622191855]   \n",
       "1  [0.3778461622191856, 0.8778461622191855]   \n",
       "2  [0.3778461622191856, 0.8778461622191855]   \n",
       "\n",
       "                                         unique_acts  \n",
       "0  {-0.12215383778081441, 0.8778461622191855, 0.3...  \n",
       "1  {-0.12215383778081441, 0.8778461622191855, 0.3...  \n",
       "2  {-0.12215383778081441, 0.8778461622191855, 0.3...  "
      ]
     },
     "execution_count": 277,
     "metadata": {},
     "output_type": "execute_result"
    }
   ],
   "source": [
    "temp_df3.head(3)"
   ]
  },
  {
   "cell_type": "code",
   "execution_count": 278,
   "metadata": {},
   "outputs": [],
   "source": [
    "# add the unique-action column to train dataset\n",
    "train_df = train_df.merge(right = temp_df3.loc[:,['state_key', 'unique_acts']]\n",
    "              , right_on =  'state_key'\n",
    "              , left_on = 'state_key'\n",
    "              , how = 'left')"
   ]
  },
  {
   "cell_type": "code",
   "execution_count": 279,
   "metadata": {},
   "outputs": [
    {
     "data": {
      "text/html": [
       "<div>\n",
       "<style scoped>\n",
       "    .dataframe tbody tr th:only-of-type {\n",
       "        vertical-align: middle;\n",
       "    }\n",
       "\n",
       "    .dataframe tbody tr th {\n",
       "        vertical-align: top;\n",
       "    }\n",
       "\n",
       "    .dataframe thead th {\n",
       "        text-align: right;\n",
       "    }\n",
       "</style>\n",
       "<table border=\"1\" class=\"dataframe\">\n",
       "  <thead>\n",
       "    <tr style=\"text-align: right;\">\n",
       "      <th></th>\n",
       "      <th>state</th>\n",
       "      <th>a_j</th>\n",
       "      <th>a_k</th>\n",
       "      <th>preference_label</th>\n",
       "      <th>state_key</th>\n",
       "      <th>unique_acts</th>\n",
       "    </tr>\n",
       "  </thead>\n",
       "  <tbody>\n",
       "    <tr>\n",
       "      <td>6</td>\n",
       "      <td>[-0.054802162756339465, -0.9411095238977125]</td>\n",
       "      <td>-0.122154</td>\n",
       "      <td>0.377846</td>\n",
       "      <td>1</td>\n",
       "      <td>-0.054802162756339465_-0.9411095238977125</td>\n",
       "      <td>{-0.12215383778081441, 0.8778461622191855, 0.3...</td>\n",
       "    </tr>\n",
       "    <tr>\n",
       "      <td>7</td>\n",
       "      <td>[-0.054802162756339465, -0.9411095238977125]</td>\n",
       "      <td>-0.122154</td>\n",
       "      <td>0.877846</td>\n",
       "      <td>1</td>\n",
       "      <td>-0.054802162756339465_-0.9411095238977125</td>\n",
       "      <td>{-0.12215383778081441, 0.8778461622191855, 0.3...</td>\n",
       "    </tr>\n",
       "    <tr>\n",
       "      <td>8</td>\n",
       "      <td>[-0.054802162756339465, -0.9411095238977125]</td>\n",
       "      <td>0.377846</td>\n",
       "      <td>0.877846</td>\n",
       "      <td>1</td>\n",
       "      <td>-0.054802162756339465_-0.9411095238977125</td>\n",
       "      <td>{-0.12215383778081441, 0.8778461622191855, 0.3...</td>\n",
       "    </tr>\n",
       "  </tbody>\n",
       "</table>\n",
       "</div>"
      ],
      "text/plain": [
       "                                          state       a_j       a_k  \\\n",
       "6  [-0.054802162756339465, -0.9411095238977125] -0.122154  0.377846   \n",
       "7  [-0.054802162756339465, -0.9411095238977125] -0.122154  0.877846   \n",
       "8  [-0.054802162756339465, -0.9411095238977125]  0.377846  0.877846   \n",
       "\n",
       "   preference_label                                  state_key  \\\n",
       "6                 1  -0.054802162756339465_-0.9411095238977125   \n",
       "7                 1  -0.054802162756339465_-0.9411095238977125   \n",
       "8                 1  -0.054802162756339465_-0.9411095238977125   \n",
       "\n",
       "                                         unique_acts  \n",
       "6  {-0.12215383778081441, 0.8778461622191855, 0.3...  \n",
       "7  {-0.12215383778081441, 0.8778461622191855, 0.3...  \n",
       "8  {-0.12215383778081441, 0.8778461622191855, 0.3...  "
      ]
     },
     "execution_count": 279,
     "metadata": {},
     "output_type": "execute_result"
    }
   ],
   "source": [
    "train_df.loc[train_df.state_key == '-0.054802162756339465_-0.9411095238977125']"
   ]
  },
  {
   "cell_type": "code",
   "execution_count": 280,
   "metadata": {},
   "outputs": [],
   "source": [
    "# create a 'prefered-action' value for each state\n",
    "train_df.loc[:,'prefered_action'] = train_df.apply(lambda row: row['a_j'] if row['preference_label'] == 1 else row['a_k']  ,axis=1)"
   ]
  },
  {
   "cell_type": "code",
   "execution_count": 282,
   "metadata": {},
   "outputs": [
    {
     "data": {
      "text/html": [
       "<div>\n",
       "<style scoped>\n",
       "    .dataframe tbody tr th:only-of-type {\n",
       "        vertical-align: middle;\n",
       "    }\n",
       "\n",
       "    .dataframe tbody tr th {\n",
       "        vertical-align: top;\n",
       "    }\n",
       "\n",
       "    .dataframe thead th {\n",
       "        text-align: right;\n",
       "    }\n",
       "</style>\n",
       "<table border=\"1\" class=\"dataframe\">\n",
       "  <thead>\n",
       "    <tr style=\"text-align: right;\">\n",
       "      <th></th>\n",
       "      <th>state</th>\n",
       "      <th>a_j</th>\n",
       "      <th>a_k</th>\n",
       "      <th>preference_label</th>\n",
       "      <th>state_key</th>\n",
       "      <th>unique_acts</th>\n",
       "      <th>prefered_action</th>\n",
       "    </tr>\n",
       "  </thead>\n",
       "  <tbody>\n",
       "    <tr>\n",
       "      <td>0</td>\n",
       "      <td>[-0.035456221985432065, -0.331823583123806]</td>\n",
       "      <td>-0.122154</td>\n",
       "      <td>0.377846</td>\n",
       "      <td>0</td>\n",
       "      <td>-0.035456221985432065_-0.331823583123806</td>\n",
       "      <td>{-0.12215383778081441, 0.8778461622191855, 0.3...</td>\n",
       "      <td>0.377846</td>\n",
       "    </tr>\n",
       "    <tr>\n",
       "      <td>1</td>\n",
       "      <td>[-0.035456221985432065, -0.331823583123806]</td>\n",
       "      <td>-0.122154</td>\n",
       "      <td>0.877846</td>\n",
       "      <td>1</td>\n",
       "      <td>-0.035456221985432065_-0.331823583123806</td>\n",
       "      <td>{-0.12215383778081441, 0.8778461622191855, 0.3...</td>\n",
       "      <td>-0.122154</td>\n",
       "    </tr>\n",
       "    <tr>\n",
       "      <td>2</td>\n",
       "      <td>[-0.035456221985432065, -0.331823583123806]</td>\n",
       "      <td>0.377846</td>\n",
       "      <td>0.877846</td>\n",
       "      <td>1</td>\n",
       "      <td>-0.035456221985432065_-0.331823583123806</td>\n",
       "      <td>{-0.12215383778081441, 0.8778461622191855, 0.3...</td>\n",
       "      <td>0.377846</td>\n",
       "    </tr>\n",
       "    <tr>\n",
       "      <td>3</td>\n",
       "      <td>[-0.042092693647908186, -0.635473455421564]</td>\n",
       "      <td>-0.122154</td>\n",
       "      <td>0.377846</td>\n",
       "      <td>0</td>\n",
       "      <td>-0.042092693647908186_-0.635473455421564</td>\n",
       "      <td>{-0.12215383778081441, 0.8778461622191855, 0.3...</td>\n",
       "      <td>0.377846</td>\n",
       "    </tr>\n",
       "    <tr>\n",
       "      <td>4</td>\n",
       "      <td>[-0.042092693647908186, -0.635473455421564]</td>\n",
       "      <td>-0.122154</td>\n",
       "      <td>0.877846</td>\n",
       "      <td>1</td>\n",
       "      <td>-0.042092693647908186_-0.635473455421564</td>\n",
       "      <td>{-0.12215383778081441, 0.8778461622191855, 0.3...</td>\n",
       "      <td>-0.122154</td>\n",
       "    </tr>\n",
       "  </tbody>\n",
       "</table>\n",
       "</div>"
      ],
      "text/plain": [
       "                                         state       a_j       a_k  \\\n",
       "0  [-0.035456221985432065, -0.331823583123806] -0.122154  0.377846   \n",
       "1  [-0.035456221985432065, -0.331823583123806] -0.122154  0.877846   \n",
       "2  [-0.035456221985432065, -0.331823583123806]  0.377846  0.877846   \n",
       "3  [-0.042092693647908186, -0.635473455421564] -0.122154  0.377846   \n",
       "4  [-0.042092693647908186, -0.635473455421564] -0.122154  0.877846   \n",
       "\n",
       "   preference_label                                 state_key  \\\n",
       "0                 0  -0.035456221985432065_-0.331823583123806   \n",
       "1                 1  -0.035456221985432065_-0.331823583123806   \n",
       "2                 1  -0.035456221985432065_-0.331823583123806   \n",
       "3                 0  -0.042092693647908186_-0.635473455421564   \n",
       "4                 1  -0.042092693647908186_-0.635473455421564   \n",
       "\n",
       "                                         unique_acts  prefered_action  \n",
       "0  {-0.12215383778081441, 0.8778461622191855, 0.3...         0.377846  \n",
       "1  {-0.12215383778081441, 0.8778461622191855, 0.3...        -0.122154  \n",
       "2  {-0.12215383778081441, 0.8778461622191855, 0.3...         0.377846  \n",
       "3  {-0.12215383778081441, 0.8778461622191855, 0.3...         0.377846  \n",
       "4  {-0.12215383778081441, 0.8778461622191855, 0.3...        -0.122154  "
      ]
     },
     "execution_count": 282,
     "metadata": {},
     "output_type": "execute_result"
    }
   ],
   "source": [
    "train_df.head()"
   ]
  },
  {
   "cell_type": "code",
   "execution_count": 323,
   "metadata": {},
   "outputs": [
    {
     "data": {
      "text/html": [
       "<div>\n",
       "<style scoped>\n",
       "    .dataframe tbody tr th:only-of-type {\n",
       "        vertical-align: middle;\n",
       "    }\n",
       "\n",
       "    .dataframe tbody tr th {\n",
       "        vertical-align: top;\n",
       "    }\n",
       "\n",
       "    .dataframe thead th {\n",
       "        text-align: right;\n",
       "    }\n",
       "</style>\n",
       "<table border=\"1\" class=\"dataframe\">\n",
       "  <thead>\n",
       "    <tr style=\"text-align: right;\">\n",
       "      <th>prefered_action</th>\n",
       "      <th>-0.122154</th>\n",
       "      <th>0.377846</th>\n",
       "      <th>0.877846</th>\n",
       "    </tr>\n",
       "    <tr>\n",
       "      <th>state_key</th>\n",
       "      <th></th>\n",
       "      <th></th>\n",
       "      <th></th>\n",
       "    </tr>\n",
       "  </thead>\n",
       "  <tbody>\n",
       "    <tr>\n",
       "      <td>-0.007119426465262891_0.010133984961571807</td>\n",
       "      <td>1.0</td>\n",
       "      <td>1.0</td>\n",
       "      <td>1.0</td>\n",
       "    </tr>\n",
       "    <tr>\n",
       "      <td>-0.035456221985432065_-0.331823583123806</td>\n",
       "      <td>1.0</td>\n",
       "      <td>2.0</td>\n",
       "      <td>0.0</td>\n",
       "    </tr>\n",
       "    <tr>\n",
       "      <td>-0.042092693647908186_-0.635473455421564</td>\n",
       "      <td>1.0</td>\n",
       "      <td>2.0</td>\n",
       "      <td>0.0</td>\n",
       "    </tr>\n",
       "    <tr>\n",
       "      <td>-0.054802162756339465_-0.9411095238977125</td>\n",
       "      <td>2.0</td>\n",
       "      <td>1.0</td>\n",
       "      <td>0.0</td>\n",
       "    </tr>\n",
       "    <tr>\n",
       "      <td>-0.07362435323429371_-0.6661375648946086</td>\n",
       "      <td>2.0</td>\n",
       "      <td>1.0</td>\n",
       "      <td>0.0</td>\n",
       "    </tr>\n",
       "  </tbody>\n",
       "</table>\n",
       "</div>"
      ],
      "text/plain": [
       "prefered_action                             -0.122154   0.377846   0.877846\n",
       "state_key                                                                  \n",
       "-0.007119426465262891_0.010133984961571807        1.0        1.0        1.0\n",
       "-0.035456221985432065_-0.331823583123806          1.0        2.0        0.0\n",
       "-0.042092693647908186_-0.635473455421564          1.0        2.0        0.0\n",
       "-0.054802162756339465_-0.9411095238977125         2.0        1.0        0.0\n",
       "-0.07362435323429371_-0.6661375648946086          2.0        1.0        0.0"
      ]
     },
     "execution_count": 323,
     "metadata": {},
     "output_type": "execute_result"
    }
   ],
   "source": [
    "action_preference_counts = train_df.groupby('state_key').prefered_action.value_counts().unstack()\n",
    "action_preference_counts.replace(np.nan,0,inplace=True)\n",
    "action_preference_counts.head()"
   ]
  },
  {
   "cell_type": "code",
   "execution_count": 324,
   "metadata": {},
   "outputs": [],
   "source": [
    "### create training labels for each state\n",
    "action_preference_counts.loc[:, 'preference_label_vector'] = action_preference_counts.iloc[:,0:].values.tolist()"
   ]
  },
  {
   "cell_type": "code",
   "execution_count": 329,
   "metadata": {},
   "outputs": [
    {
     "data": {
      "text/html": [
       "<div>\n",
       "<style scoped>\n",
       "    .dataframe tbody tr th:only-of-type {\n",
       "        vertical-align: middle;\n",
       "    }\n",
       "\n",
       "    .dataframe tbody tr th {\n",
       "        vertical-align: top;\n",
       "    }\n",
       "\n",
       "    .dataframe thead th {\n",
       "        text-align: right;\n",
       "    }\n",
       "</style>\n",
       "<table border=\"1\" class=\"dataframe\">\n",
       "  <thead>\n",
       "    <tr style=\"text-align: right;\">\n",
       "      <th>prefered_action</th>\n",
       "      <th>-0.12215383778081441</th>\n",
       "      <th>0.3778461622191856</th>\n",
       "      <th>0.8778461622191855</th>\n",
       "      <th>preference_label_vector</th>\n",
       "    </tr>\n",
       "    <tr>\n",
       "      <th>state_key</th>\n",
       "      <th></th>\n",
       "      <th></th>\n",
       "      <th></th>\n",
       "      <th></th>\n",
       "    </tr>\n",
       "  </thead>\n",
       "  <tbody>\n",
       "    <tr>\n",
       "      <td>-0.007119426465262891_0.010133984961571807</td>\n",
       "      <td>1.0</td>\n",
       "      <td>1.0</td>\n",
       "      <td>1.0</td>\n",
       "      <td>[1.0, 1.0, 1.0]</td>\n",
       "    </tr>\n",
       "    <tr>\n",
       "      <td>-0.035456221985432065_-0.331823583123806</td>\n",
       "      <td>1.0</td>\n",
       "      <td>2.0</td>\n",
       "      <td>0.0</td>\n",
       "      <td>[1.0, 2.0, 0.0]</td>\n",
       "    </tr>\n",
       "    <tr>\n",
       "      <td>-0.042092693647908186_-0.635473455421564</td>\n",
       "      <td>1.0</td>\n",
       "      <td>2.0</td>\n",
       "      <td>0.0</td>\n",
       "      <td>[1.0, 2.0, 0.0]</td>\n",
       "    </tr>\n",
       "    <tr>\n",
       "      <td>-0.054802162756339465_-0.9411095238977125</td>\n",
       "      <td>2.0</td>\n",
       "      <td>1.0</td>\n",
       "      <td>0.0</td>\n",
       "      <td>[2.0, 1.0, 0.0]</td>\n",
       "    </tr>\n",
       "    <tr>\n",
       "      <td>-0.07362435323429371_-0.6661375648946086</td>\n",
       "      <td>2.0</td>\n",
       "      <td>1.0</td>\n",
       "      <td>0.0</td>\n",
       "      <td>[2.0, 1.0, 0.0]</td>\n",
       "    </tr>\n",
       "  </tbody>\n",
       "</table>\n",
       "</div>"
      ],
      "text/plain": [
       "prefered_action                             -0.12215383778081441  \\\n",
       "state_key                                                          \n",
       "-0.007119426465262891_0.010133984961571807                   1.0   \n",
       "-0.035456221985432065_-0.331823583123806                     1.0   \n",
       "-0.042092693647908186_-0.635473455421564                     1.0   \n",
       "-0.054802162756339465_-0.9411095238977125                    2.0   \n",
       "-0.07362435323429371_-0.6661375648946086                     2.0   \n",
       "\n",
       "prefered_action                             0.3778461622191856  \\\n",
       "state_key                                                        \n",
       "-0.007119426465262891_0.010133984961571807                 1.0   \n",
       "-0.035456221985432065_-0.331823583123806                   2.0   \n",
       "-0.042092693647908186_-0.635473455421564                   2.0   \n",
       "-0.054802162756339465_-0.9411095238977125                  1.0   \n",
       "-0.07362435323429371_-0.6661375648946086                   1.0   \n",
       "\n",
       "prefered_action                             0.8778461622191855  \\\n",
       "state_key                                                        \n",
       "-0.007119426465262891_0.010133984961571807                 1.0   \n",
       "-0.035456221985432065_-0.331823583123806                   0.0   \n",
       "-0.042092693647908186_-0.635473455421564                   0.0   \n",
       "-0.054802162756339465_-0.9411095238977125                  0.0   \n",
       "-0.07362435323429371_-0.6661375648946086                   0.0   \n",
       "\n",
       "prefered_action                            preference_label_vector  \n",
       "state_key                                                           \n",
       "-0.007119426465262891_0.010133984961571807         [1.0, 1.0, 1.0]  \n",
       "-0.035456221985432065_-0.331823583123806           [1.0, 2.0, 0.0]  \n",
       "-0.042092693647908186_-0.635473455421564           [1.0, 2.0, 0.0]  \n",
       "-0.054802162756339465_-0.9411095238977125          [2.0, 1.0, 0.0]  \n",
       "-0.07362435323429371_-0.6661375648946086           [2.0, 1.0, 0.0]  "
      ]
     },
     "execution_count": 329,
     "metadata": {},
     "output_type": "execute_result"
    }
   ],
   "source": [
    "action_preference_counts.head()"
   ]
  },
  {
   "cell_type": "code",
   "execution_count": 331,
   "metadata": {},
   "outputs": [],
   "source": [
    "# add preference label data to training dataset\n",
    "train_df = train_df.merge(right = action_preference_counts.loc[:,['preference_label_vector']]\n",
    "                          , right_index= True\n",
    "                          , left_on = 'state_key'\n",
    "                          , how = 'left')"
   ]
  },
  {
   "cell_type": "code",
   "execution_count": 334,
   "metadata": {},
   "outputs": [],
   "source": [
    "# create the reduced training dataset\n",
    "train_df_reduced = train_df.loc[:,['state', 'state_key', 'unique_acts', 'preference_label_vector']]"
   ]
  },
  {
   "cell_type": "code",
   "execution_count": 356,
   "metadata": {},
   "outputs": [
    {
     "data": {
      "text/html": [
       "<div>\n",
       "<style scoped>\n",
       "    .dataframe tbody tr th:only-of-type {\n",
       "        vertical-align: middle;\n",
       "    }\n",
       "\n",
       "    .dataframe tbody tr th {\n",
       "        vertical-align: top;\n",
       "    }\n",
       "\n",
       "    .dataframe thead th {\n",
       "        text-align: right;\n",
       "    }\n",
       "</style>\n",
       "<table border=\"1\" class=\"dataframe\">\n",
       "  <thead>\n",
       "    <tr style=\"text-align: right;\">\n",
       "      <th></th>\n",
       "      <th>state</th>\n",
       "      <th>state_key</th>\n",
       "      <th>unique_acts</th>\n",
       "      <th>preference_label_vector</th>\n",
       "    </tr>\n",
       "  </thead>\n",
       "  <tbody>\n",
       "    <tr>\n",
       "      <td>0</td>\n",
       "      <td>[-0.035456221985432065, -0.331823583123806]</td>\n",
       "      <td>-0.035456221985432065_-0.331823583123806</td>\n",
       "      <td>{-0.12215383778081441, 0.8778461622191855, 0.3...</td>\n",
       "      <td>[1.0, 2.0, 0.0]</td>\n",
       "    </tr>\n",
       "    <tr>\n",
       "      <td>3</td>\n",
       "      <td>[-0.042092693647908186, -0.635473455421564]</td>\n",
       "      <td>-0.042092693647908186_-0.635473455421564</td>\n",
       "      <td>{-0.12215383778081441, 0.8778461622191855, 0.3...</td>\n",
       "      <td>[1.0, 2.0, 0.0]</td>\n",
       "    </tr>\n",
       "    <tr>\n",
       "      <td>6</td>\n",
       "      <td>[-0.054802162756339465, -0.9411095238977125]</td>\n",
       "      <td>-0.054802162756339465_-0.9411095238977125</td>\n",
       "      <td>{-0.12215383778081441, 0.8778461622191855, 0.3...</td>\n",
       "      <td>[2.0, 1.0, 0.0]</td>\n",
       "    </tr>\n",
       "    <tr>\n",
       "      <td>9</td>\n",
       "      <td>[-0.07362435323429371, -0.6661375648946086]</td>\n",
       "      <td>-0.07362435323429371_-0.6661375648946086</td>\n",
       "      <td>{-0.12215383778081441, 0.8778461622191855, 0.3...</td>\n",
       "      <td>[2.0, 1.0, 0.0]</td>\n",
       "    </tr>\n",
       "    <tr>\n",
       "      <td>12</td>\n",
       "      <td>[-0.08694710453218589, -0.9810636811130726]</td>\n",
       "      <td>-0.08694710453218589_-0.9810636811130726</td>\n",
       "      <td>{-0.12215383778081441, 0.8778461622191855, 0.3...</td>\n",
       "      <td>[1.0, 2.0, 0.0]</td>\n",
       "    </tr>\n",
       "    <tr>\n",
       "      <td>15</td>\n",
       "      <td>[-0.10656837815444734, -1.29974162808073]</td>\n",
       "      <td>-0.10656837815444734_-1.29974162808073</td>\n",
       "      <td>{-0.12215383778081441, 0.8778461622191855, 0.3...</td>\n",
       "      <td>[1.0, 2.0, 0.0]</td>\n",
       "    </tr>\n",
       "    <tr>\n",
       "      <td>18</td>\n",
       "      <td>[-0.13256321071606192, -1.0422308309883974]</td>\n",
       "      <td>-0.13256321071606192_-1.0422308309883974</td>\n",
       "      <td>{-0.12215383778081441, 0.8778461622191855, 0.3...</td>\n",
       "      <td>[2.0, 1.0, 0.0]</td>\n",
       "    </tr>\n",
       "    <tr>\n",
       "      <td>21</td>\n",
       "      <td>[-0.15340782733582986, -1.373417153619405]</td>\n",
       "      <td>-0.15340782733582986_-1.373417153619405</td>\n",
       "      <td>{-0.12215383778081441, 0.8778461622191855, 0.3...</td>\n",
       "      <td>[1.0, 2.0, 0.0]</td>\n",
       "    </tr>\n",
       "    <tr>\n",
       "      <td>24</td>\n",
       "      <td>[0.04629876102299209, 1.1981952421426543]</td>\n",
       "      <td>0.04629876102299209_1.1981952421426543</td>\n",
       "      <td>{-0.12215383778081441, 0.8778461622191855, 0.3...</td>\n",
       "      <td>[1.0, 0.0, 2.0]</td>\n",
       "    </tr>\n",
       "    <tr>\n",
       "      <td>27</td>\n",
       "      <td>[0.07026266586584518, 1.5050219120869652]</td>\n",
       "      <td>0.07026266586584518_1.5050219120869652</td>\n",
       "      <td>{-0.12215383778081441, 0.8778461622191855, 0.3...</td>\n",
       "      <td>[1.0, 0.0, 2.0]</td>\n",
       "    </tr>\n",
       "    <tr>\n",
       "      <td>30</td>\n",
       "      <td>[0.04233885154470975, 0.5989202808300356]</td>\n",
       "      <td>0.04233885154470975_0.5989202808300356</td>\n",
       "      <td>{-0.12215383778081441, 0.8778461622191855, 0.3...</td>\n",
       "      <td>[1.0, 0.0, 2.0]</td>\n",
       "    </tr>\n",
       "    <tr>\n",
       "      <td>33</td>\n",
       "      <td>[0.061610580793693366, 0.3560017859350264]</td>\n",
       "      <td>0.061610580793693366_0.3560017859350264</td>\n",
       "      <td>{-0.12215383778081441, 0.8778461622191855, 0.3...</td>\n",
       "      <td>[1.0, 0.0, 2.0]</td>\n",
       "    </tr>\n",
       "    <tr>\n",
       "      <td>36</td>\n",
       "      <td>[0.07039791650761998, 0.3969162694946521]</td>\n",
       "      <td>0.07039791650761998_0.3969162694946521</td>\n",
       "      <td>{-0.12215383778081441, 0.8778461622191855, 0.3...</td>\n",
       "      <td>[1.0, 0.0, 2.0]</td>\n",
       "    </tr>\n",
       "    <tr>\n",
       "      <td>39</td>\n",
       "      <td>[0.15021835166057254, 0.8411925593620657]</td>\n",
       "      <td>0.15021835166057254_0.8411925593620657</td>\n",
       "      <td>{-0.12215383778081441, 0.8778461622191855, 0.3...</td>\n",
       "      <td>[1.0, 0.0, 2.0]</td>\n",
       "    </tr>\n",
       "    <tr>\n",
       "      <td>42</td>\n",
       "      <td>[0.003955319880723901, -0.28279130622413773]</td>\n",
       "      <td>0.003955319880723901_-0.28279130622413773</td>\n",
       "      <td>{-0.12215383778081441, 0.8778461622191855, 0.3...</td>\n",
       "      <td>[0.0, 2.0, 1.0]</td>\n",
       "    </tr>\n",
       "    <tr>\n",
       "      <td>45</td>\n",
       "      <td>[-0.007119426465262891, 0.010133984961571807]</td>\n",
       "      <td>-0.007119426465262891_0.010133984961571807</td>\n",
       "      <td>{-0.12215383778081441, 0.8778461622191855, 0.3...</td>\n",
       "      <td>[1.0, 1.0, 1.0]</td>\n",
       "    </tr>\n",
       "  </tbody>\n",
       "</table>\n",
       "</div>"
      ],
      "text/plain": [
       "                                            state  \\\n",
       "0     [-0.035456221985432065, -0.331823583123806]   \n",
       "3     [-0.042092693647908186, -0.635473455421564]   \n",
       "6    [-0.054802162756339465, -0.9411095238977125]   \n",
       "9     [-0.07362435323429371, -0.6661375648946086]   \n",
       "12    [-0.08694710453218589, -0.9810636811130726]   \n",
       "15      [-0.10656837815444734, -1.29974162808073]   \n",
       "18    [-0.13256321071606192, -1.0422308309883974]   \n",
       "21     [-0.15340782733582986, -1.373417153619405]   \n",
       "24      [0.04629876102299209, 1.1981952421426543]   \n",
       "27      [0.07026266586584518, 1.5050219120869652]   \n",
       "30      [0.04233885154470975, 0.5989202808300356]   \n",
       "33     [0.061610580793693366, 0.3560017859350264]   \n",
       "36      [0.07039791650761998, 0.3969162694946521]   \n",
       "39      [0.15021835166057254, 0.8411925593620657]   \n",
       "42   [0.003955319880723901, -0.28279130622413773]   \n",
       "45  [-0.007119426465262891, 0.010133984961571807]   \n",
       "\n",
       "                                     state_key  \\\n",
       "0     -0.035456221985432065_-0.331823583123806   \n",
       "3     -0.042092693647908186_-0.635473455421564   \n",
       "6    -0.054802162756339465_-0.9411095238977125   \n",
       "9     -0.07362435323429371_-0.6661375648946086   \n",
       "12    -0.08694710453218589_-0.9810636811130726   \n",
       "15      -0.10656837815444734_-1.29974162808073   \n",
       "18    -0.13256321071606192_-1.0422308309883974   \n",
       "21     -0.15340782733582986_-1.373417153619405   \n",
       "24      0.04629876102299209_1.1981952421426543   \n",
       "27      0.07026266586584518_1.5050219120869652   \n",
       "30      0.04233885154470975_0.5989202808300356   \n",
       "33     0.061610580793693366_0.3560017859350264   \n",
       "36      0.07039791650761998_0.3969162694946521   \n",
       "39      0.15021835166057254_0.8411925593620657   \n",
       "42   0.003955319880723901_-0.28279130622413773   \n",
       "45  -0.007119426465262891_0.010133984961571807   \n",
       "\n",
       "                                          unique_acts preference_label_vector  \n",
       "0   {-0.12215383778081441, 0.8778461622191855, 0.3...         [1.0, 2.0, 0.0]  \n",
       "3   {-0.12215383778081441, 0.8778461622191855, 0.3...         [1.0, 2.0, 0.0]  \n",
       "6   {-0.12215383778081441, 0.8778461622191855, 0.3...         [2.0, 1.0, 0.0]  \n",
       "9   {-0.12215383778081441, 0.8778461622191855, 0.3...         [2.0, 1.0, 0.0]  \n",
       "12  {-0.12215383778081441, 0.8778461622191855, 0.3...         [1.0, 2.0, 0.0]  \n",
       "15  {-0.12215383778081441, 0.8778461622191855, 0.3...         [1.0, 2.0, 0.0]  \n",
       "18  {-0.12215383778081441, 0.8778461622191855, 0.3...         [2.0, 1.0, 0.0]  \n",
       "21  {-0.12215383778081441, 0.8778461622191855, 0.3...         [1.0, 2.0, 0.0]  \n",
       "24  {-0.12215383778081441, 0.8778461622191855, 0.3...         [1.0, 0.0, 2.0]  \n",
       "27  {-0.12215383778081441, 0.8778461622191855, 0.3...         [1.0, 0.0, 2.0]  \n",
       "30  {-0.12215383778081441, 0.8778461622191855, 0.3...         [1.0, 0.0, 2.0]  \n",
       "33  {-0.12215383778081441, 0.8778461622191855, 0.3...         [1.0, 0.0, 2.0]  \n",
       "36  {-0.12215383778081441, 0.8778461622191855, 0.3...         [1.0, 0.0, 2.0]  \n",
       "39  {-0.12215383778081441, 0.8778461622191855, 0.3...         [1.0, 0.0, 2.0]  \n",
       "42  {-0.12215383778081441, 0.8778461622191855, 0.3...         [0.0, 2.0, 1.0]  \n",
       "45  {-0.12215383778081441, 0.8778461622191855, 0.3...         [1.0, 1.0, 1.0]  "
      ]
     },
     "execution_count": 356,
     "metadata": {},
     "output_type": "execute_result"
    }
   ],
   "source": [
    "train_df_reduced.drop_duplicates(subset=['state_key'],inplace=True)\n",
    "train_df_reduced"
   ]
  },
  {
   "cell_type": "code",
   "execution_count": null,
   "metadata": {},
   "outputs": [],
   "source": [
    "# above dataset has - state + list of actions + # preferences made for each action (at state) --> each row"
   ]
  },
  {
   "cell_type": "code",
   "execution_count": null,
   "metadata": {},
   "outputs": [],
   "source": []
  },
  {
   "cell_type": "code",
   "execution_count": null,
   "metadata": {},
   "outputs": [],
   "source": []
  },
  {
   "cell_type": "code",
   "execution_count": null,
   "metadata": {},
   "outputs": [],
   "source": []
  },
  {
   "cell_type": "code",
   "execution_count": null,
   "metadata": {},
   "outputs": [],
   "source": []
  },
  {
   "cell_type": "code",
   "execution_count": null,
   "metadata": {},
   "outputs": [],
   "source": []
  },
  {
   "cell_type": "code",
   "execution_count": null,
   "metadata": {},
   "outputs": [],
   "source": []
  },
  {
   "cell_type": "code",
   "execution_count": 85,
   "metadata": {},
   "outputs": [],
   "source": [
    "train_out_labels = torch.tensor(train_df.preference_label.values.tolist())\n",
    "#train_out_labels =[ torch.tensor(label) for label in train_df.preference_label.values.tolist()]"
   ]
  },
  {
   "cell_type": "code",
   "execution_count": 75,
   "metadata": {},
   "outputs": [],
   "source": [
    "class Model(nn.Module):\n",
    "\n",
    "    def __init__(self, num_numerical_cols, output_size, layers, p=0.4):\n",
    "        super().__init__()\n",
    "        self.batch_norm_num = nn.BatchNorm1d(num_numerical_cols)\n",
    "\n",
    "        all_layers = []\n",
    "        input_size = num_numerical_cols\n",
    "\n",
    "        for i in layers:\n",
    "            all_layers.append(nn.Linear(input_size, i))\n",
    "            all_layers.append(nn.ReLU(inplace=True))\n",
    "            all_layers.append(nn.BatchNorm1d(i))\n",
    "            all_layers.append(nn.Dropout(p))\n",
    "            input_size = i\n",
    "\n",
    "        all_layers.append(nn.Linear(layers[-1], output_size))\n",
    "\n",
    "        self.layers = nn.Sequential(*all_layers)\n",
    "\n",
    "    def forward(self, x_numerical):\n",
    "        x_numerical = self.batch_norm_num(x_numerical)\n",
    "        x = self.layers(x_numerical)\n",
    "        return x"
   ]
  },
  {
   "cell_type": "code",
   "execution_count": 89,
   "metadata": {},
   "outputs": [],
   "source": [
    "model = Model(train_samples.shape[1], 2, [200,100,50], p=0.4)"
   ]
  },
  {
   "cell_type": "code",
   "execution_count": 90,
   "metadata": {},
   "outputs": [
    {
     "name": "stdout",
     "output_type": "stream",
     "text": [
      "Model(\n",
      "  (batch_norm_num): BatchNorm1d(4, eps=1e-05, momentum=0.1, affine=True, track_running_stats=True)\n",
      "  (layers): Sequential(\n",
      "    (0): Linear(in_features=4, out_features=200, bias=True)\n",
      "    (1): ReLU(inplace=True)\n",
      "    (2): BatchNorm1d(200, eps=1e-05, momentum=0.1, affine=True, track_running_stats=True)\n",
      "    (3): Dropout(p=0.4, inplace=False)\n",
      "    (4): Linear(in_features=200, out_features=100, bias=True)\n",
      "    (5): ReLU(inplace=True)\n",
      "    (6): BatchNorm1d(100, eps=1e-05, momentum=0.1, affine=True, track_running_stats=True)\n",
      "    (7): Dropout(p=0.4, inplace=False)\n",
      "    (8): Linear(in_features=100, out_features=50, bias=True)\n",
      "    (9): ReLU(inplace=True)\n",
      "    (10): BatchNorm1d(50, eps=1e-05, momentum=0.1, affine=True, track_running_stats=True)\n",
      "    (11): Dropout(p=0.4, inplace=False)\n",
      "    (12): Linear(in_features=50, out_features=2, bias=True)\n",
      "  )\n",
      ")\n"
     ]
    }
   ],
   "source": [
    "print(model)"
   ]
  },
  {
   "cell_type": "code",
   "execution_count": 91,
   "metadata": {},
   "outputs": [],
   "source": [
    "loss_function = nn.CrossEntropyLoss()\n",
    "optimizer = torch.optim.Adam(model.parameters(), lr=0.001)"
   ]
  },
  {
   "cell_type": "code",
   "execution_count": 93,
   "metadata": {},
   "outputs": [
    {
     "name": "stdout",
     "output_type": "stream",
     "text": [
      "epoch:   1 loss: 0.86207616\n",
      "epoch:  26 loss: 0.39926690\n",
      "epoch:  51 loss: 0.33612713\n",
      "epoch:  76 loss: 0.31516284\n",
      "epoch: 101 loss: 0.30613711\n",
      "epoch: 126 loss: 0.29426527\n",
      "epoch: 151 loss: 0.28912571\n",
      "epoch: 176 loss: 0.27681562\n",
      "epoch: 201 loss: 0.28387845\n",
      "epoch: 226 loss: 0.28130651\n",
      "epoch: 251 loss: 0.27547008\n",
      "epoch: 276 loss: 0.27505055\n",
      "epoch: 300 loss: 0.2682622969\n"
     ]
    }
   ],
   "source": [
    "epochs = 300\n",
    "aggregated_losses = []\n",
    "\n",
    "for i in range(epochs):\n",
    "    i += 1\n",
    "    y_pred = model(train_samples.float())\n",
    "    single_loss = loss_function(y_pred, train_out_labels)\n",
    "    aggregated_losses.append(single_loss)\n",
    "\n",
    "    if i%25 == 1:\n",
    "        print(f'epoch: {i:3} loss: {single_loss.item():10.8f}')\n",
    "\n",
    "    optimizer.zero_grad()\n",
    "    single_loss.backward()\n",
    "    optimizer.step()\n",
    "\n",
    "print(f'epoch: {i:3} loss: {single_loss.item():10.10f}')"
   ]
  },
  {
   "cell_type": "code",
   "execution_count": 94,
   "metadata": {},
   "outputs": [
    {
     "data": {
      "image/png": "[encoded data removed]",
      "text/plain": [
       "<Figure size 432x288 with 1 Axes>"
      ]
     },
     "metadata": {
      "needs_background": "light"
     },
     "output_type": "display_data"
    }
   ],
   "source": [
    "plt.plot(range(epochs), aggregated_losses)\n",
    "plt.ylabel('Loss')\n",
    "plt.xlabel('epoch');"
   ]
  },
  {
   "cell_type": "code",
   "execution_count": null,
   "metadata": {},
   "outputs": [],
   "source": [
    "### Label Ranker ###\n",
    "\n",
    "# To-be completed after creating a training-dataset\n"
   ]
  },
  {
   "cell_type": "code",
   "execution_count": null,
   "metadata": {},
   "outputs": [],
   "source": []
  },
  {
   "cell_type": "code",
   "execution_count": null,
   "metadata": {},
   "outputs": [],
   "source": []
  },
  {
   "cell_type": "code",
   "execution_count": null,
   "metadata": {},
   "outputs": [],
   "source": []
  },
  {
   "cell_type": "code",
   "execution_count": null,
   "metadata": {},
   "outputs": [],
   "source": []
  },
  {
   "cell_type": "code",
   "execution_count": null,
   "metadata": {},
   "outputs": [],
   "source": []
  },
  {
   "cell_type": "code",
   "execution_count": 196,
   "metadata": {},
   "outputs": [
    {
     "data": {
      "text/plain": [
       "array([0.        , 0.        , 0.00736531, 0.26078459])"
      ]
     },
     "execution_count": 196,
     "metadata": {},
     "output_type": "execute_result"
    }
   ],
   "source": [
    "c_posi, c_velo = 0,0 # manually define state-values for 'cart-position' & 'cart-velocity'\n",
    "np.concatenate((np.array([c_posi,c_velo]),sample_states[0]))\n"
   ]
  },
  {
   "cell_type": "code",
   "execution_count": 203,
   "metadata": {},
   "outputs": [],
   "source": [
    "env = gym.make('CartPole-v0')\n",
    "c_posi, c_velo = 0,0 # manually define state-values for 'cart-position' & 'cart-velocity'\n",
    "env = env.unwrapped\n",
    "env = wrappers.Monitor(env, \"./gym-results\", force=True)\n",
    "env.reset()\n",
    "env.state = np.concatenate((np.array([c_posi,c_velo]),sample_states[0]))\n",
    "for _ in range(100):\n",
    "    action = env.action_space.sample()\n",
    "    observation, reward, done, info = env.step(action)\n",
    "    if done: break\n",
    "env.close()"
   ]
  },
  {
   "cell_type": "code",
   "execution_count": 204,
   "metadata": {},
   "outputs": [
    {
     "data": {
      "text/html": [
       "\n",
       "    <video width=\"360\" height=\"auto\" alt=\"test\" controls><source src=\"data:video/mp4;base64,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\" type=\"video/mp4\" /></video>"
      ],
      "text/plain": [
       "<IPython.core.display.HTML object>"
      ]
     },
     "execution_count": 204,
     "metadata": {},
     "output_type": "execute_result"
    }
   ],
   "source": [
    "video = io.open('./gym-results/openaigym.video.%s.video000000.mp4' % env.file_infix, 'r+b').read()\n",
    "encoded = base64.b64encode(video)\n",
    "HTML(data='''\n",
    "    <video width=\"360\" height=\"auto\" alt=\"test\" controls><source src=\"data:video/mp4;base64,{0}\" type=\"video/mp4\" /></video>'''\n",
    ".format(encoded.decode('ascii')))"
   ]
  },
  {
   "cell_type": "markdown",
   "metadata": {},
   "source": [
    "## APPENDIX"
   ]
  },
  {
   "cell_type": "markdown",
   "metadata": {},
   "source": [
    "### Visualize episode"
   ]
  },
  {
   "cell_type": "code",
   "execution_count": 12,
   "metadata": {},
   "outputs": [
    {
     "data": {
      "text/html": [
       "\n",
       "    <video width=\"360\" height=\"auto\" alt=\"test\" controls><source src=\"data:video/mp4;base64,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\" type=\"video/mp4\" /></video>"
      ],
      "text/plain": [
       "<IPython.core.display.HTML object>"
      ]
     },
     "execution_count": 12,
     "metadata": {},
     "output_type": "execute_result"
    }
   ],
   "source": [
    "env = gym.make('CartPole-v0')\n",
    "env = wrappers.Monitor(env, \"./gym-results\", force=True)\n",
    "env.reset()\n",
    "for _ in range(1000):\n",
    "    action = env.action_space.sample()\n",
    "    observation, reward, done, info = env.step(action)\n",
    "    if done: break\n",
    "env.close()\n",
    "\n",
    "video = io.open('./gym-results/openaigym.video.%s.video000000.mp4' % env.file_infix, 'r+b').read()\n",
    "encoded = base64.b64encode(video)\n",
    "HTML(data='''\n",
    "    <video width=\"360\" height=\"auto\" alt=\"test\" controls><source src=\"data:video/mp4;base64,{0}\" type=\"video/mp4\" /></video>'''\n",
    ".format(encoded.decode('ascii')))"
   ]
  },
  {
   "cell_type": "code",
   "execution_count": 5,
   "metadata": {},
   "outputs": [
    {
     "name": "stdout",
     "output_type": "stream",
     "text": [
      "episode 19 finished after 8 timesteps. Total reward: 8.0\n"
     ]
    },
    {
     "data": {
      "image/png": "[encoded data removed]",
      "text/plain": [
       "<Figure size 432x288 with 1 Axes>"
      ]
     },
     "metadata": {
      "needs_background": "light"
     },
     "output_type": "display_data"
    }
   ],
   "source": [
    "nb_episodes = 20\n",
    "nb_timesteps = 100\n",
    "img = plt.imshow(env.render(mode='rgb_array')) # only call this once\n",
    "\n",
    "for episode in range(nb_episodes):  # iterate over the episodes\n",
    "    state = env.reset()             # initialise the environment\n",
    "    rewards = []\n",
    "    \n",
    "    for t in range(nb_timesteps):    # iterate over time steps\n",
    "        #env.render()                 # display the environment\n",
    "        img.set_data(env.render(mode='rgb_array')) # just update the data\n",
    "        display.display(plt.gcf())\n",
    "        display.clear_output(wait=True)\n",
    "        state, reward, done, info = env.step(0)  # implement the action chosen by the policy\n",
    "        rewards.append(reward)      # add 1 to the rewards list\n",
    "        \n",
    "        if done: # the episode ends either if the pole is > 15 deg from vertical or the cart move by > 2.4 unit from the centre\n",
    "            cumulative_reward = sum(rewards)\n",
    "            print(\"episode {} finished after {} timesteps. Total reward: {}\".format(episode, t+1, cumulative_reward))  \n",
    "            break\n",
    "    \n",
    "env.close()"
   ]
  },
  {
   "cell_type": "raw",
   "metadata": {},
   "source": [
    "- useful links\n",
    "    - how to initialize to a custom state: https://stackoverflow.com/questions/57263759/how-can-i-start-the-environment-from-a-custom-initial-state-for-mountain-car"
   ]
  }
 ],
 "metadata": {
  "kernelspec": {
   "display_name": "Python 3",
   "language": "python",
   "name": "python3"
  },
  "language_info": {
   "codemirror_mode": {
    "name": "ipython",
    "version": 3
   },
   "file_extension": ".py",
   "mimetype": "text/x-python",
   "name": "python",
   "nbconvert_exporter": "python",
   "pygments_lexer": "ipython3",
   "version": "3.7.4"
  }
 },
 "nbformat": 4,
 "nbformat_minor": 4
}
