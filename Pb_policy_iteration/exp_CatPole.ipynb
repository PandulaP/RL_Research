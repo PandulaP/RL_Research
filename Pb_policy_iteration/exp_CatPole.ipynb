{
 "cells": [
  {
   "cell_type": "raw",
   "metadata": {},
   "source": [
    "- useful links\n",
    "    - how to initialize to a custom state: https://stackoverflow.com/questions/57263759/how-can-i-start-the-environment-from-a-custom-initial-state-for-mountain-car"
   ]
  },
  {
   "cell_type": "code",
   "execution_count": 2,
   "metadata": {},
   "outputs": [],
   "source": [
    "import numpy as np\n",
    "import pandas as pd\n",
    "import matplotlib.pyplot as plt\n",
    "from IPython import display\n",
    "from IPython.display import HTML\n",
    "import gym\n",
    "from gym import wrappers\n",
    "import io\n",
    "import base64"
   ]
  },
  {
   "cell_type": "markdown",
   "metadata": {},
   "source": [
    "**State observation**:\n",
    "    \n",
    "    Type: Box(4)\n",
    "\n",
    "    Num     Observation               Min                     Max\n",
    "    0       Cart Position             -4.8                    4.8\n",
    "    1       Cart Velocity             -Inf                    Inf\n",
    "    2       Pole Angle                -0.418 rad (-24 deg)    0.418 rad (24 deg)\n",
    "    3       Pole Angular Velocity     -Inf                    Inf\n",
    "\n",
    "- For this project, I will describe the state of the pendulum using only the angle and angular velocity of the pole, ignoring the position and the velocity of cart.\n",
    "\n",
    "**Actions**:\n",
    "\n",
    "    Type: Discrete(2)\n",
    "    \n",
    "    Num   Action\n",
    "    0     Push cart to the left\n",
    "    1     Push cart to the right"
   ]
  },
  {
   "cell_type": "code",
   "execution_count": 3,
   "metadata": {},
   "outputs": [
    {
     "name": "stdout",
     "output_type": "stream",
     "text": [
      "Number of actions: 2\n",
      "Observation space: Box(4,)\n",
      "Max. values of observation space:[4.8000002e+00 3.4028235e+38 4.1887903e-01 3.4028235e+38]\n",
      "Min. values of observation space:[-4.8000002e+00 -3.4028235e+38 -4.1887903e-01 -3.4028235e+38]\n"
     ]
    }
   ],
   "source": [
    "env = gym.make('CartPole-v0')\n",
    "env.reset()\n",
    "\n",
    "print(\"Number of actions: \" + str(env.action_space.n))\n",
    "print(\"Observation space: \" + str(env.observation_space))\n",
    "print(\"Max. values of observation space:\" + str(env.observation_space.high))\n",
    "print(\"Min. values of observation space:\" + str(env.observation_space.low))"
   ]
  },
  {
   "cell_type": "code",
   "execution_count": 53,
   "metadata": {},
   "outputs": [],
   "source": [
    "# helper functions\n",
    "\n",
    "def state_filter(state):\n",
    "    \"\"\" only use the angle and the angular velocity of the pole to describe the state\"\"\"\n",
    "    \n",
    "    return state[[2,3]]\n",
    "\n",
    "\n",
    "def random_action(state):\n",
    "    \"\"\" return a random action: either 0 (left) or 1 (right)\"\"\"\n",
    "    \n",
    "    action = env.action_space.sample()  \n",
    "    return action"
   ]
  },
  {
   "cell_type": "markdown",
   "metadata": {},
   "source": [
    "I generate random samples $S$ in this setting by simulating a uniform random number (max 100) of uniform random actions from the initial state. If the pendulum fell within this sequence, the procedure was repeated."
   ]
  },
  {
   "cell_type": "code",
   "execution_count": 2,
   "metadata": {},
   "outputs": [],
   "source": [
    "def generate_init_states_S():\n",
    "    \"\"\"this function returns a list of randomly generated initial states from the CartPole-v0 environment \"\"\"\n",
    "    \n",
    "    n_actions = np.random.randint(low=1, high=101)                   # how many actions to generate\n",
    "    seq_actions = np.random.randint(low=0,high=2,size=n_actions)  # random sequence of actions\n",
    "\n",
    "    init_states_S = []   # to store initial states\n",
    "\n",
    "    env = gym.make('CartPole-v0')\n",
    "    env.reset()\n",
    "    env.action_space.seed(16)\n",
    "\n",
    "    for action in seq_actions:\n",
    "\n",
    "        state, reward, done, info = env.step(action)  # implement the actions in the random sequence\n",
    "        init_states_S.append(state)                   # append the environment state to list (here, I store all 4 state observations: not only angular velocity and angle)\n",
    "\n",
    "        if done: # the episode ends either if the pole is > 15 deg from vertical or the cart move by > 2.4 unit from the centre\n",
    "            env.reset()    \n",
    "            \n",
    "    env.close()\n",
    "            \n",
    "    return init_states_S"
   ]
  },
  {
   "cell_type": "markdown",
   "metadata": {},
   "source": [
    " Generate a sequence of intial states (for $S$) and display first 10"
   ]
  },
  {
   "cell_type": "code",
   "execution_count": 3,
   "metadata": {},
   "outputs": [
    {
     "data": {
      "image/png": "[encoded data removed]",
      "text/plain": [
       "<Figure size 1440x360 with 10 Axes>"
      ]
     },
     "metadata": {
      "needs_background": "light"
     },
     "output_type": "display_data"
    }
   ],
   "source": [
    "init_states_S = generate_init_states_S() # randomly generated states initial\n",
    "\n",
    "env = gym.make('CartPole-v0') # create inv. pend environment\n",
    "env = env.unwrapped           # unwrap the environment to send custom initial states\n",
    "\n",
    "fig = plt.figure(figsize=(20,5))\n",
    "\n",
    "for i in range(10):\n",
    "    env.state = init_states_S[i]\n",
    "    fig.add_subplot(2,5,i+1)\n",
    "    plt.imshow(env.render(mode=\"rgb_array\"))\n",
    "    env.close()\n",
    "    \n",
    "plt.show()"
   ]
  },
  {
   "cell_type": "markdown",
   "metadata": {},
   "source": [
    "I partition the action space to create multiple actions, because in these cases it becomes less and less likely that a unique best actions can be found. The range of the original action set {−1, 0, 1} is partitioned equidistantly into the given number of actions:"
   ]
  },
  {
   "cell_type": "code",
   "execution_count": 38,
   "metadata": {},
   "outputs": [],
   "source": [
    "def partition_action_space(env,n_actions):\n",
    "    \"\"\"this function partitions the action space of a given environment into a given number of `n_actions`\"\"\"\n",
    "    \n",
    "    actions = np.arange(env.action_space.n)\n",
    "\n",
    "    # a uniform noise term is added to action signals to make all state transitions non-deterministic\n",
    "    part_act_space = np.linspace(actions[0],actions[-1],n_actions) + np.random.uniform(low = -.2,high=.2) \n",
    "    \n",
    "    return part_act_space                                                                                "
   ]
  },
  {
   "cell_type": "code",
   "execution_count": 39,
   "metadata": {},
   "outputs": [
    {
     "name": "stdout",
     "output_type": "stream",
     "text": [
      "Original action space: 2\n",
      "Partitioned into 3 actions: [0.04021888 0.54021888 1.04021888]\n",
      "Partitioned into 9 actions: [0.15050533 0.27550533 0.40050533 0.52550533 0.65050533 0.77550533\n",
      " 0.90050533 1.02550533 1.15050533]\n",
      "Partitioned into 17 actions: [-0.11991534 -0.05741534  0.00508466  0.06758466  0.13008466  0.19258466\n",
      "  0.25508466  0.31758466  0.38008466  0.44258466  0.50508466  0.56758466\n",
      "  0.63008466  0.69258466  0.75508466  0.81758466  0.88008466]\n"
     ]
    }
   ],
   "source": [
    "env = gym.make('CartPole-v0')\n",
    "\n",
    "print(\"Original action space: \" + str(env.action_space.n))\n",
    "print(\"Partitioned into 3 actions: \" + str(partition_action_space(env,3)))\n",
    "print(\"Partitioned into 9 actions: \" + str(partition_action_space(env,9)))\n",
    "print(\"Partitioned into 17 actions: \" + str(partition_action_space(env,17)))"
   ]
  },
  {
   "cell_type": "markdown",
   "metadata": {},
   "source": [
    "### Preference-based Approximate Policy Iteration algorithm"
   ]
  },
  {
   "cell_type": "code",
   "execution_count": 121,
   "metadata": {},
   "outputs": [],
   "source": [
    "#####################################\n",
    "### Evaluate-Preference procedure ###\n",
    "\n",
    "### Description:\n",
    "###  This is done using roll-outs\n",
    "###  At every state in the initial state set, roll-outs are generated from each action for the same policy\n",
    "###  Accumulated rewards from each roll-out from each action are used to generate preferences for every pair of actions\n",
    "###  Generated preferences are stored in the training set; training data are used to learn the LabelRanker\n",
    "\n",
    "### Functionality:\n",
    "### - INPUTS  : starting state (s), two-actions(a_k, a_j), (current) policy (\\pi), max. length of trajectoris (L)\n",
    "### - PROCESS : generate roll-out (fixed time horizon) and calculate accumulate reward\n",
    "### - OUTPUT  : compare return from each rollout: store preference info in training dataset as (s,a_k > a_j)\n",
    "\n",
    "### - Run this procedure for every action-pair at all initial-states\n",
    "\n",
    "def evaluate_preference(starting_state\n",
    "                        , action_1\n",
    "                        , action_2\n",
    "                        , policy\n",
    "                        , environment_name = 'CartPole-v0'\n",
    "                        , discount_fac = 0.99\n",
    "                        , n_rollouts = 10\n",
    "                        , max_rollout_len = 10\n",
    "                       ):\n",
    "    \n",
    "    policy = policy              # policy to follow in roll-outs\n",
    "    n_rollouts = n_rollouts      # number of roll-outs to generate\n",
    "    s_init = starting_state      # starting state\n",
    "    gamma = discount_fac         # discount factor\n",
    "\n",
    "    # dict. to store actions\n",
    "    actions = { 'one' : action_1 \n",
    "              , 'two' : action_2}    \n",
    "\n",
    "    # dict to store  rewards of roll-outs starting from each action\n",
    "    r = { 'one' : [None]*n_rollouts \n",
    "        , 'two' : [None]*n_rollouts}  \n",
    "\n",
    "    # dict to store average discounted return for for each action\n",
    "    avg_r = {}  \n",
    "\n",
    "    max_traj_len = max_rollout_len # maximum roll-out trajectory length\n",
    "\n",
    "    for action_key, action_value in actions.items():\n",
    "\n",
    "        # generate roll-outs\n",
    "        for rollout in range(n_rollouts):\n",
    "\n",
    "            env = gym.make(environment_name)\n",
    "            env = env.unwrapped\n",
    "\n",
    "            env.state = s_init  # set the starting state\n",
    "\n",
    "            # perform action action value is rounded to discretize\n",
    "            observation, reward, done, info = env.step(round(action_value)) \n",
    "\n",
    "            r[action_key][rollout] = reward # add the immediate reward of the action\n",
    "\n",
    "            traj_len = 1\n",
    "            while traj_len < max_traj_len and not done:\n",
    "\n",
    "                observation, reward, done, info = env.step(policy(observation)) ### NEED TO DEFINE A POLICY\n",
    "\n",
    "                r[action_key][rollout] += (gamma**traj_len) * reward\n",
    "\n",
    "                traj_len += 1\n",
    "\n",
    "            env.reset()\n",
    "            env.close()\n",
    "\n",
    "        # calculate average discounted return \n",
    "        avg_r[action_key]  = sum(r[action_key]) / len(r[action_key])\n",
    "\n",
    "    # return preference info. to generate training data\n",
    "    if avg_r['one'] > avg_r['two']:\n",
    "        return {'state': s_init\n",
    "               , 'a_k_prefered_a_j' : [actions['one'],actions['two']]\n",
    "               , 'preference_label' : 1}\n",
    "    elif avg_r['two'] > avg_r['one']:\n",
    "        return {'state': s_init\n",
    "               , 'a_k_prefered_a_j' : [actions['two'],actions['one']]\n",
    "               , 'preference_label' : 1}\n",
    "    else:\n",
    "        return None"
   ]
  },
  {
   "cell_type": "code",
   "execution_count": 132,
   "metadata": {},
   "outputs": [
    {
     "data": {
      "text/plain": [
       "{'state': array([ 0.00564924,  0.01084504, -0.00988976, -0.01124729]),\n",
       " 'a_k_prefered_a_j': [0, 0.51],\n",
       " 'preference_label': 1}"
      ]
     },
     "execution_count": 132,
     "metadata": {},
     "output_type": "execute_result"
    }
   ],
   "source": [
    "evaluate_preference(env.reset(),0.51,0,random_action)"
   ]
  },
  {
   "cell_type": "code",
   "execution_count": 120,
   "metadata": {},
   "outputs": [
    {
     "data": {
      "text/plain": [
       "1"
      ]
     },
     "execution_count": 120,
     "metadata": {},
     "output_type": "execute_result"
    }
   ],
   "source": [
    "round(0.51)"
   ]
  },
  {
   "cell_type": "code",
   "execution_count": null,
   "metadata": {},
   "outputs": [],
   "source": [
    "### Label Ranker ###\n",
    "\n"
   ]
  },
  {
   "cell_type": "code",
   "execution_count": null,
   "metadata": {},
   "outputs": [],
   "source": [
    "### INITIALIZATION ###\n",
    "\n",
    "# sample states\n",
    "# initial (random) policy\n",
    "# max. number of policy iterations\n",
    "# EvaluatePreference procedure"
   ]
  },
  {
   "cell_type": "code",
   "execution_count": null,
   "metadata": {},
   "outputs": [],
   "source": []
  },
  {
   "cell_type": "code",
   "execution_count": null,
   "metadata": {},
   "outputs": [],
   "source": []
  },
  {
   "cell_type": "markdown",
   "metadata": {},
   "source": [
    "## APPENDIX"
   ]
  },
  {
   "cell_type": "markdown",
   "metadata": {},
   "source": [
    "### Visualize episode"
   ]
  },
  {
   "cell_type": "code",
   "execution_count": 12,
   "metadata": {},
   "outputs": [
    {
     "data": {
      "text/html": [
       "\n",
       "    <video width=\"360\" height=\"auto\" alt=\"test\" controls><source src=\"data:video/mp4;base64,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\" type=\"video/mp4\" /></video>"
      ],
      "text/plain": [
       "<IPython.core.display.HTML object>"
      ]
     },
     "execution_count": 12,
     "metadata": {},
     "output_type": "execute_result"
    }
   ],
   "source": [
    "env = gym.make('CartPole-v0')\n",
    "env = wrappers.Monitor(env, \"./gym-results\", force=True)\n",
    "env.reset()\n",
    "for _ in range(1000):\n",
    "    action = env.action_space.sample()\n",
    "    observation, reward, done, info = env.step(action)\n",
    "    if done: break\n",
    "env.close()\n",
    "\n",
    "video = io.open('./gym-results/openaigym.video.%s.video000000.mp4' % env.file_infix, 'r+b').read()\n",
    "encoded = base64.b64encode(video)\n",
    "HTML(data='''\n",
    "    <video width=\"360\" height=\"auto\" alt=\"test\" controls><source src=\"data:video/mp4;base64,{0}\" type=\"video/mp4\" /></video>'''\n",
    ".format(encoded.decode('ascii')))"
   ]
  },
  {
   "cell_type": "code",
   "execution_count": 5,
   "metadata": {},
   "outputs": [
    {
     "name": "stdout",
     "output_type": "stream",
     "text": [
      "episode 19 finished after 8 timesteps. Total reward: 8.0\n"
     ]
    },
    {
     "data": {
      "image/png": "[encoded data removed]",
      "text/plain": [
       "<Figure size 432x288 with 1 Axes>"
      ]
     },
     "metadata": {
      "needs_background": "light"
     },
     "output_type": "display_data"
    }
   ],
   "source": [
    "nb_episodes = 20\n",
    "nb_timesteps = 100\n",
    "img = plt.imshow(env.render(mode='rgb_array')) # only call this once\n",
    "\n",
    "for episode in range(nb_episodes):  # iterate over the episodes\n",
    "    state = env.reset()             # initialise the environment\n",
    "    rewards = []\n",
    "    \n",
    "    for t in range(nb_timesteps):    # iterate over time steps\n",
    "        #env.render()                 # display the environment\n",
    "        img.set_data(env.render(mode='rgb_array')) # just update the data\n",
    "        display.display(plt.gcf())\n",
    "        display.clear_output(wait=True)\n",
    "        state, reward, done, info = env.step(0)  # implement the action chosen by the policy\n",
    "        rewards.append(reward)      # add 1 to the rewards list\n",
    "        \n",
    "        if done: # the episode ends either if the pole is > 15 deg from vertical or the cart move by > 2.4 unit from the centre\n",
    "            cumulative_reward = sum(rewards)\n",
    "            print(\"episode {} finished after {} timesteps. Total reward: {}\".format(episode, t+1, cumulative_reward))  \n",
    "            break\n",
    "    \n",
    "env.close()"
   ]
  }
 ],
 "metadata": {
  "kernelspec": {
   "display_name": "Python 3",
   "language": "python",
   "name": "python3"
  },
  "language_info": {
   "codemirror_mode": {
    "name": "ipython",
    "version": 3
   },
   "file_extension": ".py",
   "mimetype": "text/x-python",
   "name": "python",
   "nbconvert_exporter": "python",
   "pygments_lexer": "ipython3",
   "version": "3.7.4"
  }
 },
 "nbformat": 4,
 "nbformat_minor": 4
}
