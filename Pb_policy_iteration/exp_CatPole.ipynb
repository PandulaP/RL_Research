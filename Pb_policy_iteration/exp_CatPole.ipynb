{
 "cells": [
  {
   "cell_type": "markdown",
   "metadata": {},
   "source": [
    "## Preference-based Policy Iteration Algorithm - Application on Inverted Pendulum Problem\n",
    "\n",
    "This is an attempt to replicate the work done by Fürnkranz et al., (2012) in their paper \"Preference-based reinforcement learning: a formal framework and a policy iteration algorithm\""
   ]
  },
  {
   "cell_type": "markdown",
   "metadata": {},
   "source": [
    "*TO-DOs:*\n",
    ">- Run t-tests for pair-wise comparisons (only add preferences for significantly different pairs) -> might help to converge. -->\n",
    "\n",
    "*ISSUES/UNCLEAR POINTS:*\n",
    ">- how to handle the two state values that were not considered? (cart-position and velocity)\n",
    "- how the NN (approximator) actually makes the prediction?\n",
    "- how does the environment execute actions in the extended action space?"
   ]
  },
  {
   "cell_type": "code",
   "execution_count": 1,
   "metadata": {},
   "outputs": [],
   "source": [
    "import numpy as np\n",
    "import pandas as pd\n",
    "\n",
    "import torch\n",
    "import torch.nn as nn\n",
    "import torch.nn.functional as F\n",
    "from torch.utils.data import TensorDataset, DataLoader\n",
    "\n",
    "import matplotlib.pyplot as plt\n",
    "from IPython import display\n",
    "from IPython.display import HTML\n",
    "\n",
    "import gym\n",
    "from gym import wrappers\n",
    "\n",
    "import io\n",
    "import base64\n",
    "import itertools\n",
    "import tqdm\n",
    "\n",
    "from scipy.stats import rankdata as rd\n",
    "from scipy import stats"
   ]
  },
  {
   "cell_type": "markdown",
   "metadata": {},
   "source": [
    "**State observation**:\n",
    "    \n",
    "    Type: Box(4)\n",
    "\n",
    "    Num     Observation               Min                     Max\n",
    "    0       Cart Position             -4.8                    4.8\n",
    "    1       Cart Velocity             -Inf                    Inf\n",
    "    2       Pole Angle                -0.418 rad (-24 deg)    0.418 rad (24 deg)\n",
    "    3       Pole Angular Velocity     -Inf                    Inf\n",
    "\n",
    "- For this project, I will describe the state of the pendulum using only the angle and angular velocity of the pole, ignoring the position and the velocity of cart.\n",
    "\n",
    "**Actions**:\n",
    "\n",
    "    Type: Discrete(2)\n",
    "    \n",
    "    Num   Action\n",
    "    0     Push cart to the left\n",
    "    1     Push cart to the right"
   ]
  },
  {
   "cell_type": "code",
   "execution_count": 2,
   "metadata": {},
   "outputs": [
    {
     "name": "stdout",
     "output_type": "stream",
     "text": [
      "Number of actions: 2\n",
      "Observation space: Box(4,)\n",
      "Max. values of observation space:[4.8000002e+00 3.4028235e+38 4.1887903e-01 3.4028235e+38]\n",
      "Min. values of observation space:[-4.8000002e+00 -3.4028235e+38 -4.1887903e-01 -3.4028235e+38]\n"
     ]
    }
   ],
   "source": [
    "env = gym.make('CartPole-v0')\n",
    "env.reset()\n",
    "\n",
    "print(\"Number of actions: \" + str(env.action_space.n))\n",
    "print(\"Observation space: \" + str(env.observation_space))\n",
    "print(\"Max. values of observation space:\" + str(env.observation_space.high))\n",
    "print(\"Min. values of observation space:\" + str(env.observation_space.low))"
   ]
  },
  {
   "cell_type": "code",
   "execution_count": 2,
   "metadata": {},
   "outputs": [],
   "source": [
    "# helper functions\n",
    "\n",
    "def state_filter(state):\n",
    "    \"\"\" only use the angle and the angular velocity of the pole to describe the state\"\"\"\n",
    "    \n",
    "    return state[[2,3]]\n",
    "\n",
    "\n",
    "def random_action(observation, model=None):\n",
    "    \"\"\" return a random action: either 0 (left) or 1 (right)\"\"\"\n",
    "    \n",
    "    action = env.action_space.sample()  \n",
    "    return action"
   ]
  },
  {
   "cell_type": "markdown",
   "metadata": {},
   "source": [
    "I generate random samples $S$ in this setting by simulating a uniform random number (max 100) of uniform random actions from the initial state. If the pendulum fell within this sequence, the procedure was repeated."
   ]
  },
  {
   "cell_type": "code",
   "execution_count": 3,
   "metadata": {},
   "outputs": [],
   "source": [
    "def generate_init_states_S(seed, filter_state=True):\n",
    "    \"\"\"this function returns a list of randomly generated initial states from the CartPole-v0 environment \"\"\"\n",
    "    \n",
    "    np.random.seed(seed)\n",
    "    \n",
    "    n_actions = np.random.randint(low=1, high=101)                # how many actions to generate\n",
    "    seq_actions = np.random.randint(low=0,high=2,size=n_actions)  # random sequence of actions\n",
    "\n",
    "    init_states_S = []   # to store initial states\n",
    "\n",
    "    env = gym.make('CartPole-v0')\n",
    "    env.reset()\n",
    "\n",
    "    for action in seq_actions:\n",
    "\n",
    "        state, reward, done, info = env.step(action)  # implement the actions in the random sequence\n",
    "        \n",
    "        if filter_state:\n",
    "            init_states_S.append(state_filter(state)) # append the environment state to list (only angular velocity and angle)\n",
    "        else:\n",
    "            init_states_S.append(state) # all 4 state observations\n",
    "            \n",
    "        if done: # the episode ends either if the pole is > 15 deg from vertical or the cart move by > 2.4 unit from the centre\n",
    "            env.reset()    \n",
    "            \n",
    "    env.close()\n",
    "            \n",
    "    return init_states_S"
   ]
  },
  {
   "cell_type": "markdown",
   "metadata": {},
   "source": [
    " Generate a sequence of intial states (for $S$) and display first 10"
   ]
  },
  {
   "cell_type": "code",
   "execution_count": 4,
   "metadata": {},
   "outputs": [
    {
     "data": {
      "image/png": "[encoded data removed]",
      "text/plain": [
       "<Figure size 1440x360 with 10 Axes>"
      ]
     },
     "metadata": {
      "needs_background": "light"
     },
     "output_type": "display_data"
    }
   ],
   "source": [
    "init_states_S = generate_init_states_S(16) # randomly generated states initial\n",
    "\n",
    "env = gym.make('CartPole-v0') # create inv. pend environment\n",
    "env = env.unwrapped           # unwrap the environment to send custom initial states\n",
    "fig = plt.figure(figsize=(20,5))\n",
    "\n",
    "for i in range(10):\n",
    "    env.state = np.concatenate((np.array([0.0,0.0]),init_states_S[i])) # manually adding cart-posi & cart-velocity\n",
    "    fig.add_subplot(2,5,i+1)\n",
    "    plt.imshow(env.render(mode=\"rgb_array\"))\n",
    "    env.close()\n",
    "    \n",
    "plt.show()"
   ]
  },
  {
   "cell_type": "markdown",
   "metadata": {},
   "source": [
    "I partition the action space to create multiple actions, because in these cases it becomes less and less likely that a unique best actions can be found. The range of the original action set {0, 1} is partitioned equidistantly into the given number of actions:"
   ]
  },
  {
   "cell_type": "code",
   "execution_count": 4,
   "metadata": {},
   "outputs": [],
   "source": [
    "def partition_action_space(env,n_actions):\n",
    "    \"\"\"this function partitions the action space of a given environment into a given number of `n_actions`\"\"\"\n",
    "    \n",
    "    actions = np.arange(env.action_space.n)\n",
    "\n",
    "    # a uniform noise term is added to action signals to make all state transitions non-deterministic\n",
    "    part_act_space = np.linspace(actions[0],actions[-1],n_actions) + np.random.uniform(low = -.2,high=.2) \n",
    "    \n",
    "    return part_act_space                                                                                "
   ]
  },
  {
   "cell_type": "code",
   "execution_count": 7,
   "metadata": {},
   "outputs": [
    {
     "name": "stdout",
     "output_type": "stream",
     "text": [
      "Original action space: 2\n",
      "Partitioned into 3 actions: [0.12849278 0.62849278 1.12849278]\n",
      "Partitioned into 9 actions: [-0.1763552 -0.0513552  0.0736448  0.1986448  0.3236448  0.4486448\n",
      "  0.5736448  0.6986448  0.8236448]\n",
      "Partitioned into 12 actions: [-0.1201935  -0.02928441  0.06162468  0.15253378  0.24344287  0.33435196\n",
      "  0.42526105  0.51617014  0.60707923  0.69798832  0.78889741  0.8798065 ]\n"
     ]
    }
   ],
   "source": [
    "env = gym.make('CartPole-v0')\n",
    "\n",
    "print(\"Original action space: \" + str(env.action_space.n))\n",
    "print(\"Partitioned into 3 actions: \" + str(partition_action_space(env,3)))\n",
    "print(\"Partitioned into 9 actions: \" + str(partition_action_space(env,9)))\n",
    "print(\"Partitioned into 12 actions: \" + str(partition_action_space(env,12)))"
   ]
  },
  {
   "cell_type": "markdown",
   "metadata": {},
   "source": [
    "### Preference-based Approximate Policy Iteration algorithm"
   ]
  },
  {
   "cell_type": "code",
   "execution_count": 5,
   "metadata": {},
   "outputs": [],
   "source": [
    "#####################################\n",
    "### Evaluate-Preference procedure ###\n",
    "\n",
    "### Description:\n",
    "###  This is done using roll-outs\n",
    "###  At every state in the initial state set, roll-outs are generated from each action for the same policy\n",
    "###  Accumulated rewards from each roll-out from each action are used to generate preferences for every pair of actions\n",
    "###  Generated preferences are stored in the training set; training data are used to learn the LabelRanker\n",
    "\n",
    "### Functionality:\n",
    "### - INPUTS  : starting state (s), two-actions(a_k, a_j), (current) policy (\\pi), max. length of trajectoris (L)\n",
    "### - PROCESS : generate roll-out (fixed time horizon) and calculate accumulate reward\n",
    "### - OUTPUT  : compare return from each rollout: store preference info in training dataset as (s,a_k > a_j)\n",
    "\n",
    "### - Run this procedure for every action-pair at all initial-states\n",
    "\n",
    "def evaluate_preference(starting_state\n",
    "                        , action_1\n",
    "                        , action_2\n",
    "                        , policy\n",
    "                        , environment_name = 'CartPole-v0'\n",
    "                        , discount_fac = 1\n",
    "                        , n_rollouts = 20\n",
    "                        , max_rollout_len = 1500\n",
    "                        , label_ranker=False\n",
    "                        , p_sig = 0.05\n",
    "                       ):\n",
    "    \n",
    "    \n",
    "    policy = policy              # policy to follow in roll-outs\n",
    "    n_rollouts = n_rollouts      # number of roll-outs to generate\n",
    "    gamma = discount_fac         # discount factor\n",
    "\n",
    "    # state is 4 dimensional by default: if only 2 give, has to expand to 4 dimensions\n",
    "    if len(starting_state) == 2:\n",
    "        # manually define state-values for 'cart-position' & 'cart-velocity'\n",
    "        cart_posi, cart_velo = 0,0   \n",
    "        s_init = np.concatenate((np.array([cart_posi,cart_velo]),starting_state))\n",
    "    else:\n",
    "        s_init = starting_state\n",
    "        \n",
    "    # dict. to store actions\n",
    "    actions = { 'one' : action_1 \n",
    "              , 'two' : action_2}    \n",
    "\n",
    "    # dict to store  rewards of roll-outs starting from each action\n",
    "    r = { 'one' : [None]*n_rollouts \n",
    "        , 'two' : [None]*n_rollouts}  \n",
    "\n",
    "    # dict to store average discounted return for for each action\n",
    "    avg_r = {}  \n",
    "\n",
    "    max_traj_len = max_rollout_len # maximum roll-out trajectory length\n",
    "\n",
    "    for action_key, action_value in actions.items():\n",
    "\n",
    "        # generate roll-outs\n",
    "        for rollout in range(n_rollouts):\n",
    "\n",
    "            env = gym.make(environment_name)\n",
    "            env = env.unwrapped\n",
    "            \n",
    "            rollout_reward = []\n",
    "\n",
    "            env.state = s_init  # set the starting state\n",
    "\n",
    "            # absolute of the rounded action value is applied in case action space is partitioned\n",
    "            observation, reward, done, info = env.step(int(abs(round(action_value))))\n",
    "            hist = observation\n",
    "            \n",
    "            r[action_key][rollout] = reward # add the immediate reward of the action\n",
    "\n",
    "\n",
    "            traj_len = 1\n",
    "            while traj_len < max_traj_len and not done:\n",
    "                \n",
    "                # select policy: random vs label-ranker\n",
    "                if label_ranker:\n",
    "                    observation, reward, done, info = env.step(policy.label_ranking_policy(observation)) # label-ranker\n",
    "                    hist = observation\n",
    "                else:\n",
    "                    observation, reward, done, info = env.step(policy(observation)) #random-policy\n",
    "\n",
    "                r[action_key][rollout] += (gamma**traj_len) * reward\n",
    "\n",
    "                traj_len += 1\n",
    "\n",
    "            #env.reset()\n",
    "            env.close()\n",
    "            del env\n",
    "\n",
    "        # calculate average discounted return \n",
    "        avg_r[action_key]  = sum(r[action_key]) / len(r[action_key])\n",
    "\n",
    "    ### TO-DO ###\n",
    "    # RUN T-TEST AND RETURN ACTION PREFERENCE ONLY IF THERE IS A SIGNIFICANT DIFFERENCE\n",
    "    \n",
    "    t_val, p_val = stats.ttest_rel(r['one'],r['two'])\n",
    "    \n",
    "    # return preference info. to generate training data\n",
    "    if (avg_r['one'] > avg_r['two']) and (p_val < p_sig):\n",
    "        return {'state': s_init[[2,3]] if len(s_init)>2 else s_init # only use the angel and velocity of pendulum for state\n",
    "               , 'a_j' : actions['one']\n",
    "               , 'a_k' : actions['two']\n",
    "               , 'preference_label' : 1}\n",
    "    elif(avg_r['one'] < avg_r['two']) and (p_val < p_sig):\n",
    "        return {'state': s_init[[2,3]] if len(s_init)>2 else s_init # only use the angel and velocity of pendulum for state\n",
    "               , 'a_j' : actions['one']\n",
    "               , 'a_k' : actions['two']\n",
    "               , 'preference_label' : 0}\n",
    "    else:\n",
    "        return {'state': np.nan\n",
    "               , 'a_j' : np.nan\n",
    "               , 'a_k' : np.nan\n",
    "               , 'preference_label' : np.nan}\n",
    "    \n",
    "   "
   ]
  },
  {
   "cell_type": "raw",
   "metadata": {},
   "source": [
    "evaluate_preference(env.reset(),0.3,0.6,random_action,label_ranker=False)"
   ]
  },
  {
   "cell_type": "code",
   "execution_count": 7,
   "metadata": {},
   "outputs": [],
   "source": [
    "############################################\n",
    "### LABEL-RANKER MODEL-TRAINING procedure ###\n",
    "\n",
    "### Description:\n",
    "###  XXX..\n",
    "\n",
    "### Functionality:\n",
    "### - INPUTS  : Xxx\n",
    "### - PROCESS : Xxx\n",
    "### - OUTPUT  : Xxx\n",
    "\n",
    "### FUNCTION TO CREATE TRAINING DATASET + MODEL + RETURN THE TRAINED MODEL ###\n",
    "\n",
    "def train_model(train_data\n",
    "                , batch_s = 3\n",
    "                , mod_layers = [100,500,50]\n",
    "                , n_epochs = 300):\n",
    "\n",
    "    ###########################################\n",
    "    ###### CONSTRUCTING TRAINING-DATASET ######\n",
    "        \n",
    "        \n",
    "    # create a training dataframe\n",
    "    train_df = pd.DataFrame(train_data).dropna() # remove np.nan rows while creating dataframe\n",
    "\n",
    "    # create a key for each state\n",
    "    train_df.loc[:, 'state_key'] = train_df.state.apply(lambda x: x[0].astype(str)+\"_\"+x[1].astype(str))\n",
    "\n",
    "    # drop all states (rows) which does not include any preferred action\n",
    "    temp_df1 = train_df.groupby('state_key').preference_label.sum().reset_index()\n",
    "    temp_df1 = temp_df1.loc[temp_df1.preference_label>0] # pick the states that have at least one prefered action\n",
    "    train_df = train_df.merge(right = temp_df1.loc[:,'state_key']\n",
    "                              , right_on = 'state_key'\n",
    "                              , left_on = 'state_key'\n",
    "                              , how = 'right')\n",
    "\n",
    "    ## create a single column to include the set of all actions executed at each state\n",
    "    temp_df1 = train_df.groupby('state_key')['a_j'].unique().reset_index()\n",
    "    temp_df2 = train_df.groupby('state_key')['a_k'].unique().reset_index()\n",
    "    temp_df3 = temp_df1.merge(right=temp_df2\n",
    "                              , right_on = 'state_key'\n",
    "                              , left_on = 'state_key'\n",
    "                              , how = 'inner')\n",
    "    temp_df3.loc[:,'unique_acts'] = temp_df3.apply(lambda row: set(list(row['a_j']) + list(row['a_k'])) ,axis=1)\n",
    "\n",
    "    # add the unique-action column to train dataset\n",
    "    train_df = train_df.merge(right = temp_df3.loc[:,['state_key', 'unique_acts']]\n",
    "                  , right_on =  'state_key'\n",
    "                  , left_on = 'state_key'\n",
    "                  , how = 'left')\n",
    "\n",
    "    # create a 'prefered-action' value for each state, action-preference pair\n",
    "    train_df.loc[:,'prefered_action'] = train_df.apply(lambda row: row['a_j'] if row['preference_label'] == 1 else row['a_k']  ,axis=1)\n",
    "\n",
    "    # count the number of times each action is prefered at a state\n",
    "    action_preference_counts = train_df.groupby('state_key').prefered_action.value_counts().unstack()\n",
    "    action_preference_counts.replace(np.nan,0,inplace=True) # if an action is not preferred every, set it to '0'\n",
    "\n",
    "    # convert the action-preference-counts to a vector and add as a new column (to be used as training labels)\n",
    "    action_preference_counts.loc[:, 'preference_label_vector'] = action_preference_counts.iloc[:,0:].values.tolist()\n",
    "\n",
    "    # add preference label vector to training dataset\n",
    "    train_df = train_df.merge(right = action_preference_counts.loc[:,['preference_label_vector']]\n",
    "                              , right_index= True\n",
    "                              , left_on = 'state_key'\n",
    "                              , how = 'left')\n",
    "\n",
    "    # create the reduced training dataset (drop unnecessary columns + duplicate rows: which have data for same state)\n",
    "    train_df_reduced = train_df.loc[:,['state', 'state_key', 'unique_acts', 'preference_label_vector']]\n",
    "    train_df_reduced.drop_duplicates(subset=['state_key'],inplace=True)\n",
    "\n",
    "\n",
    "\n",
    "    ###### PREPARING TRAINING-DATA TENSORS (FOR MODEL) ######\n",
    "\n",
    "    # normalizing the target (preference label) vectors\n",
    "    output_labels_temp = np.array(train_df_reduced.preference_label_vector.tolist())\n",
    "\n",
    "    # to handle 1-D output label vector\n",
    "    if len(output_labels_temp.shape) == 1:\n",
    "        output_labels_normalized = output_labels_temp\n",
    "    else:\n",
    "        row_sums = output_labels_temp.sum(axis=1)\n",
    "        output_labels_normalized = output_labels_temp / row_sums[:, np.newaxis]\n",
    "\n",
    "    # creating training data tensors\n",
    "    input_states  = torch.from_numpy(np.array(train_df_reduced.state.apply(lambda x: x.astype(float)).tolist()))\n",
    "    output_labels = torch.from_numpy(output_labels_normalized)\n",
    "\n",
    "    # create TensorDataset\n",
    "    train_ds = TensorDataset(input_states , output_labels)\n",
    "\n",
    "    # define data loader\n",
    "    batch_size = batch_s\n",
    "    train_dl = DataLoader(train_ds, batch_size, shuffle=True, drop_last=True)\n",
    "\n",
    "\n",
    "    ###### CREATING NEURAL NETWORK FUNCTION APPROXIMATOR (MODEL) ######\n",
    "\n",
    "    class Model(nn.Module):\n",
    "\n",
    "        def __init__(self, input_state_len, output_label_len, layers, p=0.4):\n",
    "\n",
    "            super().__init__()\n",
    "            self.batch_norm_num = nn.BatchNorm1d(input_state_len)\n",
    "\n",
    "            all_layers = []\n",
    "            input_size = input_state_len\n",
    "\n",
    "            # create layers\n",
    "            for layer_dim in layers:\n",
    "                all_layers.append(nn.Linear(input_size, layer_dim))\n",
    "                all_layers.append(nn.ReLU(inplace=True))\n",
    "                all_layers.append(nn.BatchNorm1d(layer_dim))\n",
    "                all_layers.append(nn.Dropout(p))\n",
    "                input_size = layer_dim\n",
    "\n",
    "            all_layers.append(nn.Linear(layers[-1], output_label_len))\n",
    "\n",
    "            self.layers = nn.Sequential(*all_layers)\n",
    "\n",
    "        def forward(self, state_vec):\n",
    "            x = self.batch_norm_num(state_vec)\n",
    "            x = self.layers(x)\n",
    "            return x\n",
    "\n",
    "    # define model instance\n",
    "    model = Model(input_states.shape[1], output_labels.shape[1], mod_layers, p=0.4)\n",
    "\n",
    "    opt = torch.optim.SGD(model.parameters(), lr = 1e-1)\n",
    "    loss_fn = F.mse_loss\n",
    "\n",
    "\n",
    "    ###### DEFINING FIT-FUNCTION TO TRAIN THE MODEL ######\n",
    "\n",
    "#     print('Training model...\\n',end='\\r')\n",
    "\n",
    "    # to store losses\n",
    "    aggregated_losses = []\n",
    "\n",
    "    # Define a utility function to train the model\n",
    "    def fit(num_epochs, model, loss_fn, opt):\n",
    "\n",
    "        for epoch in range(num_epochs):\n",
    "            for xb,yb in train_dl:\n",
    "\n",
    "                # Generate predictions\n",
    "                pred = model(xb.float())\n",
    "                loss = loss_fn(pred, yb.float())            \n",
    "\n",
    "                # Perform gradient descent\n",
    "                loss.backward()\n",
    "                opt.step()\n",
    "                opt.zero_grad()\n",
    "\n",
    "            aggregated_losses.append(loss_fn(model(input_states.float()), output_labels.float()).detach().numpy())\n",
    "\n",
    "#             if epoch%100 == 0:\n",
    "#                     print(f'epoch: {epoch:3} loss: {loss.item():10.8f}')\n",
    "#       print('\\nTraining loss: ', loss_fn(model(input_states.float()), output_labels.float()).detach().numpy(),'\\n', end = '\\r')\n",
    "\n",
    "\n",
    "    ###### TRAINING-DATA THE MODEL ######\n",
    "\n",
    "    epochs = n_epochs\n",
    "    fit(epochs, model, loss_fn, opt)\n",
    "    \n",
    "    \n",
    "    ###### SAVE MODEL (for inference) ######\n",
    "    \n",
    "    PATH = \"./models/cart_pole_pbpi_model.pt\" # path\n",
    "    torch.save(model.state_dict(), PATH) # save\n",
    "\n",
    "#     # plotting model loss\n",
    "#     plt.plot(range(epochs), aggregated_losses)\n",
    "#     plt.ylabel('Loss')\n",
    "#     plt.xlabel('epoch')\n",
    "#     plt.show()\n",
    "\n",
    "    # set the model to evaluation mode\n",
    "    model.eval()\n",
    "    \n",
    "    #return the model\n",
    "    return model"
   ]
  },
  {
   "cell_type": "raw",
   "metadata": {},
   "source": [
    "model = train_model(train_data)\n",
    "\n",
    "# making a sample prediction\n",
    "with torch.no_grad():\n",
    "    preds = model(input_states.float())\n",
    "    \n",
    "a = np.random.randint(10)\n",
    "print(f' - Prediction: {preds[a]}\\n - Target: {output_labels[a]}')\n",
    "# No need to worry about absolute values: only interested in the rankings"
   ]
  },
  {
   "cell_type": "code",
   "execution_count": 8,
   "metadata": {},
   "outputs": [],
   "source": [
    "#############################\n",
    "### LABEL RANKER (POLICY) ###\n",
    "\n",
    "# This takes the trained model as an input\n",
    "# When a new state is given, the model makes a prediction for each action\n",
    "# This function then rank the actions based on the prediction\n",
    "# I select the Highest ranked (most prefered action) 90% time and second most preferred action 10% time\n",
    "\n",
    "class Policy():\n",
    "    \n",
    "    def __init__(self, action_space, model):\n",
    "        self.action_space = action_space\n",
    "        self.model = model\n",
    "        \n",
    "    def label_ranking_policy(self,obs):\n",
    "\n",
    "        state_obs = obs[[2,3]] # only select angel and angular velo. of pendulum from state vector\n",
    "        state_obs = state_obs.reshape(-1,state_obs.shape[0]) # reshape to be a 2D array\n",
    "        state_obs = torch.from_numpy(state_obs) # convert to a tensor\n",
    "\n",
    "        # make the prediction for actions\n",
    "        with torch.no_grad():\n",
    "            preds = self.model(state_obs.float()) \n",
    "\n",
    "        # rank the indexes of actions (from highest ranked/preferred action to lowest)\n",
    "        ranked_action_idx = (-rd(preds.detach().numpy())).argsort()[:preds.shape[1]]\n",
    "\n",
    "        # return the action value\n",
    "        remain_probs = .1/len(ranked_action_idx[2:])\n",
    "        n_remain_actions = ranked_action_idx.shape[0]-2\n",
    "\n",
    "        # - select first two (highest preferred actions) 80% and 10% of the time\n",
    "        # - select one of the remaining actions 10% time\n",
    "        action = np.random.choice(ranked_action_idx,1 , p=[0.8, 0.1] + list(np.repeat(remain_probs,n_remain_actions)))[0]\n",
    "        \n",
    "        # when action space is divided, return the correct action\n",
    "        return int(abs(round(self.action_space[int(action)])))"
   ]
  },
  {
   "cell_type": "raw",
   "metadata": {},
   "source": [
    "observation = env.reset()\n",
    "act_space = partition_action_space(env,4)\n",
    "\n",
    "policy = Policy(act_space,model)\n",
    "\n",
    "policy.label_ranking_policy(observation)"
   ]
  },
  {
   "cell_type": "code",
   "execution_count": 9,
   "metadata": {},
   "outputs": [
    {
     "name": "stdout",
     "output_type": "stream",
     "text": [
      "\n",
      "Number of initial states: 100\n",
      "\n",
      "\n",
      "Number of actions (per states): 3\n",
      "\n"
     ]
    },
    {
     "name": "stderr",
     "output_type": "stream",
     "text": [
      "  0%|                                                                                          | 0/100 [00:00<?, ?it/s]C:\\ProgramData\\Anaconda3\\lib\\site-packages\\scipy\\stats\\_distn_infrastructure.py:901: RuntimeWarning: invalid value encountered in greater\n",
      "  return (a < x) & (x < b)\n",
      "C:\\ProgramData\\Anaconda3\\lib\\site-packages\\scipy\\stats\\_distn_infrastructure.py:901: RuntimeWarning: invalid value encountered in less\n",
      "  return (a < x) & (x < b)\n",
      "C:\\ProgramData\\Anaconda3\\lib\\site-packages\\scipy\\stats\\_distn_infrastructure.py:1892: RuntimeWarning: invalid value encountered in less_equal\n",
      "  cond2 = cond0 & (x <= _a)\n"
     ]
    },
    {
     "name": "stdout",
     "output_type": "stream",
     "text": [
      "Average reward for 5 episodes: 11.2\r"
     ]
    },
    {
     "name": "stderr",
     "output_type": "stream",
     "text": [
      "  1%|▊                                                                                 | 1/100 [00:27<44:50, 27.17s/it]"
     ]
    },
    {
     "ename": "ValueError",
     "evalue": "Must have equal len keys and value when setting with an ndarray",
     "output_type": "error",
     "traceback": [
      "\u001b[1;31m---------------------------------------------------------------------------\u001b[0m",
      "\u001b[1;31mValueError\u001b[0m                                Traceback (most recent call last)",
      "\u001b[1;32m<ipython-input-9-381902161b80>\u001b[0m in \u001b[0;36m<module>\u001b[1;34m\u001b[0m\n\u001b[0;32m     58\u001b[0m \u001b[1;33m\u001b[0m\u001b[0m\n\u001b[0;32m     59\u001b[0m     \u001b[1;31m# process training data and learn a model\u001b[0m\u001b[1;33m\u001b[0m\u001b[1;33m\u001b[0m\u001b[1;33m\u001b[0m\u001b[0m\n\u001b[1;32m---> 60\u001b[1;33m     \u001b[0mmodel\u001b[0m \u001b[1;33m=\u001b[0m \u001b[0mtrain_model\u001b[0m\u001b[1;33m(\u001b[0m\u001b[0mtrain_data\u001b[0m\u001b[1;33m)\u001b[0m\u001b[1;33m\u001b[0m\u001b[1;33m\u001b[0m\u001b[0m\n\u001b[0m\u001b[0;32m     61\u001b[0m \u001b[1;33m\u001b[0m\u001b[0m\n\u001b[0;32m     62\u001b[0m     \u001b[1;31m# derive a new policy using trained model\u001b[0m\u001b[1;33m\u001b[0m\u001b[1;33m\u001b[0m\u001b[1;33m\u001b[0m\u001b[0m\n",
      "\u001b[1;32m<ipython-input-7-ee58e5f82738>\u001b[0m in \u001b[0;36mtrain_model\u001b[1;34m(train_data, batch_s, mod_layers, n_epochs)\u001b[0m\n\u001b[0;32m     58\u001b[0m \u001b[1;33m\u001b[0m\u001b[0m\n\u001b[0;32m     59\u001b[0m     \u001b[1;31m# convert the action-preference-counts to a vector and add as a new column (to be used as training labels)\u001b[0m\u001b[1;33m\u001b[0m\u001b[1;33m\u001b[0m\u001b[1;33m\u001b[0m\u001b[0m\n\u001b[1;32m---> 60\u001b[1;33m     \u001b[0maction_preference_counts\u001b[0m\u001b[1;33m.\u001b[0m\u001b[0mloc\u001b[0m\u001b[1;33m[\u001b[0m\u001b[1;33m:\u001b[0m\u001b[1;33m,\u001b[0m \u001b[1;34m'preference_label_vector'\u001b[0m\u001b[1;33m]\u001b[0m \u001b[1;33m=\u001b[0m \u001b[0maction_preference_counts\u001b[0m\u001b[1;33m.\u001b[0m\u001b[0miloc\u001b[0m\u001b[1;33m[\u001b[0m\u001b[1;33m:\u001b[0m\u001b[1;33m,\u001b[0m\u001b[1;36m0\u001b[0m\u001b[1;33m:\u001b[0m\u001b[1;33m]\u001b[0m\u001b[1;33m.\u001b[0m\u001b[0mvalues\u001b[0m\u001b[1;33m.\u001b[0m\u001b[0mtolist\u001b[0m\u001b[1;33m(\u001b[0m\u001b[1;33m)\u001b[0m\u001b[1;33m\u001b[0m\u001b[1;33m\u001b[0m\u001b[0m\n\u001b[0m\u001b[0;32m     61\u001b[0m \u001b[1;33m\u001b[0m\u001b[0m\n\u001b[0;32m     62\u001b[0m     \u001b[1;31m# add preference label vector to training dataset\u001b[0m\u001b[1;33m\u001b[0m\u001b[1;33m\u001b[0m\u001b[1;33m\u001b[0m\u001b[0m\n",
      "\u001b[1;32mC:\\ProgramData\\Anaconda3\\lib\\site-packages\\pandas\\core\\indexing.py\u001b[0m in \u001b[0;36m__setitem__\u001b[1;34m(self, key, value)\u001b[0m\n\u001b[0;32m    203\u001b[0m             \u001b[0mkey\u001b[0m \u001b[1;33m=\u001b[0m \u001b[0mcom\u001b[0m\u001b[1;33m.\u001b[0m\u001b[0mapply_if_callable\u001b[0m\u001b[1;33m(\u001b[0m\u001b[0mkey\u001b[0m\u001b[1;33m,\u001b[0m \u001b[0mself\u001b[0m\u001b[1;33m.\u001b[0m\u001b[0mobj\u001b[0m\u001b[1;33m)\u001b[0m\u001b[1;33m\u001b[0m\u001b[1;33m\u001b[0m\u001b[0m\n\u001b[0;32m    204\u001b[0m         \u001b[0mindexer\u001b[0m \u001b[1;33m=\u001b[0m \u001b[0mself\u001b[0m\u001b[1;33m.\u001b[0m\u001b[0m_get_setitem_indexer\u001b[0m\u001b[1;33m(\u001b[0m\u001b[0mkey\u001b[0m\u001b[1;33m)\u001b[0m\u001b[1;33m\u001b[0m\u001b[1;33m\u001b[0m\u001b[0m\n\u001b[1;32m--> 205\u001b[1;33m         \u001b[0mself\u001b[0m\u001b[1;33m.\u001b[0m\u001b[0m_setitem_with_indexer\u001b[0m\u001b[1;33m(\u001b[0m\u001b[0mindexer\u001b[0m\u001b[1;33m,\u001b[0m \u001b[0mvalue\u001b[0m\u001b[1;33m)\u001b[0m\u001b[1;33m\u001b[0m\u001b[1;33m\u001b[0m\u001b[0m\n\u001b[0m\u001b[0;32m    206\u001b[0m \u001b[1;33m\u001b[0m\u001b[0m\n\u001b[0;32m    207\u001b[0m     \u001b[1;32mdef\u001b[0m \u001b[0m_validate_key\u001b[0m\u001b[1;33m(\u001b[0m\u001b[0mself\u001b[0m\u001b[1;33m,\u001b[0m \u001b[0mkey\u001b[0m\u001b[1;33m,\u001b[0m \u001b[0maxis\u001b[0m\u001b[1;33m:\u001b[0m \u001b[0mint\u001b[0m\u001b[1;33m)\u001b[0m\u001b[1;33m:\u001b[0m\u001b[1;33m\u001b[0m\u001b[1;33m\u001b[0m\u001b[0m\n",
      "\u001b[1;32mC:\\ProgramData\\Anaconda3\\lib\\site-packages\\pandas\\core\\indexing.py\u001b[0m in \u001b[0;36m_setitem_with_indexer\u001b[1;34m(self, indexer, value)\u001b[0m\n\u001b[0;32m    379\u001b[0m                             \u001b[0mindexer\u001b[0m\u001b[1;33m,\u001b[0m \u001b[0mself\u001b[0m\u001b[1;33m.\u001b[0m\u001b[0mobj\u001b[0m\u001b[1;33m.\u001b[0m\u001b[0maxes\u001b[0m\u001b[1;33m\u001b[0m\u001b[1;33m\u001b[0m\u001b[0m\n\u001b[0;32m    380\u001b[0m                         )\n\u001b[1;32m--> 381\u001b[1;33m                         \u001b[0mself\u001b[0m\u001b[1;33m.\u001b[0m\u001b[0m_setitem_with_indexer\u001b[0m\u001b[1;33m(\u001b[0m\u001b[0mnew_indexer\u001b[0m\u001b[1;33m,\u001b[0m \u001b[0mvalue\u001b[0m\u001b[1;33m)\u001b[0m\u001b[1;33m\u001b[0m\u001b[1;33m\u001b[0m\u001b[0m\n\u001b[0m\u001b[0;32m    382\u001b[0m \u001b[1;33m\u001b[0m\u001b[0m\n\u001b[0;32m    383\u001b[0m                         \u001b[1;32mreturn\u001b[0m \u001b[0mself\u001b[0m\u001b[1;33m.\u001b[0m\u001b[0mobj\u001b[0m\u001b[1;33m\u001b[0m\u001b[1;33m\u001b[0m\u001b[0m\n",
      "\u001b[1;32mC:\\ProgramData\\Anaconda3\\lib\\site-packages\\pandas\\core\\indexing.py\u001b[0m in \u001b[0;36m_setitem_with_indexer\u001b[1;34m(self, indexer, value)\u001b[0m\n\u001b[0;32m    525\u001b[0m                     \u001b[1;32mif\u001b[0m \u001b[0mlen\u001b[0m\u001b[1;33m(\u001b[0m\u001b[0mlabels\u001b[0m\u001b[1;33m)\u001b[0m \u001b[1;33m!=\u001b[0m \u001b[0mvalue\u001b[0m\u001b[1;33m.\u001b[0m\u001b[0mshape\u001b[0m\u001b[1;33m[\u001b[0m\u001b[1;36m1\u001b[0m\u001b[1;33m]\u001b[0m\u001b[1;33m:\u001b[0m\u001b[1;33m\u001b[0m\u001b[1;33m\u001b[0m\u001b[0m\n\u001b[0;32m    526\u001b[0m                         raise ValueError(\n\u001b[1;32m--> 527\u001b[1;33m                             \u001b[1;34m\"Must have equal len keys and value \"\u001b[0m\u001b[1;33m\u001b[0m\u001b[1;33m\u001b[0m\u001b[0m\n\u001b[0m\u001b[0;32m    528\u001b[0m                             \u001b[1;34m\"when setting with an ndarray\"\u001b[0m\u001b[1;33m\u001b[0m\u001b[1;33m\u001b[0m\u001b[0m\n\u001b[0;32m    529\u001b[0m                         )\n",
      "\u001b[1;31mValueError\u001b[0m: Must have equal len keys and value when setting with an ndarray"
     ]
    }
   ],
   "source": [
    "###################################################\n",
    "### Preference-Based Policy Iteration Algorithm ###\n",
    "\n",
    "### Functionality:\n",
    "### - INPUTS  : sample states (s'), initial (random) policy (\\pi0), max. num. of policy iterations (p)\n",
    "### - PROCESS : generate roll-out (fixed time horizon) and calculate accumulate reward\n",
    "### - OUTPUT  : compare return from each rollout: store preference info in training dataset as (s,a_k > a_j)\n",
    "\n",
    "\n",
    "# initialize environment\n",
    "env = gym.make('CartPole-v0')\n",
    "\n",
    "# sample states\n",
    "seed = 20 #np.random.randint(1000)\n",
    "sample_states = generate_init_states_S(seed = seed) # randomly generated states initial\n",
    "\n",
    "print(f'\\nNumber of initial states: {len(sample_states)}\\n')\n",
    "\n",
    "# maximum number of policy iterations\n",
    "max_iterr = 100\n",
    "\n",
    "# action space to consider\n",
    "act_space = partition_action_space(env,3)\n",
    "print(f'\\nNumber of actions (per states): {len(act_space)}\\n')\n",
    "\n",
    "# generate action-pairs (per each)\n",
    "act_pairs = list(itertools.combinations(act_space,2))\n",
    "\n",
    "\n",
    "iterr = 1\n",
    "\n",
    "pbar = tqdm.tqdm(total=max_iterr)\n",
    "\n",
    "# initial random policy\n",
    "policy_init = random_action\n",
    "policy = policy_init\n",
    "\n",
    "lr_flag = False # pass empty value for Model \n",
    "while iterr < max_iterr:\n",
    "    \n",
    "    # place-holder for training data\n",
    "    train_data = [] # uncomment this after adding LabelRanker\n",
    "\n",
    "    for state in sample_states:\n",
    "        \n",
    "        for action_pair in act_pairs:\n",
    "            preference_out = evaluate_preference(state\n",
    "                                                 , action_pair[0]\n",
    "                                                 , action_pair[1]\n",
    "                                                 , policy\n",
    "                                                 , label_ranker=lr_flag\n",
    "                                                 , n_rollouts=30)   \n",
    "            \n",
    "            if preference_out is not None:\n",
    "                train_data.append(preference_out)\n",
    "            else:\n",
    "                pass\n",
    "    \n",
    "    # process training data and learn a model\n",
    "    model = train_model(train_data)\n",
    "    \n",
    "    # derive a new policy using trained model\n",
    "    policy = Policy(act_space,model)\n",
    "    \n",
    "    # turn on inference from learnt policy\n",
    "    lr_flag = True\n",
    "    \n",
    "    # test the learned policy\n",
    "    env_test = gym.make('CartPole-v0')\n",
    "    reward_sum = 0\n",
    "    \n",
    "    for test in range(5):\n",
    "        obs = env_test.reset()\n",
    "        \n",
    "        for _ in range(1000):\n",
    "            action = policy.label_ranking_policy(obs)\n",
    "            observation, reward, done, info = env_test.step(action)\n",
    "            obs = observation\n",
    "            reward_sum += reward\n",
    "            if done: break\n",
    "        \n",
    "    env_test.close()\n",
    "    print(f'Average reward for 5 episodes: {reward_sum/5}', end='\\r')\n",
    "          \n",
    "    pbar.update(1)\n",
    "    iterr += 1\n",
    "        \n",
    "pbar.close()\n"
   ]
  },
  {
   "cell_type": "code",
   "execution_count": 10,
   "metadata": {},
   "outputs": [
    {
     "ename": "NameError",
     "evalue": "name 'Model' is not defined",
     "output_type": "error",
     "traceback": [
      "\u001b[1;31m---------------------------------------------------------------------------\u001b[0m",
      "\u001b[1;31mNameError\u001b[0m                                 Traceback (most recent call last)",
      "\u001b[1;32m<ipython-input-10-4ee9d5f7d371>\u001b[0m in \u001b[0;36m<module>\u001b[1;34m\u001b[0m\n\u001b[0;32m      5\u001b[0m \u001b[1;33m\u001b[0m\u001b[0m\n\u001b[0;32m      6\u001b[0m \u001b[1;31m# Load\u001b[0m\u001b[1;33m\u001b[0m\u001b[1;33m\u001b[0m\u001b[1;33m\u001b[0m\u001b[0m\n\u001b[1;32m----> 7\u001b[1;33m \u001b[0mmodel\u001b[0m \u001b[1;33m=\u001b[0m \u001b[0mModel\u001b[0m\u001b[1;33m(\u001b[0m\u001b[0minput_states\u001b[0m\u001b[1;33m.\u001b[0m\u001b[0mshape\u001b[0m\u001b[1;33m[\u001b[0m\u001b[1;36m1\u001b[0m\u001b[1;33m]\u001b[0m\u001b[1;33m,\u001b[0m \u001b[0mlen\u001b[0m\u001b[1;33m(\u001b[0m\u001b[0mact_space\u001b[0m\u001b[1;33m)\u001b[0m\u001b[1;33m,\u001b[0m \u001b[1;33m[\u001b[0m\u001b[1;36m100\u001b[0m\u001b[1;33m,\u001b[0m\u001b[1;36m500\u001b[0m\u001b[1;33m,\u001b[0m\u001b[1;36m50\u001b[0m\u001b[1;33m]\u001b[0m\u001b[1;33m,\u001b[0m \u001b[0mp\u001b[0m\u001b[1;33m=\u001b[0m\u001b[1;36m0.4\u001b[0m\u001b[1;33m)\u001b[0m\u001b[1;33m\u001b[0m\u001b[1;33m\u001b[0m\u001b[0m\n\u001b[0m\u001b[0;32m      8\u001b[0m \u001b[0mmodel\u001b[0m\u001b[1;33m.\u001b[0m\u001b[0mload_state_dict\u001b[0m\u001b[1;33m(\u001b[0m\u001b[0mtorch\u001b[0m\u001b[1;33m.\u001b[0m\u001b[0mload\u001b[0m\u001b[1;33m(\u001b[0m\u001b[0mPATH\u001b[0m\u001b[1;33m)\u001b[0m\u001b[1;33m)\u001b[0m\u001b[1;33m\u001b[0m\u001b[1;33m\u001b[0m\u001b[0m\n\u001b[0;32m      9\u001b[0m \u001b[0mmodel\u001b[0m\u001b[1;33m.\u001b[0m\u001b[0meval\u001b[0m\u001b[1;33m(\u001b[0m\u001b[1;33m)\u001b[0m\u001b[1;33m\u001b[0m\u001b[1;33m\u001b[0m\u001b[0m\n",
      "\u001b[1;31mNameError\u001b[0m: name 'Model' is not defined"
     ]
    }
   ],
   "source": [
    "### Test-run for learned policy ###\n",
    "\n",
    "# model path\n",
    "PATH = \"./models/cart_pole_pbpi_model.pt\"\n",
    "\n",
    "# Load\n",
    "model = Model(input_states.shape[1], len(act_space), [100,500,50], p=0.4)\n",
    "model.load_state_dict(torch.load(PATH))\n",
    "model.eval()\n",
    "\n",
    "# create policy\n",
    "policy = Policy(act_space,model)\n",
    "\n",
    "\n",
    "# create environment and apply policy\n",
    "env = gym.make('CartPole-v0')\n",
    "env = wrappers.Monitor(env, \"./gym-results\", force=True)\n",
    "env.reset()\n",
    "for _ in range(1000):\n",
    "    action = policy.label_ranking_policy(obs)\n",
    "    observation, reward, done, info = env.step(action)\n",
    "    obs = observation\n",
    "    if done: break\n",
    "env.close()\n",
    "\n",
    "# observe policy performance\n",
    "video = io.open('./gym-results/openaigym.video.%s.video000000.mp4' % env.file_infix, 'r+b').read()\n",
    "encoded = base64.b64encode(video)\n",
    "HTML(data='''\n",
    "    <video width=\"360\" height=\"auto\" alt=\"test\" controls><source src=\"data:video/mp4;base64,{0}\" type=\"video/mp4\" /></video>'''\n",
    ".format(encoded.decode('ascii')))"
   ]
  },
  {
   "cell_type": "code",
   "execution_count": 1070,
   "metadata": {},
   "outputs": [
    {
     "data": {
      "text/plain": [
       "array([-0.13920071,  0.19413263,  0.52746596,  0.86079929])"
      ]
     },
     "execution_count": 1070,
     "metadata": {},
     "output_type": "execute_result"
    }
   ],
   "source": [
    "act_space[0]\n",
    "partition_action_space(env,4)"
   ]
  },
  {
   "cell_type": "code",
   "execution_count": 1071,
   "metadata": {},
   "outputs": [
    {
     "data": {
      "text/plain": [
       "array([-0.09269119,  0.40730881,  0.90730881])"
      ]
     },
     "execution_count": 1071,
     "metadata": {},
     "output_type": "execute_result"
    }
   ],
   "source": [
    "act_space"
   ]
  },
  {
   "cell_type": "markdown",
   "metadata": {},
   "source": [
    "---\n",
    "---"
   ]
  },
  {
   "cell_type": "markdown",
   "metadata": {},
   "source": [
    "## APPENDIX"
   ]
  },
  {
   "cell_type": "markdown",
   "metadata": {},
   "source": [
    "#### TRAINING DATASET PREP + MODEL + TRAINING [BREAKDOWN]"
   ]
  },
  {
   "cell_type": "code",
   "execution_count": 944,
   "metadata": {},
   "outputs": [
    {
     "data": {
      "text/html": [
       "<div>\n",
       "<style scoped>\n",
       "    .dataframe tbody tr th:only-of-type {\n",
       "        vertical-align: middle;\n",
       "    }\n",
       "\n",
       "    .dataframe tbody tr th {\n",
       "        vertical-align: top;\n",
       "    }\n",
       "\n",
       "    .dataframe thead th {\n",
       "        text-align: right;\n",
       "    }\n",
       "</style>\n",
       "<table border=\"1\" class=\"dataframe\">\n",
       "  <thead>\n",
       "    <tr style=\"text-align: right;\">\n",
       "      <th></th>\n",
       "      <th>state</th>\n",
       "      <th>a_j</th>\n",
       "      <th>a_k</th>\n",
       "      <th>preference_label</th>\n",
       "    </tr>\n",
       "  </thead>\n",
       "  <tbody>\n",
       "    <tr>\n",
       "      <td>0</td>\n",
       "      <td>[0.009142906291385587, 0.3129712692496026]</td>\n",
       "      <td>-0.177859</td>\n",
       "      <td>0.822141</td>\n",
       "      <td>0</td>\n",
       "    </tr>\n",
       "    <tr>\n",
       "      <td>1</td>\n",
       "      <td>[0.01540233167637764, 0.02318569560035527]</td>\n",
       "      <td>-0.177859</td>\n",
       "      <td>0.822141</td>\n",
       "      <td>0</td>\n",
       "    </tr>\n",
       "    <tr>\n",
       "      <td>2</td>\n",
       "      <td>[0.015866045588384746, 0.3206881617194614]</td>\n",
       "      <td>-0.177859</td>\n",
       "      <td>0.822141</td>\n",
       "      <td>0</td>\n",
       "    </tr>\n",
       "  </tbody>\n",
       "</table>\n",
       "</div>"
      ],
      "text/plain": [
       "                                        state       a_j       a_k  \\\n",
       "0  [0.009142906291385587, 0.3129712692496026] -0.177859  0.822141   \n",
       "1  [0.01540233167637764, 0.02318569560035527] -0.177859  0.822141   \n",
       "2  [0.015866045588384746, 0.3206881617194614] -0.177859  0.822141   \n",
       "\n",
       "   preference_label  \n",
       "0                 0  \n",
       "1                 0  \n",
       "2                 0  "
      ]
     },
     "execution_count": 944,
     "metadata": {},
     "output_type": "execute_result"
    }
   ],
   "source": [
    "# create a training dataframe\n",
    "train_df = pd.DataFrame(train_data)\n",
    "train_df.head(3)"
   ]
  },
  {
   "cell_type": "code",
   "execution_count": 945,
   "metadata": {},
   "outputs": [],
   "source": [
    "# create a key for state\n",
    "train_df.loc[:, 'state_key'] = train_df.state.apply(lambda x: x[0].astype(str)+\"_\"+x[1].astype(str))"
   ]
  },
  {
   "cell_type": "code",
   "execution_count": 946,
   "metadata": {},
   "outputs": [],
   "source": [
    "# drop all states which does not have any preferred action\n",
    "temp_df1 = train_df.groupby('state_key').preference_label.sum().reset_index()\n",
    "temp_df1 = temp_df1.loc[temp_df1.preference_label>0] # pick the states that have at least one prefered action\n",
    "train_df = train_df.merge(right = temp_df1.loc[:,'state_key']\n",
    "                          , right_on = 'state_key'\n",
    "                          , left_on = 'state_key'\n",
    "                          , how = 'right')"
   ]
  },
  {
   "cell_type": "code",
   "execution_count": 947,
   "metadata": {},
   "outputs": [],
   "source": [
    "# create a single column with the set of actions executed per state\n",
    "temp_df1 = train_df.groupby('state_key')['a_j'].unique().reset_index()\n",
    "temp_df2 = train_df.groupby('state_key')['a_k'].unique().reset_index()\n",
    "temp_df3 = temp_df1.merge(right=temp_df2\n",
    "                          , right_on = 'state_key'\n",
    "                          , left_on = 'state_key'\n",
    "                          , how = 'inner')\n",
    "temp_df3.loc[:,'unique_acts'] = temp_df3.apply(lambda row: set(list(row['a_j']) + list(row['a_k'])) ,axis=1)"
   ]
  },
  {
   "cell_type": "code",
   "execution_count": 948,
   "metadata": {},
   "outputs": [
    {
     "data": {
      "text/html": [
       "<div>\n",
       "<style scoped>\n",
       "    .dataframe tbody tr th:only-of-type {\n",
       "        vertical-align: middle;\n",
       "    }\n",
       "\n",
       "    .dataframe tbody tr th {\n",
       "        vertical-align: top;\n",
       "    }\n",
       "\n",
       "    .dataframe thead th {\n",
       "        text-align: right;\n",
       "    }\n",
       "</style>\n",
       "<table border=\"1\" class=\"dataframe\">\n",
       "  <thead>\n",
       "    <tr style=\"text-align: right;\">\n",
       "      <th></th>\n",
       "      <th>state_key</th>\n",
       "      <th>a_j</th>\n",
       "      <th>a_k</th>\n",
       "      <th>unique_acts</th>\n",
       "    </tr>\n",
       "  </thead>\n",
       "  <tbody>\n",
       "    <tr>\n",
       "      <td>0</td>\n",
       "      <td>-0.0024231983292896143_-0.28879385024693693</td>\n",
       "      <td>[-0.1778587942186142]</td>\n",
       "      <td>[0.8221412057813858]</td>\n",
       "      <td>{-0.1778587942186142, 0.8221412057813858}</td>\n",
       "    </tr>\n",
       "    <tr>\n",
       "      <td>1</td>\n",
       "      <td>-0.0078124528411575595_-1.108387582320789</td>\n",
       "      <td>[-0.1778587942186142]</td>\n",
       "      <td>[0.8221412057813858]</td>\n",
       "      <td>{-0.1778587942186142, 0.8221412057813858}</td>\n",
       "    </tr>\n",
       "  </tbody>\n",
       "</table>\n",
       "</div>"
      ],
      "text/plain": [
       "                                     state_key                    a_j  \\\n",
       "0  -0.0024231983292896143_-0.28879385024693693  [-0.1778587942186142]   \n",
       "1    -0.0078124528411575595_-1.108387582320789  [-0.1778587942186142]   \n",
       "\n",
       "                    a_k                                unique_acts  \n",
       "0  [0.8221412057813858]  {-0.1778587942186142, 0.8221412057813858}  \n",
       "1  [0.8221412057813858]  {-0.1778587942186142, 0.8221412057813858}  "
      ]
     },
     "execution_count": 948,
     "metadata": {},
     "output_type": "execute_result"
    }
   ],
   "source": [
    "temp_df3.head(2)"
   ]
  },
  {
   "cell_type": "code",
   "execution_count": 949,
   "metadata": {},
   "outputs": [],
   "source": [
    "# add the unique-action column to train dataset\n",
    "train_df = train_df.merge(right = temp_df3.loc[:,['state_key', 'unique_acts']]\n",
    "              , right_on =  'state_key'\n",
    "              , left_on = 'state_key'\n",
    "              , how = 'left')"
   ]
  },
  {
   "cell_type": "code",
   "execution_count": 950,
   "metadata": {},
   "outputs": [],
   "source": [
    "# create a 'prefered-action' value for each state\n",
    "train_df.loc[:,'prefered_action'] = train_df.apply(lambda row: row['a_j'] if row['preference_label'] == 1 else row['a_k']  ,axis=1)"
   ]
  },
  {
   "cell_type": "code",
   "execution_count": 951,
   "metadata": {},
   "outputs": [
    {
     "data": {
      "text/html": [
       "<div>\n",
       "<style scoped>\n",
       "    .dataframe tbody tr th:only-of-type {\n",
       "        vertical-align: middle;\n",
       "    }\n",
       "\n",
       "    .dataframe tbody tr th {\n",
       "        vertical-align: top;\n",
       "    }\n",
       "\n",
       "    .dataframe thead th {\n",
       "        text-align: right;\n",
       "    }\n",
       "</style>\n",
       "<table border=\"1\" class=\"dataframe\">\n",
       "  <thead>\n",
       "    <tr style=\"text-align: right;\">\n",
       "      <th></th>\n",
       "      <th>state</th>\n",
       "      <th>a_j</th>\n",
       "      <th>a_k</th>\n",
       "      <th>preference_label</th>\n",
       "      <th>state_key</th>\n",
       "      <th>unique_acts</th>\n",
       "      <th>prefered_action</th>\n",
       "    </tr>\n",
       "  </thead>\n",
       "  <tbody>\n",
       "    <tr>\n",
       "      <td>0</td>\n",
       "      <td>[0.022940822901645678, -0.25252027866834126]</td>\n",
       "      <td>-0.177859</td>\n",
       "      <td>0.822141</td>\n",
       "      <td>1</td>\n",
       "      <td>0.022940822901645678_-0.25252027866834126</td>\n",
       "      <td>{-0.1778587942186142, 0.8221412057813858}</td>\n",
       "      <td>-0.177859</td>\n",
       "    </tr>\n",
       "    <tr>\n",
       "      <td>1</td>\n",
       "      <td>[0.017890417328278854, -0.5378798707657029]</td>\n",
       "      <td>-0.177859</td>\n",
       "      <td>0.822141</td>\n",
       "      <td>1</td>\n",
       "      <td>0.017890417328278854_-0.5378798707657029</td>\n",
       "      <td>{-0.1778587942186142, 0.8221412057813858}</td>\n",
       "      <td>-0.177859</td>\n",
       "    </tr>\n",
       "  </tbody>\n",
       "</table>\n",
       "</div>"
      ],
      "text/plain": [
       "                                          state       a_j       a_k  \\\n",
       "0  [0.022940822901645678, -0.25252027866834126] -0.177859  0.822141   \n",
       "1   [0.017890417328278854, -0.5378798707657029] -0.177859  0.822141   \n",
       "\n",
       "   preference_label                                  state_key  \\\n",
       "0                 1  0.022940822901645678_-0.25252027866834126   \n",
       "1                 1   0.017890417328278854_-0.5378798707657029   \n",
       "\n",
       "                                 unique_acts  prefered_action  \n",
       "0  {-0.1778587942186142, 0.8221412057813858}        -0.177859  \n",
       "1  {-0.1778587942186142, 0.8221412057813858}        -0.177859  "
      ]
     },
     "execution_count": 951,
     "metadata": {},
     "output_type": "execute_result"
    }
   ],
   "source": [
    "train_df.head(2)"
   ]
  },
  {
   "cell_type": "code",
   "execution_count": 952,
   "metadata": {},
   "outputs": [
    {
     "data": {
      "text/html": [
       "<div>\n",
       "<style scoped>\n",
       "    .dataframe tbody tr th:only-of-type {\n",
       "        vertical-align: middle;\n",
       "    }\n",
       "\n",
       "    .dataframe tbody tr th {\n",
       "        vertical-align: top;\n",
       "    }\n",
       "\n",
       "    .dataframe thead th {\n",
       "        text-align: right;\n",
       "    }\n",
       "</style>\n",
       "<table border=\"1\" class=\"dataframe\">\n",
       "  <thead>\n",
       "    <tr style=\"text-align: right;\">\n",
       "      <th>prefered_action</th>\n",
       "      <th>-0.177859</th>\n",
       "    </tr>\n",
       "    <tr>\n",
       "      <th>state_key</th>\n",
       "      <th></th>\n",
       "    </tr>\n",
       "  </thead>\n",
       "  <tbody>\n",
       "    <tr>\n",
       "      <td>-0.0024231983292896143_-0.28879385024693693</td>\n",
       "      <td>1</td>\n",
       "    </tr>\n",
       "    <tr>\n",
       "      <td>-0.0078124528411575595_-1.108387582320789</td>\n",
       "      <td>1</td>\n",
       "    </tr>\n",
       "    <tr>\n",
       "      <td>-0.008199075334228353_-0.5822400438185005</td>\n",
       "      <td>1</td>\n",
       "    </tr>\n",
       "    <tr>\n",
       "      <td>-0.01984387621059836_-0.2921511934704404</td>\n",
       "      <td>1</td>\n",
       "    </tr>\n",
       "    <tr>\n",
       "      <td>-0.02568690008000717_-0.5910259816241711</td>\n",
       "      <td>1</td>\n",
       "    </tr>\n",
       "  </tbody>\n",
       "</table>\n",
       "</div>"
      ],
      "text/plain": [
       "prefered_action                              -0.177859\n",
       "state_key                                             \n",
       "-0.0024231983292896143_-0.28879385024693693          1\n",
       "-0.0078124528411575595_-1.108387582320789            1\n",
       "-0.008199075334228353_-0.5822400438185005            1\n",
       "-0.01984387621059836_-0.2921511934704404             1\n",
       "-0.02568690008000717_-0.5910259816241711             1"
      ]
     },
     "execution_count": 952,
     "metadata": {},
     "output_type": "execute_result"
    }
   ],
   "source": [
    "# count the number of times each action is prefered at a state\n",
    "action_preference_counts = train_df.groupby('state_key').prefered_action.value_counts().unstack()\n",
    "action_preference_counts.replace(np.nan,0,inplace=True)\n",
    "action_preference_counts.head()"
   ]
  },
  {
   "cell_type": "code",
   "execution_count": 953,
   "metadata": {},
   "outputs": [],
   "source": [
    "### convert the action-preference-counts to a vector (to be used as training labels)\n",
    "action_preference_counts.loc[:, 'preference_label_vector'] = action_preference_counts.iloc[:,0:].values.tolist()"
   ]
  },
  {
   "cell_type": "code",
   "execution_count": 954,
   "metadata": {},
   "outputs": [
    {
     "data": {
      "text/html": [
       "<div>\n",
       "<style scoped>\n",
       "    .dataframe tbody tr th:only-of-type {\n",
       "        vertical-align: middle;\n",
       "    }\n",
       "\n",
       "    .dataframe tbody tr th {\n",
       "        vertical-align: top;\n",
       "    }\n",
       "\n",
       "    .dataframe thead th {\n",
       "        text-align: right;\n",
       "    }\n",
       "</style>\n",
       "<table border=\"1\" class=\"dataframe\">\n",
       "  <thead>\n",
       "    <tr style=\"text-align: right;\">\n",
       "      <th>prefered_action</th>\n",
       "      <th>-0.1778587942186142</th>\n",
       "      <th>preference_label_vector</th>\n",
       "    </tr>\n",
       "    <tr>\n",
       "      <th>state_key</th>\n",
       "      <th></th>\n",
       "      <th></th>\n",
       "    </tr>\n",
       "  </thead>\n",
       "  <tbody>\n",
       "    <tr>\n",
       "      <td>-0.0024231983292896143_-0.28879385024693693</td>\n",
       "      <td>1</td>\n",
       "      <td>1</td>\n",
       "    </tr>\n",
       "    <tr>\n",
       "      <td>-0.0078124528411575595_-1.108387582320789</td>\n",
       "      <td>1</td>\n",
       "      <td>1</td>\n",
       "    </tr>\n",
       "    <tr>\n",
       "      <td>-0.008199075334228353_-0.5822400438185005</td>\n",
       "      <td>1</td>\n",
       "      <td>1</td>\n",
       "    </tr>\n",
       "    <tr>\n",
       "      <td>-0.01984387621059836_-0.2921511934704404</td>\n",
       "      <td>1</td>\n",
       "      <td>1</td>\n",
       "    </tr>\n",
       "    <tr>\n",
       "      <td>-0.02568690008000717_-0.5910259816241711</td>\n",
       "      <td>1</td>\n",
       "      <td>1</td>\n",
       "    </tr>\n",
       "  </tbody>\n",
       "</table>\n",
       "</div>"
      ],
      "text/plain": [
       "prefered_action                              -0.1778587942186142  \\\n",
       "state_key                                                          \n",
       "-0.0024231983292896143_-0.28879385024693693                    1   \n",
       "-0.0078124528411575595_-1.108387582320789                      1   \n",
       "-0.008199075334228353_-0.5822400438185005                      1   \n",
       "-0.01984387621059836_-0.2921511934704404                       1   \n",
       "-0.02568690008000717_-0.5910259816241711                       1   \n",
       "\n",
       "prefered_action                              preference_label_vector  \n",
       "state_key                                                             \n",
       "-0.0024231983292896143_-0.28879385024693693                        1  \n",
       "-0.0078124528411575595_-1.108387582320789                          1  \n",
       "-0.008199075334228353_-0.5822400438185005                          1  \n",
       "-0.01984387621059836_-0.2921511934704404                           1  \n",
       "-0.02568690008000717_-0.5910259816241711                           1  "
      ]
     },
     "execution_count": 954,
     "metadata": {},
     "output_type": "execute_result"
    }
   ],
   "source": [
    "action_preference_counts.head()"
   ]
  },
  {
   "cell_type": "code",
   "execution_count": 955,
   "metadata": {},
   "outputs": [],
   "source": [
    "# add preference label vector to training dataset\n",
    "train_df = train_df.merge(right = action_preference_counts.loc[:,['preference_label_vector']]\n",
    "                          , right_index= True\n",
    "                          , left_on = 'state_key'\n",
    "                          , how = 'left')"
   ]
  },
  {
   "cell_type": "code",
   "execution_count": 956,
   "metadata": {},
   "outputs": [
    {
     "data": {
      "text/html": [
       "<div>\n",
       "<style scoped>\n",
       "    .dataframe tbody tr th:only-of-type {\n",
       "        vertical-align: middle;\n",
       "    }\n",
       "\n",
       "    .dataframe tbody tr th {\n",
       "        vertical-align: top;\n",
       "    }\n",
       "\n",
       "    .dataframe thead th {\n",
       "        text-align: right;\n",
       "    }\n",
       "</style>\n",
       "<table border=\"1\" class=\"dataframe\">\n",
       "  <thead>\n",
       "    <tr style=\"text-align: right;\">\n",
       "      <th></th>\n",
       "      <th>state</th>\n",
       "      <th>a_j</th>\n",
       "      <th>a_k</th>\n",
       "      <th>preference_label</th>\n",
       "      <th>state_key</th>\n",
       "      <th>unique_acts</th>\n",
       "      <th>prefered_action</th>\n",
       "      <th>preference_label_vector</th>\n",
       "    </tr>\n",
       "  </thead>\n",
       "  <tbody>\n",
       "    <tr>\n",
       "      <td>0</td>\n",
       "      <td>[0.022940822901645678, -0.25252027866834126]</td>\n",
       "      <td>-0.177859</td>\n",
       "      <td>0.822141</td>\n",
       "      <td>1</td>\n",
       "      <td>0.022940822901645678_-0.25252027866834126</td>\n",
       "      <td>{-0.1778587942186142, 0.8221412057813858}</td>\n",
       "      <td>-0.177859</td>\n",
       "      <td>1</td>\n",
       "    </tr>\n",
       "    <tr>\n",
       "      <td>1</td>\n",
       "      <td>[0.017890417328278854, -0.5378798707657029]</td>\n",
       "      <td>-0.177859</td>\n",
       "      <td>0.822141</td>\n",
       "      <td>1</td>\n",
       "      <td>0.017890417328278854_-0.5378798707657029</td>\n",
       "      <td>{-0.1778587942186142, 0.8221412057813858}</td>\n",
       "      <td>-0.177859</td>\n",
       "      <td>1</td>\n",
       "    </tr>\n",
       "  </tbody>\n",
       "</table>\n",
       "</div>"
      ],
      "text/plain": [
       "                                          state       a_j       a_k  \\\n",
       "0  [0.022940822901645678, -0.25252027866834126] -0.177859  0.822141   \n",
       "1   [0.017890417328278854, -0.5378798707657029] -0.177859  0.822141   \n",
       "\n",
       "   preference_label                                  state_key  \\\n",
       "0                 1  0.022940822901645678_-0.25252027866834126   \n",
       "1                 1   0.017890417328278854_-0.5378798707657029   \n",
       "\n",
       "                                 unique_acts  prefered_action  \\\n",
       "0  {-0.1778587942186142, 0.8221412057813858}        -0.177859   \n",
       "1  {-0.1778587942186142, 0.8221412057813858}        -0.177859   \n",
       "\n",
       "   preference_label_vector  \n",
       "0                        1  \n",
       "1                        1  "
      ]
     },
     "execution_count": 956,
     "metadata": {},
     "output_type": "execute_result"
    }
   ],
   "source": [
    "train_df.head(2)"
   ]
  },
  {
   "cell_type": "code",
   "execution_count": 957,
   "metadata": {},
   "outputs": [
    {
     "data": {
      "text/html": [
       "<div>\n",
       "<style scoped>\n",
       "    .dataframe tbody tr th:only-of-type {\n",
       "        vertical-align: middle;\n",
       "    }\n",
       "\n",
       "    .dataframe tbody tr th {\n",
       "        vertical-align: top;\n",
       "    }\n",
       "\n",
       "    .dataframe thead th {\n",
       "        text-align: right;\n",
       "    }\n",
       "</style>\n",
       "<table border=\"1\" class=\"dataframe\">\n",
       "  <thead>\n",
       "    <tr style=\"text-align: right;\">\n",
       "      <th></th>\n",
       "      <th>state</th>\n",
       "      <th>state_key</th>\n",
       "      <th>unique_acts</th>\n",
       "      <th>preference_label_vector</th>\n",
       "    </tr>\n",
       "  </thead>\n",
       "  <tbody>\n",
       "    <tr>\n",
       "      <td>0</td>\n",
       "      <td>[0.022940822901645678, -0.25252027866834126]</td>\n",
       "      <td>0.022940822901645678_-0.25252027866834126</td>\n",
       "      <td>{-0.1778587942186142, 0.8221412057813858}</td>\n",
       "      <td>1</td>\n",
       "    </tr>\n",
       "    <tr>\n",
       "      <td>1</td>\n",
       "      <td>[0.017890417328278854, -0.5378798707657029]</td>\n",
       "      <td>0.017890417328278854_-0.5378798707657029</td>\n",
       "      <td>{-0.1778587942186142, 0.8221412057813858}</td>\n",
       "      <td>1</td>\n",
       "    </tr>\n",
       "    <tr>\n",
       "      <td>2</td>\n",
       "      <td>[0.007132819912964796, -0.824872468474162]</td>\n",
       "      <td>0.007132819912964796_-0.824872468474162</td>\n",
       "      <td>{-0.1778587942186142, 0.8221412057813858}</td>\n",
       "      <td>1</td>\n",
       "    </tr>\n",
       "  </tbody>\n",
       "</table>\n",
       "</div>"
      ],
      "text/plain": [
       "                                          state  \\\n",
       "0  [0.022940822901645678, -0.25252027866834126]   \n",
       "1   [0.017890417328278854, -0.5378798707657029]   \n",
       "2    [0.007132819912964796, -0.824872468474162]   \n",
       "\n",
       "                                   state_key  \\\n",
       "0  0.022940822901645678_-0.25252027866834126   \n",
       "1   0.017890417328278854_-0.5378798707657029   \n",
       "2    0.007132819912964796_-0.824872468474162   \n",
       "\n",
       "                                 unique_acts  preference_label_vector  \n",
       "0  {-0.1778587942186142, 0.8221412057813858}                        1  \n",
       "1  {-0.1778587942186142, 0.8221412057813858}                        1  \n",
       "2  {-0.1778587942186142, 0.8221412057813858}                        1  "
      ]
     },
     "execution_count": 957,
     "metadata": {},
     "output_type": "execute_result"
    }
   ],
   "source": [
    "# create the reduced training dataset (drop unnecessary columns + duplicate rows: which have data for same state)\n",
    "train_df_reduced = train_df.loc[:,['state', 'state_key', 'unique_acts', 'preference_label_vector']]\n",
    "\n",
    "train_df_reduced.drop_duplicates(subset=['state_key'],inplace=True)\n",
    "train_df_reduced.head(3)"
   ]
  },
  {
   "cell_type": "code",
   "execution_count": null,
   "metadata": {},
   "outputs": [],
   "source": [
    "# above dataset has - state + list of actions + # preferences made for each action (at state) --> each row"
   ]
  },
  {
   "cell_type": "code",
   "execution_count": 990,
   "metadata": {},
   "outputs": [],
   "source": [
    "output_labels_temp = np.array(train_df_reduced.preference_label_vector.tolist())\n",
    "\n",
    "# to handle 1-D output label vector\n",
    "if len(output_labels_temp.shape) == 1:\n",
    "    output_labels_normalized = output_labels_temp\n",
    "else:\n",
    "    row_sums = output_labels_temp.sum(axis=1)\n",
    "    output_labels_normalized = output_labels_temp / row_sums[:, np.newaxis]"
   ]
  },
  {
   "cell_type": "code",
   "execution_count": 991,
   "metadata": {},
   "outputs": [],
   "source": [
    "# create training dataset\n",
    "input_states  = torch.from_numpy(np.array(train_df_reduced.state.apply(lambda x: x.astype(float)).tolist()))\n",
    "output_labels = torch.from_numpy(output_labels_normalized)"
   ]
  },
  {
   "cell_type": "code",
   "execution_count": 992,
   "metadata": {},
   "outputs": [],
   "source": [
    "# Import tensor dataset & data loader\n",
    "from torch.utils.data import TensorDataset, DataLoader"
   ]
  },
  {
   "cell_type": "code",
   "execution_count": 993,
   "metadata": {},
   "outputs": [],
   "source": [
    "train_ds = TensorDataset(input_states , output_labels )"
   ]
  },
  {
   "cell_type": "code",
   "execution_count": 1033,
   "metadata": {},
   "outputs": [
    {
     "data": {
      "text/plain": [
       "[tensor([[-0.1020,  0.0784],\n",
       "         [-0.1270, -0.9492],\n",
       "         [-0.1146, -0.6227]], dtype=torch.float64),\n",
       " tensor([1, 1, 1], dtype=torch.int32)]"
      ]
     },
     "execution_count": 1033,
     "metadata": {},
     "output_type": "execute_result"
    }
   ],
   "source": [
    "# Define data loader\n",
    "batch_size = 3\n",
    "train_dl = DataLoader(train_ds, batch_size, shuffle=True, drop_last=True)\n",
    "next(iter(train_dl))"
   ]
  },
  {
   "cell_type": "code",
   "execution_count": 1035,
   "metadata": {},
   "outputs": [],
   "source": [
    "class Model(nn.Module):\n",
    "\n",
    "    def __init__(self, input_state_len, output_label_len, layers, p=0.4):\n",
    "        \n",
    "        super().__init__()\n",
    "        self.batch_norm_num = nn.BatchNorm1d(input_state_len)\n",
    "\n",
    "        all_layers = []\n",
    "        input_size = input_state_len\n",
    "\n",
    "        # create layers\n",
    "        for layer_dim in layers:\n",
    "            all_layers.append(nn.Linear(input_size, layer_dim))\n",
    "            all_layers.append(nn.ReLU(inplace=True))\n",
    "            all_layers.append(nn.BatchNorm1d(layer_dim))\n",
    "            all_layers.append(nn.Dropout(p))\n",
    "            input_size = layer_dim\n",
    "\n",
    "        all_layers.append(nn.Linear(layers[-1], output_label_len))\n",
    "\n",
    "        self.layers = nn.Sequential(*all_layers)\n",
    "\n",
    "    def forward(self, state_vec):\n",
    "        x = self.batch_norm_num(state_vec)\n",
    "        x = self.layers(x)\n",
    "        return x"
   ]
  },
  {
   "cell_type": "code",
   "execution_count": 1036,
   "metadata": {},
   "outputs": [],
   "source": [
    "# Define model\n",
    "model = Model(input_states.shape[1], output_labels.shape[1], [100,500,50], p=0.4)\n",
    "# model = Model(input_states.shape[1], 1 if len(output_labels.shape)== 1 else output_labels.shape[1], [100,500,50], p=0.4) # for 1-D targets\n"
   ]
  },
  {
   "cell_type": "code",
   "execution_count": 1037,
   "metadata": {},
   "outputs": [
    {
     "data": {
      "text/plain": [
       "Model(\n",
       "  (batch_norm_num): BatchNorm1d(2, eps=1e-05, momentum=0.1, affine=True, track_running_stats=True)\n",
       "  (layers): Sequential(\n",
       "    (0): Linear(in_features=2, out_features=100, bias=True)\n",
       "    (1): ReLU(inplace=True)\n",
       "    (2): BatchNorm1d(100, eps=1e-05, momentum=0.1, affine=True, track_running_stats=True)\n",
       "    (3): Dropout(p=0.4, inplace=False)\n",
       "    (4): Linear(in_features=100, out_features=500, bias=True)\n",
       "    (5): ReLU(inplace=True)\n",
       "    (6): BatchNorm1d(500, eps=1e-05, momentum=0.1, affine=True, track_running_stats=True)\n",
       "    (7): Dropout(p=0.4, inplace=False)\n",
       "    (8): Linear(in_features=500, out_features=50, bias=True)\n",
       "    (9): ReLU(inplace=True)\n",
       "    (10): BatchNorm1d(50, eps=1e-05, momentum=0.1, affine=True, track_running_stats=True)\n",
       "    (11): Dropout(p=0.4, inplace=False)\n",
       "    (12): Linear(in_features=50, out_features=1, bias=True)\n",
       "  )\n",
       ")"
      ]
     },
     "execution_count": 1037,
     "metadata": {},
     "output_type": "execute_result"
    }
   ],
   "source": [
    "model"
   ]
  },
  {
   "cell_type": "code",
   "execution_count": 1049,
   "metadata": {},
   "outputs": [],
   "source": [
    "opt = torch.optim.SGD(model.parameters(), lr = 1e-1)\n",
    "loss_fn = F.mse_loss"
   ]
  },
  {
   "cell_type": "raw",
   "metadata": {},
   "source": [
    "for xb,yb in train_dl:\n",
    "    print(yb.reshape(3,1))"
   ]
  },
  {
   "cell_type": "code",
   "execution_count": 1053,
   "metadata": {},
   "outputs": [],
   "source": [
    "# to store losses\n",
    "aggregated_losses = []\n",
    "\n",
    "# Define a utility function to train the model\n",
    "def fit(num_epochs, model, loss_fn, opt):\n",
    "    \n",
    "    for epoch in range(num_epochs):\n",
    "        for xb,yb in train_dl:\n",
    "            \n",
    "            # Generate predictions\n",
    "            pred = model(xb.float())\n",
    "            #loss = loss_fn(pred, yb.float())            \n",
    "            loss = loss_fn(pred, yb.reshape(3,1).float()) \n",
    "            \n",
    "            # Perform gradient descent\n",
    "            loss.backward()\n",
    "            opt.step()\n",
    "            opt.zero_grad()\n",
    "            \n",
    "        #aggregated_losses.append(loss_fn(model(input_states.float()), output_labels.float()).detach().numpy())\n",
    "        \n",
    "        if epoch%25 == 0:\n",
    "                print(f'epoch: {epoch:3} loss: {loss.item():10.8f}')\n",
    "            \n",
    "    print('Training loss: ', loss_fn(model(input_states.float()), output_labels.float()))"
   ]
  },
  {
   "cell_type": "code",
   "execution_count": 1052,
   "metadata": {},
   "outputs": [
    {
     "data": {
      "text/plain": [
       "torch.Size([3, 1])"
      ]
     },
     "execution_count": 1052,
     "metadata": {},
     "output_type": "execute_result"
    }
   ],
   "source": [
    "xb,yb = next(iter(train_dl))\n",
    "pred = model(xb.float())\n",
    "#loss_fn(pred, yb.float())  \n",
    "yb.reshape(3,1).float()"
   ]
  },
  {
   "cell_type": "code",
   "execution_count": 1054,
   "metadata": {},
   "outputs": [
    {
     "name": "stdout",
     "output_type": "stream",
     "text": [
      "epoch:   0 loss:        nan\n",
      "epoch:  25 loss:        nan\n",
      "epoch:  50 loss:        nan\n",
      "epoch:  75 loss:        nan\n",
      "epoch: 100 loss:        nan\n",
      "epoch: 125 loss:        nan\n",
      "epoch: 150 loss:        nan\n",
      "epoch: 175 loss:        nan\n",
      "epoch: 200 loss:        nan\n",
      "epoch: 225 loss:        nan\n",
      "epoch: 250 loss:        nan\n",
      "epoch: 275 loss:        nan\n"
     ]
    },
    {
     "name": "stderr",
     "output_type": "stream",
     "text": [
      "C:\\ProgramData\\Anaconda3\\lib\\site-packages\\ipykernel_launcher.py:25: UserWarning: Using a target size (torch.Size([60])) that is different to the input size (torch.Size([60, 1])). This will likely lead to incorrect results due to broadcasting. Please ensure they have the same size.\n"
     ]
    },
    {
     "name": "stdout",
     "output_type": "stream",
     "text": [
      "Training loss:  tensor(nan, grad_fn=<MseLossBackward>)\n"
     ]
    }
   ],
   "source": [
    "epochs= 300\n",
    "fit(epochs, model, loss_fn, opt)"
   ]
  },
  {
   "cell_type": "code",
   "execution_count": 1007,
   "metadata": {},
   "outputs": [
    {
     "data": {
      "image/png": "[encoded data removed]",
      "text/plain": [
       "<Figure size 432x288 with 1 Axes>"
      ]
     },
     "metadata": {
      "needs_background": "light"
     },
     "output_type": "display_data"
    }
   ],
   "source": [
    "plt.plot(range(epochs), aggregated_losses)\n",
    "plt.ylabel('Loss')\n",
    "plt.xlabel('epoch')\n",
    "plt.show()"
   ]
  },
  {
   "cell_type": "markdown",
   "metadata": {},
   "source": [
    "---"
   ]
  },
  {
   "cell_type": "markdown",
   "metadata": {},
   "source": [
    "#### Label Ranking Policy"
   ]
  },
  {
   "cell_type": "code",
   "execution_count": 821,
   "metadata": {},
   "outputs": [
    {
     "data": {
      "text/plain": [
       "0"
      ]
     },
     "execution_count": 821,
     "metadata": {},
     "output_type": "execute_result"
    }
   ],
   "source": [
    "env = gym.make('CartPole-v0')\n",
    "observation = env.reset()\n",
    "\n",
    "state_obs = observation[[2,3]] # only select angel and angular velo. of pendulum from state vector\n",
    "state_obs = state_obs.reshape(-1,state_obs.shape[0]) # reshape to be a 2D array\n",
    "state_obs = torch.from_numpy(state_obs) # convert to a tensor\n",
    "\n",
    "# make the prediction for actions\n",
    "with torch.no_grad():\n",
    "    preds = model(state_obs.float()) \n",
    "    \n",
    "# rank the indexes of actions (from highest ranked/preferred action to lowest)\n",
    "ranked_action_idx = (-rd(preds.detach().numpy())).argsort()[:preds.shape[1]]\n",
    "\n",
    "# return the action value\n",
    "remain_probs = .1/len(ranked_action_idx[2:])\n",
    "n_remain_actions = ranked_action_idx.shape[0]-2\n",
    "\n",
    "# - select first two (highest preferred actions) 80% and 10% of the time\n",
    "# - select one of the remaining actions 10% time\n",
    "action = np.random.choice(ranked_action_idx,1 , p=[0.8, 0.1] + list(np.repeat(remain_probs,n_remain_actions)))[0]\n",
    "\n",
    "action"
   ]
  },
  {
   "cell_type": "markdown",
   "metadata": {},
   "source": [
    "---"
   ]
  },
  {
   "cell_type": "markdown",
   "metadata": {},
   "source": [
    "### Visualize episode"
   ]
  },
  {
   "cell_type": "markdown",
   "metadata": {},
   "source": [
    "##### METHOD 1:"
   ]
  },
  {
   "cell_type": "code",
   "execution_count": 1091,
   "metadata": {},
   "outputs": [
    {
     "ename": "OSError",
     "evalue": "[WinError 6] The handle is invalid",
     "output_type": "error",
     "traceback": [
      "\u001b[1;31m---------------------------------------------------------------------------\u001b[0m",
      "\u001b[1;31mOSError\u001b[0m                                   Traceback (most recent call last)",
      "\u001b[1;32m<ipython-input-1091-e3948c38d567>\u001b[0m in \u001b[0;36m<module>\u001b[1;34m\u001b[0m\n\u001b[0;32m      1\u001b[0m \u001b[0menv\u001b[0m \u001b[1;33m=\u001b[0m \u001b[0mgym\u001b[0m\u001b[1;33m.\u001b[0m\u001b[0mmake\u001b[0m\u001b[1;33m(\u001b[0m\u001b[1;34m'CartPole-v0'\u001b[0m\u001b[1;33m)\u001b[0m\u001b[1;33m\u001b[0m\u001b[1;33m\u001b[0m\u001b[0m\n\u001b[0;32m      2\u001b[0m \u001b[0menv\u001b[0m \u001b[1;33m=\u001b[0m \u001b[0mwrappers\u001b[0m\u001b[1;33m.\u001b[0m\u001b[0mMonitor\u001b[0m\u001b[1;33m(\u001b[0m\u001b[0menv\u001b[0m\u001b[1;33m,\u001b[0m \u001b[1;34m\"./gym-results\"\u001b[0m\u001b[1;33m,\u001b[0m \u001b[0mforce\u001b[0m\u001b[1;33m=\u001b[0m\u001b[1;32mTrue\u001b[0m\u001b[1;33m)\u001b[0m\u001b[1;33m\u001b[0m\u001b[1;33m\u001b[0m\u001b[0m\n\u001b[1;32m----> 3\u001b[1;33m \u001b[0menv\u001b[0m\u001b[1;33m.\u001b[0m\u001b[0mreset\u001b[0m\u001b[1;33m(\u001b[0m\u001b[1;33m)\u001b[0m\u001b[1;33m\u001b[0m\u001b[1;33m\u001b[0m\u001b[0m\n\u001b[0m\u001b[0;32m      4\u001b[0m \u001b[1;32mfor\u001b[0m \u001b[0m_\u001b[0m \u001b[1;32min\u001b[0m \u001b[0mrange\u001b[0m\u001b[1;33m(\u001b[0m\u001b[1;36m1000\u001b[0m\u001b[1;33m)\u001b[0m\u001b[1;33m:\u001b[0m\u001b[1;33m\u001b[0m\u001b[1;33m\u001b[0m\u001b[0m\n\u001b[0;32m      5\u001b[0m     \u001b[0maction\u001b[0m \u001b[1;33m=\u001b[0m \u001b[0menv\u001b[0m\u001b[1;33m.\u001b[0m\u001b[0maction_space\u001b[0m\u001b[1;33m.\u001b[0m\u001b[0msample\u001b[0m\u001b[1;33m(\u001b[0m\u001b[1;33m)\u001b[0m\u001b[1;33m\u001b[0m\u001b[1;33m\u001b[0m\u001b[0m\n",
      "\u001b[1;32mC:\\ProgramData\\Anaconda3\\lib\\site-packages\\gym\\wrappers\\monitor.py\u001b[0m in \u001b[0;36mreset\u001b[1;34m(self, **kwargs)\u001b[0m\n\u001b[0;32m     37\u001b[0m         \u001b[0mself\u001b[0m\u001b[1;33m.\u001b[0m\u001b[0m_before_reset\u001b[0m\u001b[1;33m(\u001b[0m\u001b[1;33m)\u001b[0m\u001b[1;33m\u001b[0m\u001b[1;33m\u001b[0m\u001b[0m\n\u001b[0;32m     38\u001b[0m         \u001b[0mobservation\u001b[0m \u001b[1;33m=\u001b[0m \u001b[0mself\u001b[0m\u001b[1;33m.\u001b[0m\u001b[0menv\u001b[0m\u001b[1;33m.\u001b[0m\u001b[0mreset\u001b[0m\u001b[1;33m(\u001b[0m\u001b[1;33m**\u001b[0m\u001b[0mkwargs\u001b[0m\u001b[1;33m)\u001b[0m\u001b[1;33m\u001b[0m\u001b[1;33m\u001b[0m\u001b[0m\n\u001b[1;32m---> 39\u001b[1;33m         \u001b[0mself\u001b[0m\u001b[1;33m.\u001b[0m\u001b[0m_after_reset\u001b[0m\u001b[1;33m(\u001b[0m\u001b[0mobservation\u001b[0m\u001b[1;33m)\u001b[0m\u001b[1;33m\u001b[0m\u001b[1;33m\u001b[0m\u001b[0m\n\u001b[0m\u001b[0;32m     40\u001b[0m \u001b[1;33m\u001b[0m\u001b[0m\n\u001b[0;32m     41\u001b[0m         \u001b[1;32mreturn\u001b[0m \u001b[0mobservation\u001b[0m\u001b[1;33m\u001b[0m\u001b[1;33m\u001b[0m\u001b[0m\n",
      "\u001b[1;32mC:\\ProgramData\\Anaconda3\\lib\\site-packages\\gym\\wrappers\\monitor.py\u001b[0m in \u001b[0;36m_after_reset\u001b[1;34m(self, observation)\u001b[0m\n\u001b[0;32m    183\u001b[0m         \u001b[0mself\u001b[0m\u001b[1;33m.\u001b[0m\u001b[0mstats_recorder\u001b[0m\u001b[1;33m.\u001b[0m\u001b[0mafter_reset\u001b[0m\u001b[1;33m(\u001b[0m\u001b[0mobservation\u001b[0m\u001b[1;33m)\u001b[0m\u001b[1;33m\u001b[0m\u001b[1;33m\u001b[0m\u001b[0m\n\u001b[0;32m    184\u001b[0m \u001b[1;33m\u001b[0m\u001b[0m\n\u001b[1;32m--> 185\u001b[1;33m         \u001b[0mself\u001b[0m\u001b[1;33m.\u001b[0m\u001b[0mreset_video_recorder\u001b[0m\u001b[1;33m(\u001b[0m\u001b[1;33m)\u001b[0m\u001b[1;33m\u001b[0m\u001b[1;33m\u001b[0m\u001b[0m\n\u001b[0m\u001b[0;32m    186\u001b[0m \u001b[1;33m\u001b[0m\u001b[0m\n\u001b[0;32m    187\u001b[0m         \u001b[1;31m# Bump *after* all reset activity has finished\u001b[0m\u001b[1;33m\u001b[0m\u001b[1;33m\u001b[0m\u001b[1;33m\u001b[0m\u001b[0m\n",
      "\u001b[1;32mC:\\ProgramData\\Anaconda3\\lib\\site-packages\\gym\\wrappers\\monitor.py\u001b[0m in \u001b[0;36mreset_video_recorder\u001b[1;34m(self)\u001b[0m\n\u001b[0;32m    204\u001b[0m             \u001b[0menabled\u001b[0m\u001b[1;33m=\u001b[0m\u001b[0mself\u001b[0m\u001b[1;33m.\u001b[0m\u001b[0m_video_enabled\u001b[0m\u001b[1;33m(\u001b[0m\u001b[1;33m)\u001b[0m\u001b[1;33m,\u001b[0m\u001b[1;33m\u001b[0m\u001b[1;33m\u001b[0m\u001b[0m\n\u001b[0;32m    205\u001b[0m         )\n\u001b[1;32m--> 206\u001b[1;33m         \u001b[0mself\u001b[0m\u001b[1;33m.\u001b[0m\u001b[0mvideo_recorder\u001b[0m\u001b[1;33m.\u001b[0m\u001b[0mcapture_frame\u001b[0m\u001b[1;33m(\u001b[0m\u001b[1;33m)\u001b[0m\u001b[1;33m\u001b[0m\u001b[1;33m\u001b[0m\u001b[0m\n\u001b[0m\u001b[0;32m    207\u001b[0m \u001b[1;33m\u001b[0m\u001b[0m\n\u001b[0;32m    208\u001b[0m     \u001b[1;32mdef\u001b[0m \u001b[0m_close_video_recorder\u001b[0m\u001b[1;33m(\u001b[0m\u001b[0mself\u001b[0m\u001b[1;33m)\u001b[0m\u001b[1;33m:\u001b[0m\u001b[1;33m\u001b[0m\u001b[1;33m\u001b[0m\u001b[0m\n",
      "\u001b[1;32mC:\\ProgramData\\Anaconda3\\lib\\site-packages\\gym\\wrappers\\monitoring\\video_recorder.py\u001b[0m in \u001b[0;36mcapture_frame\u001b[1;34m(self)\u001b[0m\n\u001b[0;32m    114\u001b[0m                 \u001b[0mself\u001b[0m\u001b[1;33m.\u001b[0m\u001b[0m_encode_ansi_frame\u001b[0m\u001b[1;33m(\u001b[0m\u001b[0mframe\u001b[0m\u001b[1;33m)\u001b[0m\u001b[1;33m\u001b[0m\u001b[1;33m\u001b[0m\u001b[0m\n\u001b[0;32m    115\u001b[0m             \u001b[1;32melse\u001b[0m\u001b[1;33m:\u001b[0m\u001b[1;33m\u001b[0m\u001b[1;33m\u001b[0m\u001b[0m\n\u001b[1;32m--> 116\u001b[1;33m                 \u001b[0mself\u001b[0m\u001b[1;33m.\u001b[0m\u001b[0m_encode_image_frame\u001b[0m\u001b[1;33m(\u001b[0m\u001b[0mframe\u001b[0m\u001b[1;33m)\u001b[0m\u001b[1;33m\u001b[0m\u001b[1;33m\u001b[0m\u001b[0m\n\u001b[0m\u001b[0;32m    117\u001b[0m \u001b[1;33m\u001b[0m\u001b[0m\n\u001b[0;32m    118\u001b[0m     \u001b[1;32mdef\u001b[0m \u001b[0mclose\u001b[0m\u001b[1;33m(\u001b[0m\u001b[0mself\u001b[0m\u001b[1;33m)\u001b[0m\u001b[1;33m:\u001b[0m\u001b[1;33m\u001b[0m\u001b[1;33m\u001b[0m\u001b[0m\n",
      "\u001b[1;32mC:\\ProgramData\\Anaconda3\\lib\\site-packages\\gym\\wrappers\\monitoring\\video_recorder.py\u001b[0m in \u001b[0;36m_encode_image_frame\u001b[1;34m(self, frame)\u001b[0m\n\u001b[0;32m    160\u001b[0m     \u001b[1;32mdef\u001b[0m \u001b[0m_encode_image_frame\u001b[0m\u001b[1;33m(\u001b[0m\u001b[0mself\u001b[0m\u001b[1;33m,\u001b[0m \u001b[0mframe\u001b[0m\u001b[1;33m)\u001b[0m\u001b[1;33m:\u001b[0m\u001b[1;33m\u001b[0m\u001b[1;33m\u001b[0m\u001b[0m\n\u001b[0;32m    161\u001b[0m         \u001b[1;32mif\u001b[0m \u001b[1;32mnot\u001b[0m \u001b[0mself\u001b[0m\u001b[1;33m.\u001b[0m\u001b[0mencoder\u001b[0m\u001b[1;33m:\u001b[0m\u001b[1;33m\u001b[0m\u001b[1;33m\u001b[0m\u001b[0m\n\u001b[1;32m--> 162\u001b[1;33m             \u001b[0mself\u001b[0m\u001b[1;33m.\u001b[0m\u001b[0mencoder\u001b[0m \u001b[1;33m=\u001b[0m \u001b[0mImageEncoder\u001b[0m\u001b[1;33m(\u001b[0m\u001b[0mself\u001b[0m\u001b[1;33m.\u001b[0m\u001b[0mpath\u001b[0m\u001b[1;33m,\u001b[0m \u001b[0mframe\u001b[0m\u001b[1;33m.\u001b[0m\u001b[0mshape\u001b[0m\u001b[1;33m,\u001b[0m \u001b[0mself\u001b[0m\u001b[1;33m.\u001b[0m\u001b[0mframes_per_sec\u001b[0m\u001b[1;33m,\u001b[0m \u001b[0mself\u001b[0m\u001b[1;33m.\u001b[0m\u001b[0moutput_frames_per_sec\u001b[0m\u001b[1;33m)\u001b[0m\u001b[1;33m\u001b[0m\u001b[1;33m\u001b[0m\u001b[0m\n\u001b[0m\u001b[0;32m    163\u001b[0m             \u001b[0mself\u001b[0m\u001b[1;33m.\u001b[0m\u001b[0mmetadata\u001b[0m\u001b[1;33m[\u001b[0m\u001b[1;34m'encoder_version'\u001b[0m\u001b[1;33m]\u001b[0m \u001b[1;33m=\u001b[0m \u001b[0mself\u001b[0m\u001b[1;33m.\u001b[0m\u001b[0mencoder\u001b[0m\u001b[1;33m.\u001b[0m\u001b[0mversion_info\u001b[0m\u001b[1;33m\u001b[0m\u001b[1;33m\u001b[0m\u001b[0m\n\u001b[0;32m    164\u001b[0m \u001b[1;33m\u001b[0m\u001b[0m\n",
      "\u001b[1;32mC:\\ProgramData\\Anaconda3\\lib\\site-packages\\gym\\wrappers\\monitoring\\video_recorder.py\u001b[0m in \u001b[0;36m__init__\u001b[1;34m(self, output_path, frame_shape, frames_per_sec, output_frames_per_sec)\u001b[0m\n\u001b[0;32m    255\u001b[0m             \u001b[1;32mraise\u001b[0m \u001b[0merror\u001b[0m\u001b[1;33m.\u001b[0m\u001b[0mDependencyNotInstalled\u001b[0m\u001b[1;33m(\u001b[0m\u001b[1;34m\"\"\"Found neither the ffmpeg nor avconv executables. On OS X, you can install ffmpeg via `brew install ffmpeg`. On most Ubuntu variants, `sudo apt-get install ffmpeg` should do it. On Ubuntu 14.04, however, you'll need to install avconv with `sudo apt-get install libav-tools`.\"\"\"\u001b[0m\u001b[1;33m)\u001b[0m\u001b[1;33m\u001b[0m\u001b[1;33m\u001b[0m\u001b[0m\n\u001b[0;32m    256\u001b[0m \u001b[1;33m\u001b[0m\u001b[0m\n\u001b[1;32m--> 257\u001b[1;33m         \u001b[0mself\u001b[0m\u001b[1;33m.\u001b[0m\u001b[0mstart\u001b[0m\u001b[1;33m(\u001b[0m\u001b[1;33m)\u001b[0m\u001b[1;33m\u001b[0m\u001b[1;33m\u001b[0m\u001b[0m\n\u001b[0m\u001b[0;32m    258\u001b[0m \u001b[1;33m\u001b[0m\u001b[0m\n\u001b[0;32m    259\u001b[0m     \u001b[1;33m@\u001b[0m\u001b[0mproperty\u001b[0m\u001b[1;33m\u001b[0m\u001b[1;33m\u001b[0m\u001b[0m\n",
      "\u001b[1;32mC:\\ProgramData\\Anaconda3\\lib\\site-packages\\gym\\wrappers\\monitoring\\video_recorder.py\u001b[0m in \u001b[0;36mstart\u001b[1;34m(self)\u001b[0m\n\u001b[0;32m    291\u001b[0m             \u001b[0mself\u001b[0m\u001b[1;33m.\u001b[0m\u001b[0mproc\u001b[0m \u001b[1;33m=\u001b[0m \u001b[0msubprocess\u001b[0m\u001b[1;33m.\u001b[0m\u001b[0mPopen\u001b[0m\u001b[1;33m(\u001b[0m\u001b[0mself\u001b[0m\u001b[1;33m.\u001b[0m\u001b[0mcmdline\u001b[0m\u001b[1;33m,\u001b[0m \u001b[0mstdin\u001b[0m\u001b[1;33m=\u001b[0m\u001b[0msubprocess\u001b[0m\u001b[1;33m.\u001b[0m\u001b[0mPIPE\u001b[0m\u001b[1;33m,\u001b[0m \u001b[0mpreexec_fn\u001b[0m\u001b[1;33m=\u001b[0m\u001b[0mos\u001b[0m\u001b[1;33m.\u001b[0m\u001b[0msetsid\u001b[0m\u001b[1;33m)\u001b[0m\u001b[1;33m\u001b[0m\u001b[1;33m\u001b[0m\u001b[0m\n\u001b[0;32m    292\u001b[0m         \u001b[1;32melse\u001b[0m\u001b[1;33m:\u001b[0m\u001b[1;33m\u001b[0m\u001b[1;33m\u001b[0m\u001b[0m\n\u001b[1;32m--> 293\u001b[1;33m             \u001b[0mself\u001b[0m\u001b[1;33m.\u001b[0m\u001b[0mproc\u001b[0m \u001b[1;33m=\u001b[0m \u001b[0msubprocess\u001b[0m\u001b[1;33m.\u001b[0m\u001b[0mPopen\u001b[0m\u001b[1;33m(\u001b[0m\u001b[0mself\u001b[0m\u001b[1;33m.\u001b[0m\u001b[0mcmdline\u001b[0m\u001b[1;33m,\u001b[0m \u001b[0mstdin\u001b[0m\u001b[1;33m=\u001b[0m\u001b[0msubprocess\u001b[0m\u001b[1;33m.\u001b[0m\u001b[0mPIPE\u001b[0m\u001b[1;33m)\u001b[0m\u001b[1;33m\u001b[0m\u001b[1;33m\u001b[0m\u001b[0m\n\u001b[0m\u001b[0;32m    294\u001b[0m \u001b[1;33m\u001b[0m\u001b[0m\n\u001b[0;32m    295\u001b[0m     \u001b[1;32mdef\u001b[0m \u001b[0mcapture_frame\u001b[0m\u001b[1;33m(\u001b[0m\u001b[0mself\u001b[0m\u001b[1;33m,\u001b[0m \u001b[0mframe\u001b[0m\u001b[1;33m)\u001b[0m\u001b[1;33m:\u001b[0m\u001b[1;33m\u001b[0m\u001b[1;33m\u001b[0m\u001b[0m\n",
      "\u001b[1;32mC:\\ProgramData\\Anaconda3\\lib\\subprocess.py\u001b[0m in \u001b[0;36m__init__\u001b[1;34m(self, args, bufsize, executable, stdin, stdout, stderr, preexec_fn, close_fds, shell, cwd, env, universal_newlines, startupinfo, creationflags, restore_signals, start_new_session, pass_fds, encoding, errors, text)\u001b[0m\n\u001b[0;32m    662\u001b[0m                  pass_fds=(), *, encoding=None, errors=None, text=None):\n\u001b[0;32m    663\u001b[0m         \u001b[1;34m\"\"\"Create new Popen instance.\"\"\"\u001b[0m\u001b[1;33m\u001b[0m\u001b[1;33m\u001b[0m\u001b[0m\n\u001b[1;32m--> 664\u001b[1;33m         \u001b[0m_cleanup\u001b[0m\u001b[1;33m(\u001b[0m\u001b[1;33m)\u001b[0m\u001b[1;33m\u001b[0m\u001b[1;33m\u001b[0m\u001b[0m\n\u001b[0m\u001b[0;32m    665\u001b[0m         \u001b[1;31m# Held while anything is calling waitpid before returncode has been\u001b[0m\u001b[1;33m\u001b[0m\u001b[1;33m\u001b[0m\u001b[1;33m\u001b[0m\u001b[0m\n\u001b[0;32m    666\u001b[0m         \u001b[1;31m# updated to prevent clobbering returncode if wait() or poll() are\u001b[0m\u001b[1;33m\u001b[0m\u001b[1;33m\u001b[0m\u001b[1;33m\u001b[0m\u001b[0m\n",
      "\u001b[1;32mC:\\ProgramData\\Anaconda3\\lib\\subprocess.py\u001b[0m in \u001b[0;36m_cleanup\u001b[1;34m()\u001b[0m\n\u001b[0;32m    226\u001b[0m \u001b[1;32mdef\u001b[0m \u001b[0m_cleanup\u001b[0m\u001b[1;33m(\u001b[0m\u001b[1;33m)\u001b[0m\u001b[1;33m:\u001b[0m\u001b[1;33m\u001b[0m\u001b[1;33m\u001b[0m\u001b[0m\n\u001b[0;32m    227\u001b[0m     \u001b[1;32mfor\u001b[0m \u001b[0minst\u001b[0m \u001b[1;32min\u001b[0m \u001b[0m_active\u001b[0m\u001b[1;33m[\u001b[0m\u001b[1;33m:\u001b[0m\u001b[1;33m]\u001b[0m\u001b[1;33m:\u001b[0m\u001b[1;33m\u001b[0m\u001b[1;33m\u001b[0m\u001b[0m\n\u001b[1;32m--> 228\u001b[1;33m         \u001b[0mres\u001b[0m \u001b[1;33m=\u001b[0m \u001b[0minst\u001b[0m\u001b[1;33m.\u001b[0m\u001b[0m_internal_poll\u001b[0m\u001b[1;33m(\u001b[0m\u001b[0m_deadstate\u001b[0m\u001b[1;33m=\u001b[0m\u001b[0msys\u001b[0m\u001b[1;33m.\u001b[0m\u001b[0mmaxsize\u001b[0m\u001b[1;33m)\u001b[0m\u001b[1;33m\u001b[0m\u001b[1;33m\u001b[0m\u001b[0m\n\u001b[0m\u001b[0;32m    229\u001b[0m         \u001b[1;32mif\u001b[0m \u001b[0mres\u001b[0m \u001b[1;32mis\u001b[0m \u001b[1;32mnot\u001b[0m \u001b[1;32mNone\u001b[0m\u001b[1;33m:\u001b[0m\u001b[1;33m\u001b[0m\u001b[1;33m\u001b[0m\u001b[0m\n\u001b[0;32m    230\u001b[0m             \u001b[1;32mtry\u001b[0m\u001b[1;33m:\u001b[0m\u001b[1;33m\u001b[0m\u001b[1;33m\u001b[0m\u001b[0m\n",
      "\u001b[1;32mC:\\ProgramData\\Anaconda3\\lib\\subprocess.py\u001b[0m in \u001b[0;36m_internal_poll\u001b[1;34m(self, _deadstate, _WaitForSingleObject, _WAIT_OBJECT_0, _GetExitCodeProcess)\u001b[0m\n\u001b[0;32m   1215\u001b[0m             \u001b[1;32mif\u001b[0m \u001b[0mself\u001b[0m\u001b[1;33m.\u001b[0m\u001b[0mreturncode\u001b[0m \u001b[1;32mis\u001b[0m \u001b[1;32mNone\u001b[0m\u001b[1;33m:\u001b[0m\u001b[1;33m\u001b[0m\u001b[1;33m\u001b[0m\u001b[0m\n\u001b[0;32m   1216\u001b[0m                 \u001b[1;32mif\u001b[0m \u001b[0m_WaitForSingleObject\u001b[0m\u001b[1;33m(\u001b[0m\u001b[0mself\u001b[0m\u001b[1;33m.\u001b[0m\u001b[0m_handle\u001b[0m\u001b[1;33m,\u001b[0m \u001b[1;36m0\u001b[0m\u001b[1;33m)\u001b[0m \u001b[1;33m==\u001b[0m \u001b[0m_WAIT_OBJECT_0\u001b[0m\u001b[1;33m:\u001b[0m\u001b[1;33m\u001b[0m\u001b[1;33m\u001b[0m\u001b[0m\n\u001b[1;32m-> 1217\u001b[1;33m                     \u001b[0mself\u001b[0m\u001b[1;33m.\u001b[0m\u001b[0mreturncode\u001b[0m \u001b[1;33m=\u001b[0m \u001b[0m_GetExitCodeProcess\u001b[0m\u001b[1;33m(\u001b[0m\u001b[0mself\u001b[0m\u001b[1;33m.\u001b[0m\u001b[0m_handle\u001b[0m\u001b[1;33m)\u001b[0m\u001b[1;33m\u001b[0m\u001b[1;33m\u001b[0m\u001b[0m\n\u001b[0m\u001b[0;32m   1218\u001b[0m             \u001b[1;32mreturn\u001b[0m \u001b[0mself\u001b[0m\u001b[1;33m.\u001b[0m\u001b[0mreturncode\u001b[0m\u001b[1;33m\u001b[0m\u001b[1;33m\u001b[0m\u001b[0m\n\u001b[0;32m   1219\u001b[0m \u001b[1;33m\u001b[0m\u001b[0m\n",
      "\u001b[1;31mOSError\u001b[0m: [WinError 6] The handle is invalid"
     ]
    }
   ],
   "source": [
    "env = gym.make('CartPole-v0')\n",
    "env = wrappers.Monitor(env, \"./gym-results\", force=True)\n",
    "env.reset()\n",
    "for _ in range(1000):\n",
    "    action = env.action_space.sample()\n",
    "    observation, reward, done, info = env.step(action)\n",
    "    if done: break\n",
    "env.close()\n",
    "\n",
    "video = io.open('./gym-results/openaigym.video.%s.video000000.mp4' % env.file_infix, 'r+b').read()\n",
    "encoded = base64.b64encode(video)\n",
    "HTML(data='''\n",
    "    <video width=\"360\" height=\"auto\" alt=\"test\" controls><source src=\"data:video/mp4;base64,{0}\" type=\"video/mp4\" /></video>'''\n",
    ".format(encoded.decode('ascii')))"
   ]
  },
  {
   "cell_type": "markdown",
   "metadata": {},
   "source": [
    "##### METHOD 2:"
   ]
  },
  {
   "cell_type": "code",
   "execution_count": 1077,
   "metadata": {},
   "outputs": [
    {
     "ename": "TypeError",
     "evalue": "Image data of dtype object cannot be converted to float",
     "output_type": "error",
     "traceback": [
      "\u001b[1;31m---------------------------------------------------------------------------\u001b[0m",
      "\u001b[1;31mTypeError\u001b[0m                                 Traceback (most recent call last)",
      "\u001b[1;32m<ipython-input-1077-415a9fafd9f8>\u001b[0m in \u001b[0;36m<module>\u001b[1;34m\u001b[0m\n\u001b[0;32m      1\u001b[0m \u001b[0mnb_episodes\u001b[0m \u001b[1;33m=\u001b[0m \u001b[1;36m20\u001b[0m\u001b[1;33m\u001b[0m\u001b[1;33m\u001b[0m\u001b[0m\n\u001b[0;32m      2\u001b[0m \u001b[0mnb_timesteps\u001b[0m \u001b[1;33m=\u001b[0m \u001b[1;36m100\u001b[0m\u001b[1;33m\u001b[0m\u001b[1;33m\u001b[0m\u001b[0m\n\u001b[1;32m----> 3\u001b[1;33m \u001b[0mimg\u001b[0m \u001b[1;33m=\u001b[0m \u001b[0mplt\u001b[0m\u001b[1;33m.\u001b[0m\u001b[0mimshow\u001b[0m\u001b[1;33m(\u001b[0m\u001b[0menv\u001b[0m\u001b[1;33m.\u001b[0m\u001b[0mrender\u001b[0m\u001b[1;33m(\u001b[0m\u001b[0mmode\u001b[0m\u001b[1;33m=\u001b[0m\u001b[1;34m'rgb_array'\u001b[0m\u001b[1;33m)\u001b[0m\u001b[1;33m)\u001b[0m \u001b[1;31m# only call this once\u001b[0m\u001b[1;33m\u001b[0m\u001b[1;33m\u001b[0m\u001b[0m\n\u001b[0m\u001b[0;32m      4\u001b[0m \u001b[1;33m\u001b[0m\u001b[0m\n\u001b[0;32m      5\u001b[0m \u001b[1;32mfor\u001b[0m \u001b[0mepisode\u001b[0m \u001b[1;32min\u001b[0m \u001b[0mrange\u001b[0m\u001b[1;33m(\u001b[0m\u001b[0mnb_episodes\u001b[0m\u001b[1;33m)\u001b[0m\u001b[1;33m:\u001b[0m  \u001b[1;31m# iterate over the episodes\u001b[0m\u001b[1;33m\u001b[0m\u001b[1;33m\u001b[0m\u001b[0m\n",
      "\u001b[1;32mC:\\ProgramData\\Anaconda3\\lib\\site-packages\\matplotlib\\pyplot.py\u001b[0m in \u001b[0;36mimshow\u001b[1;34m(X, cmap, norm, aspect, interpolation, alpha, vmin, vmax, origin, extent, shape, filternorm, filterrad, imlim, resample, url, data, **kwargs)\u001b[0m\n\u001b[0;32m   2681\u001b[0m         \u001b[0mfilternorm\u001b[0m\u001b[1;33m=\u001b[0m\u001b[0mfilternorm\u001b[0m\u001b[1;33m,\u001b[0m \u001b[0mfilterrad\u001b[0m\u001b[1;33m=\u001b[0m\u001b[0mfilterrad\u001b[0m\u001b[1;33m,\u001b[0m \u001b[0mimlim\u001b[0m\u001b[1;33m=\u001b[0m\u001b[0mimlim\u001b[0m\u001b[1;33m,\u001b[0m\u001b[1;33m\u001b[0m\u001b[1;33m\u001b[0m\u001b[0m\n\u001b[0;32m   2682\u001b[0m         resample=resample, url=url, **({\"data\": data} if data is not\n\u001b[1;32m-> 2683\u001b[1;33m         None else {}), **kwargs)\n\u001b[0m\u001b[0;32m   2684\u001b[0m     \u001b[0msci\u001b[0m\u001b[1;33m(\u001b[0m\u001b[0m__ret\u001b[0m\u001b[1;33m)\u001b[0m\u001b[1;33m\u001b[0m\u001b[1;33m\u001b[0m\u001b[0m\n\u001b[0;32m   2685\u001b[0m     \u001b[1;32mreturn\u001b[0m \u001b[0m__ret\u001b[0m\u001b[1;33m\u001b[0m\u001b[1;33m\u001b[0m\u001b[0m\n",
      "\u001b[1;32mC:\\ProgramData\\Anaconda3\\lib\\site-packages\\matplotlib\\__init__.py\u001b[0m in \u001b[0;36minner\u001b[1;34m(ax, data, *args, **kwargs)\u001b[0m\n\u001b[0;32m   1599\u001b[0m     \u001b[1;32mdef\u001b[0m \u001b[0minner\u001b[0m\u001b[1;33m(\u001b[0m\u001b[0max\u001b[0m\u001b[1;33m,\u001b[0m \u001b[1;33m*\u001b[0m\u001b[0margs\u001b[0m\u001b[1;33m,\u001b[0m \u001b[0mdata\u001b[0m\u001b[1;33m=\u001b[0m\u001b[1;32mNone\u001b[0m\u001b[1;33m,\u001b[0m \u001b[1;33m**\u001b[0m\u001b[0mkwargs\u001b[0m\u001b[1;33m)\u001b[0m\u001b[1;33m:\u001b[0m\u001b[1;33m\u001b[0m\u001b[1;33m\u001b[0m\u001b[0m\n\u001b[0;32m   1600\u001b[0m         \u001b[1;32mif\u001b[0m \u001b[0mdata\u001b[0m \u001b[1;32mis\u001b[0m \u001b[1;32mNone\u001b[0m\u001b[1;33m:\u001b[0m\u001b[1;33m\u001b[0m\u001b[1;33m\u001b[0m\u001b[0m\n\u001b[1;32m-> 1601\u001b[1;33m             \u001b[1;32mreturn\u001b[0m \u001b[0mfunc\u001b[0m\u001b[1;33m(\u001b[0m\u001b[0max\u001b[0m\u001b[1;33m,\u001b[0m \u001b[1;33m*\u001b[0m\u001b[0mmap\u001b[0m\u001b[1;33m(\u001b[0m\u001b[0msanitize_sequence\u001b[0m\u001b[1;33m,\u001b[0m \u001b[0margs\u001b[0m\u001b[1;33m)\u001b[0m\u001b[1;33m,\u001b[0m \u001b[1;33m**\u001b[0m\u001b[0mkwargs\u001b[0m\u001b[1;33m)\u001b[0m\u001b[1;33m\u001b[0m\u001b[1;33m\u001b[0m\u001b[0m\n\u001b[0m\u001b[0;32m   1602\u001b[0m \u001b[1;33m\u001b[0m\u001b[0m\n\u001b[0;32m   1603\u001b[0m         \u001b[0mbound\u001b[0m \u001b[1;33m=\u001b[0m \u001b[0mnew_sig\u001b[0m\u001b[1;33m.\u001b[0m\u001b[0mbind\u001b[0m\u001b[1;33m(\u001b[0m\u001b[0max\u001b[0m\u001b[1;33m,\u001b[0m \u001b[1;33m*\u001b[0m\u001b[0margs\u001b[0m\u001b[1;33m,\u001b[0m \u001b[1;33m**\u001b[0m\u001b[0mkwargs\u001b[0m\u001b[1;33m)\u001b[0m\u001b[1;33m\u001b[0m\u001b[1;33m\u001b[0m\u001b[0m\n",
      "\u001b[1;32mC:\\ProgramData\\Anaconda3\\lib\\site-packages\\matplotlib\\cbook\\deprecation.py\u001b[0m in \u001b[0;36mwrapper\u001b[1;34m(*args, **kwargs)\u001b[0m\n\u001b[0;32m    367\u001b[0m                 \u001b[1;34mf\"%(removal)s.  If any parameter follows {name!r}, they \"\u001b[0m\u001b[1;33m\u001b[0m\u001b[1;33m\u001b[0m\u001b[0m\n\u001b[0;32m    368\u001b[0m                 f\"should be pass as keyword, not positionally.\")\n\u001b[1;32m--> 369\u001b[1;33m         \u001b[1;32mreturn\u001b[0m \u001b[0mfunc\u001b[0m\u001b[1;33m(\u001b[0m\u001b[1;33m*\u001b[0m\u001b[0margs\u001b[0m\u001b[1;33m,\u001b[0m \u001b[1;33m**\u001b[0m\u001b[0mkwargs\u001b[0m\u001b[1;33m)\u001b[0m\u001b[1;33m\u001b[0m\u001b[1;33m\u001b[0m\u001b[0m\n\u001b[0m\u001b[0;32m    370\u001b[0m \u001b[1;33m\u001b[0m\u001b[0m\n\u001b[0;32m    371\u001b[0m     \u001b[1;32mreturn\u001b[0m \u001b[0mwrapper\u001b[0m\u001b[1;33m\u001b[0m\u001b[1;33m\u001b[0m\u001b[0m\n",
      "\u001b[1;32mC:\\ProgramData\\Anaconda3\\lib\\site-packages\\matplotlib\\cbook\\deprecation.py\u001b[0m in \u001b[0;36mwrapper\u001b[1;34m(*args, **kwargs)\u001b[0m\n\u001b[0;32m    367\u001b[0m                 \u001b[1;34mf\"%(removal)s.  If any parameter follows {name!r}, they \"\u001b[0m\u001b[1;33m\u001b[0m\u001b[1;33m\u001b[0m\u001b[0m\n\u001b[0;32m    368\u001b[0m                 f\"should be pass as keyword, not positionally.\")\n\u001b[1;32m--> 369\u001b[1;33m         \u001b[1;32mreturn\u001b[0m \u001b[0mfunc\u001b[0m\u001b[1;33m(\u001b[0m\u001b[1;33m*\u001b[0m\u001b[0margs\u001b[0m\u001b[1;33m,\u001b[0m \u001b[1;33m**\u001b[0m\u001b[0mkwargs\u001b[0m\u001b[1;33m)\u001b[0m\u001b[1;33m\u001b[0m\u001b[1;33m\u001b[0m\u001b[0m\n\u001b[0m\u001b[0;32m    370\u001b[0m \u001b[1;33m\u001b[0m\u001b[0m\n\u001b[0;32m    371\u001b[0m     \u001b[1;32mreturn\u001b[0m \u001b[0mwrapper\u001b[0m\u001b[1;33m\u001b[0m\u001b[1;33m\u001b[0m\u001b[0m\n",
      "\u001b[1;32mC:\\ProgramData\\Anaconda3\\lib\\site-packages\\matplotlib\\axes\\_axes.py\u001b[0m in \u001b[0;36mimshow\u001b[1;34m(self, X, cmap, norm, aspect, interpolation, alpha, vmin, vmax, origin, extent, shape, filternorm, filterrad, imlim, resample, url, **kwargs)\u001b[0m\n\u001b[0;32m   5669\u001b[0m                               resample=resample, **kwargs)\n\u001b[0;32m   5670\u001b[0m \u001b[1;33m\u001b[0m\u001b[0m\n\u001b[1;32m-> 5671\u001b[1;33m         \u001b[0mim\u001b[0m\u001b[1;33m.\u001b[0m\u001b[0mset_data\u001b[0m\u001b[1;33m(\u001b[0m\u001b[0mX\u001b[0m\u001b[1;33m)\u001b[0m\u001b[1;33m\u001b[0m\u001b[1;33m\u001b[0m\u001b[0m\n\u001b[0m\u001b[0;32m   5672\u001b[0m         \u001b[0mim\u001b[0m\u001b[1;33m.\u001b[0m\u001b[0mset_alpha\u001b[0m\u001b[1;33m(\u001b[0m\u001b[0malpha\u001b[0m\u001b[1;33m)\u001b[0m\u001b[1;33m\u001b[0m\u001b[1;33m\u001b[0m\u001b[0m\n\u001b[0;32m   5673\u001b[0m         \u001b[1;32mif\u001b[0m \u001b[0mim\u001b[0m\u001b[1;33m.\u001b[0m\u001b[0mget_clip_path\u001b[0m\u001b[1;33m(\u001b[0m\u001b[1;33m)\u001b[0m \u001b[1;32mis\u001b[0m \u001b[1;32mNone\u001b[0m\u001b[1;33m:\u001b[0m\u001b[1;33m\u001b[0m\u001b[1;33m\u001b[0m\u001b[0m\n",
      "\u001b[1;32mC:\\ProgramData\\Anaconda3\\lib\\site-packages\\matplotlib\\image.py\u001b[0m in \u001b[0;36mset_data\u001b[1;34m(self, A)\u001b[0m\n\u001b[0;32m    683\u001b[0m                 not np.can_cast(self._A.dtype, float, \"same_kind\")):\n\u001b[0;32m    684\u001b[0m             raise TypeError(\"Image data of dtype {} cannot be converted to \"\n\u001b[1;32m--> 685\u001b[1;33m                             \"float\".format(self._A.dtype))\n\u001b[0m\u001b[0;32m    686\u001b[0m \u001b[1;33m\u001b[0m\u001b[0m\n\u001b[0;32m    687\u001b[0m         if not (self._A.ndim == 2\n",
      "\u001b[1;31mTypeError\u001b[0m: Image data of dtype object cannot be converted to float"
     ]
    },
    {
     "data": {
      "image/png": "[encoded data removed]",
      "text/plain": [
       "<Figure size 432x288 with 1 Axes>"
      ]
     },
     "metadata": {
      "needs_background": "light"
     },
     "output_type": "display_data"
    }
   ],
   "source": [
    "nb_episodes = 20\n",
    "nb_timesteps = 100\n",
    "img = plt.imshow(env.render(mode='rgb_array')) # only call this once\n",
    "\n",
    "for episode in range(nb_episodes):  # iterate over the episodes\n",
    "    state = env.reset()             # initialise the environment\n",
    "    rewards = []\n",
    "    \n",
    "    for t in range(nb_timesteps):    # iterate over time steps\n",
    "        #env.render()                 # display the environment\n",
    "        img.set_data(env.render(mode='rgb_array')) # just update the data\n",
    "        display.display(plt.gcf())\n",
    "        display.clear_output(wait=True)\n",
    "        state, reward, done, info = env.step(0)  # implement the action chosen by the policy\n",
    "        rewards.append(reward)      # add 1 to the rewards list\n",
    "        \n",
    "        if done: # the episode ends either if the pole is > 15 deg from vertical or the cart move by > 2.4 unit from the centre\n",
    "            cumulative_reward = sum(rewards)\n",
    "            print(\"episode {} finished after {} timesteps. Total reward: {}\".format(episode, t+1, cumulative_reward))  \n",
    "            break\n",
    "    \n",
    "env.close()"
   ]
  },
  {
   "cell_type": "markdown",
   "metadata": {},
   "source": [
    "---"
   ]
  },
  {
   "cell_type": "markdown",
   "metadata": {},
   "source": [
    "##### OTHER USEFUL-INFO:"
   ]
  },
  {
   "cell_type": "raw",
   "metadata": {},
   "source": [
    "- useful links\n",
    "    - how to initialize to a custom state: https://stackoverflow.com/questions/57263759/how-can-i-start-the-environment-from-a-custom-initial-state-for-mountain-car"
   ]
  }
 ],
 "metadata": {
  "kernelspec": {
   "display_name": "Python 3",
   "language": "python",
   "name": "python3"
  },
  "language_info": {
   "codemirror_mode": {
    "name": "ipython",
    "version": 3
   },
   "file_extension": ".py",
   "mimetype": "text/x-python",
   "name": "python",
   "nbconvert_exporter": "python",
   "pygments_lexer": "ipython3",
   "version": "3.7.4"
  }
 },
 "nbformat": 4,
 "nbformat_minor": 4
}
