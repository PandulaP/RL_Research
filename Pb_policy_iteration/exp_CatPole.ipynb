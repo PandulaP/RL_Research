{
 "cells": [
  {
   "cell_type": "markdown",
   "metadata": {},
   "source": [
    "#### Preference-based Policy Iteration Algorithm\n",
    "\n",
    "This is an attempt to replicate the work done by Fürnkranz et al., (2012) in their paper \"Preference-based reinforcement learning: a formal framework and a policy iteration algorithm\""
   ]
  },
  {
   "cell_type": "code",
   "execution_count": 15,
   "metadata": {},
   "outputs": [],
   "source": [
    "import numpy as np\n",
    "import pandas as pd\n",
    "\n",
    "import torch\n",
    "import torch.nn as nn\n",
    "import torch.nn.functional as F\n",
    "from torch.utils.data import TensorDataset, DataLoader\n",
    "\n",
    "import matplotlib.pyplot as plt\n",
    "from IPython import display\n",
    "from IPython.display import HTML\n",
    "import gym\n",
    "from gym import wrappers\n",
    "import io\n",
    "import base64\n",
    "import itertools\n",
    "import tqdm\n",
    "\n",
    "from scipy.stats import rankdata as rd"
   ]
  },
  {
   "cell_type": "markdown",
   "metadata": {},
   "source": [
    "**State observation**:\n",
    "    \n",
    "    Type: Box(4)\n",
    "\n",
    "    Num     Observation               Min                     Max\n",
    "    0       Cart Position             -4.8                    4.8\n",
    "    1       Cart Velocity             -Inf                    Inf\n",
    "    2       Pole Angle                -0.418 rad (-24 deg)    0.418 rad (24 deg)\n",
    "    3       Pole Angular Velocity     -Inf                    Inf\n",
    "\n",
    "- For this project, I will describe the state of the pendulum using only the angle and angular velocity of the pole, ignoring the position and the velocity of cart.\n",
    "\n",
    "**Actions**:\n",
    "\n",
    "    Type: Discrete(2)\n",
    "    \n",
    "    Num   Action\n",
    "    0     Push cart to the left\n",
    "    1     Push cart to the right"
   ]
  },
  {
   "cell_type": "code",
   "execution_count": 2,
   "metadata": {},
   "outputs": [
    {
     "name": "stdout",
     "output_type": "stream",
     "text": [
      "Number of actions: 2\n",
      "Observation space: Box(4,)\n",
      "Max. values of observation space:[4.8000002e+00 3.4028235e+38 4.1887903e-01 3.4028235e+38]\n",
      "Min. values of observation space:[-4.8000002e+00 -3.4028235e+38 -4.1887903e-01 -3.4028235e+38]\n"
     ]
    }
   ],
   "source": [
    "env = gym.make('CartPole-v0')\n",
    "env.reset()\n",
    "\n",
    "print(\"Number of actions: \" + str(env.action_space.n))\n",
    "print(\"Observation space: \" + str(env.observation_space))\n",
    "print(\"Max. values of observation space:\" + str(env.observation_space.high))\n",
    "print(\"Min. values of observation space:\" + str(env.observation_space.low))"
   ]
  },
  {
   "cell_type": "code",
   "execution_count": 3,
   "metadata": {},
   "outputs": [],
   "source": [
    "# helper functions\n",
    "\n",
    "def state_filter(state):\n",
    "    \"\"\" only use the angle and the angular velocity of the pole to describe the state\"\"\"\n",
    "    \n",
    "    return state[[2,3]]\n",
    "\n",
    "\n",
    "def random_action(state):\n",
    "    \"\"\" return a random action: either 0 (left) or 1 (right)\"\"\"\n",
    "    \n",
    "    action = env.action_space.sample()  \n",
    "    return action"
   ]
  },
  {
   "cell_type": "markdown",
   "metadata": {},
   "source": [
    "I generate random samples $S$ in this setting by simulating a uniform random number (max 100) of uniform random actions from the initial state. If the pendulum fell within this sequence, the procedure was repeated."
   ]
  },
  {
   "cell_type": "code",
   "execution_count": 4,
   "metadata": {},
   "outputs": [],
   "source": [
    "def generate_init_states_S(seed, filter_state=True):\n",
    "    \"\"\"this function returns a list of randomly generated initial states from the CartPole-v0 environment \"\"\"\n",
    "    \n",
    "    np.random.seed(seed)\n",
    "    \n",
    "    n_actions = np.random.randint(low=1, high=101)                # how many actions to generate\n",
    "    seq_actions = np.random.randint(low=0,high=2,size=n_actions)  # random sequence of actions\n",
    "\n",
    "    init_states_S = []   # to store initial states\n",
    "\n",
    "    env = gym.make('CartPole-v0')\n",
    "    env.reset()\n",
    "\n",
    "    for action in seq_actions:\n",
    "\n",
    "        state, reward, done, info = env.step(action)  # implement the actions in the random sequence\n",
    "        \n",
    "        if filter_state:\n",
    "            init_states_S.append(state_filter(state)) # append the environment state to list (only angular velocity and angle)\n",
    "        else:\n",
    "            init_states_S.append(state) # all 4 state observations\n",
    "            \n",
    "        if done: # the episode ends either if the pole is > 15 deg from vertical or the cart move by > 2.4 unit from the centre\n",
    "            env.reset()    \n",
    "            \n",
    "    env.close()\n",
    "            \n",
    "    return init_states_S"
   ]
  },
  {
   "cell_type": "markdown",
   "metadata": {},
   "source": [
    " Generate a sequence of intial states (for $S$) and display first 10"
   ]
  },
  {
   "cell_type": "code",
   "execution_count": 5,
   "metadata": {},
   "outputs": [
    {
     "data": {
      "image/png": "[encoded data removed]",
      "text/plain": [
       "<Figure size 1440x360 with 10 Axes>"
      ]
     },
     "metadata": {
      "needs_background": "light"
     },
     "output_type": "display_data"
    }
   ],
   "source": [
    "init_states_S = generate_init_states_S(16) # randomly generated states initial\n",
    "\n",
    "env = gym.make('CartPole-v0') # create inv. pend environment\n",
    "env = env.unwrapped           # unwrap the environment to send custom initial states\n",
    "fig = plt.figure(figsize=(20,5))\n",
    "\n",
    "for i in range(10):\n",
    "    env.state = np.concatenate((np.array([0.0,0.0]),init_states_S[i])) # manually adding cart-posi & cart-velocity\n",
    "    fig.add_subplot(2,5,i+1)\n",
    "    plt.imshow(env.render(mode=\"rgb_array\"))\n",
    "    env.close()\n",
    "    \n",
    "plt.show()"
   ]
  },
  {
   "cell_type": "markdown",
   "metadata": {},
   "source": [
    "I partition the action space to create multiple actions, because in these cases it becomes less and less likely that a unique best actions can be found. The range of the original action set {0, 1} is partitioned equidistantly into the given number of actions:"
   ]
  },
  {
   "cell_type": "code",
   "execution_count": 6,
   "metadata": {},
   "outputs": [],
   "source": [
    "def partition_action_space(env,n_actions):\n",
    "    \"\"\"this function partitions the action space of a given environment into a given number of `n_actions`\"\"\"\n",
    "    \n",
    "    actions = np.arange(env.action_space.n)\n",
    "\n",
    "    # a uniform noise term is added to action signals to make all state transitions non-deterministic\n",
    "    part_act_space = np.linspace(actions[0],actions[-1],n_actions) + np.random.uniform(low = -.2,high=.2) \n",
    "    \n",
    "    return part_act_space                                                                                "
   ]
  },
  {
   "cell_type": "code",
   "execution_count": 7,
   "metadata": {},
   "outputs": [
    {
     "name": "stdout",
     "output_type": "stream",
     "text": [
      "Original action space: 2\n",
      "Partitioned into 3 actions: [-0.12215384  0.37784616  0.87784616]\n",
      "Partitioned into 9 actions: [-0.09014737  0.03485263  0.15985263  0.28485263  0.40985263  0.53485263\n",
      "  0.65985263  0.78485263  0.90985263]\n",
      "Partitioned into 17 actions: [-0.14760155 -0.08510155 -0.02260155  0.03989845  0.10239845  0.16489845\n",
      "  0.22739845  0.28989845  0.35239845  0.41489845  0.47739845  0.53989845\n",
      "  0.60239845  0.66489845  0.72739845  0.78989845  0.85239845]\n"
     ]
    }
   ],
   "source": [
    "env = gym.make('CartPole-v0')\n",
    "\n",
    "print(\"Original action space: \" + str(env.action_space.n))\n",
    "print(\"Partitioned into 3 actions: \" + str(partition_action_space(env,3)))\n",
    "print(\"Partitioned into 9 actions: \" + str(partition_action_space(env,9)))\n",
    "print(\"Partitioned into 17 actions: \" + str(partition_action_space(env,17)))"
   ]
  },
  {
   "cell_type": "markdown",
   "metadata": {},
   "source": [
    "### Preference-based Approximate Policy Iteration algorithm"
   ]
  },
  {
   "cell_type": "code",
   "execution_count": 100,
   "metadata": {},
   "outputs": [],
   "source": [
    "#####################################\n",
    "### Evaluate-Preference procedure ###\n",
    "\n",
    "### Description:\n",
    "###  This is done using roll-outs\n",
    "###  At every state in the initial state set, roll-outs are generated from each action for the same policy\n",
    "###  Accumulated rewards from each roll-out from each action are used to generate preferences for every pair of actions\n",
    "###  Generated preferences are stored in the training set; training data are used to learn the LabelRanker\n",
    "\n",
    "### Functionality:\n",
    "### - INPUTS  : starting state (s), two-actions(a_k, a_j), (current) policy (\\pi), max. length of trajectoris (L)\n",
    "### - PROCESS : generate roll-out (fixed time horizon) and calculate accumulate reward\n",
    "### - OUTPUT  : compare return from each rollout: store preference info in training dataset as (s,a_k > a_j)\n",
    "\n",
    "### - Run this procedure for every action-pair at all initial-states\n",
    "\n",
    "def evaluate_preference(starting_state\n",
    "                        , action_1\n",
    "                        , action_2\n",
    "                        , policy\n",
    "                        , environment_name = 'CartPole-v0'\n",
    "                        , discount_fac = 1\n",
    "                        , n_rollouts = 15\n",
    "                        , max_rollout_len = 1500\n",
    "                       ):\n",
    "    \n",
    "    policy = policy              # policy to follow in roll-outs\n",
    "    n_rollouts = n_rollouts      # number of roll-outs to generate\n",
    "    gamma = discount_fac         # discount factor\n",
    "\n",
    "    # state is 4 dimensional by default: if only 2 give, has to expand to 4 dimensions\n",
    "    if len(starting_state) == 2:\n",
    "        # manually define state-values for 'cart-position' & 'cart-velocity'\n",
    "        cart_posi, cart_velo = 0,0   \n",
    "        s_init = np.concatenate((np.array([cart_posi,cart_velo]),starting_state))\n",
    "    else:\n",
    "        s_init = starting_state\n",
    "        \n",
    "    # dict. to store actions\n",
    "    actions = { 'one' : action_1 \n",
    "              , 'two' : action_2}    \n",
    "\n",
    "    # dict to store  rewards of roll-outs starting from each action\n",
    "    r = { 'one' : [None]*n_rollouts \n",
    "        , 'two' : [None]*n_rollouts}  \n",
    "\n",
    "    # dict to store average discounted return for for each action\n",
    "    avg_r = {}  \n",
    "\n",
    "    max_traj_len = max_rollout_len # maximum roll-out trajectory length\n",
    "\n",
    "    for action_key, action_value in actions.items():\n",
    "\n",
    "        # generate roll-outs\n",
    "        for rollout in range(n_rollouts):\n",
    "\n",
    "            env = gym.make(environment_name)\n",
    "            env = env.unwrapped\n",
    "\n",
    "            env.state = s_init  # set the starting state\n",
    "\n",
    "            # absolute of the rounded action value is applied in case action space is partitioned\n",
    "            #print(abs(round(action_value)))\n",
    "            observation, reward, done, info = env.step(int(abs(round(action_value))))\n",
    "\n",
    "            r[action_key][rollout] = reward # add the immediate reward of the action\n",
    "\n",
    "            traj_len = 1\n",
    "            while traj_len < max_traj_len and not done:\n",
    "\n",
    "                observation, reward, done, info = env.step(policy(observation)) ### NEED TO DEFINE A POLICY\n",
    "\n",
    "                r[action_key][rollout] += (gamma**traj_len) * reward\n",
    "\n",
    "                traj_len += 1\n",
    "\n",
    "            env.reset()\n",
    "            env.close()\n",
    "\n",
    "        # calculate average discounted return \n",
    "        avg_r[action_key]  = sum(r[action_key]) / len(r[action_key])\n",
    "\n",
    "    ### TO-DO ###\n",
    "    # RUN T-TEST AND RETURN ACTION PREFERENCE ONLY IF THERE IS A SIGNIFICANT DIFFERENCE\n",
    "    \n",
    "    # return preference info. to generate training data\n",
    "    if avg_r['one'] > avg_r['two']:\n",
    "        return {'state': s_init[[2,3]] if len(s_init)>2 else s_init # only use the angel and velocity of pendulum for state\n",
    "               , 'a_j' : actions['one']\n",
    "               , 'a_k' : actions['two']\n",
    "               , 'preference_label' : 1}\n",
    "#     elif avg_r['two'] > avg_r['one']:\n",
    "#         return {'state': s_init[[2,3]] if len(s_init)>2 else s_init  # only use the angel and velocity of pendulum for state\n",
    "#                , 'a_k_prefered_a_j' : [actions['two'],actions['one']]\n",
    "#                , 'preference_label' : 1}\n",
    "    else:\n",
    "        return {'state': s_init[[2,3]] if len(s_init)>2 else s_init # only use the angel and velocity of pendulum for state\n",
    "               , 'a_j' : actions['one']\n",
    "               , 'a_k' : actions['two']\n",
    "               , 'preference_label' : 0}"
   ]
  },
  {
   "cell_type": "code",
   "execution_count": 108,
   "metadata": {},
   "outputs": [
    {
     "data": {
      "text/plain": [
       "{'state': array([0.04932088, 0.04057652]),\n",
       " 'a_j': 0.3,\n",
       " 'a_k': 0.6,\n",
       " 'preference_label': 0}"
      ]
     },
     "execution_count": 108,
     "metadata": {},
     "output_type": "execute_result"
    }
   ],
   "source": [
    "evaluate_preference(env.reset(),0.3,0.6,random_action)"
   ]
  },
  {
   "cell_type": "code",
   "execution_count": 716,
   "metadata": {},
   "outputs": [],
   "source": [
    "#####################################\n",
    "### LABEL-RANKER MODEL-TRAINING procedure ###\n",
    "\n",
    "### Description:\n",
    "###  XXX..\n",
    "\n",
    "### Functionality:\n",
    "### - INPUTS  :\n",
    "### - PROCESS : \n",
    "### - OUTPUT  : \n",
    "\n",
    "### FUNCTION TO CREATE TRAINING DATASET + MODEL + RETURN THE TRAINED MODEL ###\n",
    "\n",
    "def train_model(train_data, batch_s = 3, mod_layers = [100,500,50], n_epochs = 300):\n",
    "\n",
    "    ###########################################\n",
    "    ###### CONSTRUCTING TRAINING-DATASET ######\n",
    "\n",
    "    # create a training dataframe\n",
    "    train_df = pd.DataFrame(train_data)\n",
    "\n",
    "    # create a key for each state\n",
    "    train_df.loc[:, 'state_key'] = train_df.state.apply(lambda x: x[0].astype(str)+\"_\"+x[1].astype(str))\n",
    "\n",
    "    # drop all states (rows) which does not include any preferred action\n",
    "    temp_df1 = train_df.groupby('state_key').preference_label.sum().reset_index()\n",
    "    temp_df1 = temp_df1.loc[temp_df1.preference_label>0] # pick the states that have at least one prefered action\n",
    "    train_df = train_df.merge(right = temp_df1.loc[:,'state_key']\n",
    "                              , right_on = 'state_key'\n",
    "                              , left_on = 'state_key'\n",
    "                              , how = 'right')\n",
    "\n",
    "    ## create a single column to include the set of all actions executed at each state\n",
    "    temp_df1 = train_df.groupby('state_key')['a_j'].unique().reset_index()\n",
    "    temp_df2 = train_df.groupby('state_key')['a_k'].unique().reset_index()\n",
    "    temp_df3 = temp_df1.merge(right=temp_df2\n",
    "                              , right_on = 'state_key'\n",
    "                              , left_on = 'state_key'\n",
    "                              , how = 'inner')\n",
    "    temp_df3.loc[:,'unique_acts'] = temp_df3.apply(lambda row: set(list(row['a_j']) + list(row['a_k'])) ,axis=1)\n",
    "\n",
    "    # add the unique-action column to train dataset\n",
    "    train_df = train_df.merge(right = temp_df3.loc[:,['state_key', 'unique_acts']]\n",
    "                  , right_on =  'state_key'\n",
    "                  , left_on = 'state_key'\n",
    "                  , how = 'left')\n",
    "\n",
    "    # create a 'prefered-action' value for each state, action-preference pair\n",
    "    train_df.loc[:,'prefered_action'] = train_df.apply(lambda row: row['a_j'] if row['preference_label'] == 1 else row['a_k']  ,axis=1)\n",
    "\n",
    "    # count the number of times each action is prefered at a state\n",
    "    action_preference_counts = train_df.groupby('state_key').prefered_action.value_counts().unstack()\n",
    "    action_preference_counts.replace(np.nan,0,inplace=True) # if an action is not preferred every, set it to '0'\n",
    "\n",
    "    # convert the action-preference-counts to a vector and add as a new column (to be used as training labels)\n",
    "    action_preference_counts.loc[:, 'preference_label_vector'] = action_preference_counts.iloc[:,0:].values.tolist()\n",
    "\n",
    "    # add preference label vector to training dataset\n",
    "    train_df = train_df.merge(right = action_preference_counts.loc[:,['preference_label_vector']]\n",
    "                              , right_index= True\n",
    "                              , left_on = 'state_key'\n",
    "                              , how = 'left')\n",
    "\n",
    "    # create the reduced training dataset (drop unnecessary columns + duplicate rows: which have data for same state)\n",
    "    train_df_reduced = train_df.loc[:,['state', 'state_key', 'unique_acts', 'preference_label_vector']]\n",
    "    train_df_reduced.drop_duplicates(subset=['state_key'],inplace=True)\n",
    "\n",
    "\n",
    "\n",
    "    ###### PREPARING TRAINING-DATA TENSORS (FOR MODEL) ######\n",
    "\n",
    "    # normalizing the target (preference label) vectors\n",
    "    output_labels_temp = np.array(train_df_reduced.preference_label_vector.tolist())\n",
    "    row_sums = output_labels_temp.sum(axis=1)\n",
    "    output_labels_normalized = output_labels_temp / row_sums[:, np.newaxis]\n",
    "\n",
    "    # creating training data tensors\n",
    "    input_states  = torch.from_numpy(np.array(train_df_reduced.state.apply(lambda x: x.astype(float)).tolist()))\n",
    "    output_labels = torch.from_numpy(output_labels_normalized)\n",
    "\n",
    "    # create TensorDataset\n",
    "    train_ds = TensorDataset(input_states , output_labels)\n",
    "\n",
    "    # define data loader\n",
    "    batch_size = batch_s\n",
    "    train_dl = DataLoader(train_ds, batch_size, shuffle=True, drop_last=True)\n",
    "\n",
    "\n",
    "    ###### CREATING NEURAL NETWORK FUNCTION APPROXIMATOR (MODEL) ######\n",
    "\n",
    "    class Model(nn.Module):\n",
    "\n",
    "        def __init__(self, input_state_len, output_label_len, layers, p=0.4):\n",
    "\n",
    "            super().__init__()\n",
    "            self.batch_norm_num = nn.BatchNorm1d(input_state_len)\n",
    "\n",
    "            all_layers = []\n",
    "            input_size = input_state_len\n",
    "\n",
    "            # create layers\n",
    "            for layer_dim in layers:\n",
    "                all_layers.append(nn.Linear(input_size, layer_dim))\n",
    "                all_layers.append(nn.ReLU(inplace=True))\n",
    "                all_layers.append(nn.BatchNorm1d(layer_dim))\n",
    "                all_layers.append(nn.Dropout(p))\n",
    "                input_size = layer_dim\n",
    "\n",
    "            all_layers.append(nn.Linear(layers[-1], output_label_len))\n",
    "\n",
    "            self.layers = nn.Sequential(*all_layers)\n",
    "\n",
    "        def forward(self, state_vec):\n",
    "            x = self.batch_norm_num(state_vec)\n",
    "            x = self.layers(x)\n",
    "            return x\n",
    "\n",
    "    # define model instance\n",
    "    model = Model(input_states.shape[1], output_labels.shape[1], mod_layers, p=0.4)\n",
    "\n",
    "    opt = torch.optim.SGD(model.parameters(), lr = 1e-1)\n",
    "    loss_fn = F.mse_loss\n",
    "\n",
    "\n",
    "    ###### DEFINING FIT-FUNCTION TO TRAIN THE MODEL ######\n",
    "\n",
    "    print('Training model...\\n',end='\\r')\n",
    "\n",
    "    # to store losses\n",
    "    aggregated_losses = []\n",
    "\n",
    "    # Define a utility function to train the model\n",
    "    def fit(num_epochs, model, loss_fn, opt):\n",
    "\n",
    "        for epoch in range(num_epochs):\n",
    "            for xb,yb in train_dl:\n",
    "\n",
    "                # Generate predictions\n",
    "                pred = model(xb.float())\n",
    "                loss = loss_fn(pred, yb.float())            \n",
    "\n",
    "                # Perform gradient descent\n",
    "                loss.backward()\n",
    "                opt.step()\n",
    "                opt.zero_grad()\n",
    "\n",
    "            aggregated_losses.append(loss_fn(model(input_states.float()), output_labels.float()).detach().numpy())\n",
    "\n",
    "            if epoch%25 == 0:\n",
    "                    print(f'epoch: {epoch:3} loss: {loss.item():10.8f}')\n",
    "\n",
    "        print('\\nTraining loss: ', loss_fn(model(input_states.float()), output_labels.float()).detach().numpy(),'\\n', end = '\\r')\n",
    "\n",
    "\n",
    "    ###### TRAINING-DATA THE MODEL ######\n",
    "\n",
    "    epochs = n_epochs\n",
    "    fit(epochs, model, loss_fn, opt)\n",
    "\n",
    "    # plotting model loss\n",
    "    plt.plot(range(epochs), aggregated_losses)\n",
    "    plt.ylabel('Loss')\n",
    "    plt.xlabel('epoch')\n",
    "    plt.show()\n",
    "\n",
    "    # set the model to evaluation mode\n",
    "    model.eval()\n",
    "    \n",
    "    #return the model\n",
    "    return model"
   ]
  },
  {
   "cell_type": "code",
   "execution_count": 724,
   "metadata": {},
   "outputs": [
    {
     "name": "stdout",
     "output_type": "stream",
     "text": [
      "Training model...\n",
      "epoch:   0 loss: 6.15239525\n",
      "epoch:  25 loss: 0.10474766\n",
      "epoch:  50 loss: 0.02695465\n",
      "epoch:  75 loss: 0.04361059\n",
      "epoch: 100 loss: 0.04010206\n",
      "epoch: 125 loss: 0.05314644\n",
      "epoch: 150 loss: 0.04990267\n",
      "epoch: 175 loss: 0.05205442\n",
      "epoch: 200 loss: 0.03147303\n",
      "epoch: 225 loss: 0.10924534\n",
      "epoch: 250 loss: 0.05779817\n",
      "epoch: 275 loss: 0.07141671\n",
      "\n",
      "Training loss:  0.033435386 \n",
      "\r"
     ]
    },
    {
     "data": {
      "image/png": "[encoded data removed]",
      "text/plain": [
       "<Figure size 432x288 with 1 Axes>"
      ]
     },
     "metadata": {
      "needs_background": "light"
     },
     "output_type": "display_data"
    },
    {
     "name": "stdout",
     "output_type": "stream",
     "text": [
      "-Prediction: tensor([0.3902, 0.3952, 0.2106])\n",
      "-Target: tensor([0.3333, 0.6667, 0.0000], dtype=torch.float64)\n"
     ]
    }
   ],
   "source": [
    "model = train_model(train_data)\n",
    "\n",
    "# making a sample prediction\n",
    "with torch.no_grad():\n",
    "    preds = model(input_states.float())\n",
    "    \n",
    "a = np.random.randint(10)\n",
    "print(f' - Prediction: {preds[a]}\\n - Target: {output_labels[a]}')\n",
    "# No need to worry about absolute values: only interested in the rankings"
   ]
  },
  {
   "cell_type": "code",
   "execution_count": 201,
   "metadata": {},
   "outputs": [
    {
     "name": "stderr",
     "output_type": "stream",
     "text": [
      "100%|████████████████████████████████████████████████████████████████████████████████████| 1/1 [00:01<00:00,  1.56s/it]\n"
     ]
    }
   ],
   "source": [
    "###################################################\n",
    "### Preference-Based Policy Iteration Algorithm ###\n",
    "\n",
    "### Functionality:\n",
    "### - INPUTS  : sample states (s'), initial (random) policy (\\pi0), max. num. of policy iterations (p)\n",
    "### - PROCESS : generate roll-out (fixed time horizon) and calculate accumulate reward\n",
    "### - OUTPUT  : compare return from each rollout: store preference info in training dataset as (s,a_k > a_j)\n",
    "\n",
    "\n",
    "# initialize environment\n",
    "env = gym.make('CartPole-v0')\n",
    "\n",
    "# initial random policy\n",
    "policy_init = random_action\n",
    "policy = policy_init\n",
    "\n",
    "# sample states\n",
    "sample_states = generate_init_states_S(seed = 16) # randomly generated states initial\n",
    "\n",
    "# maximum number of policy iterations\n",
    "max_iterr = 1 # increase this after writing the LabelRanker\n",
    "\n",
    "# action space to consider\n",
    "act_space = partition_action_space(env,3)\n",
    "\n",
    "# generate action-pairs (per each)\n",
    "act_pairs = list(itertools.combinations(act_space,2))\n",
    "\n",
    "# place-holder for training data\n",
    "train_data = []\n",
    "\n",
    "iterr = 0\n",
    "\n",
    "pbar = tqdm.tqdm(total=max_iterr)\n",
    "\n",
    "while iterr < max_iterr:\n",
    "    \n",
    "    # place-holder for training data\n",
    "    #train_data = [] # uncomment this after adding LabelRanker\n",
    "\n",
    "    \n",
    "    for state in sample_states:\n",
    "        \n",
    "        for action_pair in act_pairs:\n",
    "            preference_out = evaluate_preference(state, action_pair[0], action_pair[1], policy)\n",
    "            \n",
    "            if preference_out is not None:\n",
    "                train_data.append(preference_out)\n",
    "            else:\n",
    "                pass\n",
    "            \n",
    "    pbar.update(1)\n",
    "    iterr += 1\n",
    "    \n",
    "    \n",
    "pbar.close()\n",
    "### Train LaberRanker using train-data\n",
    "### Create new policy using LabeRanker\n",
    "### Re-run loop with new policy\n",
    "\n",
    "        \n",
    "        \n",
    "    \n",
    "\n",
    "\n"
   ]
  },
  {
   "cell_type": "markdown",
   "metadata": {},
   "source": [
    "### `LABEL-RANKER` Model training Experiment"
   ]
  },
  {
   "cell_type": "code",
   "execution_count": 703,
   "metadata": {},
   "outputs": [
    {
     "name": "stdout",
     "output_type": "stream",
     "text": [
      "Training model...\n",
      "epoch:   0 loss: 2.39541817\n",
      "epoch:  25 loss: 0.02365649\n",
      "epoch:  50 loss: 0.09631121\n",
      "epoch:  75 loss: 0.05344461\n",
      "epoch: 100 loss: 0.14437440\n",
      "epoch: 125 loss: 0.03273392\n",
      "epoch: 150 loss: 0.04118802\n",
      "epoch: 175 loss: 0.02512840\n",
      "epoch: 200 loss: 0.02410264\n",
      "epoch: 225 loss: 0.04048956\n",
      "epoch: 250 loss: 0.02288586\n",
      "epoch: 275 loss: 0.07751641\n",
      "\n",
      "Training loss:  0.03327476 \n",
      "\r"
     ]
    },
    {
     "data": {
      "image/png": "[encoded data removed]",
      "text/plain": [
       "<Figure size 432x288 with 1 Axes>"
      ]
     },
     "metadata": {
      "needs_background": "light"
     },
     "output_type": "display_data"
    }
   ],
   "source": [
    "model = train_model(train_data)"
   ]
  },
  {
   "cell_type": "code",
   "execution_count": 826,
   "metadata": {},
   "outputs": [],
   "source": [
    "### LABEL RANKER (POLICY) ###\n",
    "\n",
    "# This takes the trained model as an input\n",
    "# When a new state is given, the model makes a prediction for each action\n",
    "# This function then rank the actions based on the prediction\n",
    "# I select the Highest ranked (most prefered action) 90% time and second most preferred action 10% time\n",
    "\n",
    "def label_ranking_policy(obs,model):\n",
    "    \n",
    "    state_obs = obs[[2,3]] # only select angel and angular velo. of pendulum from state vector\n",
    "    state_obs = state_obs.reshape(-1,state_obs.shape[0]) # reshape to be a 2D array\n",
    "    state_obs = torch.from_numpy(state_obs) # convert to a tensor\n",
    "\n",
    "    # make the prediction for actions\n",
    "    with torch.no_grad():\n",
    "        preds = model(state_obs.float()) \n",
    "\n",
    "    # rank the indexes of actions (from highest ranked/preferred action to lowest)\n",
    "    ranked_action_idx = (-rd(preds.detach().numpy())).argsort()[:preds.shape[1]]\n",
    "\n",
    "    # return the action value\n",
    "    remain_probs = .1/len(ranked_action_idx[2:])\n",
    "    n_remain_actions = ranked_action_idx.shape[0]-2\n",
    "\n",
    "    # - select first two (highest preferred actions) 80% and 10% of the time\n",
    "    # - select one of the remaining actions 10% time\n",
    "    action = np.random.choice(ranked_action_idx,1 , p=[0.8, 0.1] + list(np.repeat(remain_probs,n_remain_actions)))[0]\n",
    "\n",
    "    return action"
   ]
  },
  {
   "cell_type": "code",
   "execution_count": 825,
   "metadata": {},
   "outputs": [
    {
     "data": {
      "text/plain": [
       "0"
      ]
     },
     "execution_count": 825,
     "metadata": {},
     "output_type": "execute_result"
    }
   ],
   "source": [
    "label_ranking_policy(observation,model)"
   ]
  },
  {
   "cell_type": "code",
   "execution_count": null,
   "metadata": {},
   "outputs": [],
   "source": []
  },
  {
   "cell_type": "code",
   "execution_count": null,
   "metadata": {},
   "outputs": [],
   "source": []
  },
  {
   "cell_type": "code",
   "execution_count": null,
   "metadata": {},
   "outputs": [],
   "source": []
  },
  {
   "cell_type": "code",
   "execution_count": null,
   "metadata": {},
   "outputs": [],
   "source": []
  },
  {
   "cell_type": "markdown",
   "metadata": {},
   "source": [
    "---"
   ]
  },
  {
   "cell_type": "markdown",
   "metadata": {},
   "source": [
    "## APPENDIX"
   ]
  },
  {
   "cell_type": "markdown",
   "metadata": {},
   "source": [
    "#### TRAINING DATASET PREP + MODEL + TRAINING [BREAKDOWN]"
   ]
  },
  {
   "cell_type": "code",
   "execution_count": 690,
   "metadata": {},
   "outputs": [
    {
     "data": {
      "text/html": [
       "<div>\n",
       "<style scoped>\n",
       "    .dataframe tbody tr th:only-of-type {\n",
       "        vertical-align: middle;\n",
       "    }\n",
       "\n",
       "    .dataframe tbody tr th {\n",
       "        vertical-align: top;\n",
       "    }\n",
       "\n",
       "    .dataframe thead th {\n",
       "        text-align: right;\n",
       "    }\n",
       "</style>\n",
       "<table border=\"1\" class=\"dataframe\">\n",
       "  <thead>\n",
       "    <tr style=\"text-align: right;\">\n",
       "      <th></th>\n",
       "      <th>state</th>\n",
       "      <th>a_j</th>\n",
       "      <th>a_k</th>\n",
       "      <th>preference_label</th>\n",
       "    </tr>\n",
       "  </thead>\n",
       "  <tbody>\n",
       "    <tr>\n",
       "      <td>0</td>\n",
       "      <td>[-0.04042570338131652, 0.2768141014688637]</td>\n",
       "      <td>-0.122154</td>\n",
       "      <td>0.377846</td>\n",
       "      <td>0</td>\n",
       "    </tr>\n",
       "    <tr>\n",
       "      <td>1</td>\n",
       "      <td>[-0.04042570338131652, 0.2768141014688637]</td>\n",
       "      <td>-0.122154</td>\n",
       "      <td>0.877846</td>\n",
       "      <td>0</td>\n",
       "    </tr>\n",
       "    <tr>\n",
       "      <td>2</td>\n",
       "      <td>[-0.04042570338131652, 0.2768141014688637]</td>\n",
       "      <td>0.377846</td>\n",
       "      <td>0.877846</td>\n",
       "      <td>0</td>\n",
       "    </tr>\n",
       "  </tbody>\n",
       "</table>\n",
       "</div>"
      ],
      "text/plain": [
       "                                        state       a_j       a_k  \\\n",
       "0  [-0.04042570338131652, 0.2768141014688637] -0.122154  0.377846   \n",
       "1  [-0.04042570338131652, 0.2768141014688637] -0.122154  0.877846   \n",
       "2  [-0.04042570338131652, 0.2768141014688637]  0.377846  0.877846   \n",
       "\n",
       "   preference_label  \n",
       "0                 0  \n",
       "1                 0  \n",
       "2                 0  "
      ]
     },
     "execution_count": 690,
     "metadata": {},
     "output_type": "execute_result"
    }
   ],
   "source": [
    "# create a training dataframe\n",
    "train_df = pd.DataFrame(train_data)\n",
    "train_df.head(3)"
   ]
  },
  {
   "cell_type": "code",
   "execution_count": 359,
   "metadata": {},
   "outputs": [],
   "source": [
    "# create a key for state\n",
    "train_df.loc[:, 'state_key'] = train_df.state.apply(lambda x: x[0].astype(str)+\"_\"+x[1].astype(str))"
   ]
  },
  {
   "cell_type": "code",
   "execution_count": 360,
   "metadata": {},
   "outputs": [],
   "source": [
    "# drop all states which does not have any preferred action\n",
    "temp_df1 = train_df.groupby('state_key').preference_label.sum().reset_index()\n",
    "temp_df1 = temp_df1.loc[temp_df1.preference_label>0] # pick the states that have at least one prefered action\n",
    "train_df = train_df.merge(right = temp_df1.loc[:,'state_key']\n",
    "                          , right_on = 'state_key'\n",
    "                          , left_on = 'state_key'\n",
    "                          , how = 'right')"
   ]
  },
  {
   "cell_type": "code",
   "execution_count": 361,
   "metadata": {},
   "outputs": [],
   "source": [
    "# create a single column with the set of actions executed per state\n",
    "temp_df1 = train_df.groupby('state_key')['a_j'].unique().reset_index()\n",
    "temp_df2 = train_df.groupby('state_key')['a_k'].unique().reset_index()\n",
    "temp_df3 = temp_df1.merge(right=temp_df2\n",
    "                          , right_on = 'state_key'\n",
    "                          , left_on = 'state_key'\n",
    "                          , how = 'inner')\n",
    "temp_df3.loc[:,'unique_acts'] = temp_df3.apply(lambda row: set(list(row['a_j']) + list(row['a_k'])) ,axis=1)"
   ]
  },
  {
   "cell_type": "code",
   "execution_count": 362,
   "metadata": {},
   "outputs": [
    {
     "data": {
      "text/html": [
       "<div>\n",
       "<style scoped>\n",
       "    .dataframe tbody tr th:only-of-type {\n",
       "        vertical-align: middle;\n",
       "    }\n",
       "\n",
       "    .dataframe tbody tr th {\n",
       "        vertical-align: top;\n",
       "    }\n",
       "\n",
       "    .dataframe thead th {\n",
       "        text-align: right;\n",
       "    }\n",
       "</style>\n",
       "<table border=\"1\" class=\"dataframe\">\n",
       "  <thead>\n",
       "    <tr style=\"text-align: right;\">\n",
       "      <th></th>\n",
       "      <th>state_key</th>\n",
       "      <th>a_j</th>\n",
       "      <th>a_k</th>\n",
       "      <th>unique_acts</th>\n",
       "    </tr>\n",
       "  </thead>\n",
       "  <tbody>\n",
       "    <tr>\n",
       "      <td>0</td>\n",
       "      <td>-0.007119426465262891_0.010133984961571807</td>\n",
       "      <td>[-0.12215383778081441, 0.3778461622191856]</td>\n",
       "      <td>[0.3778461622191856, 0.8778461622191855]</td>\n",
       "      <td>{-0.12215383778081441, 0.8778461622191855, 0.3...</td>\n",
       "    </tr>\n",
       "    <tr>\n",
       "      <td>1</td>\n",
       "      <td>-0.035456221985432065_-0.331823583123806</td>\n",
       "      <td>[-0.12215383778081441, 0.3778461622191856]</td>\n",
       "      <td>[0.3778461622191856, 0.8778461622191855]</td>\n",
       "      <td>{-0.12215383778081441, 0.8778461622191855, 0.3...</td>\n",
       "    </tr>\n",
       "  </tbody>\n",
       "</table>\n",
       "</div>"
      ],
      "text/plain": [
       "                                    state_key  \\\n",
       "0  -0.007119426465262891_0.010133984961571807   \n",
       "1    -0.035456221985432065_-0.331823583123806   \n",
       "\n",
       "                                          a_j  \\\n",
       "0  [-0.12215383778081441, 0.3778461622191856]   \n",
       "1  [-0.12215383778081441, 0.3778461622191856]   \n",
       "\n",
       "                                        a_k  \\\n",
       "0  [0.3778461622191856, 0.8778461622191855]   \n",
       "1  [0.3778461622191856, 0.8778461622191855]   \n",
       "\n",
       "                                         unique_acts  \n",
       "0  {-0.12215383778081441, 0.8778461622191855, 0.3...  \n",
       "1  {-0.12215383778081441, 0.8778461622191855, 0.3...  "
      ]
     },
     "execution_count": 362,
     "metadata": {},
     "output_type": "execute_result"
    }
   ],
   "source": [
    "temp_df3.head(2)"
   ]
  },
  {
   "cell_type": "code",
   "execution_count": 363,
   "metadata": {},
   "outputs": [],
   "source": [
    "# add the unique-action column to train dataset\n",
    "train_df = train_df.merge(right = temp_df3.loc[:,['state_key', 'unique_acts']]\n",
    "              , right_on =  'state_key'\n",
    "              , left_on = 'state_key'\n",
    "              , how = 'left')"
   ]
  },
  {
   "cell_type": "code",
   "execution_count": 365,
   "metadata": {},
   "outputs": [],
   "source": [
    "# create a 'prefered-action' value for each state\n",
    "train_df.loc[:,'prefered_action'] = train_df.apply(lambda row: row['a_j'] if row['preference_label'] == 1 else row['a_k']  ,axis=1)"
   ]
  },
  {
   "cell_type": "code",
   "execution_count": 366,
   "metadata": {},
   "outputs": [
    {
     "data": {
      "text/html": [
       "<div>\n",
       "<style scoped>\n",
       "    .dataframe tbody tr th:only-of-type {\n",
       "        vertical-align: middle;\n",
       "    }\n",
       "\n",
       "    .dataframe tbody tr th {\n",
       "        vertical-align: top;\n",
       "    }\n",
       "\n",
       "    .dataframe thead th {\n",
       "        text-align: right;\n",
       "    }\n",
       "</style>\n",
       "<table border=\"1\" class=\"dataframe\">\n",
       "  <thead>\n",
       "    <tr style=\"text-align: right;\">\n",
       "      <th></th>\n",
       "      <th>state</th>\n",
       "      <th>a_j</th>\n",
       "      <th>a_k</th>\n",
       "      <th>preference_label</th>\n",
       "      <th>state_key</th>\n",
       "      <th>unique_acts</th>\n",
       "      <th>prefered_action</th>\n",
       "    </tr>\n",
       "  </thead>\n",
       "  <tbody>\n",
       "    <tr>\n",
       "      <td>0</td>\n",
       "      <td>[-0.035456221985432065, -0.331823583123806]</td>\n",
       "      <td>-0.122154</td>\n",
       "      <td>0.377846</td>\n",
       "      <td>0</td>\n",
       "      <td>-0.035456221985432065_-0.331823583123806</td>\n",
       "      <td>{-0.12215383778081441, 0.8778461622191855, 0.3...</td>\n",
       "      <td>0.377846</td>\n",
       "    </tr>\n",
       "    <tr>\n",
       "      <td>1</td>\n",
       "      <td>[-0.035456221985432065, -0.331823583123806]</td>\n",
       "      <td>-0.122154</td>\n",
       "      <td>0.877846</td>\n",
       "      <td>1</td>\n",
       "      <td>-0.035456221985432065_-0.331823583123806</td>\n",
       "      <td>{-0.12215383778081441, 0.8778461622191855, 0.3...</td>\n",
       "      <td>-0.122154</td>\n",
       "    </tr>\n",
       "  </tbody>\n",
       "</table>\n",
       "</div>"
      ],
      "text/plain": [
       "                                         state       a_j       a_k  \\\n",
       "0  [-0.035456221985432065, -0.331823583123806] -0.122154  0.377846   \n",
       "1  [-0.035456221985432065, -0.331823583123806] -0.122154  0.877846   \n",
       "\n",
       "   preference_label                                 state_key  \\\n",
       "0                 0  -0.035456221985432065_-0.331823583123806   \n",
       "1                 1  -0.035456221985432065_-0.331823583123806   \n",
       "\n",
       "                                         unique_acts  prefered_action  \n",
       "0  {-0.12215383778081441, 0.8778461622191855, 0.3...         0.377846  \n",
       "1  {-0.12215383778081441, 0.8778461622191855, 0.3...        -0.122154  "
      ]
     },
     "execution_count": 366,
     "metadata": {},
     "output_type": "execute_result"
    }
   ],
   "source": [
    "train_df.head(2)"
   ]
  },
  {
   "cell_type": "code",
   "execution_count": 367,
   "metadata": {},
   "outputs": [
    {
     "data": {
      "text/html": [
       "<div>\n",
       "<style scoped>\n",
       "    .dataframe tbody tr th:only-of-type {\n",
       "        vertical-align: middle;\n",
       "    }\n",
       "\n",
       "    .dataframe tbody tr th {\n",
       "        vertical-align: top;\n",
       "    }\n",
       "\n",
       "    .dataframe thead th {\n",
       "        text-align: right;\n",
       "    }\n",
       "</style>\n",
       "<table border=\"1\" class=\"dataframe\">\n",
       "  <thead>\n",
       "    <tr style=\"text-align: right;\">\n",
       "      <th>prefered_action</th>\n",
       "      <th>-0.122154</th>\n",
       "      <th>0.377846</th>\n",
       "      <th>0.877846</th>\n",
       "    </tr>\n",
       "    <tr>\n",
       "      <th>state_key</th>\n",
       "      <th></th>\n",
       "      <th></th>\n",
       "      <th></th>\n",
       "    </tr>\n",
       "  </thead>\n",
       "  <tbody>\n",
       "    <tr>\n",
       "      <td>-0.007119426465262891_0.010133984961571807</td>\n",
       "      <td>1.0</td>\n",
       "      <td>1.0</td>\n",
       "      <td>1.0</td>\n",
       "    </tr>\n",
       "    <tr>\n",
       "      <td>-0.035456221985432065_-0.331823583123806</td>\n",
       "      <td>1.0</td>\n",
       "      <td>2.0</td>\n",
       "      <td>0.0</td>\n",
       "    </tr>\n",
       "    <tr>\n",
       "      <td>-0.042092693647908186_-0.635473455421564</td>\n",
       "      <td>1.0</td>\n",
       "      <td>2.0</td>\n",
       "      <td>0.0</td>\n",
       "    </tr>\n",
       "    <tr>\n",
       "      <td>-0.054802162756339465_-0.9411095238977125</td>\n",
       "      <td>2.0</td>\n",
       "      <td>1.0</td>\n",
       "      <td>0.0</td>\n",
       "    </tr>\n",
       "    <tr>\n",
       "      <td>-0.07362435323429371_-0.6661375648946086</td>\n",
       "      <td>2.0</td>\n",
       "      <td>1.0</td>\n",
       "      <td>0.0</td>\n",
       "    </tr>\n",
       "  </tbody>\n",
       "</table>\n",
       "</div>"
      ],
      "text/plain": [
       "prefered_action                             -0.122154   0.377846   0.877846\n",
       "state_key                                                                  \n",
       "-0.007119426465262891_0.010133984961571807        1.0        1.0        1.0\n",
       "-0.035456221985432065_-0.331823583123806          1.0        2.0        0.0\n",
       "-0.042092693647908186_-0.635473455421564          1.0        2.0        0.0\n",
       "-0.054802162756339465_-0.9411095238977125         2.0        1.0        0.0\n",
       "-0.07362435323429371_-0.6661375648946086          2.0        1.0        0.0"
      ]
     },
     "execution_count": 367,
     "metadata": {},
     "output_type": "execute_result"
    }
   ],
   "source": [
    "# count the number of times each action is prefered at a state\n",
    "action_preference_counts = train_df.groupby('state_key').prefered_action.value_counts().unstack()\n",
    "action_preference_counts.replace(np.nan,0,inplace=True)\n",
    "action_preference_counts.head()"
   ]
  },
  {
   "cell_type": "code",
   "execution_count": 368,
   "metadata": {},
   "outputs": [],
   "source": [
    "### convert the action-preference-counts to a vector (to be used as training labels)\n",
    "action_preference_counts.loc[:, 'preference_label_vector'] = action_preference_counts.iloc[:,0:].values.tolist()"
   ]
  },
  {
   "cell_type": "code",
   "execution_count": 369,
   "metadata": {},
   "outputs": [
    {
     "data": {
      "text/html": [
       "<div>\n",
       "<style scoped>\n",
       "    .dataframe tbody tr th:only-of-type {\n",
       "        vertical-align: middle;\n",
       "    }\n",
       "\n",
       "    .dataframe tbody tr th {\n",
       "        vertical-align: top;\n",
       "    }\n",
       "\n",
       "    .dataframe thead th {\n",
       "        text-align: right;\n",
       "    }\n",
       "</style>\n",
       "<table border=\"1\" class=\"dataframe\">\n",
       "  <thead>\n",
       "    <tr style=\"text-align: right;\">\n",
       "      <th>prefered_action</th>\n",
       "      <th>-0.12215383778081441</th>\n",
       "      <th>0.3778461622191856</th>\n",
       "      <th>0.8778461622191855</th>\n",
       "      <th>preference_label_vector</th>\n",
       "    </tr>\n",
       "    <tr>\n",
       "      <th>state_key</th>\n",
       "      <th></th>\n",
       "      <th></th>\n",
       "      <th></th>\n",
       "      <th></th>\n",
       "    </tr>\n",
       "  </thead>\n",
       "  <tbody>\n",
       "    <tr>\n",
       "      <td>-0.007119426465262891_0.010133984961571807</td>\n",
       "      <td>1.0</td>\n",
       "      <td>1.0</td>\n",
       "      <td>1.0</td>\n",
       "      <td>[1.0, 1.0, 1.0]</td>\n",
       "    </tr>\n",
       "    <tr>\n",
       "      <td>-0.035456221985432065_-0.331823583123806</td>\n",
       "      <td>1.0</td>\n",
       "      <td>2.0</td>\n",
       "      <td>0.0</td>\n",
       "      <td>[1.0, 2.0, 0.0]</td>\n",
       "    </tr>\n",
       "    <tr>\n",
       "      <td>-0.042092693647908186_-0.635473455421564</td>\n",
       "      <td>1.0</td>\n",
       "      <td>2.0</td>\n",
       "      <td>0.0</td>\n",
       "      <td>[1.0, 2.0, 0.0]</td>\n",
       "    </tr>\n",
       "    <tr>\n",
       "      <td>-0.054802162756339465_-0.9411095238977125</td>\n",
       "      <td>2.0</td>\n",
       "      <td>1.0</td>\n",
       "      <td>0.0</td>\n",
       "      <td>[2.0, 1.0, 0.0]</td>\n",
       "    </tr>\n",
       "    <tr>\n",
       "      <td>-0.07362435323429371_-0.6661375648946086</td>\n",
       "      <td>2.0</td>\n",
       "      <td>1.0</td>\n",
       "      <td>0.0</td>\n",
       "      <td>[2.0, 1.0, 0.0]</td>\n",
       "    </tr>\n",
       "  </tbody>\n",
       "</table>\n",
       "</div>"
      ],
      "text/plain": [
       "prefered_action                             -0.12215383778081441  \\\n",
       "state_key                                                          \n",
       "-0.007119426465262891_0.010133984961571807                   1.0   \n",
       "-0.035456221985432065_-0.331823583123806                     1.0   \n",
       "-0.042092693647908186_-0.635473455421564                     1.0   \n",
       "-0.054802162756339465_-0.9411095238977125                    2.0   \n",
       "-0.07362435323429371_-0.6661375648946086                     2.0   \n",
       "\n",
       "prefered_action                             0.3778461622191856  \\\n",
       "state_key                                                        \n",
       "-0.007119426465262891_0.010133984961571807                 1.0   \n",
       "-0.035456221985432065_-0.331823583123806                   2.0   \n",
       "-0.042092693647908186_-0.635473455421564                   2.0   \n",
       "-0.054802162756339465_-0.9411095238977125                  1.0   \n",
       "-0.07362435323429371_-0.6661375648946086                   1.0   \n",
       "\n",
       "prefered_action                             0.8778461622191855  \\\n",
       "state_key                                                        \n",
       "-0.007119426465262891_0.010133984961571807                 1.0   \n",
       "-0.035456221985432065_-0.331823583123806                   0.0   \n",
       "-0.042092693647908186_-0.635473455421564                   0.0   \n",
       "-0.054802162756339465_-0.9411095238977125                  0.0   \n",
       "-0.07362435323429371_-0.6661375648946086                   0.0   \n",
       "\n",
       "prefered_action                            preference_label_vector  \n",
       "state_key                                                           \n",
       "-0.007119426465262891_0.010133984961571807         [1.0, 1.0, 1.0]  \n",
       "-0.035456221985432065_-0.331823583123806           [1.0, 2.0, 0.0]  \n",
       "-0.042092693647908186_-0.635473455421564           [1.0, 2.0, 0.0]  \n",
       "-0.054802162756339465_-0.9411095238977125          [2.0, 1.0, 0.0]  \n",
       "-0.07362435323429371_-0.6661375648946086           [2.0, 1.0, 0.0]  "
      ]
     },
     "execution_count": 369,
     "metadata": {},
     "output_type": "execute_result"
    }
   ],
   "source": [
    "action_preference_counts.head()"
   ]
  },
  {
   "cell_type": "code",
   "execution_count": 370,
   "metadata": {},
   "outputs": [],
   "source": [
    "# add preference label vector to training dataset\n",
    "train_df = train_df.merge(right = action_preference_counts.loc[:,['preference_label_vector']]\n",
    "                          , right_index= True\n",
    "                          , left_on = 'state_key'\n",
    "                          , how = 'left')"
   ]
  },
  {
   "cell_type": "code",
   "execution_count": 371,
   "metadata": {},
   "outputs": [
    {
     "data": {
      "text/html": [
       "<div>\n",
       "<style scoped>\n",
       "    .dataframe tbody tr th:only-of-type {\n",
       "        vertical-align: middle;\n",
       "    }\n",
       "\n",
       "    .dataframe tbody tr th {\n",
       "        vertical-align: top;\n",
       "    }\n",
       "\n",
       "    .dataframe thead th {\n",
       "        text-align: right;\n",
       "    }\n",
       "</style>\n",
       "<table border=\"1\" class=\"dataframe\">\n",
       "  <thead>\n",
       "    <tr style=\"text-align: right;\">\n",
       "      <th></th>\n",
       "      <th>state</th>\n",
       "      <th>a_j</th>\n",
       "      <th>a_k</th>\n",
       "      <th>preference_label</th>\n",
       "      <th>state_key</th>\n",
       "      <th>unique_acts</th>\n",
       "      <th>prefered_action</th>\n",
       "      <th>preference_label_vector</th>\n",
       "    </tr>\n",
       "  </thead>\n",
       "  <tbody>\n",
       "    <tr>\n",
       "      <td>0</td>\n",
       "      <td>[-0.035456221985432065, -0.331823583123806]</td>\n",
       "      <td>-0.122154</td>\n",
       "      <td>0.377846</td>\n",
       "      <td>0</td>\n",
       "      <td>-0.035456221985432065_-0.331823583123806</td>\n",
       "      <td>{-0.12215383778081441, 0.8778461622191855, 0.3...</td>\n",
       "      <td>0.377846</td>\n",
       "      <td>[1.0, 2.0, 0.0]</td>\n",
       "    </tr>\n",
       "    <tr>\n",
       "      <td>1</td>\n",
       "      <td>[-0.035456221985432065, -0.331823583123806]</td>\n",
       "      <td>-0.122154</td>\n",
       "      <td>0.877846</td>\n",
       "      <td>1</td>\n",
       "      <td>-0.035456221985432065_-0.331823583123806</td>\n",
       "      <td>{-0.12215383778081441, 0.8778461622191855, 0.3...</td>\n",
       "      <td>-0.122154</td>\n",
       "      <td>[1.0, 2.0, 0.0]</td>\n",
       "    </tr>\n",
       "  </tbody>\n",
       "</table>\n",
       "</div>"
      ],
      "text/plain": [
       "                                         state       a_j       a_k  \\\n",
       "0  [-0.035456221985432065, -0.331823583123806] -0.122154  0.377846   \n",
       "1  [-0.035456221985432065, -0.331823583123806] -0.122154  0.877846   \n",
       "\n",
       "   preference_label                                 state_key  \\\n",
       "0                 0  -0.035456221985432065_-0.331823583123806   \n",
       "1                 1  -0.035456221985432065_-0.331823583123806   \n",
       "\n",
       "                                         unique_acts  prefered_action  \\\n",
       "0  {-0.12215383778081441, 0.8778461622191855, 0.3...         0.377846   \n",
       "1  {-0.12215383778081441, 0.8778461622191855, 0.3...        -0.122154   \n",
       "\n",
       "  preference_label_vector  \n",
       "0         [1.0, 2.0, 0.0]  \n",
       "1         [1.0, 2.0, 0.0]  "
      ]
     },
     "execution_count": 371,
     "metadata": {},
     "output_type": "execute_result"
    }
   ],
   "source": [
    "train_df.head(2)"
   ]
  },
  {
   "cell_type": "code",
   "execution_count": 380,
   "metadata": {},
   "outputs": [
    {
     "data": {
      "text/html": [
       "<div>\n",
       "<style scoped>\n",
       "    .dataframe tbody tr th:only-of-type {\n",
       "        vertical-align: middle;\n",
       "    }\n",
       "\n",
       "    .dataframe tbody tr th {\n",
       "        vertical-align: top;\n",
       "    }\n",
       "\n",
       "    .dataframe thead th {\n",
       "        text-align: right;\n",
       "    }\n",
       "</style>\n",
       "<table border=\"1\" class=\"dataframe\">\n",
       "  <thead>\n",
       "    <tr style=\"text-align: right;\">\n",
       "      <th></th>\n",
       "      <th>state</th>\n",
       "      <th>state_key</th>\n",
       "      <th>unique_acts</th>\n",
       "      <th>preference_label_vector</th>\n",
       "    </tr>\n",
       "  </thead>\n",
       "  <tbody>\n",
       "    <tr>\n",
       "      <td>0</td>\n",
       "      <td>[-0.035456221985432065, -0.331823583123806]</td>\n",
       "      <td>-0.035456221985432065_-0.331823583123806</td>\n",
       "      <td>{-0.12215383778081441, 0.8778461622191855, 0.3...</td>\n",
       "      <td>[1.0, 2.0, 0.0]</td>\n",
       "    </tr>\n",
       "    <tr>\n",
       "      <td>3</td>\n",
       "      <td>[-0.042092693647908186, -0.635473455421564]</td>\n",
       "      <td>-0.042092693647908186_-0.635473455421564</td>\n",
       "      <td>{-0.12215383778081441, 0.8778461622191855, 0.3...</td>\n",
       "      <td>[1.0, 2.0, 0.0]</td>\n",
       "    </tr>\n",
       "    <tr>\n",
       "      <td>6</td>\n",
       "      <td>[-0.054802162756339465, -0.9411095238977125]</td>\n",
       "      <td>-0.054802162756339465_-0.9411095238977125</td>\n",
       "      <td>{-0.12215383778081441, 0.8778461622191855, 0.3...</td>\n",
       "      <td>[2.0, 1.0, 0.0]</td>\n",
       "    </tr>\n",
       "  </tbody>\n",
       "</table>\n",
       "</div>"
      ],
      "text/plain": [
       "                                          state  \\\n",
       "0   [-0.035456221985432065, -0.331823583123806]   \n",
       "3   [-0.042092693647908186, -0.635473455421564]   \n",
       "6  [-0.054802162756339465, -0.9411095238977125]   \n",
       "\n",
       "                                   state_key  \\\n",
       "0   -0.035456221985432065_-0.331823583123806   \n",
       "3   -0.042092693647908186_-0.635473455421564   \n",
       "6  -0.054802162756339465_-0.9411095238977125   \n",
       "\n",
       "                                         unique_acts preference_label_vector  \n",
       "0  {-0.12215383778081441, 0.8778461622191855, 0.3...         [1.0, 2.0, 0.0]  \n",
       "3  {-0.12215383778081441, 0.8778461622191855, 0.3...         [1.0, 2.0, 0.0]  \n",
       "6  {-0.12215383778081441, 0.8778461622191855, 0.3...         [2.0, 1.0, 0.0]  "
      ]
     },
     "execution_count": 380,
     "metadata": {},
     "output_type": "execute_result"
    }
   ],
   "source": [
    "# create the reduced training dataset (drop unnecessary columns + duplicate rows: which have data for same state)\n",
    "train_df_reduced = train_df.loc[:,['state', 'state_key', 'unique_acts', 'preference_label_vector']]\n",
    "\n",
    "train_df_reduced.drop_duplicates(subset=['state_key'],inplace=True)\n",
    "train_df_reduced.head(3)"
   ]
  },
  {
   "cell_type": "code",
   "execution_count": null,
   "metadata": {},
   "outputs": [],
   "source": [
    "# above dataset has - state + list of actions + # preferences made for each action (at state) --> each row"
   ]
  },
  {
   "cell_type": "code",
   "execution_count": 560,
   "metadata": {},
   "outputs": [],
   "source": [
    "output_labels_temp = np.array(train_df_reduced.preference_label_vector.tolist())\n",
    "row_sums = output_labels_temp.sum(axis=1)\n",
    "output_labels_normalized = output_labels_temp / row_sums[:, np.newaxis]"
   ]
  },
  {
   "cell_type": "code",
   "execution_count": 561,
   "metadata": {},
   "outputs": [],
   "source": [
    "# create training dataset\n",
    "input_states  = torch.from_numpy(np.array(train_df_reduced.state.apply(lambda x: x.astype(float)).tolist()))\n",
    "output_labels = torch.from_numpy(output_labels_normalized)"
   ]
  },
  {
   "cell_type": "code",
   "execution_count": 562,
   "metadata": {},
   "outputs": [],
   "source": [
    "# Import tensor dataset & data loader\n",
    "from torch.utils.data import TensorDataset, DataLoader"
   ]
  },
  {
   "cell_type": "code",
   "execution_count": 563,
   "metadata": {},
   "outputs": [],
   "source": [
    "train_ds = TensorDataset(input_states , output_labels )"
   ]
  },
  {
   "cell_type": "code",
   "execution_count": 564,
   "metadata": {},
   "outputs": [
    {
     "data": {
      "text/plain": [
       "[tensor([[ 0.0616,  0.3560],\n",
       "         [ 0.0463,  1.1982],\n",
       "         [-0.0355, -0.3318]], dtype=torch.float64),\n",
       " tensor([[0.3333, 0.0000, 0.6667],\n",
       "         [0.3333, 0.0000, 0.6667],\n",
       "         [0.3333, 0.6667, 0.0000]], dtype=torch.float64)]"
      ]
     },
     "execution_count": 564,
     "metadata": {},
     "output_type": "execute_result"
    }
   ],
   "source": [
    "# Define data loader\n",
    "batch_size = 3\n",
    "train_dl = DataLoader(train_ds, batch_size, shuffle=True, drop_last=True)\n",
    "next(iter(train_dl))"
   ]
  },
  {
   "cell_type": "code",
   "execution_count": 440,
   "metadata": {},
   "outputs": [],
   "source": [
    "class Model(nn.Module):\n",
    "\n",
    "    def __init__(self, input_state_len, output_label_len, layers, p=0.4):\n",
    "        \n",
    "        super().__init__()\n",
    "        self.batch_norm_num = nn.BatchNorm1d(input_state_len)\n",
    "\n",
    "        all_layers = []\n",
    "        input_size = input_state_len\n",
    "\n",
    "        # create layers\n",
    "        for layer_dim in layers:\n",
    "            all_layers.append(nn.Linear(input_size, layer_dim))\n",
    "            all_layers.append(nn.ReLU(inplace=True))\n",
    "            all_layers.append(nn.BatchNorm1d(layer_dim))\n",
    "            all_layers.append(nn.Dropout(p))\n",
    "            input_size = layer_dim\n",
    "\n",
    "        all_layers.append(nn.Linear(layers[-1], output_label_len))\n",
    "\n",
    "        self.layers = nn.Sequential(*all_layers)\n",
    "\n",
    "    def forward(self, state_vec):\n",
    "        x = self.batch_norm_num(state_vec)\n",
    "        x = self.layers(x)\n",
    "        return x"
   ]
  },
  {
   "cell_type": "code",
   "execution_count": 670,
   "metadata": {},
   "outputs": [],
   "source": [
    "# Define model\n",
    "model = Model(input_states.shape[1], output_labels.shape[1], [100,500,50], p=0.4)"
   ]
  },
  {
   "cell_type": "code",
   "execution_count": 680,
   "metadata": {},
   "outputs": [],
   "source": [
    "opt = torch.optim.SGD(model.parameters(), lr = 1e-1)\n",
    "loss_fn = F.mse_loss"
   ]
  },
  {
   "cell_type": "code",
   "execution_count": 681,
   "metadata": {},
   "outputs": [],
   "source": [
    "# to store losses\n",
    "aggregated_losses = []\n",
    "\n",
    "# Define a utility function to train the model\n",
    "def fit(num_epochs, model, loss_fn, opt):\n",
    "    \n",
    "    for epoch in range(num_epochs):\n",
    "        for xb,yb in train_dl:\n",
    "            \n",
    "            # Generate predictions\n",
    "            pred = model(xb.float())\n",
    "            loss = loss_fn(pred, yb.float())            \n",
    "            \n",
    "            # Perform gradient descent\n",
    "            loss.backward()\n",
    "            opt.step()\n",
    "            opt.zero_grad()\n",
    "            \n",
    "        aggregated_losses.append(loss_fn(model(input_states.float()), output_labels.float()).detach().numpy())\n",
    "        \n",
    "        if epoch%25 == 0:\n",
    "                print(f'epoch: {epoch:3} loss: {loss.item():10.8f}')\n",
    "            \n",
    "    print('Training loss: ', loss_fn(model(input_states.float()), output_labels.float()))"
   ]
  },
  {
   "cell_type": "code",
   "execution_count": 682,
   "metadata": {},
   "outputs": [
    {
     "name": "stdout",
     "output_type": "stream",
     "text": [
      "epoch:   0 loss: 1.26457167\n",
      "epoch:  25 loss: 0.03228344\n",
      "epoch:  50 loss: 0.11356914\n",
      "epoch:  75 loss: 0.03096418\n",
      "epoch: 100 loss: 0.03917579\n",
      "epoch: 125 loss: 0.09606967\n",
      "epoch: 150 loss: 0.03857052\n",
      "epoch: 175 loss: 0.10947236\n",
      "epoch: 200 loss: 0.03288856\n",
      "epoch: 225 loss: 0.12105025\n",
      "epoch: 250 loss: 0.08336683\n",
      "epoch: 275 loss: 0.06543268\n",
      "Training loss:  tensor(0.0267, grad_fn=<MseLossBackward>)\n"
     ]
    }
   ],
   "source": [
    "epochs= 300\n",
    "fit(epochs, model, loss_fn, opt)"
   ]
  },
  {
   "cell_type": "code",
   "execution_count": 697,
   "metadata": {},
   "outputs": [
    {
     "data": {
      "image/png": "[encoded data removed]",
      "text/plain": [
       "<Figure size 432x288 with 1 Axes>"
      ]
     },
     "metadata": {
      "needs_background": "light"
     },
     "output_type": "display_data"
    }
   ],
   "source": [
    "plt.plot(range(epochs), aggregated_losses)\n",
    "plt.ylabel('Loss')\n",
    "plt.xlabel('epoch')\n",
    "plt.show()"
   ]
  },
  {
   "cell_type": "markdown",
   "metadata": {},
   "source": [
    "---"
   ]
  },
  {
   "cell_type": "markdown",
   "metadata": {},
   "source": [
    "#### Label Ranking Policy"
   ]
  },
  {
   "cell_type": "code",
   "execution_count": 821,
   "metadata": {},
   "outputs": [
    {
     "data": {
      "text/plain": [
       "0"
      ]
     },
     "execution_count": 821,
     "metadata": {},
     "output_type": "execute_result"
    }
   ],
   "source": [
    "env = gym.make('CartPole-v0')\n",
    "observation = env.reset()\n",
    "\n",
    "state_obs = observation[[2,3]] # only select angel and angular velo. of pendulum from state vector\n",
    "state_obs = state_obs.reshape(-1,state_obs.shape[0]) # reshape to be a 2D array\n",
    "state_obs = torch.from_numpy(state_obs) # convert to a tensor\n",
    "\n",
    "# make the prediction for actions\n",
    "with torch.no_grad():\n",
    "    preds = model(state_obs.float()) \n",
    "    \n",
    "# rank the indexes of actions (from highest ranked/preferred action to lowest)\n",
    "ranked_action_idx = (-rd(preds.detach().numpy())).argsort()[:preds.shape[1]]\n",
    "\n",
    "# return the action value\n",
    "remain_probs = .1/len(ranked_action_idx[2:])\n",
    "n_remain_actions = ranked_action_idx.shape[0]-2\n",
    "\n",
    "# - select first two (highest preferred actions) 80% and 10% of the time\n",
    "# - select one of the remaining actions 10% time\n",
    "action = np.random.choice(ranked_action_idx,1 , p=[0.8, 0.1] + list(np.repeat(remain_probs,n_remain_actions)))[0]\n",
    "\n",
    "action"
   ]
  },
  {
   "cell_type": "markdown",
   "metadata": {},
   "source": [
    "---"
   ]
  },
  {
   "cell_type": "markdown",
   "metadata": {},
   "source": [
    "### Visualize episode"
   ]
  },
  {
   "cell_type": "markdown",
   "metadata": {},
   "source": [
    "##### METHOD 1:"
   ]
  },
  {
   "cell_type": "code",
   "execution_count": 698,
   "metadata": {},
   "outputs": [
    {
     "data": {
      "text/html": [
       "\n",
       "    <video width=\"360\" height=\"auto\" alt=\"test\" controls><source src=\"data:video/mp4;base64,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\" type=\"video/mp4\" /></video>"
      ],
      "text/plain": [
       "<IPython.core.display.HTML object>"
      ]
     },
     "execution_count": 698,
     "metadata": {},
     "output_type": "execute_result"
    }
   ],
   "source": [
    "env = gym.make('CartPole-v0')\n",
    "env = wrappers.Monitor(env, \"./gym-results\", force=True)\n",
    "env.reset()\n",
    "for _ in range(1000):\n",
    "    action = env.action_space.sample()\n",
    "    observation, reward, done, info = env.step(action)\n",
    "    if done: break\n",
    "env.close()\n",
    "\n",
    "video = io.open('./gym-results/openaigym.video.%s.video000000.mp4' % env.file_infix, 'r+b').read()\n",
    "encoded = base64.b64encode(video)\n",
    "HTML(data='''\n",
    "    <video width=\"360\" height=\"auto\" alt=\"test\" controls><source src=\"data:video/mp4;base64,{0}\" type=\"video/mp4\" /></video>'''\n",
    ".format(encoded.decode('ascii')))"
   ]
  },
  {
   "cell_type": "markdown",
   "metadata": {},
   "source": [
    "##### METHOD 2:"
   ]
  },
  {
   "cell_type": "code",
   "execution_count": 5,
   "metadata": {},
   "outputs": [
    {
     "name": "stdout",
     "output_type": "stream",
     "text": [
      "episode 19 finished after 8 timesteps. Total reward: 8.0\n"
     ]
    },
    {
     "data": {
      "image/png": "[encoded data removed]",
      "text/plain": [
       "<Figure size 432x288 with 1 Axes>"
      ]
     },
     "metadata": {
      "needs_background": "light"
     },
     "output_type": "display_data"
    }
   ],
   "source": [
    "nb_episodes = 20\n",
    "nb_timesteps = 100\n",
    "img = plt.imshow(env.render(mode='rgb_array')) # only call this once\n",
    "\n",
    "for episode in range(nb_episodes):  # iterate over the episodes\n",
    "    state = env.reset()             # initialise the environment\n",
    "    rewards = []\n",
    "    \n",
    "    for t in range(nb_timesteps):    # iterate over time steps\n",
    "        #env.render()                 # display the environment\n",
    "        img.set_data(env.render(mode='rgb_array')) # just update the data\n",
    "        display.display(plt.gcf())\n",
    "        display.clear_output(wait=True)\n",
    "        state, reward, done, info = env.step(0)  # implement the action chosen by the policy\n",
    "        rewards.append(reward)      # add 1 to the rewards list\n",
    "        \n",
    "        if done: # the episode ends either if the pole is > 15 deg from vertical or the cart move by > 2.4 unit from the centre\n",
    "            cumulative_reward = sum(rewards)\n",
    "            print(\"episode {} finished after {} timesteps. Total reward: {}\".format(episode, t+1, cumulative_reward))  \n",
    "            break\n",
    "    \n",
    "env.close()"
   ]
  },
  {
   "cell_type": "markdown",
   "metadata": {},
   "source": [
    "##### OTHER USEFUL-INFO:"
   ]
  },
  {
   "cell_type": "raw",
   "metadata": {},
   "source": [
    "- useful links\n",
    "    - how to initialize to a custom state: https://stackoverflow.com/questions/57263759/how-can-i-start-the-environment-from-a-custom-initial-state-for-mountain-car"
   ]
  }
 ],
 "metadata": {
  "kernelspec": {
   "display_name": "Python 3",
   "language": "python",
   "name": "python3"
  },
  "language_info": {
   "codemirror_mode": {
    "name": "ipython",
    "version": 3
   },
   "file_extension": ".py",
   "mimetype": "text/x-python",
   "name": "python",
   "nbconvert_exporter": "python",
   "pygments_lexer": "ipython3",
   "version": "3.7.4"
  }
 },
 "nbformat": 4,
 "nbformat_minor": 4
}
