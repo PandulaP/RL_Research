{
 "cells": [
  {
   "cell_type": "markdown",
   "metadata": {},
   "source": [
    "- This script tries to reproduce a few figures from Fuernkranz et al. (2012) paper to ensure that the coded `ChemoSimulation-v0` works as intended."
   ]
  },
  {
   "cell_type": "code",
   "execution_count": 46,
   "metadata": {
    "ExecuteTime": {
     "end_time": "2021-01-04T14:30:43.384148Z",
     "start_time": "2021-01-04T14:30:43.381729Z"
    }
   },
   "outputs": [],
   "source": [
    "import gym\n",
    "import chemo_simulation\n",
    "import numpy as np\n",
    "import pandas as pd\n",
    "import matplotlib.pyplot as plt\n",
    "import seaborn as sns"
   ]
  },
  {
   "cell_type": "code",
   "execution_count": 3,
   "metadata": {
    "ExecuteTime": {
     "end_time": "2021-01-04T14:10:12.778220Z",
     "start_time": "2021-01-04T14:10:12.775369Z"
    }
   },
   "outputs": [],
   "source": [
    "env = gym.make('ChemoSimulation-v0')"
   ]
  },
  {
   "cell_type": "markdown",
   "metadata": {},
   "source": [
    "### Recreate `Fig. 6` of Fuernkranz et al. (2012) paper"
   ]
  },
  {
   "cell_type": "code",
   "execution_count": 198,
   "metadata": {
    "ExecuteTime": {
     "end_time": "2020-12-31T18:01:40.786614Z",
     "start_time": "2020-12-31T18:01:40.784353Z"
    }
   },
   "outputs": [],
   "source": [
    "# Dosages to provide to patient\n",
    "dosage_levels = np.array([1. ,.7 , .1, .7, 1., .7])"
   ]
  },
  {
   "cell_type": "code",
   "execution_count": 199,
   "metadata": {
    "ExecuteTime": {
     "end_time": "2020-12-31T18:01:42.111235Z",
     "start_time": "2020-12-31T18:01:42.106876Z"
    }
   },
   "outputs": [],
   "source": [
    "# Create patient: initial Tumor size and wellness\n",
    "starting_state = np.array([1.5]),np.array([0.5])\n",
    "\n",
    "# Simulate the environment\n",
    "env.reset(init_state = starting_state)\n",
    "\n",
    "obs_list = []\n",
    "obs_list.append(starting_state)\n",
    "\n",
    "for dosage in dosage_levels:\n",
    "    obs, reward, done, p_death = env.step(np.array([dosage]))\n",
    "    obs_list.append(obs)\n",
    "    if done:\n",
    "        break"
   ]
  },
  {
   "cell_type": "code",
   "execution_count": 200,
   "metadata": {
    "ExecuteTime": {
     "end_time": "2020-12-31T18:01:43.761876Z",
     "start_time": "2020-12-31T18:01:43.759046Z"
    }
   },
   "outputs": [],
   "source": [
    "# Data for the plot\n",
    "tumor_s = [t_size[0] for t_size, wellness in obs_list]\n",
    "welness = [wellness[0] for t_size, wellness in obs_list]\n",
    "dosage_levels = np.insert(dosage_levels, 0, -1)"
   ]
  },
  {
   "cell_type": "markdown",
   "metadata": {},
   "source": [
    "<img src=\"graphics/FHCP_paper_fig_6.PNG\">"
   ]
  },
  {
   "cell_type": "code",
   "execution_count": 203,
   "metadata": {
    "ExecuteTime": {
     "end_time": "2020-12-31T18:05:09.092817Z",
     "start_time": "2020-12-31T18:05:08.925964Z"
    }
   },
   "outputs": [
    {
     "data": {
      "image/png": "[encoded data removed]",
      "text/plain": [
       "<Figure size 864x360 with 1 Axes>"
      ]
     },
     "metadata": {
      "needs_background": "light"
     },
     "output_type": "display_data"
    }
   ],
   "source": [
    "# Create the plot\n",
    "fig, ax = plt.subplots(figsize = (12,5))\n",
    "\n",
    "sns.lineplot(x = np.arange(0,len(dosage_levels))\n",
    "             , y = tumor_s\n",
    "             , ax = ax)\n",
    "sns.lineplot(x = np.arange(0,len(dosage_levels))\n",
    "            , y = welness\n",
    "            , ax = ax)\n",
    "\n",
    "ax.lines[1].set_linestyle(\"--\")\n",
    "ax.legend(['Toxicity', 'Tumor size'])\n",
    "ax.set(ylim=(0, 4))\n",
    "plt.grid()\n",
    "plt.show()\n"
   ]
  },
  {
   "cell_type": "markdown",
   "metadata": {},
   "source": [
    "### Recreate `Fig. 7` of Fuernkranz et al. (2012) paper"
   ]
  },
  {
   "cell_type": "code",
   "execution_count": 686,
   "metadata": {
    "ExecuteTime": {
     "end_time": "2021-01-04T16:03:51.710015Z",
     "start_time": "2021-01-04T16:03:51.707098Z"
    }
   },
   "outputs": [],
   "source": [
    "def generate_patients(patient_count = 200, seed=0):\n",
    "    np.random.seed(seed)\n",
    "    return np.random.uniform(low=(1,0), high=(2,2), size = (patient_count,2,))"
   ]
  },
  {
   "cell_type": "code",
   "execution_count": 738,
   "metadata": {
    "ExecuteTime": {
     "end_time": "2021-01-04T16:10:25.891370Z",
     "start_time": "2021-01-04T16:10:25.080005Z"
    }
   },
   "outputs": [],
   "source": [
    "dosages =    {'low': np.array([0.1])\n",
    "            , 'mid': np.array([0.4])\n",
    "            , 'rand': None\n",
    "            , 'high': np.array([0.7])\n",
    "            , 'extreme': np.array([1.])}\n",
    "\n",
    "\n",
    "selected_patients = generate_patients(seed=17)\n",
    "\n",
    "patient_dic = {}\n",
    "\n",
    "patient_count = 0\n",
    "# Run test for 200 patients\n",
    "for patient in selected_patients:\n",
    "    \n",
    "    obs_dic = {}\n",
    "    \n",
    "    for level, dosage in dosages.items():\n",
    "\n",
    "        # Create patient: initial Tumor size and wellness\n",
    "        starting_state = np.array([patient[0]]),np.array([patient[1]])\n",
    "        \n",
    "        obs_dic[level] = []\n",
    "        obs_dic[level].append(starting_state)\n",
    "\n",
    "        # Simulate the environment\n",
    "        env.reset(init_state = starting_state)\n",
    "\n",
    "        if level == 'rand':\n",
    "            # Run treatment for 6 months\n",
    "            for _ in range(7):\n",
    "                obs, reward, done, p_death = env.step(np.array([np.random.choice(np.array([0.1,0.4,0.7,1.]))]))\n",
    "                if done:\n",
    "                    break\n",
    "                obs_dic[level].append(obs)\n",
    "        else:\n",
    "            # Run treatment for 6 months\n",
    "            for _ in range(7):\n",
    "                obs, reward, done, p_death = env.step(dosage)\n",
    "                if done:\n",
    "                    break\n",
    "                obs_dic[level].append(obs)\n",
    "                    \n",
    "    patient_dic[patient_count] = obs_dic\n",
    "    patient_count += 1\n",
    "        "
   ]
  },
  {
   "cell_type": "code",
   "execution_count": 739,
   "metadata": {
    "ExecuteTime": {
     "end_time": "2021-01-04T16:10:28.698285Z",
     "start_time": "2021-01-04T16:10:28.343879Z"
    }
   },
   "outputs": [
    {
     "data": {
      "text/html": [
       "<div>\n",
       "<style scoped>\n",
       "    .dataframe tbody tr th:only-of-type {\n",
       "        vertical-align: middle;\n",
       "    }\n",
       "\n",
       "    .dataframe tbody tr th {\n",
       "        vertical-align: top;\n",
       "    }\n",
       "\n",
       "    .dataframe thead th {\n",
       "        text-align: right;\n",
       "    }\n",
       "</style>\n",
       "<table border=\"1\" class=\"dataframe\">\n",
       "  <thead>\n",
       "    <tr style=\"text-align: right;\">\n",
       "      <th></th>\n",
       "      <th>Max. Toxicity</th>\n",
       "      <th>Tumor Size</th>\n",
       "    </tr>\n",
       "    <tr>\n",
       "      <th>index</th>\n",
       "      <th></th>\n",
       "      <th></th>\n",
       "    </tr>\n",
       "  </thead>\n",
       "  <tbody>\n",
       "    <tr>\n",
       "      <th>extreme</th>\n",
       "      <td>4.815460</td>\n",
       "      <td>0.105788</td>\n",
       "    </tr>\n",
       "    <tr>\n",
       "      <th>high</th>\n",
       "      <td>3.049354</td>\n",
       "      <td>1.406409</td>\n",
       "    </tr>\n",
       "    <tr>\n",
       "      <th>mid</th>\n",
       "      <td>0.899944</td>\n",
       "      <td>2.881863</td>\n",
       "    </tr>\n",
       "    <tr>\n",
       "      <th>rand</th>\n",
       "      <td>0.376264</td>\n",
       "      <td>3.783351</td>\n",
       "    </tr>\n",
       "    <tr>\n",
       "      <th>low</th>\n",
       "      <td>0.292094</td>\n",
       "      <td>5.205642</td>\n",
       "    </tr>\n",
       "  </tbody>\n",
       "</table>\n",
       "</div>"
      ],
      "text/plain": [
       "         Max. Toxicity  Tumor Size\n",
       "index                             \n",
       "extreme       4.815460    0.105788\n",
       "high          3.049354    1.406409\n",
       "mid           0.899944    2.881863\n",
       "rand          0.376264    3.783351\n",
       "low           0.292094    5.205642"
      ]
     },
     "execution_count": 739,
     "metadata": {},
     "output_type": "execute_result"
    }
   ],
   "source": [
    "# Select data for the plot from each patient\n",
    "def get_stats(dic_vals):\n",
    "    h_tox = np.array(dic_vals)[:,1].max()\n",
    "    t_size = np.array(dic_vals)[-1,0][0]\n",
    "    \n",
    "    return h_tox, t_size\n",
    "\n",
    "patient_data = {}\n",
    "\n",
    "for patient, patient_obs in patient_dic.items():\n",
    "    \n",
    "    plot_data = {}\n",
    "\n",
    "    for level, obs in obs_dic.items():\n",
    "\n",
    "        plot_data[level] = get_stats(obs)\n",
    "        \n",
    "    patient_data[patient] = plot_data\n",
    "\n",
    "# Aggregate data from every patient\n",
    "df_li = []\n",
    "for patient, plot_data in patient_data.items():\n",
    "    tmp_df = pd.DataFrame(plot_data).T\n",
    "    tmp_df.columns = ['Max. Toxicity', 'Tumor Size']\n",
    "    tmp_df.loc[:,'Patient'] = patient\n",
    "    df_li.append(tmp_df)\n",
    "\n",
    "\n",
    "# Compute the averages\n",
    "plot_df = pd.concat(df_li,axis=0)\n",
    "plot_df.reset_index(inplace=True)\n",
    "\n",
    "plot_df_summary = plot_df.groupby(['index'])[['Max. Toxicity','Tumor Size']].mean().reset_index()\n",
    "plot_df_summary.sort_values('Tumor Size',inplace=True)\n",
    "\n",
    "plot_df_summary.set_index('index',inplace=True)\n",
    "plot_df_summary"
   ]
  },
  {
   "cell_type": "code",
   "execution_count": 740,
   "metadata": {
    "ExecuteTime": {
     "end_time": "2021-01-04T16:10:28.715098Z",
     "start_time": "2021-01-04T16:10:28.711029Z"
    }
   },
   "outputs": [],
   "source": [
    "# Data for the connecting line (excluding random dosage)\n",
    "line_y = plot_df_summary.loc[(plot_df_summary.index == 'extreme') | (plot_df_summary.index == 'high') | (plot_df_summary.index == 'mid') | (plot_df_summary.index == 'low'),'Max. Toxicity'].values\n",
    "line_x = plot_df_summary.loc[(plot_df_summary.index == 'extreme') | (plot_df_summary.index == 'high') | (plot_df_summary.index == 'mid') | (plot_df_summary.index == 'low'), 'Tumor Size'].values"
   ]
  },
  {
   "cell_type": "code",
   "execution_count": 741,
   "metadata": {
    "ExecuteTime": {
     "end_time": "2021-01-04T16:10:29.831294Z",
     "start_time": "2021-01-04T16:10:29.684586Z"
    }
   },
   "outputs": [
    {
     "data": {
      "image/png": "[encoded data removed]",
      "text/plain": [
       "<Figure size 864x360 with 1 Axes>"
      ]
     },
     "metadata": {
      "needs_background": "light"
     },
     "output_type": "display_data"
    }
   ],
   "source": [
    "# Create the plot\n",
    "fig2, ax2 = plt.subplots(figsize = (12,5))\n",
    "\n",
    "sns.scatterplot(x='Tumor Size'\n",
    "               , y= 'Max. Toxicity'\n",
    "               , data = plot_df_summary\n",
    "               , s=120\n",
    "               , ax = ax2)\n",
    "\n",
    "sns.lineplot(x = line_x\n",
    "            , y = line_y\n",
    "            , ax = ax2)\n",
    "\n",
    "\n",
    "ax2.lines[0].set_linestyle(\"--\")\n",
    "ax2.set(ylim=(0, 7))\n",
    "plt.grid()\n",
    "plt.show()"
   ]
  },
  {
   "cell_type": "code",
   "execution_count": 724,
   "metadata": {
    "ExecuteTime": {
     "end_time": "2021-01-04T16:08:04.638893Z",
     "start_time": "2021-01-04T16:08:04.627256Z"
    }
   },
   "outputs": [],
   "source": [
    "def run_experiment(seed):\n",
    "    \n",
    "    dosages =    {'low': np.array([0.1])\n",
    "                , 'mid': np.array([0.4])\n",
    "                , 'rand': None\n",
    "                , 'high': np.array([0.7])\n",
    "                , 'extreme': np.array([1.])}\n",
    "\n",
    "\n",
    "    selected_patients = generate_patients(seed=seed)\n",
    "\n",
    "    patient_dic = {}\n",
    "\n",
    "    patient_count = 0\n",
    "    # Run test for 200 patients\n",
    "    for patient in selected_patients:\n",
    "\n",
    "        obs_dic = {}\n",
    "\n",
    "        for level, dosage in dosages.items():\n",
    "\n",
    "            # Create patient: initial Tumor size and wellness\n",
    "            starting_state = np.array([patient[0]]),np.array([patient[1]])\n",
    "\n",
    "            obs_dic[level] = []\n",
    "            obs_dic[level].append(starting_state)\n",
    "\n",
    "            # Simulate the environment\n",
    "            env.reset(init_state = starting_state)\n",
    "\n",
    "            if level == 'rand':\n",
    "                # Run treatment for 6 months\n",
    "                for _ in range(7):\n",
    "                    obs, reward, done, p_death = env.step(np.array([np.random.choice(np.array([0.1,0.4,0.7,1.]))]))\n",
    "                    if done:\n",
    "                        break\n",
    "                    obs_dic[level].append(obs)\n",
    "            else:\n",
    "                # Run treatment for 6 months\n",
    "                for _ in range(7):\n",
    "                    obs, reward, done, p_death = env.step(dosage)\n",
    "                    if done:\n",
    "                        break\n",
    "                    obs_dic[level].append(obs)\n",
    "\n",
    "        patient_dic[patient_count] = obs_dic\n",
    "        patient_count += 1\n",
    "        \n",
    "        \n",
    "    # Select data for the plot from each patient\n",
    "    def get_stats(dic_vals):\n",
    "        h_tox = np.array(dic_vals)[:,1].max()\n",
    "        t_size = np.array(dic_vals)[-1,0][0]\n",
    "\n",
    "        return h_tox, t_size\n",
    "\n",
    "    patient_data = {}\n",
    "\n",
    "    for patient, patient_obs in patient_dic.items():\n",
    "\n",
    "        plot_data = {}\n",
    "\n",
    "        for level, obs in obs_dic.items():\n",
    "\n",
    "            plot_data[level] = get_stats(obs)\n",
    "\n",
    "        patient_data[patient] = plot_data\n",
    "\n",
    "    # Aggregate data from every patient\n",
    "    df_li = []\n",
    "    for patient, plot_data in patient_data.items():\n",
    "        tmp_df = pd.DataFrame(plot_data).T\n",
    "        tmp_df.columns = ['Max. Toxicity', 'Tumor Size']\n",
    "        tmp_df.loc[:,'Patient'] = patient\n",
    "        df_li.append(tmp_df)\n",
    "\n",
    "\n",
    "    # Compute the averages\n",
    "    plot_df = pd.concat(df_li,axis=0)\n",
    "    plot_df.reset_index(inplace=True)\n",
    "\n",
    "    plot_df_summary = plot_df.groupby(['index'])[['Max. Toxicity','Tumor Size']].mean().reset_index()\n",
    "    plot_df_summary.sort_values('Tumor Size',inplace=True)\n",
    "\n",
    "    plot_df_summary.set_index('index',inplace=True)\n",
    "\n",
    "    \n",
    "    # Data for the connecting line (excluding random dosage)\n",
    "    line_y = plot_df_summary.loc[(plot_df_summary.index == 'extreme') | (plot_df_summary.index == 'high') | (plot_df_summary.index == 'mid') | (plot_df_summary.index == 'low'),'Max. Toxicity'].values\n",
    "    line_x = plot_df_summary.loc[(plot_df_summary.index == 'extreme') | (plot_df_summary.index == 'high') | (plot_df_summary.index == 'mid') | (plot_df_summary.index == 'low'), 'Tumor Size'].values\n",
    "    \n",
    "    # Create the plot\n",
    "    fig2, ax2 = plt.subplots(figsize = (12,5))\n",
    "\n",
    "    sns.scatterplot(x='Tumor Size'\n",
    "                   , y= 'Max. Toxicity'\n",
    "                   , data = plot_df_summary\n",
    "                   , s=120\n",
    "                   , ax = ax2)\n",
    "\n",
    "    sns.lineplot(x = line_x\n",
    "                , y = line_y\n",
    "                , ax = ax2)\n",
    "\n",
    "\n",
    "    ax2.lines[0].set_linestyle(\"--\")\n",
    "    ax2.set(ylim=(0, 7))\n",
    "    plt.grid()\n",
    "    plt.show()\n",
    "\n",
    "    "
   ]
  },
  {
   "cell_type": "code",
   "execution_count": 736,
   "metadata": {
    "ExecuteTime": {
     "end_time": "2021-01-04T16:09:48.087526Z",
     "start_time": "2021-01-04T16:09:46.745964Z"
    }
   },
   "outputs": [
    {
     "name": "stderr",
     "output_type": "stream",
     "text": [
      "/opt/conda/lib/python3.7/site-packages/gym/logger.py:30: UserWarning: \u001b[33mWARN: You are calling 'step()' even though this environment has already returned done = True. You should always call 'reset()' once you receive 'done = True' -- any further steps are undefined behavior.\u001b[0m\n",
      "  warnings.warn(colorize('%s: %s'%('WARN', msg % args), 'yellow'))\n"
     ]
    },
    {
     "data": {
      "image/png": "[encoded data removed]",
      "text/plain": [
       "<Figure size 864x360 with 1 Axes>"
      ]
     },
     "metadata": {
      "needs_background": "light"
     },
     "output_type": "display_data"
    }
   ],
   "source": [
    "run_experiment(seed=17)"
   ]
  },
  {
   "cell_type": "markdown",
   "metadata": {},
   "source": [
    "<img src=\"graphics/FHCP_paper_fig_7.PNG\">"
   ]
  }
 ],
 "metadata": {
  "hide_input": false,
  "kernelspec": {
   "display_name": "Python 3",
   "language": "python",
   "name": "python3"
  },
  "language_info": {
   "codemirror_mode": {
    "name": "ipython",
    "version": 3
   },
   "file_extension": ".py",
   "mimetype": "text/x-python",
   "name": "python",
   "nbconvert_exporter": "python",
   "pygments_lexer": "ipython3",
   "version": "3.7.8"
  }
 },
 "nbformat": 4,
 "nbformat_minor": 4
}
