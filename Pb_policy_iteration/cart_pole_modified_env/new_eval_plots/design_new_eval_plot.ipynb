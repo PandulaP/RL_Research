{
 "metadata": {
  "language_info": {
   "codemirror_mode": {
    "name": "ipython",
    "version": 3
   },
   "file_extension": ".py",
   "mimetype": "text/x-python",
   "name": "python",
   "nbconvert_exporter": "python",
   "pygments_lexer": "ipython3",
   "version": "3.7.4-final"
  },
  "orig_nbformat": 2,
  "kernelspec": {
   "name": "python3",
   "display_name": "Python 3",
   "language": "python"
  }
 },
 "nbformat": 4,
 "nbformat_minor": 2,
 "cells": [
  {
   "source": [
    "## Attempt to design a new evaluation result plot to present the performance of PbPI algorithm"
   ],
   "cell_type": "markdown",
   "metadata": {}
  },
  {
   "source": [
    "#### Background:\n",
    "\n",
    "As of now, we measure and demonstrate the performance of PbPI algorithm following the work of XXX. Both XXX and YYY have recorded the performance of the algorithms that they developed using the below chart: \n",
    "\n",
    "<img src=\"graphics/current_chart.png\">\n",
    "\n",
    "The only information this chart present is that whether the algorithm was able to find a sufficient policy in at least one of the policy iteration runs completed during the experiment.\n",
    "\n",
    "In this notebook, we will try to explore different methods to present additional performance information by designing a new evaluation  plot."
   ],
   "cell_type": "markdown",
   "metadata": {}
  },
  {
   "source": [
    "----\n",
    "\n",
    "We will use the evaluation results that we produced by running 510 experiments ([stored here](https://github.com/PandulaP/RL_Research/tree/main/Pb_policy_iteration/cart_pole_modified_env/reproduce_FHCP_results/original_algo/eval_results)) with the *original* PbPI algorithm for the experiments."
   ],
   "cell_type": "markdown",
   "metadata": {}
  },
  {
   "cell_type": "code",
   "execution_count": 2,
   "metadata": {},
   "outputs": [],
   "source": [
    "# import packages\n",
    "import pandas as pd\n",
    "import numpy as np\n",
    "import matplotlib.pyplot as plt\n"
   ]
  },
  {
   "cell_type": "code",
   "execution_count": 4,
   "metadata": {},
   "outputs": [],
   "source": [
    "def process_eval_file(file_name:str):\n",
    "    \n",
    "    try:\n",
    "        eva_results = pd.read_excel(f'{file_name}.xlsx')\n",
    "    except:\n",
    "        return None\n",
    "    \n",
    "    eva_results.loc[:,'SR_processed'] = eva_results.apply(lambda row: row.SR.replace('[',''), axis=1)\n",
    "    eva_results.loc[:,'SR_processed'] = eva_results.apply(lambda row: row.SR_processed.replace(']',''), axis=1)\n",
    "    eva_results.loc[:,'SR_processed'] = eva_results.apply(lambda row: row.SR_processed.split(','), axis=1)\n",
    "\n",
    "    eva_results.loc[:,'action_record_processed'] = eva_results.apply(lambda row: row.action_record.replace('[',''), axis=1)\n",
    "    eva_results.loc[:,'action_record_processed'] = eva_results.apply(lambda row: row.action_record_processed.replace(']',''), axis=1)\n",
    "    eva_results.loc[:,'action_record_processed'] = eva_results.apply(lambda row: row.action_record_processed.split(','), axis=1)\n",
    "\n",
    "    return eva_results"
   ]
  },
  {
   "cell_type": "code",
   "execution_count": 5,
   "metadata": {},
   "outputs": [],
   "source": [
    "eval_f_list_original = []\n",
    "\n",
    "for i in range(12):\n",
    "    \n",
    "    name_prefix = '../reproduce_FHCP_results/original_algo/eval_results/original_experiment_results_para_config_'\n",
    "    f_num = i+1\n",
    "    f_name = name_prefix + str(f_num)\n",
    "    \n",
    "    if process_eval_file(f_name) is not None:\n",
    "        eval_f_list_original.append(process_eval_file(f_name))"
   ]
  },
  {
   "cell_type": "code",
   "execution_count": 6,
   "metadata": {},
   "outputs": [],
   "source": [
    "eval_full_file_original = pd.concat(eval_f_list_original)"
   ]
  },
  {
   "cell_type": "code",
   "execution_count": 7,
   "metadata": {},
   "outputs": [
    {
     "output_type": "execute_result",
     "data": {
      "text/plain": [
       "    S  Actions  Roll-outs  Significance  run  \\\n",
       "0  10        3         10         0.025    0   \n",
       "1  10        3         10         0.025    1   \n",
       "2  10        3         10         0.025    2   \n",
       "3  10        3         10         0.025    3   \n",
       "4  10        3         10         0.025    4   \n",
       "\n",
       "                                       action_record  \\\n",
       "0  [4237, 48618, 63877, 75558, 80113, 84486, 8898...   \n",
       "1  [4321, 24800, 36477, 57970, 72215, 76991, 1091...   \n",
       "2  [4385, 22015, 25889, 37739, 41729, 49721, 6551...   \n",
       "3  [4251, 26319, 41077, 45378, 105031, 116689, 12...   \n",
       "4  [4312, 33165, 37530, 49567, 53510, 63649, 6761...   \n",
       "\n",
       "                                                  SR  \\\n",
       "0  [0.0, 0.0, 0.0, 0.0, 0.0, 0.0, 0.0, 0.0, 0.0, ...   \n",
       "1  [0.0, 0.0, 0.0, 0.0, 0.0, 0.0, 0.0, 0.0, 0.0, ...   \n",
       "2  [0.0, 0.0, 0.0, 0.0, 0.0, 0.0, 0.0, 0.0, 0.0, ...   \n",
       "3  [0.0, 0.0, 0.0, 0.0, 0.0, 0.0, 0.0, 0.0, 0.0, ...   \n",
       "4  [0.0, 0.0, 0.0, 0.0, 0.0, 0.0, 0.0, 0.0, 0.0, ...   \n",
       "\n",
       "                                        SR_processed  \\\n",
       "0  [0.0,  0.0,  0.0,  0.0,  0.0,  0.0,  0.0,  0.0...   \n",
       "1  [0.0,  0.0,  0.0,  0.0,  0.0,  0.0,  0.0,  0.0...   \n",
       "2  [0.0,  0.0,  0.0,  0.0,  0.0,  0.0,  0.0,  0.0...   \n",
       "3  [0.0,  0.0,  0.0,  0.0,  0.0,  0.0,  0.0,  0.0...   \n",
       "4  [0.0,  0.0,  0.0,  0.0,  0.0,  0.0,  0.0,  0.0...   \n",
       "\n",
       "                             action_record_processed  \n",
       "0  [4237,  48618,  63877,  75558,  80113,  84486,...  \n",
       "1  [4321,  24800,  36477,  57970,  72215,  76991,...  \n",
       "2  [4385,  22015,  25889,  37739,  41729,  49721,...  \n",
       "3  [4251,  26319,  41077,  45378,  105031,  11668...  \n",
       "4  [4312,  33165,  37530,  49567,  53510,  63649,...  "
      ],
      "text/html": "<div>\n<style scoped>\n    .dataframe tbody tr th:only-of-type {\n        vertical-align: middle;\n    }\n\n    .dataframe tbody tr th {\n        vertical-align: top;\n    }\n\n    .dataframe thead th {\n        text-align: right;\n    }\n</style>\n<table border=\"1\" class=\"dataframe\">\n  <thead>\n    <tr style=\"text-align: right;\">\n      <th></th>\n      <th>S</th>\n      <th>Actions</th>\n      <th>Roll-outs</th>\n      <th>Significance</th>\n      <th>run</th>\n      <th>action_record</th>\n      <th>SR</th>\n      <th>SR_processed</th>\n      <th>action_record_processed</th>\n    </tr>\n  </thead>\n  <tbody>\n    <tr>\n      <td>0</td>\n      <td>10</td>\n      <td>3</td>\n      <td>10</td>\n      <td>0.025</td>\n      <td>0</td>\n      <td>[4237, 48618, 63877, 75558, 80113, 84486, 8898...</td>\n      <td>[0.0, 0.0, 0.0, 0.0, 0.0, 0.0, 0.0, 0.0, 0.0, ...</td>\n      <td>[0.0,  0.0,  0.0,  0.0,  0.0,  0.0,  0.0,  0.0...</td>\n      <td>[4237,  48618,  63877,  75558,  80113,  84486,...</td>\n    </tr>\n    <tr>\n      <td>1</td>\n      <td>10</td>\n      <td>3</td>\n      <td>10</td>\n      <td>0.025</td>\n      <td>1</td>\n      <td>[4321, 24800, 36477, 57970, 72215, 76991, 1091...</td>\n      <td>[0.0, 0.0, 0.0, 0.0, 0.0, 0.0, 0.0, 0.0, 0.0, ...</td>\n      <td>[0.0,  0.0,  0.0,  0.0,  0.0,  0.0,  0.0,  0.0...</td>\n      <td>[4321,  24800,  36477,  57970,  72215,  76991,...</td>\n    </tr>\n    <tr>\n      <td>2</td>\n      <td>10</td>\n      <td>3</td>\n      <td>10</td>\n      <td>0.025</td>\n      <td>2</td>\n      <td>[4385, 22015, 25889, 37739, 41729, 49721, 6551...</td>\n      <td>[0.0, 0.0, 0.0, 0.0, 0.0, 0.0, 0.0, 0.0, 0.0, ...</td>\n      <td>[0.0,  0.0,  0.0,  0.0,  0.0,  0.0,  0.0,  0.0...</td>\n      <td>[4385,  22015,  25889,  37739,  41729,  49721,...</td>\n    </tr>\n    <tr>\n      <td>3</td>\n      <td>10</td>\n      <td>3</td>\n      <td>10</td>\n      <td>0.025</td>\n      <td>3</td>\n      <td>[4251, 26319, 41077, 45378, 105031, 116689, 12...</td>\n      <td>[0.0, 0.0, 0.0, 0.0, 0.0, 0.0, 0.0, 0.0, 0.0, ...</td>\n      <td>[0.0,  0.0,  0.0,  0.0,  0.0,  0.0,  0.0,  0.0...</td>\n      <td>[4251,  26319,  41077,  45378,  105031,  11668...</td>\n    </tr>\n    <tr>\n      <td>4</td>\n      <td>10</td>\n      <td>3</td>\n      <td>10</td>\n      <td>0.025</td>\n      <td>4</td>\n      <td>[4312, 33165, 37530, 49567, 53510, 63649, 6761...</td>\n      <td>[0.0, 0.0, 0.0, 0.0, 0.0, 0.0, 0.0, 0.0, 0.0, ...</td>\n      <td>[0.0,  0.0,  0.0,  0.0,  0.0,  0.0,  0.0,  0.0...</td>\n      <td>[4312,  33165,  37530,  49567,  53510,  63649,...</td>\n    </tr>\n  </tbody>\n</table>\n</div>"
     },
     "metadata": {},
     "execution_count": 7
    }
   ],
   "source": [
    "eval_full_file_original.head()"
   ]
  }
 ]
}