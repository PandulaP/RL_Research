{
 "cells": [
  {
   "cell_type": "markdown",
   "metadata": {},
   "source": [
    "## Analysis on the initial state selection"
   ]
  },
  {
   "cell_type": "markdown",
   "metadata": {},
   "source": [
    "### Hypothesis: Initial state selection affects the performance of the PbPI algorithm\n",
    "\n",
    "#### Analysis method:\n",
    "\n",
    "- Design a two sets of state pools with equal number of states\n",
    "    - First, generate a large pool of states by letting the agent follow a random policy for 1000 steps; if an episode terminates while executing this number of actions, the environment is reset and the remaining actions are executed.\n",
    "    - Afterwards, derive three sets of initial states by following the below approach:\n",
    "        - From the initial pool of states, randomly sample 50 states to derive a initial state distribution of the pendulum angle skewed to right.\n",
    "        - From the initial pool of states, randomly sample 50 states to derive a initial state distribution of the pendulum angle skewed to left.\n",
    "        - From the initial pool of states, divide the captured pendulum angle (state) into 10 equidistant partitions and sample 4 states from each partition:\n",
    "            - When partitioning the state pendulum angle state values, I define a upper and lower bounds on the pendulum angle as -45 degrees  (-0.77 rads) and + 45 degrees (+0.77 rads).\n",
    "            - This is due to the assumption that once the pendulum exceeds these thresholds, the agent will not be able to balance the pendulum again regardless how large the magnitute of the force would be."
   ]
  },
  {
   "cell_type": "code",
   "execution_count": 1,
   "metadata": {},
   "outputs": [],
   "source": [
    "########################################\n",
    "### importing the necessary packages ###\n",
    "########################################\n",
    "\n",
    "import gym\n",
    "from gym import wrappers\n",
    "import custom_cartpole  # custom cart-pole environment\n",
    "\n",
    "import numpy as np\n",
    "import pandas as pd\n",
    "\n",
    "import random\n",
    "from scipy.stats import rankdata as rd\n",
    "from scipy import stats\n",
    "\n",
    "import torch\n",
    "import torch.nn as nn\n",
    "import torch.nn.functional as F\n",
    "from torch.utils.data import TensorDataset, DataLoader\n",
    "\n",
    "import matplotlib.pyplot as plt\n",
    "import seaborn as sns\n",
    "\n",
    "from IPython import display\n",
    "from IPython.display import HTML\n",
    "\n",
    "import io\n",
    "import base64\n",
    "import itertools\n",
    "import tqdm\n",
    "import os"
   ]
  },
  {
   "cell_type": "markdown",
   "metadata": {},
   "source": [
    "### Preparing the initial pool of states"
   ]
  },
  {
   "cell_type": "markdown",
   "metadata": {},
   "source": [
    "- Let's make the agent execute 1000 random actions in the environment and record the states that it visits (pendulum angle and angular velocity).\n",
    "\n",
    "- I record the termination flag value generated at each state for post-processing."
   ]
  },
  {
   "cell_type": "code",
   "execution_count": 66,
   "metadata": {},
   "outputs": [],
   "source": [
    "def create_state_pool():\n",
    "    # Initialize the gym environment and rest it\n",
    "    env = gym.make('CustomCartPole-v0') \n",
    "    env.reset()\n",
    "\n",
    "    # Empty vectors to store values\n",
    "    obs_vec = []\n",
    "    term_vec = []\n",
    "\n",
    "    # Number of steps to execute in the environment\n",
    "    step_count = 10000\n",
    "\n",
    "    # Generate states by executing random actions (following a random policy)\n",
    "    for step in tqdm.tqdm(range(step_count)):\n",
    "        obs, reward, terminated, _ = env.step(env.action_space.sample())\n",
    "\n",
    "        obs_vec.append(obs)\n",
    "        term_vec.append(terminated)\n",
    "\n",
    "        if terminated:\n",
    "            env.reset()\n",
    "\n",
    "\n",
    "    # Process the observed state values\n",
    "    obs_vec = np.array(obs_vec).reshape(step_count,-1)\n",
    "    term_vec  = np.array(term_vec ).reshape(step_count,-1)\n",
    "\n",
    "    # Only pick the 'pendulum angle' and 'angular velocity' values\n",
    "    obs_pend_angle_velo = obs_vec[:,[2,3]]\n",
    "\n",
    "    # Join the state observations with termination flag data\n",
    "    obs_pend_angle_velo_w_flag = np.concatenate([obs_pend_angle_velo,term_vec],axis = 1)\n",
    "\n",
    "    # Create a Pandas dataframe with the information\n",
    "    obs_df = pd.DataFrame(obs_pend_angle_velo_w_flag\n",
    "                        , columns=['pend_angle','angular_velo','flag'])\n",
    "    obs_df.reset_index(inplace = True)\n",
    "    obs_df.columns = ['step','pend_angle','angular_velo','flag']\n",
    "    obs_df.flag.replace([0,1],['Not-Terminated','Terminated'],inplace=True) # Replace the termination flag values\n",
    "    \n",
    "    return obs_df"
   ]
  },
  {
   "cell_type": "code",
   "execution_count": 102,
   "metadata": {},
   "outputs": [
    {
     "name": "stderr",
     "output_type": "stream",
     "text": [
      "100%|██████████████████████████████████████████████████████████████████████████| 10000/10000 [00:02<00:00, 4730.28it/s]\n"
     ]
    },
    {
     "data": {
      "text/html": [
       "<div>\n",
       "<style scoped>\n",
       "    .dataframe tbody tr th:only-of-type {\n",
       "        vertical-align: middle;\n",
       "    }\n",
       "\n",
       "    .dataframe tbody tr th {\n",
       "        vertical-align: top;\n",
       "    }\n",
       "\n",
       "    .dataframe thead th {\n",
       "        text-align: right;\n",
       "    }\n",
       "</style>\n",
       "<table border=\"1\" class=\"dataframe\">\n",
       "  <thead>\n",
       "    <tr style=\"text-align: right;\">\n",
       "      <th></th>\n",
       "      <th>step</th>\n",
       "      <th>pend_angle</th>\n",
       "      <th>angular_velo</th>\n",
       "      <th>flag</th>\n",
       "    </tr>\n",
       "  </thead>\n",
       "  <tbody>\n",
       "    <tr>\n",
       "      <td>0</td>\n",
       "      <td>0</td>\n",
       "      <td>-0.093376</td>\n",
       "      <td>-0.802910</td>\n",
       "      <td>Not-Terminated</td>\n",
       "    </tr>\n",
       "    <tr>\n",
       "      <td>1</td>\n",
       "      <td>1</td>\n",
       "      <td>-0.260258</td>\n",
       "      <td>-1.668819</td>\n",
       "      <td>Not-Terminated</td>\n",
       "    </tr>\n",
       "    <tr>\n",
       "      <td>2</td>\n",
       "      <td>2</td>\n",
       "      <td>-0.456847</td>\n",
       "      <td>-1.965890</td>\n",
       "      <td>Not-Terminated</td>\n",
       "    </tr>\n",
       "    <tr>\n",
       "      <td>3</td>\n",
       "      <td>3</td>\n",
       "      <td>-0.719358</td>\n",
       "      <td>-2.625113</td>\n",
       "      <td>Not-Terminated</td>\n",
       "    </tr>\n",
       "    <tr>\n",
       "      <td>4</td>\n",
       "      <td>4</td>\n",
       "      <td>-1.120158</td>\n",
       "      <td>-4.007998</td>\n",
       "      <td>Not-Terminated</td>\n",
       "    </tr>\n",
       "  </tbody>\n",
       "</table>\n",
       "</div>"
      ],
      "text/plain": [
       "   step  pend_angle  angular_velo            flag\n",
       "0     0   -0.093376     -0.802910  Not-Terminated\n",
       "1     1   -0.260258     -1.668819  Not-Terminated\n",
       "2     2   -0.456847     -1.965890  Not-Terminated\n",
       "3     3   -0.719358     -2.625113  Not-Terminated\n",
       "4     4   -1.120158     -4.007998  Not-Terminated"
      ]
     },
     "execution_count": 102,
     "metadata": {},
     "output_type": "execute_result"
    }
   ],
   "source": [
    "obs_df =  create_state_pool()\n",
    "obs_df.head()"
   ]
  },
  {
   "cell_type": "markdown",
   "metadata": {},
   "source": [
    "- Let's analyse the recorded 'pendulum angle' and 'angular velocity' values to see if there are any distinct properties for these two state variables at terminal states"
   ]
  },
  {
   "cell_type": "code",
   "execution_count": 127,
   "metadata": {},
   "outputs": [],
   "source": [
    "def plot_distribution(df, var_name:str):\n",
    "    var = var_name\n",
    "\n",
    "    _, bins = np.histogram(df[var], bins = 20)\n",
    "    g = sns.FacetGrid(df, hue=\"flag\", height=6)\n",
    "    g = g.map(sns.distplot, var, bins=bins)\n",
    "    g.add_legend()\n",
    "    plt.tight_layout()\n",
    "    plt.show()"
   ]
  },
  {
   "cell_type": "code",
   "execution_count": 122,
   "metadata": {},
   "outputs": [
    {
     "data": {
      "image/png": "[encoded data removed]",
      "text/plain": [
       "<Figure size 546.609x432 with 1 Axes>"
      ]
     },
     "metadata": {
      "needs_background": "light"
     },
     "output_type": "display_data"
    }
   ],
   "source": [
    "plot_distribution(obs_df, 'pend_angle')"
   ]
  },
  {
   "cell_type": "code",
   "execution_count": 123,
   "metadata": {},
   "outputs": [
    {
     "data": {
      "image/png": "[encoded data removed]",
      "text/plain": [
       "<Figure size 546.609x432 with 1 Axes>"
      ]
     },
     "metadata": {
      "needs_background": "light"
     },
     "output_type": "display_data"
    }
   ],
   "source": [
    "plot_distribution(obs_df, 'angular_velo')"
   ]
  },
  {
   "cell_type": "markdown",
   "metadata": {},
   "source": [
    "- Here, we can see that the values at positive and negative extremes (tails) corresponds to terminal states"
   ]
  },
  {
   "cell_type": "markdown",
   "metadata": {},
   "source": [
    "- Now, as mentioned at top, I create a separate (reduced) dataset which will exclude the 4 states that lead to terminal states\n",
    "    - E.g., assume there is a sequence of states in the order (s1,s2,s3,s4,s5,s6,s7,s8,s9,TERMINAL-STATE, s11, s12, ...) stored in the original dataset, the new dataset will only include (s1,s2,s3,s4,s5,s11,s12,...)"
   ]
  },
  {
   "cell_type": "code",
   "execution_count": 103,
   "metadata": {},
   "outputs": [],
   "source": [
    "episode_count = []\n",
    "episodic_step = []\n",
    "\n",
    "epi_step_count = 0\n",
    "epi_count = 1\n",
    "\n",
    "for idx, row in obs_df.iterrows():\n",
    "    \n",
    "    epi_step_count += 1   \n",
    "        \n",
    "    if row.flag == 'Terminated':\n",
    "        episodic_step.append(epi_step_count)\n",
    "        epi_step_count = 0\n",
    "        \n",
    "        episode_count.append(epi_count)\n",
    "        epi_count +=1\n",
    "        continue\n",
    "        \n",
    "    episode_count.append(epi_count)\n",
    "    episodic_step.append(epi_step_count)\n",
    "        \n",
    "obs_df = pd.concat([obs_df\n",
    "                    , pd.Series(episodic_step,name='episodic_step')\n",
    "                    , pd.Series(episode_count ,name='episode_num')],axis=1)"
   ]
  },
  {
   "cell_type": "code",
   "execution_count": 104,
   "metadata": {},
   "outputs": [
    {
     "data": {
      "text/html": [
       "<div>\n",
       "<style scoped>\n",
       "    .dataframe tbody tr th:only-of-type {\n",
       "        vertical-align: middle;\n",
       "    }\n",
       "\n",
       "    .dataframe tbody tr th {\n",
       "        vertical-align: top;\n",
       "    }\n",
       "\n",
       "    .dataframe thead th {\n",
       "        text-align: right;\n",
       "    }\n",
       "</style>\n",
       "<table border=\"1\" class=\"dataframe\">\n",
       "  <thead>\n",
       "    <tr style=\"text-align: right;\">\n",
       "      <th></th>\n",
       "      <th>step</th>\n",
       "      <th>pend_angle</th>\n",
       "      <th>angular_velo</th>\n",
       "      <th>flag</th>\n",
       "      <th>episodic_step</th>\n",
       "      <th>episode_num</th>\n",
       "    </tr>\n",
       "  </thead>\n",
       "  <tbody>\n",
       "    <tr>\n",
       "      <td>0</td>\n",
       "      <td>0</td>\n",
       "      <td>-0.093376</td>\n",
       "      <td>-0.802910</td>\n",
       "      <td>Not-Terminated</td>\n",
       "      <td>1</td>\n",
       "      <td>1</td>\n",
       "    </tr>\n",
       "    <tr>\n",
       "      <td>1</td>\n",
       "      <td>1</td>\n",
       "      <td>-0.260258</td>\n",
       "      <td>-1.668819</td>\n",
       "      <td>Not-Terminated</td>\n",
       "      <td>2</td>\n",
       "      <td>1</td>\n",
       "    </tr>\n",
       "    <tr>\n",
       "      <td>2</td>\n",
       "      <td>2</td>\n",
       "      <td>-0.456847</td>\n",
       "      <td>-1.965890</td>\n",
       "      <td>Not-Terminated</td>\n",
       "      <td>3</td>\n",
       "      <td>1</td>\n",
       "    </tr>\n",
       "    <tr>\n",
       "      <td>3</td>\n",
       "      <td>3</td>\n",
       "      <td>-0.719358</td>\n",
       "      <td>-2.625113</td>\n",
       "      <td>Not-Terminated</td>\n",
       "      <td>4</td>\n",
       "      <td>1</td>\n",
       "    </tr>\n",
       "    <tr>\n",
       "      <td>4</td>\n",
       "      <td>4</td>\n",
       "      <td>-1.120158</td>\n",
       "      <td>-4.007998</td>\n",
       "      <td>Not-Terminated</td>\n",
       "      <td>5</td>\n",
       "      <td>1</td>\n",
       "    </tr>\n",
       "    <tr>\n",
       "      <td>5</td>\n",
       "      <td>5</td>\n",
       "      <td>-1.666351</td>\n",
       "      <td>-5.461932</td>\n",
       "      <td>Terminated</td>\n",
       "      <td>6</td>\n",
       "      <td>1</td>\n",
       "    </tr>\n",
       "    <tr>\n",
       "      <td>6</td>\n",
       "      <td>6</td>\n",
       "      <td>0.018987</td>\n",
       "      <td>0.001175</td>\n",
       "      <td>Not-Terminated</td>\n",
       "      <td>1</td>\n",
       "      <td>2</td>\n",
       "    </tr>\n",
       "    <tr>\n",
       "      <td>7</td>\n",
       "      <td>7</td>\n",
       "      <td>0.100011</td>\n",
       "      <td>0.810234</td>\n",
       "      <td>Not-Terminated</td>\n",
       "      <td>2</td>\n",
       "      <td>2</td>\n",
       "    </tr>\n",
       "    <tr>\n",
       "      <td>8</td>\n",
       "      <td>8</td>\n",
       "      <td>0.264617</td>\n",
       "      <td>1.646056</td>\n",
       "      <td>Not-Terminated</td>\n",
       "      <td>3</td>\n",
       "      <td>2</td>\n",
       "    </tr>\n",
       "    <tr>\n",
       "      <td>9</td>\n",
       "      <td>9</td>\n",
       "      <td>0.434469</td>\n",
       "      <td>1.698523</td>\n",
       "      <td>Not-Terminated</td>\n",
       "      <td>4</td>\n",
       "      <td>2</td>\n",
       "    </tr>\n",
       "  </tbody>\n",
       "</table>\n",
       "</div>"
      ],
      "text/plain": [
       "   step  pend_angle  angular_velo            flag  episodic_step  episode_num\n",
       "0     0   -0.093376     -0.802910  Not-Terminated              1            1\n",
       "1     1   -0.260258     -1.668819  Not-Terminated              2            1\n",
       "2     2   -0.456847     -1.965890  Not-Terminated              3            1\n",
       "3     3   -0.719358     -2.625113  Not-Terminated              4            1\n",
       "4     4   -1.120158     -4.007998  Not-Terminated              5            1\n",
       "5     5   -1.666351     -5.461932      Terminated              6            1\n",
       "6     6    0.018987      0.001175  Not-Terminated              1            2\n",
       "7     7    0.100011      0.810234  Not-Terminated              2            2\n",
       "8     8    0.264617      1.646056  Not-Terminated              3            2\n",
       "9     9    0.434469      1.698523  Not-Terminated              4            2"
      ]
     },
     "execution_count": 104,
     "metadata": {},
     "output_type": "execute_result"
    }
   ],
   "source": [
    "obs_df.head(10)"
   ]
  },
  {
   "cell_type": "code",
   "execution_count": 109,
   "metadata": {},
   "outputs": [],
   "source": [
    "# Identify number of steps to select from each episode (after removing 4 states leading to terminal state)\n",
    "epi_n_epi_steps_fil_df = obs_df.groupby(['episode_num']).episodic_step.max().reset_index()\n",
    "epi_n_epi_steps_fil_df.loc[:,'epi_steps_to_use'] = epi_n_epi_steps_fil_df.episodic_step.apply(lambda val: max(0,val-5))\n",
    "\n",
    "obs_df = obs_df.merge(right = epi_n_epi_steps_fil_df.loc[:,['episode_num', 'epi_steps_to_use']]\n",
    "                     , right_on='episode_num'\n",
    "                     , left_on = 'episode_num'\n",
    "                     , how = 'left')\n",
    "\n",
    "obs_df.head(20)"
   ]
  },
  {
   "cell_type": "code",
   "execution_count": 111,
   "metadata": {},
   "outputs": [],
   "source": [
    "# Empty list to store the selected rows for the reduced dataset\n",
    "filter_df_rows = []\n",
    "\n",
    "# Iterate over rows; only select the states/rows accoding to 'epi-steps-to-use' values\n",
    "for idx, row in obs_df.iterrows():\n",
    "    \n",
    "    if row.episodic_step <= row.epi_steps_to_use:\n",
    "        filter_df_rows.append(row)\n",
    "    \n",
    "obs_df_reduced = pd.concat(filter_df_rows,axis=1).T"
   ]
  },
  {
   "cell_type": "code",
   "execution_count": 119,
   "metadata": {},
   "outputs": [
    {
     "data": {
      "text/html": [
       "<div>\n",
       "<style scoped>\n",
       "    .dataframe tbody tr th:only-of-type {\n",
       "        vertical-align: middle;\n",
       "    }\n",
       "\n",
       "    .dataframe tbody tr th {\n",
       "        vertical-align: top;\n",
       "    }\n",
       "\n",
       "    .dataframe thead th {\n",
       "        text-align: right;\n",
       "    }\n",
       "</style>\n",
       "<table border=\"1\" class=\"dataframe\">\n",
       "  <thead>\n",
       "    <tr style=\"text-align: right;\">\n",
       "      <th></th>\n",
       "      <th>step</th>\n",
       "      <th>pend_angle</th>\n",
       "      <th>angular_velo</th>\n",
       "      <th>flag</th>\n",
       "      <th>episodic_step</th>\n",
       "      <th>episode_num</th>\n",
       "      <th>epi_steps_to_use</th>\n",
       "    </tr>\n",
       "  </thead>\n",
       "  <tbody>\n",
       "    <tr>\n",
       "      <td>0</td>\n",
       "      <td>0</td>\n",
       "      <td>-0.093376</td>\n",
       "      <td>-0.80291</td>\n",
       "      <td>Not-Terminated</td>\n",
       "      <td>1</td>\n",
       "      <td>1</td>\n",
       "      <td>1</td>\n",
       "    </tr>\n",
       "    <tr>\n",
       "      <td>6</td>\n",
       "      <td>6</td>\n",
       "      <td>0.0189875</td>\n",
       "      <td>0.00117481</td>\n",
       "      <td>Not-Terminated</td>\n",
       "      <td>1</td>\n",
       "      <td>2</td>\n",
       "      <td>3</td>\n",
       "    </tr>\n",
       "    <tr>\n",
       "      <td>7</td>\n",
       "      <td>7</td>\n",
       "      <td>0.100011</td>\n",
       "      <td>0.810234</td>\n",
       "      <td>Not-Terminated</td>\n",
       "      <td>2</td>\n",
       "      <td>2</td>\n",
       "      <td>3</td>\n",
       "    </tr>\n",
       "    <tr>\n",
       "      <td>8</td>\n",
       "      <td>8</td>\n",
       "      <td>0.264617</td>\n",
       "      <td>1.64606</td>\n",
       "      <td>Not-Terminated</td>\n",
       "      <td>3</td>\n",
       "      <td>2</td>\n",
       "      <td>3</td>\n",
       "    </tr>\n",
       "    <tr>\n",
       "      <td>14</td>\n",
       "      <td>14</td>\n",
       "      <td>-0.0483389</td>\n",
       "      <td>-0.113406</td>\n",
       "      <td>Not-Terminated</td>\n",
       "      <td>1</td>\n",
       "      <td>3</td>\n",
       "      <td>3</td>\n",
       "    </tr>\n",
       "    <tr>\n",
       "      <td>15</td>\n",
       "      <td>15</td>\n",
       "      <td>-0.121194</td>\n",
       "      <td>-0.728556</td>\n",
       "      <td>Not-Terminated</td>\n",
       "      <td>2</td>\n",
       "      <td>3</td>\n",
       "      <td>3</td>\n",
       "    </tr>\n",
       "    <tr>\n",
       "      <td>16</td>\n",
       "      <td>16</td>\n",
       "      <td>-0.238057</td>\n",
       "      <td>-1.16862</td>\n",
       "      <td>Not-Terminated</td>\n",
       "      <td>3</td>\n",
       "      <td>3</td>\n",
       "      <td>3</td>\n",
       "    </tr>\n",
       "    <tr>\n",
       "      <td>22</td>\n",
       "      <td>22</td>\n",
       "      <td>0.0481257</td>\n",
       "      <td>0.204567</td>\n",
       "      <td>Not-Terminated</td>\n",
       "      <td>1</td>\n",
       "      <td>4</td>\n",
       "      <td>4</td>\n",
       "    </tr>\n",
       "    <tr>\n",
       "      <td>23</td>\n",
       "      <td>23</td>\n",
       "      <td>0.131228</td>\n",
       "      <td>0.831025</td>\n",
       "      <td>Not-Terminated</td>\n",
       "      <td>2</td>\n",
       "      <td>4</td>\n",
       "      <td>4</td>\n",
       "    </tr>\n",
       "    <tr>\n",
       "      <td>24</td>\n",
       "      <td>24</td>\n",
       "      <td>0.205988</td>\n",
       "      <td>0.747598</td>\n",
       "      <td>Not-Terminated</td>\n",
       "      <td>3</td>\n",
       "      <td>4</td>\n",
       "      <td>4</td>\n",
       "    </tr>\n",
       "  </tbody>\n",
       "</table>\n",
       "</div>"
      ],
      "text/plain": [
       "   step pend_angle angular_velo            flag episodic_step episode_num  \\\n",
       "0     0  -0.093376     -0.80291  Not-Terminated             1           1   \n",
       "6     6  0.0189875   0.00117481  Not-Terminated             1           2   \n",
       "7     7   0.100011     0.810234  Not-Terminated             2           2   \n",
       "8     8   0.264617      1.64606  Not-Terminated             3           2   \n",
       "14   14 -0.0483389    -0.113406  Not-Terminated             1           3   \n",
       "15   15  -0.121194    -0.728556  Not-Terminated             2           3   \n",
       "16   16  -0.238057     -1.16862  Not-Terminated             3           3   \n",
       "22   22  0.0481257     0.204567  Not-Terminated             1           4   \n",
       "23   23   0.131228     0.831025  Not-Terminated             2           4   \n",
       "24   24   0.205988     0.747598  Not-Terminated             3           4   \n",
       "\n",
       "   epi_steps_to_use  \n",
       "0                 1  \n",
       "6                 3  \n",
       "7                 3  \n",
       "8                 3  \n",
       "14                3  \n",
       "15                3  \n",
       "16                3  \n",
       "22                4  \n",
       "23                4  \n",
       "24                4  "
      ]
     },
     "execution_count": 119,
     "metadata": {},
     "output_type": "execute_result"
    }
   ],
   "source": [
    "obs_df_reduced.head(10)"
   ]
  },
  {
   "cell_type": "code",
   "execution_count": 128,
   "metadata": {},
   "outputs": [
    {
     "data": {
      "image/png": "[encoded data removed]",
      "text/plain": [
       "<Figure size 546.609x432 with 1 Axes>"
      ]
     },
     "metadata": {
      "needs_background": "light"
     },
     "output_type": "display_data"
    },
    {
     "data": {
      "image/png": "[encoded data removed]",
      "text/plain": [
       "<Figure size 546.609x432 with 1 Axes>"
      ]
     },
     "metadata": {
      "needs_background": "light"
     },
     "output_type": "display_data"
    },
    {
     "data": {
      "text/plain": [
       "(None, None)"
      ]
     },
     "execution_count": 128,
     "metadata": {},
     "output_type": "execute_result"
    }
   ],
   "source": [
    "plot_distribution(obs_df_reduced, 'pend_angle'), plot_distribution(obs_df_reduced, 'angular_velo')"
   ]
  },
  {
   "cell_type": "markdown",
   "metadata": {},
   "source": [
    "- We can see that the reduced dataset doesn't include any terminal states, and also the tails of the stata value distributions have been pruned"
   ]
  },
  {
   "cell_type": "markdown",
   "metadata": {},
   "source": [
    "### Preparing different initial state groups"
   ]
  },
  {
   "cell_type": "code",
   "execution_count": null,
   "metadata": {},
   "outputs": [],
   "source": []
  },
  {
   "cell_type": "code",
   "execution_count": null,
   "metadata": {},
   "outputs": [],
   "source": []
  },
  {
   "cell_type": "code",
   "execution_count": null,
   "metadata": {},
   "outputs": [],
   "source": []
  }
 ],
 "metadata": {
  "kernelspec": {
   "display_name": "Python 3",
   "language": "python",
   "name": "python3"
  },
  "language_info": {
   "codemirror_mode": {
    "name": "ipython",
    "version": 3
   },
   "file_extension": ".py",
   "mimetype": "text/x-python",
   "name": "python",
   "nbconvert_exporter": "python",
   "pygments_lexer": "ipython3",
   "version": "3.7.4"
  }
 },
 "nbformat": 4,
 "nbformat_minor": 4
}
