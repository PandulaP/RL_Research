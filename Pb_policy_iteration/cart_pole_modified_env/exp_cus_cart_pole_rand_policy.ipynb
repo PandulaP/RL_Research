{
 "cells": [
  {
   "cell_type": "markdown",
   "metadata": {},
   "source": [
    "## Random policy performance evaluation on the Inverted-pendulum problem"
   ]
  },
  {
   "cell_type": "markdown",
   "metadata": {},
   "source": [
    "- source code of the environment can be found [here](https://github.com/openai/gym/blob/master/gym/envs/classic_control/mountain_car.py)"
   ]
  },
  {
   "cell_type": "code",
   "execution_count": 1,
   "metadata": {
    "ExecuteTime": {
     "end_time": "2020-12-15T09:56:32.262681Z",
     "start_time": "2020-12-15T09:56:30.231459Z"
    }
   },
   "outputs": [],
   "source": [
    "import numpy as np\n",
    "import pandas as pd\n",
    "\n",
    "import matplotlib.pyplot as plt\n",
    "from IPython import display\n",
    "from IPython.display import HTML\n",
    "\n",
    "import gym\n",
    "from gym import wrappers\n",
    "import custom_cartpole  # custom cart-pole environment\n",
    "\n",
    "import io\n",
    "import base64\n",
    "import itertools\n",
    "import tqdm\n",
    "\n",
    "from scipy.stats import rankdata as rd\n",
    "from scipy import stats"
   ]
  },
  {
   "cell_type": "code",
   "execution_count": 2,
   "metadata": {
    "ExecuteTime": {
     "end_time": "2020-12-15T09:56:32.271732Z",
     "start_time": "2020-12-15T09:56:32.267761Z"
    }
   },
   "outputs": [],
   "source": [
    "########################################\n",
    "########## custom environment ##########\n",
    "\n",
    "# # maximum length of a trajectory set to 1500 steps\n",
    "# gym.envs.register(id='CartPole_PbPI_Version-v0'\n",
    "#                   , entry_point='gym.envs.classic_control:CartPoleEnv'\n",
    "#                   , max_episode_steps=1500)\n",
    "\n",
    "\n",
    "########## helper functions ##########\n",
    "\n",
    "# generate a random action from a given environment\n",
    "def random_action(environment, seed=10):\n",
    "    \"\"\" return a random action from the given environment. \"\"\"\n",
    "    \n",
    "    # set env. seeds for reproducibility\n",
    "    #environment.action_space.np_random.seed(seed) \n",
    "    #environment.seed(seed) \n",
    "    \n",
    "    return environment.action_space.sample()\n",
    "\n",
    "\n",
    "# generate a list of initial states from a given environment\n",
    "def generate_init_states_S(seed\n",
    "                           , env = 'CustomCartPole-v0'):\n",
    "    \"\"\" this function returns a list of randomly generated initial states from a given environment. \"\"\"\n",
    "    \n",
    "    # set the random seed for reproducibility\n",
    "    np.random.seed(seed)\n",
    "    \n",
    "    # define how many states to generate\n",
    "    n_states = np.random.randint(low=1, high=101) \n",
    "\n",
    "    # define a list to store the generated initial states\n",
    "    init_states_S = []\n",
    "\n",
    "    # create a given environment object\n",
    "    env = gym.make(env)\n",
    "    env.action_space.np_random.seed(seed) # set env. seeds for reproducibility\n",
    "    env.seed(seed) # set env. seeds for reproducibility\n",
    "    env.reset()\n",
    "\n",
    "    # create initial states\n",
    "    for _ in range(n_states):\n",
    "\n",
    "        # step through the environment\n",
    "        state, reward, done, info = env.step(env.action_space.sample())  \n",
    "            \n",
    "        # if terminates, reset the environment\n",
    "        # and continue to next step (without appending to state list)\n",
    "        # increment 'n_states' count by 1\n",
    "        if done: \n",
    "            env.reset()\n",
    "            n_states+=1\n",
    "            \n",
    "        # append the geneareted state to list\n",
    "        # there are observations with different shape: this step skips them\n",
    "        if len(state.shape)>1:\n",
    "            init_states_S.append(state)\n",
    "      \n",
    "    env.close()\n",
    "            \n",
    "    return init_states_S[:]\n",
    "\n",
    "\n",
    "# partition the action space of a given environment \n",
    "def partition_action_space(env_name:'string'\n",
    "                           , n_actions:'int'):\n",
    "    \"\"\"function to partitions the action space of an environment into a given number of actions`\"\"\"\n",
    "    \n",
    "    # initialize environment\n",
    "    env = gym.make(env_name)\n",
    "\n",
    "    # partition the action space to a given number of actions\n",
    "    # - a uniform noise term is added to action signals to make all state transitions non-deterministic\n",
    "    part_act_space = np.linspace(env.action_space.low[0,0]\n",
    "                                 ,env.action_space.high[0,0],n_actions) + np.random.uniform(low = -.2,high=.2)\n",
    "    \n",
    "    return part_act_space  \n",
    "\n",
    "\n",
    "########################################"
   ]
  },
  {
   "cell_type": "markdown",
   "metadata": {},
   "source": [
    "### Generate evaluations for Random Policy"
   ]
  },
  {
   "cell_type": "code",
   "execution_count": 6,
   "metadata": {
    "ExecuteTime": {
     "end_time": "2020-12-15T09:56:35.912428Z",
     "start_time": "2020-12-15T09:56:35.907454Z"
    }
   },
   "outputs": [],
   "source": [
    "def run_evaluations_random(state_list         # list of initial states\n",
    "                            , step_thresh = 100    # step-count (threshold)\n",
    "                            , env_name ='CustomCartPole-v0' # name of the environment\n",
    "                            , simulations_per_state = 100 # number of simulations to generate per state\n",
    "                           ):  \n",
    "    \n",
    "    \"\"\"\n",
    "    Description:\n",
    "    \n",
    "        - For every state in a given list of initial states, 100 simulations are generate and the percentage of\n",
    "           these simulations that exceeds a predefined step-count threadhold (trajectory length) is computed to measure \n",
    "           the performance of the random policy.\"\"\"\n",
    "    \n",
    "\n",
    "    simu_per_state = simulations_per_state\n",
    "        \n",
    "    # create an environment instance\n",
    "    env_test = gym.make(env_name)\n",
    "    \n",
    "    # variable to record the sufficient policy count (across all simulations)\n",
    "    suf_policy_count = 0\n",
    "    \n",
    "    # iterate over all states in the state list\n",
    "    for state in state_list:        \n",
    "        \n",
    "        # generate 100 simulations from each state\n",
    "        for _ in range(simu_per_state):\n",
    "            \n",
    "            # set the starting state and the current observation to the given state \n",
    "            env_test.reset(init_state= state)\n",
    "        \n",
    "            # variable to store the return of an episode\n",
    "            return_ep = 0 \n",
    "\n",
    "            # execute 1001 steps in the environment\n",
    "            for _ in range(1001):\n",
    "                action = env_test.action_space.sample() # generate action from the policy\n",
    "                observation, reward, done, info = env_test.step(action) # execute action\n",
    "                return_ep += reward   # compute return\n",
    "                if done: break\n",
    "\n",
    "            env_test.reset()\n",
    "            env_test.close()\n",
    "\n",
    "            # increment the sufficient policy count if return exceeds given threshold\n",
    "            # (note: at every step, 1 reward is produced in the environment)\n",
    "            if return_ep>=step_thresh:\n",
    "                suf_policy_count += 1\n",
    "                \n",
    "    # return the aggregated sufficient policy count from the policy evaluation\n",
    "    return (suf_policy_count/(len(state_list)*simu_per_state))"
   ]
  },
  {
   "cell_type": "code",
   "execution_count": 8,
   "metadata": {
    "ExecuteTime": {
     "end_time": "2020-12-15T09:59:42.300895Z",
     "start_time": "2020-12-15T09:59:16.524607Z"
    }
   },
   "outputs": [
    {
     "name": "stdout",
     "output_type": "stream",
     "text": [
      "\n",
      "Number of initial states: 45\n",
      "\n",
      "\n",
      "Number of actions (per states): 3\n",
      "\n"
     ]
    },
    {
     "name": "stderr",
     "output_type": "stream",
     "text": [
      "Iteration:  13%|█████████▌                                                              | 4/30 [00:59<06:25, 14.81s/it]"
     ]
    },
    {
     "data": {
      "image/png": "[encoded data removed]",
      "text/plain": [
       "<Figure size 432x288 with 1 Axes>"
      ]
     },
     "metadata": {
      "needs_background": "light"
     },
     "output_type": "display_data"
    },
    {
     "name": "stderr",
     "output_type": "stream",
     "text": [
      "Iteration:  30%|█████████████████████▌                                                  | 9/30 [02:20<05:43, 16.36s/it]"
     ]
    },
    {
     "data": {
      "image/png": "[encoded data removed]",
      "text/plain": [
       "<Figure size 432x288 with 1 Axes>"
      ]
     },
     "metadata": {
      "needs_background": "light"
     },
     "output_type": "display_data"
    },
    {
     "name": "stderr",
     "output_type": "stream",
     "text": [
      "Iteration:  47%|█████████████████████████████████▏                                     | 14/30 [03:44<04:28, 16.79s/it]"
     ]
    },
    {
     "data": {
      "image/png": "[encoded data removed]",
      "text/plain": [
       "<Figure size 432x288 with 1 Axes>"
      ]
     },
     "metadata": {
      "needs_background": "light"
     },
     "output_type": "display_data"
    },
    {
     "name": "stderr",
     "output_type": "stream",
     "text": [
      "Iteration:  63%|████████████████████████████████████████████▉                          | 19/30 [04:58<02:47, 15.23s/it]"
     ]
    },
    {
     "data": {
      "image/png": "[encoded data removed]",
      "text/plain": [
       "<Figure size 432x288 with 1 Axes>"
      ]
     },
     "metadata": {
      "needs_background": "light"
     },
     "output_type": "display_data"
    },
    {
     "name": "stderr",
     "output_type": "stream",
     "text": [
      "Iteration:  80%|████████████████████████████████████████████████████████▊              | 24/30 [06:10<01:26, 14.34s/it]"
     ]
    },
    {
     "data": {
      "image/png": "[encoded data removed]",
      "text/plain": [
       "<Figure size 432x288 with 1 Axes>"
      ]
     },
     "metadata": {
      "needs_background": "light"
     },
     "output_type": "display_data"
    },
    {
     "name": "stderr",
     "output_type": "stream",
     "text": [
      "Iteration:  97%|████████████████████████████████████████████████████████████████████▋  | 29/30 [07:18<00:15, 15.14s/it]\n"
     ]
    }
   ],
   "source": [
    "# initialize environment\n",
    "env = gym.make('CustomCartPole-v0')\n",
    "\n",
    "# sample states\n",
    "seed = 4\n",
    "sample_states = generate_init_states_S(seed) # randomly generated states initial\n",
    "\n",
    "print(f'\\nNumber of initial states: {len(sample_states)}\\n')\n",
    "\n",
    "# maximum number of policy iterations\n",
    "max_iterr = 30\n",
    "\n",
    "# action space to consider\n",
    "act_space = partition_action_space('CustomCartPole-v0',3)\n",
    "print(f'\\nNumber of actions (per states): {len(act_space)}\\n')\n",
    "\n",
    "# generate action-pairs (per each)\n",
    "act_pairs = list(itertools.combinations(act_space,2))\n",
    "\n",
    "# initial random policy\n",
    "policy_init = random_action\n",
    "policy = policy_init\n",
    "\n",
    "# store evaluation results (% of learned sufficient policies)\n",
    "agg_pct_l_policies = []\n",
    "\n",
    "# algorithm iteration loop progress\n",
    "pbar = tqdm.tqdm(total=max_iterr, desc=\"Iteration\", position = 0)\n",
    "\n",
    "iterr = 1\n",
    "while iterr < max_iterr:\n",
    "    \n",
    "    policy = random_action\n",
    "    \n",
    "    # compute the average return over all roll-outs starting at init. states by new policy\n",
    "    pct_succ_policies = run_evaluations_random(state_list = sample_states\n",
    "                                                , step_thresh=150)\n",
    "    agg_pct_l_policies.append(pct_succ_policies)\n",
    "    \n",
    "    if iterr%5 == 0:\n",
    "        # clear the last plot data\n",
    "        plt.clf()\n",
    "        plt.cla()\n",
    "        plt.close()\n",
    "\n",
    "        # plotting rewards over iterations\n",
    "        plt.plot(range(iterr), agg_pct_l_policies)\n",
    "        plt.ylabel('% learned sufficient policies')\n",
    "        plt.xlabel('iterations')\n",
    "        plt.savefig(f'./train_imgs/random_policy.png') # save the evaluation image\n",
    "        plt.show()\n",
    "        \n",
    "    # update the algorithm iteration loop status\n",
    "    pbar.update(1)\n",
    "    iterr += 1\n",
    "        \n",
    "pbar.close()"
   ]
  }
 ],
 "metadata": {
  "hide_input": false,
  "kernelspec": {
   "display_name": "Python 3",
   "language": "python",
   "name": "python3"
  },
  "language_info": {
   "codemirror_mode": {
    "name": "ipython",
    "version": 3
   },
   "file_extension": ".py",
   "mimetype": "text/x-python",
   "name": "python",
   "nbconvert_exporter": "python",
   "pygments_lexer": "ipython3",
   "version": "3.7.4"
  }
 },
 "nbformat": 4,
 "nbformat_minor": 4
}
