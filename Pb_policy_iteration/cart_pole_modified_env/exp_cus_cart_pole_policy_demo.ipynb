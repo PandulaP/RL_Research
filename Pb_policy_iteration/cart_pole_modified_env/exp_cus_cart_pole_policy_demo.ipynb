{
 "cells": [
  {
   "cell_type": "markdown",
   "metadata": {},
   "source": [
    "## Preference-based Policy Iteration (PBPI) Algorithm \n",
    "### Application on the Inverted pendulum problem\n",
    "#### Demostrate the learned policy\n",
    "\n",
    "----"
   ]
  },
  {
   "cell_type": "code",
   "execution_count": 1,
   "metadata": {
    "ExecuteTime": {
     "end_time": "2020-12-14T20:39:40.193588Z",
     "start_time": "2020-12-14T20:39:40.189884Z"
    }
   },
   "outputs": [],
   "source": [
    "########################################\n",
    "### importing the necessary packages ###\n",
    "\n",
    "import gym\n",
    "from gym import wrappers\n",
    "\n",
    "import numpy as np\n",
    "import pandas as pd\n",
    "\n",
    "from scipy.stats import rankdata as rd\n",
    "from scipy import stats\n",
    "\n",
    "import torch\n",
    "import torch.nn as nn\n",
    "import torch.nn.functional as F\n",
    "from torch.utils.data import TensorDataset, DataLoader\n",
    "\n",
    "import matplotlib.pyplot as plt\n",
    "from IPython import display\n",
    "from IPython.display import HTML\n",
    "\n",
    "import io\n",
    "import base64\n",
    "import itertools\n",
    "import tqdm\n",
    "\n",
    "import custom_cartpole\n",
    "\n",
    "########################################"
   ]
  },
  {
   "cell_type": "code",
   "execution_count": 2,
   "metadata": {
    "ExecuteTime": {
     "end_time": "2020-12-14T20:39:41.056041Z",
     "start_time": "2020-12-14T20:39:41.050236Z"
    }
   },
   "outputs": [],
   "source": [
    "########################################\n",
    "########## custom environment ##########\n",
    "\n",
    "# # maximum length of a trajectory set to 1500 steps\n",
    "# gym.envs.register(id='CartPole_PbPI_Version-v0'\n",
    "#                   , entry_point='gym.envs.classic_control:CartPoleEnv'\n",
    "#                   , max_episode_steps=1500)\n",
    "\n",
    "\n",
    "########## helper functions ##########\n",
    "\n",
    "# generate a random action from a given environment\n",
    "def random_action(environment, seed=10):\n",
    "    \"\"\" return a random action from the given environment. \"\"\"\n",
    "    \n",
    "    # set env. seeds for reproducibility\n",
    "    #environment.action_space.np_random.seed(seed) \n",
    "    #environment.seed(seed) \n",
    "    \n",
    "    return environment.action_space.sample()\n",
    "\n",
    "\n",
    "# generate a list of initial states from a given environment\n",
    "def generate_init_states_S(seed\n",
    "                           , env = 'CustomCartPole-v0'):\n",
    "    \"\"\" this function returns a list of randomly generated initial states from a given environment. \"\"\"\n",
    "    \n",
    "    # set the random seed for reproducibility\n",
    "    np.random.seed(seed)\n",
    "    \n",
    "    # define how many states to generate\n",
    "    n_states = np.random.randint(low=1, high=101) \n",
    "\n",
    "    # define a list to store the generated initial states\n",
    "    init_states_S = []\n",
    "\n",
    "    # create a given environment object\n",
    "    env = gym.make(env)\n",
    "    env.action_space.np_random.seed(seed) # set env. seeds for reproducibility\n",
    "    env.seed(seed) # set env. seeds for reproducibility\n",
    "    env.reset()\n",
    "\n",
    "    # create initial states\n",
    "    for _ in range(n_states):\n",
    "\n",
    "        # step through the environment\n",
    "        state, reward, done, info = env.step(env.action_space.sample())  \n",
    "            \n",
    "        # if terminates, reset the environment\n",
    "        # and continue to next step (without appending to state list)\n",
    "        # increment 'n_states' count by 1\n",
    "        if done: \n",
    "            env.reset()\n",
    "            n_states+=1\n",
    "            \n",
    "        # append the geneareted state to list\n",
    "        # there are observations with different shape: this step skips them\n",
    "        init_states_S.append(state)\n",
    "      \n",
    "    env.close()\n",
    "            \n",
    "    return init_states_S[:]\n",
    "\n",
    "\n",
    "# partition the action space of a given environment \n",
    "def partition_action_space(env_name:'string'\n",
    "                           , n_actions:'int'):\n",
    "    \"\"\"function to partitions the action space of an environment into a given number of actions`\"\"\"\n",
    "    \n",
    "    # initialize environment\n",
    "    env = gym.make(env_name)\n",
    "\n",
    "    # partition the action space to a given number of actions\n",
    "    # - a uniform noise term is added to action signals to make all state transitions non-deterministic\n",
    "    part_act_space = np.linspace(env.action_space.low[0,0]\n",
    "                                 ,env.action_space.high[0,0],n_actions) + np.random.uniform(low = -.2,high=.2)\n",
    "    \n",
    "    return part_act_space  \n",
    "\n",
    "\n",
    "########################################"
   ]
  },
  {
   "cell_type": "code",
   "execution_count": 3,
   "metadata": {
    "ExecuteTime": {
     "end_time": "2020-12-14T20:39:42.775426Z",
     "start_time": "2020-12-14T20:39:42.751381Z"
    }
   },
   "outputs": [
    {
     "data": {
      "image/png": "[encoded data removed]",
      "text/plain": [
       "<Figure size 1440x1440 with 20 Axes>"
      ]
     },
     "metadata": {
      "needs_background": "light"
     },
     "output_type": "display_data"
    }
   ],
   "source": [
    "########################################\n",
    "########### EXTRA : EXAMPLES ###########\n",
    "\n",
    "# generate a list of sample states and plot 40 states\n",
    "init_states_S = generate_init_states_S(4, env='CustomCartPole-v0')\n",
    "\n",
    "env = gym.make('CustomCartPole-v0')\n",
    "env = env.unwrapped # unwrap the environment to set custom initial states\n",
    "fig = plt.figure(figsize=(20,20))\n",
    "\n",
    "for i in range(20):\n",
    "    env.state = init_states_S[i] # set state\n",
    "    fig.add_subplot(8,5,i+1)\n",
    "    plt.imshow(env.render(mode=\"rgb_array\"))\n",
    "    env.close()\n",
    "    \n",
    "plt.show()\n",
    "\n",
    "\n",
    "########################################"
   ]
  },
  {
   "cell_type": "code",
   "execution_count": 4,
   "metadata": {
    "ExecuteTime": {
     "end_time": "2020-12-14T23:24:06.969280Z",
     "start_time": "2020-12-14T23:24:06.963505Z"
    },
    "hidden": true
   },
   "outputs": [],
   "source": [
    "########################################\n",
    "### Derived policy using LabelRanker ###\n",
    "\n",
    "class Policy():\n",
    "    \n",
    "    \"\"\"\n",
    "    Description:\n",
    "    \n",
    "        - This Policy object takes a given neural network (LabelRanker) model and uses it to define a policy for the agent to follow\n",
    "    \"\"\"\n",
    "    \n",
    "    def __init__(self, action_space, model):\n",
    "        self.action_space = action_space # action space of the current environment\n",
    "        self.model = model               # trained NN (LabelRanker) model\n",
    "        \n",
    "    def label_ranking_policy(self,obs):\n",
    "        \"\"\" Produces an action for a given state based on the LabelRanker model prediction\n",
    "            Note: only the pendulum-angle and pendulum-velocity of the input state are considered when producing an action\n",
    "        \n",
    "            At each input state:\n",
    "                - Highest ranked action is selected with a prob. of 0.95\n",
    "                - Second highest ranked action is selected with a prob. of 0.04\n",
    "                - Any remaining actions are selected with an equal proabability of .01 \"\"\"\n",
    "\n",
    "\n",
    "        # only select the pendulum-velocity and angle from the input state vector\n",
    "        state_obs = np.array([round(obs[2].reshape(-1)[0],2),round(obs[3].reshape(-1)[0],2)])       \n",
    "        #state_obs = state_obs.reshape(-1,state_obs.shape[0]) # reshape to be a 2D array\n",
    "        state_obs = torch.from_numpy(state_obs) # convert to a tensor\n",
    "\n",
    "        # make ranking predictions for all actions\n",
    "        with torch.no_grad():\n",
    "            preds = self.model(state_obs.float()) \n",
    "\n",
    "        # rank the indexes of actions (from highest ranked/preferred action to lowest)\n",
    "        #ranked_action_idx = (-rd(preds.detach().numpy())).argsort()[:preds.shape[1]]\n",
    "        ranked_action_idx = (-rd(preds.detach().numpy())).argsort()\n",
    "\n",
    "        \n",
    "        ### return the selected action ###\n",
    "        \n",
    "        # if there are more than 2 actions\n",
    "        if len(self.action_space)>2:\n",
    "            \n",
    "            # compute the probabilities for the 3rd action onward\n",
    "            remain_probs = .05/len(ranked_action_idx[2:])\n",
    "            n_remain_actions = ranked_action_idx.shape[0]-2\n",
    "\n",
    "            # select first two (highest preferred actions) 95% and 4% of the time\n",
    "            # select one of the remaining actions 1% time\n",
    "            action = np.random.choice(ranked_action_idx,1 , p=[.90, 0.05] + list(np.repeat(remain_probs,n_remain_actions)))[0]\n",
    "        \n",
    "        else:\n",
    "            \n",
    "            # if there are only 2 actions: select highest preferred actions 95% and 5% of the time\n",
    "            action = np.random.choice(ranked_action_idx,1 , p=[.90, 0.10])[0]\n",
    "        \n",
    "        # when action space is partitioned, return the corresponding action\n",
    "        # clip action value to (-1,1) range\n",
    "        return np.array([[np.clip(self.action_space[int(action)],-1,1)]])\n",
    "    \n",
    "\n",
    "########################################"
   ]
  },
  {
   "cell_type": "markdown",
   "metadata": {
    "hidden": true
   },
   "source": [
    "---\n",
    "#### Test the learned policy on random starting states"
   ]
  },
  {
   "cell_type": "code",
   "execution_count": 5,
   "metadata": {
    "ExecuteTime": {
     "end_time": "2020-12-12T23:23:21.657757Z",
     "start_time": "2020-12-12T23:23:06.779197Z"
    },
    "hidden": true
   },
   "outputs": [
    {
     "data": {
      "text/html": [
       "\n",
       "    <video width=\"360\" height=\"auto\" alt=\"test\" controls><source src=\"data:video/mp4;base64,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\" type=\"video/mp4\" /></video>"
      ],
      "text/plain": [
       "<IPython.core.display.HTML object>"
      ]
     },
     "execution_count": 5,
     "metadata": {},
     "output_type": "execute_result"
    }
   ],
   "source": [
    "# create the environment and action space\n",
    "seed = 4 \n",
    "model_name = 'cartPole_original' # name for the LabelRanker model\n",
    "\n",
    "env = gym.make('CustomCartPole-v0')   # environment\n",
    "sample_states = generate_init_states_S(seed, env='CustomCartPole-v0') # initial state list\n",
    "act_space = partition_action_space('CustomCartPole-v0',3) # action space\n",
    "\n",
    "# define the model\n",
    "class Model(nn.Module):\n",
    "\n",
    "    def __init__(self, input_state_len, output_label_len, layers, p=0.3):\n",
    "\n",
    "        super(Model,self).__init__()\n",
    "\n",
    "        all_layers = []\n",
    "        input_size = input_state_len\n",
    "\n",
    "        # create layers\n",
    "        for layer_dim in layers:\n",
    "            all_layers.append(nn.Linear(input_size, layer_dim))\n",
    "            all_layers.append(nn.LeakyReLU(inplace=True))\n",
    "            #all_layers.append(nn.BatchNorm1d(layer_dim))\n",
    "            all_layers.append(nn.Dropout(p))\n",
    "            input_size = layer_dim\n",
    "\n",
    "        all_layers.append(nn.Linear(layers[-1], output_label_len))\n",
    "\n",
    "        self.layers = nn.Sequential(*all_layers)\n",
    "\n",
    "    def forward(self, state_vec):\n",
    "        x = self.layers(state_vec)\n",
    "        return x\n",
    "\n",
    "input_size  = 2\n",
    "output_size = len(act_space)\n",
    "mod_layers = [50]\n",
    "model = Model(input_size, output_size, mod_layers)\n",
    "        \n",
    "# load the model\n",
    "PATH = f\"./models/{model_name}_pbpi_model.pt\" \n",
    "model.load_state_dict(torch.load(PATH))\n",
    "model.eval()\n",
    "\n",
    "# create policy\n",
    "policy = Policy(act_space,model)\n",
    "\n",
    "# apply policy and record frames\n",
    "env = wrappers.Monitor(env, \"./gym-results\", force=True)\n",
    "obs = env.reset()\n",
    "#env.state = env.reset()\n",
    "\n",
    "for _ in range(1000):\n",
    "    action = policy.label_ranking_policy(obs)\n",
    "    observation, reward, done, info = env.step(action)\n",
    "    obs = observation\n",
    "    if done: break\n",
    "env.close()\n",
    "\n",
    "# observe policy performance\n",
    "video = io.open('./gym-results/openaigym.video.%s.video000000.mp4' % env.file_infix, 'r+b').read()\n",
    "encoded = base64.b64encode(video)\n",
    "HTML(data='''\n",
    "    <video width=\"360\" height=\"auto\" alt=\"test\" controls><source src=\"data:video/mp4;base64,{0}\" type=\"video/mp4\" /></video>'''\n",
    ".format(encoded.decode('ascii')))"
   ]
  },
  {
   "cell_type": "markdown",
   "metadata": {},
   "source": [
    "#### Test the learned policy on the initial starting states"
   ]
  },
  {
   "cell_type": "code",
   "execution_count": 7,
   "metadata": {},
   "outputs": [
    {
     "name": "stdout",
     "output_type": "stream",
     "text": [
      "episode 0 finished after 6 timesteps. Total reward: 6.0\n",
      "6.0\n"
     ]
    },
    {
     "data": {
      "image/png": "[encoded data removed]",
      "text/plain": [
       "<Figure size 432x288 with 1 Axes>"
      ]
     },
     "metadata": {
      "needs_background": "light"
     },
     "output_type": "display_data"
    }
   ],
   "source": [
    "nb_episodes = 1\n",
    "nb_timesteps = 300\n",
    "img = plt.imshow(env.render(mode='rgb_array')) # only call this once\n",
    "\n",
    "max_reward = 0\n",
    "\n",
    "#np.random.seed()\n",
    "env = env.unwrapped\n",
    "for state in sample_states:\n",
    "    #env.state = init_states_S[np.random.randint(0,len(init_states_S))]\n",
    "\n",
    "    env.state = state\n",
    "    for episode in range(nb_episodes):  # iterate over the episodes\n",
    "        state = env.reset()             # initialise the environment\n",
    "        rewards = []\n",
    "\n",
    "        for t in range(nb_timesteps):    # iterate over time steps\n",
    "            #env.render()                 # display the environment\n",
    "            img.set_data(env.render(mode='rgb_array')) # just update the data\n",
    "            display.display(plt.gcf())\n",
    "            display.clear_output(wait=True)\n",
    "            action = policy.label_ranking_policy(obs)\n",
    "            observation, reward, done, info = env.step(np.array([[+1]]))\n",
    "            obs = observation\n",
    "            rewards.append(reward)      # add 1 to the rewards list\n",
    "\n",
    "            if done: # the episode ends either if the pole is > 15 deg from vertical or the cart move by > 2.4 unit from the centre\n",
    "                cumulative_reward = sum(rewards)\n",
    "                print(\"episode {} finished after {} timesteps. Total reward: {}\".format(episode, t+1, cumulative_reward)) \n",
    "                max_reward = max(max_reward,sum(rewards))\n",
    "                break\n",
    "    \n",
    "\n",
    "    env.close()\n",
    "\n",
    "print(max_reward)"
   ]
  },
  {
   "cell_type": "code",
   "execution_count": 16,
   "metadata": {},
   "outputs": [],
   "source": [
    "######################################\n",
    "### Evaluating the learned policy ####\n",
    "\n",
    "def run_evaluations(policy               # input policy\n",
    "                    , state_list         # list of initial states\n",
    "                    , step_thresh = 100    # step-count (threshold)\n",
    "                    , env_name ='CartPole_PbPI_Version-v0' # name of the environment\n",
    "                    , simulations_per_state = 100 # number of simulations to generate per state\n",
    "                   ):  \n",
    "    \n",
    "    \"\"\"\n",
    "    Description:\n",
    "    \n",
    "        - For every state in a given list of initial states, 100 simulations are generate and the percentage of\n",
    "           these simulations that exceeds a predefined step-count threadhold (trajectory length) is computed to measure \n",
    "           the performance of the given input policy.\"\"\"\n",
    "    \n",
    "\n",
    "    simu_per_state = simulations_per_state\n",
    "        \n",
    "    # create an environment instance\n",
    "    env_test = gym.make(env_name)\n",
    "    env_test = env_test.unwrapped\n",
    "    \n",
    "    # variable to record the sufficient policy count (across all simulations)\n",
    "    suf_policy_count = 0\n",
    "    \n",
    "    # iterate over all states in the state list\n",
    "    for state in state_list:        \n",
    "        \n",
    "        # generate 100 simulations from each state\n",
    "        for _ in range(simu_per_state):\n",
    "            \n",
    "            # set the starting state and the current observation to the given state \n",
    "            env_test.state, obs = state, state\n",
    "        \n",
    "            # variable to store the return of an episode\n",
    "            return_ep = 0 \n",
    "\n",
    "            # execute 1001 steps in the environment\n",
    "            for _ in range(1001):\n",
    "                action = policy.label_ranking_policy(obs) # generate action from the policy\n",
    "                observation, reward, done, info = env_test.step(action) # execute action\n",
    "                obs = observation     # set history\n",
    "                return_ep += reward   # compute return\n",
    "                if done: break\n",
    "\n",
    "            env_test.reset()\n",
    "            env_test.close()\n",
    "\n",
    "            # increment the sufficient policy count if return exceeds given threshold\n",
    "            # (note: at every step, 1 reward is produced in the environment)\n",
    "            if return_ep>=step_thresh:\n",
    "                suf_policy_count += 1\n",
    "                \n",
    "    # return the aggregated sufficient policy count from the policy evaluation\n",
    "    return (suf_policy_count/(len(state_list)*simu_per_state))\n",
    "\n",
    "#######################################"
   ]
  },
  {
   "cell_type": "code",
   "execution_count": 17,
   "metadata": {},
   "outputs": [
    {
     "data": {
      "text/plain": [
       "0.0"
      ]
     },
     "execution_count": 17,
     "metadata": {},
     "output_type": "execute_result"
    }
   ],
   "source": [
    "run_evaluations(policy, sample_states , step_thresh=150)"
   ]
  },
  {
   "cell_type": "markdown",
   "metadata": {
    "hidden": true
   },
   "source": [
    "---"
   ]
  }
 ],
 "metadata": {
  "hide_input": false,
  "kernelspec": {
   "display_name": "Python 3",
   "language": "python",
   "name": "python3"
  },
  "language_info": {
   "codemirror_mode": {
    "name": "ipython",
    "version": 3
   },
   "file_extension": ".py",
   "mimetype": "text/x-python",
   "name": "python",
   "nbconvert_exporter": "python",
   "pygments_lexer": "ipython3",
   "version": "3.7.4"
  }
 },
 "nbformat": 4,
 "nbformat_minor": 4
}
