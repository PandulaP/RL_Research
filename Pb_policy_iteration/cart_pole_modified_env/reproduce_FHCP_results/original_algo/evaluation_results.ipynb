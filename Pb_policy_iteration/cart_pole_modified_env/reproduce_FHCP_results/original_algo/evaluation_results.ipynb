{
 "cells": [
  {
   "cell_type": "code",
   "execution_count": 1,
   "metadata": {
    "ExecuteTime": {
     "end_time": "2021-01-09T22:13:22.455188Z",
     "start_time": "2021-01-09T22:13:21.847475Z"
    }
   },
   "outputs": [],
   "source": [
    "import pandas as pd\n",
    "import numpy as np\n",
    "import matplotlib.pyplot as plt"
   ]
  },
  {
   "cell_type": "code",
   "execution_count": 4,
   "metadata": {
    "ExecuteTime": {
     "end_time": "2021-01-09T22:14:07.174641Z",
     "start_time": "2021-01-09T22:14:07.170003Z"
    }
   },
   "outputs": [],
   "source": [
    "def process_eval_file(file_name:str):\n",
    "    \n",
    "    try:\n",
    "        eva_results = pd.read_excel(f'{file_name}.xlsx')\n",
    "    except:\n",
    "        return None\n",
    "    \n",
    "    eva_results.loc[:,'SR_processed'] = eva_results.apply(lambda row: row.SR.replace('[',''), axis=1)\n",
    "    eva_results.loc[:,'SR_processed'] = eva_results.apply(lambda row: row.SR_processed.replace(']',''), axis=1)\n",
    "    eva_results.loc[:,'SR_processed'] = eva_results.apply(lambda row: row.SR_processed.split(','), axis=1)\n",
    "\n",
    "    eva_results.loc[:,'action_record_processed'] = eva_results.apply(lambda row: row.action_record.replace('[',''), axis=1)\n",
    "    eva_results.loc[:,'action_record_processed'] = eva_results.apply(lambda row: row.action_record_processed.replace(']',''), axis=1)\n",
    "    eva_results.loc[:,'action_record_processed'] = eva_results.apply(lambda row: row.action_record_processed.split(','), axis=1)\n",
    "\n",
    "    return eva_results"
   ]
  },
  {
   "cell_type": "code",
   "execution_count": 5,
   "metadata": {
    "ExecuteTime": {
     "end_time": "2021-01-09T22:14:10.233572Z",
     "start_time": "2021-01-09T22:14:09.603212Z"
    }
   },
   "outputs": [],
   "source": [
    "eval_f_list = []\n",
    "\n",
    "for i in range(11):\n",
    "    \n",
    "    name_prefix = 'eval_results/original_experiment_results_para_config_'\n",
    "    f_num = i+1\n",
    "    f_name = name_prefix + str(f_num)\n",
    "    \n",
    "    if process_eval_file(f_name) is not None:\n",
    "        eval_f_list.append(process_eval_file(f_name))"
   ]
  },
  {
   "cell_type": "code",
   "execution_count": 6,
   "metadata": {
    "ExecuteTime": {
     "end_time": "2021-01-09T22:14:12.095378Z",
     "start_time": "2021-01-09T22:14:12.091073Z"
    }
   },
   "outputs": [],
   "source": [
    "eval_full_file = pd.concat(eval_f_list)"
   ]
  },
  {
   "cell_type": "code",
   "execution_count": 8,
   "metadata": {
    "ExecuteTime": {
     "end_time": "2021-01-09T22:14:18.975004Z",
     "start_time": "2021-01-09T22:14:18.971016Z"
    }
   },
   "outputs": [
    {
     "data": {
      "text/plain": [
       "360"
      ]
     },
     "execution_count": 8,
     "metadata": {},
     "output_type": "execute_result"
    }
   ],
   "source": [
    "tot_experiments = eval_full_file.shape[0]\n",
    "tot_experiments"
   ]
  },
  {
   "cell_type": "code",
   "execution_count": 9,
   "metadata": {
    "ExecuteTime": {
     "end_time": "2021-01-09T22:14:31.730069Z",
     "start_time": "2021-01-09T22:14:31.495813Z"
    }
   },
   "outputs": [],
   "source": [
    "eval_full_file.to_excel('original_experiment_evals_complete.xlsx',index=False)"
   ]
  },
  {
   "cell_type": "code",
   "execution_count": 47,
   "metadata": {
    "ExecuteTime": {
     "end_time": "2021-01-09T22:33:28.901454Z",
     "start_time": "2021-01-09T22:33:28.887836Z"
    }
   },
   "outputs": [],
   "source": [
    "eval_full_file.loc[:,'positive_SR_idx'] = eval_full_file.apply(lambda row: [idx for idx,val in enumerate(row.SR_processed) if float(val)>0], axis=1)\n",
    "eval_full_file.positive_SR_idx = eval_full_file.positive_SR_idx.apply(lambda cell: np.nan if len(cell)==0 else cell)\n",
    "eval_full_file.dropna(subset=['positive_SR_idx'],inplace=True)\n",
    "\n",
    "eval_full_file.loc[:, 'action_SR_pairs'] = eval_full_file.apply(lambda row: [(int(row.action_record_processed[val]),round(float(row.SR_processed[val]),4)) for val in row.positive_SR_idx ] , axis=1)"
   ]
  },
  {
   "cell_type": "code",
   "execution_count": 48,
   "metadata": {
    "ExecuteTime": {
     "end_time": "2021-01-09T22:33:29.246562Z",
     "start_time": "2021-01-09T22:33:29.243545Z"
    }
   },
   "outputs": [],
   "source": [
    "# only select the first action count (if multiple SR-action pairs available)\n",
    "eval_full_file.action_SR_pairs = eval_full_file.action_SR_pairs.apply(lambda cell: [cell[0]])"
   ]
  },
  {
   "cell_type": "code",
   "execution_count": 49,
   "metadata": {
    "ExecuteTime": {
     "end_time": "2021-01-09T22:33:30.292296Z",
     "start_time": "2021-01-09T22:33:30.280126Z"
    }
   },
   "outputs": [
    {
     "data": {
      "text/html": [
       "<div>\n",
       "<style scoped>\n",
       "    .dataframe tbody tr th:only-of-type {\n",
       "        vertical-align: middle;\n",
       "    }\n",
       "\n",
       "    .dataframe tbody tr th {\n",
       "        vertical-align: top;\n",
       "    }\n",
       "\n",
       "    .dataframe thead th {\n",
       "        text-align: right;\n",
       "    }\n",
       "</style>\n",
       "<table border=\"1\" class=\"dataframe\">\n",
       "  <thead>\n",
       "    <tr style=\"text-align: right;\">\n",
       "      <th></th>\n",
       "      <th>actions</th>\n",
       "      <th>sr</th>\n",
       "      <th>pct_sr</th>\n",
       "      <th>cum_pct_sr</th>\n",
       "    </tr>\n",
       "  </thead>\n",
       "  <tbody>\n",
       "    <tr>\n",
       "      <th>32</th>\n",
       "      <td>8291.0</td>\n",
       "      <td>0.05</td>\n",
       "      <td>0.002778</td>\n",
       "      <td>0.002778</td>\n",
       "    </tr>\n",
       "    <tr>\n",
       "      <th>30</th>\n",
       "      <td>8307.0</td>\n",
       "      <td>0.50</td>\n",
       "      <td>0.002778</td>\n",
       "      <td>0.005556</td>\n",
       "    </tr>\n",
       "    <tr>\n",
       "      <th>31</th>\n",
       "      <td>8432.0</td>\n",
       "      <td>3.30</td>\n",
       "      <td>0.002778</td>\n",
       "      <td>0.008333</td>\n",
       "    </tr>\n",
       "    <tr>\n",
       "      <th>5</th>\n",
       "      <td>8857.0</td>\n",
       "      <td>0.20</td>\n",
       "      <td>0.002778</td>\n",
       "      <td>0.011111</td>\n",
       "    </tr>\n",
       "    <tr>\n",
       "      <th>3</th>\n",
       "      <td>8937.0</td>\n",
       "      <td>4.50</td>\n",
       "      <td>0.002778</td>\n",
       "      <td>0.013889</td>\n",
       "    </tr>\n",
       "    <tr>\n",
       "      <th>4</th>\n",
       "      <td>8966.0</td>\n",
       "      <td>1.60</td>\n",
       "      <td>0.002778</td>\n",
       "      <td>0.016667</td>\n",
       "    </tr>\n",
       "    <tr>\n",
       "      <th>7</th>\n",
       "      <td>9122.0</td>\n",
       "      <td>44.20</td>\n",
       "      <td>0.002778</td>\n",
       "      <td>0.019444</td>\n",
       "    </tr>\n",
       "    <tr>\n",
       "      <th>8</th>\n",
       "      <td>9210.0</td>\n",
       "      <td>0.40</td>\n",
       "      <td>0.002778</td>\n",
       "      <td>0.022222</td>\n",
       "    </tr>\n",
       "    <tr>\n",
       "      <th>9</th>\n",
       "      <td>9249.0</td>\n",
       "      <td>65.10</td>\n",
       "      <td>0.002778</td>\n",
       "      <td>0.025000</td>\n",
       "    </tr>\n",
       "    <tr>\n",
       "      <th>6</th>\n",
       "      <td>9275.0</td>\n",
       "      <td>3.50</td>\n",
       "      <td>0.002778</td>\n",
       "      <td>0.027778</td>\n",
       "    </tr>\n",
       "  </tbody>\n",
       "</table>\n",
       "</div>"
      ],
      "text/plain": [
       "    actions     sr    pct_sr  cum_pct_sr\n",
       "32   8291.0   0.05  0.002778    0.002778\n",
       "30   8307.0   0.50  0.002778    0.005556\n",
       "31   8432.0   3.30  0.002778    0.008333\n",
       "5    8857.0   0.20  0.002778    0.011111\n",
       "3    8937.0   4.50  0.002778    0.013889\n",
       "4    8966.0   1.60  0.002778    0.016667\n",
       "7    9122.0  44.20  0.002778    0.019444\n",
       "8    9210.0   0.40  0.002778    0.022222\n",
       "9    9249.0  65.10  0.002778    0.025000\n",
       "6    9275.0   3.50  0.002778    0.027778"
      ]
     },
     "execution_count": 49,
     "metadata": {},
     "output_type": "execute_result"
    }
   ],
   "source": [
    "action_sr_pair_list_original = []\n",
    "for experiment in eval_full_file.action_SR_pairs.values:\n",
    "    for action_sr_pair in experiment:\n",
    "        action_sr_pair_list_original.append(action_sr_pair)\n",
    "        \n",
    "action_sr_pairs_original = np.array(action_sr_pair_list_original)\n",
    "\n",
    "action_sr_pairs_original_df = pd.DataFrame(action_sr_pairs_original)\n",
    "action_sr_pairs_original_df.columns = ['actions','sr']\n",
    "action_sr_pairs_original_df.sort_values('actions',inplace=True)\n",
    "\n",
    "action_sr_pairs_original_df.loc[:,'pct_sr'] = 1/ tot_experiments\n",
    "\n",
    "action_sr_pairs_original_df.loc[:,'cum_pct_sr']  = action_sr_pairs_original_df.pct_sr.cumsum()\n",
    "action_sr_pairs_original_df.head(10)"
   ]
  },
  {
   "cell_type": "code",
   "execution_count": 50,
   "metadata": {
    "ExecuteTime": {
     "end_time": "2021-01-09T22:33:34.832581Z",
     "start_time": "2021-01-09T22:33:34.804946Z"
    }
   },
   "outputs": [],
   "source": [
    "action_sr_pairs_original_df.to_csv('original_algo_eval_data_for_plot.csv', index=False)"
   ]
  },
  {
   "cell_type": "code",
   "execution_count": 51,
   "metadata": {
    "ExecuteTime": {
     "end_time": "2021-01-09T22:33:37.123765Z",
     "start_time": "2021-01-09T22:33:36.727562Z"
    }
   },
   "outputs": [
    {
     "data": {
      "image/png": "[encoded data removed]",
      "text/plain": [
       "<Figure size 720x504 with 1 Axes>"
      ]
     },
     "metadata": {
      "needs_background": "light"
     },
     "output_type": "display_data"
    }
   ],
   "source": [
    "fig, ax = plt.subplots(figsize=(10,7))\n",
    "\n",
    "ax.plot(action_sr_pairs_original_df.actions\n",
    "        , action_sr_pairs_original_df.cum_pct_sr\n",
    "        , linestyle=':'\n",
    "        , dashes=(2, 3)\n",
    "        , label = f'original | n = {tot_experiments}')\n",
    "\n",
    "plt.ylabel('# success rate')\n",
    "plt.xlabel('# executed actions')\n",
    "plt.title('Evaluation Results')\n",
    "plt.legend(loc = 'upper left')\n",
    "plt.xscale('log')\n",
    "plt.show()"
   ]
  }
 ],
 "metadata": {
  "hide_input": false,
  "kernelspec": {
   "display_name": "Python 3",
   "language": "python",
   "name": "python3"
  },
  "language_info": {
   "codemirror_mode": {
    "name": "ipython",
    "version": 3
   },
   "file_extension": ".py",
   "mimetype": "text/x-python",
   "name": "python",
   "nbconvert_exporter": "python",
   "pygments_lexer": "ipython3",
   "version": "3.7.8"
  }
 },
 "nbformat": 4,
 "nbformat_minor": 4
}
