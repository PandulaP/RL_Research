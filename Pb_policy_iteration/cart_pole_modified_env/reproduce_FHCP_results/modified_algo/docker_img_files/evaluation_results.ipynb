{
 "cells": [
  {
   "cell_type": "code",
   "execution_count": 32,
   "metadata": {
    "ExecuteTime": {
     "end_time": "2021-01-09T21:35:02.133046Z",
     "start_time": "2021-01-09T21:35:02.130252Z"
    }
   },
   "outputs": [],
   "source": [
    "import pandas as pd\n",
    "import numpy as np\n",
    "import matplotlib.pyplot as plt"
   ]
  },
  {
   "cell_type": "code",
   "execution_count": 21,
   "metadata": {
    "ExecuteTime": {
     "end_time": "2021-01-09T21:32:11.997316Z",
     "start_time": "2021-01-09T21:32:11.992668Z"
    }
   },
   "outputs": [],
   "source": [
    "def process_eval_file(file_name:str):\n",
    "    \n",
    "    eva_results = pd.read_excel(f'{file_name}.xlsx')\n",
    "\n",
    "    eva_results.loc[:,'SR_processed'] = eva_results.apply(lambda row: row.SR.replace('[',''), axis=1)\n",
    "    eva_results.loc[:,'SR_processed'] = eva_results.apply(lambda row: row.SR_processed.replace(']',''), axis=1)\n",
    "    eva_results.loc[:,'SR_processed'] = eva_results.apply(lambda row: row.SR_processed.split(','), axis=1)\n",
    "\n",
    "    eva_results.loc[:,'action_record_processed'] = eva_results.apply(lambda row: row.action_record.replace('[',''), axis=1)\n",
    "    eva_results.loc[:,'action_record_processed'] = eva_results.apply(lambda row: row.action_record_processed.replace(']',''), axis=1)\n",
    "    eva_results.loc[:,'action_record_processed'] = eva_results.apply(lambda row: row.action_record_processed.split(','), axis=1)\n",
    "\n",
    "    return eva_results"
   ]
  },
  {
   "cell_type": "code",
   "execution_count": 22,
   "metadata": {
    "ExecuteTime": {
     "end_time": "2021-01-09T21:32:13.699071Z",
     "start_time": "2021-01-09T21:32:13.551343Z"
    }
   },
   "outputs": [],
   "source": [
    "eval_f_list = []\n",
    "\n",
    "for i in range(6):\n",
    "    \n",
    "    name_prefix = 'modified_experiment_results_para_config_'\n",
    "    f_num = i+1\n",
    "    f_name = name_prefix + str(f_num)\n",
    "    eval_f_list.append(process_eval_file(f_name))"
   ]
  },
  {
   "cell_type": "code",
   "execution_count": 23,
   "metadata": {
    "ExecuteTime": {
     "end_time": "2021-01-09T21:32:15.430441Z",
     "start_time": "2021-01-09T21:32:15.425760Z"
    }
   },
   "outputs": [],
   "source": [
    "eval_full_file = pd.concat(eval_f_list)"
   ]
  },
  {
   "cell_type": "code",
   "execution_count": 26,
   "metadata": {
    "ExecuteTime": {
     "end_time": "2021-01-09T21:32:40.221670Z",
     "start_time": "2021-01-09T21:32:40.219373Z"
    }
   },
   "outputs": [],
   "source": [
    "tot_experiments = eval_full_file.shape[0]"
   ]
  },
  {
   "cell_type": "code",
   "execution_count": 27,
   "metadata": {
    "ExecuteTime": {
     "end_time": "2021-01-09T21:32:45.661235Z",
     "start_time": "2021-01-09T21:32:45.555262Z"
    }
   },
   "outputs": [],
   "source": [
    "eval_full_file.to_excel('modified_experiment_evals_complete.xlsx',index=False)"
   ]
  },
  {
   "cell_type": "code",
   "execution_count": 28,
   "metadata": {
    "ExecuteTime": {
     "end_time": "2021-01-09T21:33:20.167259Z",
     "start_time": "2021-01-09T21:33:20.141519Z"
    }
   },
   "outputs": [],
   "source": [
    "eval_full_file.loc[:,'positive_SR_idx'] = eval_full_file.apply(lambda row: [idx for idx,val in enumerate(row.SR_processed) if float(val)>0], axis=1)\n",
    "eval_full_file.positive_SR_idx = eval_full_file.positive_SR_idx.apply(lambda cell: np.nan if len(cell)==0 else cell)\n",
    "eval_full_file.dropna(subset=['positive_SR_idx'],inplace=True)\n",
    "\n",
    "eval_full_file.loc[:, 'action_SR_pairs'] = eval_full_file.apply(lambda row: [(int(row.action_record_processed[val]),round(float(row.SR_processed[val]),0)) for val in row.positive_SR_idx ] , axis=1)\n"
   ]
  },
  {
   "cell_type": "code",
   "execution_count": 30,
   "metadata": {
    "ExecuteTime": {
     "end_time": "2021-01-09T21:34:39.249725Z",
     "start_time": "2021-01-09T21:34:39.236797Z"
    }
   },
   "outputs": [
    {
     "data": {
      "text/html": [
       "<div>\n",
       "<style scoped>\n",
       "    .dataframe tbody tr th:only-of-type {\n",
       "        vertical-align: middle;\n",
       "    }\n",
       "\n",
       "    .dataframe tbody tr th {\n",
       "        vertical-align: top;\n",
       "    }\n",
       "\n",
       "    .dataframe thead th {\n",
       "        text-align: right;\n",
       "    }\n",
       "</style>\n",
       "<table border=\"1\" class=\"dataframe\">\n",
       "  <thead>\n",
       "    <tr style=\"text-align: right;\">\n",
       "      <th></th>\n",
       "      <th>actions</th>\n",
       "      <th>sr</th>\n",
       "      <th>pct_sr</th>\n",
       "      <th>cum_pct_sr</th>\n",
       "    </tr>\n",
       "  </thead>\n",
       "  <tbody>\n",
       "    <tr>\n",
       "      <th>65</th>\n",
       "      <td>8322.0</td>\n",
       "      <td>3.0</td>\n",
       "      <td>0.002174</td>\n",
       "      <td>0.002174</td>\n",
       "    </tr>\n",
       "    <tr>\n",
       "      <th>56</th>\n",
       "      <td>8960.0</td>\n",
       "      <td>3.0</td>\n",
       "      <td>0.002174</td>\n",
       "      <td>0.004348</td>\n",
       "    </tr>\n",
       "    <tr>\n",
       "      <th>14</th>\n",
       "      <td>8970.0</td>\n",
       "      <td>0.0</td>\n",
       "      <td>0.002174</td>\n",
       "      <td>0.006522</td>\n",
       "    </tr>\n",
       "    <tr>\n",
       "      <th>6</th>\n",
       "      <td>9054.0</td>\n",
       "      <td>0.0</td>\n",
       "      <td>0.002174</td>\n",
       "      <td>0.008696</td>\n",
       "    </tr>\n",
       "    <tr>\n",
       "      <th>50</th>\n",
       "      <td>9075.0</td>\n",
       "      <td>1.0</td>\n",
       "      <td>0.002174</td>\n",
       "      <td>0.010870</td>\n",
       "    </tr>\n",
       "    <tr>\n",
       "      <th>1</th>\n",
       "      <td>12384.0</td>\n",
       "      <td>0.0</td>\n",
       "      <td>0.002174</td>\n",
       "      <td>0.013043</td>\n",
       "    </tr>\n",
       "    <tr>\n",
       "      <th>79</th>\n",
       "      <td>17487.0</td>\n",
       "      <td>0.0</td>\n",
       "      <td>0.002174</td>\n",
       "      <td>0.015217</td>\n",
       "    </tr>\n",
       "    <tr>\n",
       "      <th>72</th>\n",
       "      <td>18275.0</td>\n",
       "      <td>13.0</td>\n",
       "      <td>0.002174</td>\n",
       "      <td>0.017391</td>\n",
       "    </tr>\n",
       "    <tr>\n",
       "      <th>67</th>\n",
       "      <td>18319.0</td>\n",
       "      <td>0.0</td>\n",
       "      <td>0.002174</td>\n",
       "      <td>0.019565</td>\n",
       "    </tr>\n",
       "    <tr>\n",
       "      <th>71</th>\n",
       "      <td>18378.0</td>\n",
       "      <td>13.0</td>\n",
       "      <td>0.002174</td>\n",
       "      <td>0.021739</td>\n",
       "    </tr>\n",
       "  </tbody>\n",
       "</table>\n",
       "</div>"
      ],
      "text/plain": [
       "    actions    sr    pct_sr  cum_pct_sr\n",
       "65   8322.0   3.0  0.002174    0.002174\n",
       "56   8960.0   3.0  0.002174    0.004348\n",
       "14   8970.0   0.0  0.002174    0.006522\n",
       "6    9054.0   0.0  0.002174    0.008696\n",
       "50   9075.0   1.0  0.002174    0.010870\n",
       "1   12384.0   0.0  0.002174    0.013043\n",
       "79  17487.0   0.0  0.002174    0.015217\n",
       "72  18275.0  13.0  0.002174    0.017391\n",
       "67  18319.0   0.0  0.002174    0.019565\n",
       "71  18378.0  13.0  0.002174    0.021739"
      ]
     },
     "execution_count": 30,
     "metadata": {},
     "output_type": "execute_result"
    }
   ],
   "source": [
    "action_sr_pair_list_modified = []\n",
    "for experiment in eval_full_file.action_SR_pairs.values:\n",
    "    for action_sr_pair in experiment:\n",
    "        action_sr_pair_list_modified.append(action_sr_pair)\n",
    "        \n",
    "action_sr_pairs_modified = np.array(action_sr_pair_list_modified)\n",
    "\n",
    "action_sr_pairs_modified_df = pd.DataFrame(action_sr_pairs_modified)\n",
    "action_sr_pairs_modified_df.columns = ['actions','sr']\n",
    "action_sr_pairs_modified_df.sort_values('actions',inplace=True)\n",
    "\n",
    "action_sr_pairs_modified_df.loc[:,'pct_sr'] = 1/ tot_experiments\n",
    "\n",
    "action_sr_pairs_modified_df.loc[:,'cum_pct_sr']  = action_sr_pairs_modified_df.pct_sr.cumsum()\n",
    "action_sr_pairs_modified_df.head(10)"
   ]
  },
  {
   "cell_type": "code",
   "execution_count": 34,
   "metadata": {
    "ExecuteTime": {
     "end_time": "2021-01-09T21:36:09.001713Z",
     "start_time": "2021-01-09T21:36:08.971897Z"
    }
   },
   "outputs": [],
   "source": [
    "action_sr_pairs_modified_df.to_csv('modified_algo_eval_data_for_plot.csv', index=False)"
   ]
  },
  {
   "cell_type": "code",
   "execution_count": 33,
   "metadata": {
    "ExecuteTime": {
     "end_time": "2021-01-09T21:35:04.752393Z",
     "start_time": "2021-01-09T21:35:04.333447Z"
    }
   },
   "outputs": [
    {
     "data": {
      "image/png": "[encoded data removed]",
      "text/plain": [
       "<Figure size 720x504 with 1 Axes>"
      ]
     },
     "metadata": {
      "needs_background": "light"
     },
     "output_type": "display_data"
    }
   ],
   "source": [
    "fig, ax = plt.subplots(figsize=(10,7))\n",
    "\n",
    "ax.plot(action_sr_pairs_modified_df.actions\n",
    "        , action_sr_pairs_modified_df.cum_pct_sr\n",
    "        , linestyle=':'\n",
    "        , dashes=(2, 3)\n",
    "        , label = f'modified | n = {tot_experiments}')\n",
    "\n",
    "plt.ylabel('# success rate')\n",
    "plt.xlabel('# executed actions')\n",
    "plt.title('Evaluation Results')\n",
    "plt.legend(loc = 'upper left')\n",
    "plt.xscale('log')\n",
    "plt.show()"
   ]
  }
 ],
 "metadata": {
  "hide_input": false,
  "kernelspec": {
   "display_name": "Python 3",
   "language": "python",
   "name": "python3"
  },
  "language_info": {
   "codemirror_mode": {
    "name": "ipython",
    "version": 3
   },
   "file_extension": ".py",
   "mimetype": "text/x-python",
   "name": "python",
   "nbconvert_exporter": "python",
   "pygments_lexer": "ipython3",
   "version": "3.7.8"
  }
 },
 "nbformat": 4,
 "nbformat_minor": 4
}
