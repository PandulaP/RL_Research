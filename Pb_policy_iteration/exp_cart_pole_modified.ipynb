{
 "cells": [
  {
   "cell_type": "markdown",
   "metadata": {},
   "source": [
    "## Preference-based Policy Iteration Algorithm - Application on Inverted-Pendulum Problem\n",
    "\n",
    "This is an attempt to replicate the work done by Fürnkranz et al., (2012) in their paper \"Preference-based reinforcement learning: a formal framework and a policy iteration algorithm\""
   ]
  },
  {
   "cell_type": "markdown",
   "metadata": {},
   "source": [
    "- source code of the environment can be found [here](hhttps://github.com/openai/gym/blob/master/gym/envs/classic_control/cartpole.py)\n",
    "\n",
    "*TO-DOs:*\n",
    ">- Run t-tests for pair-wise comparisons (only add preferences for significantly different pairs) -> might help to converge. --\n",
    ">- Work with 4-dimensional state-space: but only train on 2-dimensions (pole-position and pole-velocity)\n",
    "\n",
    "\n",
    "- MAIN DIFFERENCES IN MODIFIED:\n",
    "    - RETRAINING THE LABEL-RANKER MODEL\n",
    "    - LINEARLY ANNEALED LR\n",
    "\n",
    "**Questions/Concerns**:\n",
    "- this might only work because the starting states are close to each other\n",
    "- there is no clear way how the learned policy will know which action to take at states which are not in the initial set of sampled states\n",
    "- the computed reward/success graphs only are for the episodes starting from the initial set of starting states? so this doesn't learn a generalized policy?\n",
    "\n",
    "\n",
    "- Performance of the policy alternates (good->bad->good): hypothesis: training dataset shrinks after following a good policy -> results with (new) bad policy -> bad policy collects more data -> results with good policy -> again less training samples..\n",
    "- `LearnLabelRanker` means iteratively train the model using every new batch of training data?\n",
    "\n",
    "\n",
    "**Observations**\n",
    "- There is no clear mention of the exact policy derived, if we constantly pick the ranked #1 - that always gives the same result on the next roll-out. How has the authors balanced exploration vs. exploitation?\n",
    "- More dense the NN becomese, more generalization happens -> high variability in the validation phrase\n",
    "- when the number of training samples are low - the learned policy seems to work better (why? - should the NN overfit the training data to perform better?)"
   ]
  },
  {
   "cell_type": "code",
   "execution_count": 1,
   "metadata": {
    "ExecuteTime": {
     "end_time": "2020-12-13T15:23:07.762571Z",
     "start_time": "2020-12-13T15:23:05.770577Z"
    }
   },
   "outputs": [],
   "source": [
    "import numpy as np\n",
    "import pandas as pd\n",
    "\n",
    "import torch\n",
    "import torch.nn as nn\n",
    "import torch.nn.functional as F\n",
    "from torch.utils.data import TensorDataset, DataLoader\n",
    "\n",
    "import matplotlib.pyplot as plt\n",
    "from IPython import display\n",
    "from IPython.display import HTML\n",
    "\n",
    "import gym\n",
    "from gym import wrappers\n",
    "\n",
    "import io\n",
    "import base64\n",
    "import itertools\n",
    "import tqdm\n",
    "\n",
    "from scipy.stats import rankdata as rd\n",
    "from scipy import stats"
   ]
  },
  {
   "cell_type": "markdown",
   "metadata": {},
   "source": [
    "    Description:\n",
    "        A pole is attached by an un-actuated joint to a cart, which moves along\n",
    "        a frictionless track. The pendulum starts upright, and the goal is to\n",
    "        prevent it from falling over by increasing and reducing the cart's\n",
    "        velocity.\n",
    "    Source:\n",
    "        This environment corresponds to the version of the cart-pole problem\n",
    "        described by Barto, Sutton, and Anderson\n",
    "    Observation:\n",
    "        Type: Box(4)\n",
    "        Num     Observation               Min                     Max\n",
    "        0       Cart Position             -4.8                    4.8\n",
    "        1       Cart Velocity             -Inf                    Inf\n",
    "        2       Pole Angle                -0.418 rad (-24 deg)    0.418 rad (24 deg)\n",
    "        3       Pole Angular Velocity     -Inf                    Inf\n",
    "    Actions:\n",
    "        Type: Discrete(2)\n",
    "        Num   Action\n",
    "        0     Push cart to the left\n",
    "        1     Push cart to the right\n",
    "        Note: The amount the velocity that is reduced or increased is not\n",
    "        fixed; it depends on the angle the pole is pointing. This is because\n",
    "        the center of gravity of the pole increases the amount of energy needed\n",
    "        to move the cart underneath it\n",
    "    Reward:\n",
    "        Reward is 1 for every step taken, including the termination step\n",
    "    Starting State:\n",
    "        All observations are assigned a uniform random value in [-0.05..0.05]\n",
    "    Episode Termination:\n",
    "        Pole Angle is more than 12 degrees.\n",
    "        Cart Position is more than 2.4 (center of the cart reaches the edge of\n",
    "        the display).\n",
    "        Episode length is greater than 200.\n",
    "        Solved Requirements:\n",
    "        Considered solved when the average return is greater than or equal to\n",
    "        195.0 over 100 consecutive trials."
   ]
  },
  {
   "cell_type": "code",
   "execution_count": 2,
   "metadata": {
    "ExecuteTime": {
     "end_time": "2020-12-13T15:23:09.409523Z",
     "start_time": "2020-12-13T15:23:09.398393Z"
    }
   },
   "outputs": [
    {
     "name": "stdout",
     "output_type": "stream",
     "text": [
      "Number of actions: 2\n",
      "Observation space: Box(-3.4028234663852886e+38, 3.4028234663852886e+38, (4,), float32)\n",
      "Max. values of observation space:[4.8000002e+00 3.4028235e+38 4.1887903e-01 3.4028235e+38]\n",
      "Min. values of observation space:[-4.8000002e+00 -3.4028235e+38 -4.1887903e-01 -3.4028235e+38]\n"
     ]
    }
   ],
   "source": [
    "# updating the maximum length of trajectory trajectory to 1500 steps\n",
    "gym.envs.register(\n",
    "    id='CartPole_PbPI_Version-v0',\n",
    "    entry_point='gym.envs.classic_control:CartPoleEnv',\n",
    "    max_episode_steps=1500,    \n",
    ")\n",
    "\n",
    "env = gym.make('CartPole_PbPI_Version-v0')\n",
    "env.reset()\n",
    "\n",
    "print(\"Number of actions: \" + str(env.action_space.n))\n",
    "print(\"Observation space: \" + str(env.observation_space))\n",
    "print(\"Max. values of observation space:\" + str(env.observation_space.high))\n",
    "print(\"Min. values of observation space:\" + str(env.observation_space.low))"
   ]
  },
  {
   "cell_type": "code",
   "execution_count": 3,
   "metadata": {
    "ExecuteTime": {
     "end_time": "2020-12-13T15:23:10.183333Z",
     "start_time": "2020-12-13T15:23:10.176700Z"
    }
   },
   "outputs": [],
   "source": [
    "# helper functions\n",
    "def random_action(environment):\n",
    "    \"\"\" return a random action from the given environment\"\"\"\n",
    "    \n",
    "    action = environment.action_space.sample()  \n",
    "    return action\n",
    "\n",
    "\n",
    "def generate_init_states_S(seed, env = 'CartPole_PbPI_Version-v0', filter_state=True):\n",
    "    \"\"\"this function returns a list of randomly generated initial states from the CartPole-v0 environment \"\"\"\n",
    "    \n",
    "    np.random.seed(seed)\n",
    "    \n",
    "    n_states = np.random.randint(low=1, high=101) # how many states to generate\n",
    "\n",
    "    init_states_S = [] # to store initial states\n",
    "\n",
    "    env = gym.make(env)\n",
    "    env.reset()\n",
    "\n",
    "    for _ in range(n_states):\n",
    "\n",
    "        state, reward, done, info = env.step(env.action_space.sample())  # step through the environment\n",
    "        \n",
    "        init_states_S.append(state)\n",
    "            \n",
    "        if done: # the episode ends either if the pole is > 15 deg from vertical or the cart move by > 2.4 unit from the centre\n",
    "            env.reset()    \n",
    "            \n",
    "    env.close()\n",
    "            \n",
    "    return init_states_S"
   ]
  },
  {
   "cell_type": "raw",
   "metadata": {},
   "source": [
    "# generate sample states AND print\n",
    "init_states_S = generate_init_states_S(16)\n",
    "\n",
    "# display the first 10 initial states\n",
    "env = gym.make('MountainCar_PbPI_Version-v0')\n",
    "env = env.unwrapped # unwrap the environment to set custom initial states\n",
    "fig = plt.figure(figsize=(20,10))\n",
    "\n",
    "for i in range(20):\n",
    "    env.state = init_states_S[i] # set state\n",
    "    fig.add_subplot(4,5,i+1)\n",
    "    plt.imshow(env.render(mode=\"rgb_array\"))\n",
    "    env.close()\n",
    "    \n",
    "plt.show()"
   ]
  },
  {
   "cell_type": "code",
   "execution_count": 4,
   "metadata": {
    "ExecuteTime": {
     "end_time": "2020-12-13T15:23:14.070674Z",
     "start_time": "2020-12-13T15:23:14.067643Z"
    }
   },
   "outputs": [],
   "source": [
    "def partition_action_space(env_name:'string',n_actions:'int'):\n",
    "    \"\"\"function to partitions the action space of an environment into a given number of actions`\"\"\"\n",
    "    \n",
    "    # initialize environment\n",
    "    env = gym.make(env_name)\n",
    "    \n",
    "    actions = np.arange(env.action_space.n)\n",
    "\n",
    "    # a uniform noise term is added to action signals to make all state transitions non-deterministic\n",
    "    part_act_space = np.linspace(actions[0],actions[-1],n_actions) + np.random.uniform(low = -.2,high=.2) \n",
    "    \n",
    "    return part_act_space                                                                                "
   ]
  },
  {
   "cell_type": "code",
   "execution_count": 5,
   "metadata": {
    "ExecuteTime": {
     "end_time": "2020-12-13T15:23:14.379490Z",
     "start_time": "2020-12-13T15:23:14.374017Z"
    }
   },
   "outputs": [
    {
     "name": "stdout",
     "output_type": "stream",
     "text": [
      "Original action space: 2\n",
      "Partitioned into 3 actions: [0.1320523 0.6320523 1.1320523]\n",
      "Partitioned action-space mapped to orignal action-space: [0, 0, 1]\n"
     ]
    }
   ],
   "source": [
    "env_name = 'CartPole_PbPI_Version-v0'\n",
    "env = gym.make(env_name)\n",
    "\n",
    "print(\"Original action space: \" + str(env.action_space.n))\n",
    "print(\"Partitioned into 3 actions: \" + str(partition_action_space(env_name,3)))\n",
    "print(\"Partitioned action-space mapped to orignal action-space: \" + str([int(round(action,0)) for action in partition_action_space(env_name,3)]))"
   ]
  },
  {
   "cell_type": "markdown",
   "metadata": {},
   "source": [
    "### Preference-based Approximate Policy Iteration algorithm"
   ]
  },
  {
   "cell_type": "code",
   "execution_count": 6,
   "metadata": {
    "ExecuteTime": {
     "end_time": "2020-12-13T15:23:18.677018Z",
     "start_time": "2020-12-13T15:23:18.667353Z"
    }
   },
   "outputs": [],
   "source": [
    "#####################################\n",
    "### Evaluate-Preference procedure ###\n",
    "\n",
    "### Functionality:\n",
    "### - INPUTS  : starting state (s), two-actions(a_k, a_j), (current) policy (\\pi), max. length of trajectoris (L)\n",
    "### - PROCESS : generate roll-out (fixed time horizon) and calculate accumulate reward\n",
    "### - OUTPUT  : compare return from each rollout: store preference info in training dataset as (s,a_k > a_j)\n",
    "\n",
    "### - Run this procedure for every action-pair at all initial-states\n",
    "\n",
    "def evaluate_preference(starting_state # starting state of roll-outs\n",
    "                        , action_1     # first action to execute at the starting-state\n",
    "                        , action_2     # second action to execute at the starting state\n",
    "                        , policy_in    # policy to folow\n",
    "                        , environment_name = 'CartPole_PbPI_Version-v0'   # name of the environment\n",
    "                        , discount_fac = 1        # discounting factor\n",
    "                        , n_rollouts = 20         # number of roll-outs to generate per action\n",
    "                        , max_rollout_len = 1500  # maximum length of a roll-out\n",
    "                        , label_ranker = False    # whether to use the label-ranking model or not\n",
    "                        , p_sig = 0.05             # p-value to use for t-test (to compare avg. returns of roll-outs from each action)\n",
    "                       ):\n",
    "    \n",
    "    \"\"\"\n",
    "    Description:\n",
    "        At every state in the initial state set, roll-outs are generated by starting from each action and following the given policy.\n",
    "        Accumulated rewards from each roll-out at each action are used to generate preferences for the given pair of actions.\n",
    "        Preferences generated through this method are stored to create a training set to learn the label ranking model.\n",
    "    \n",
    "    \"\"\"\n",
    "    \n",
    "    ### initialize local variables  ###\n",
    "    \n",
    "    policy = policy_in          \n",
    "    n_rollouts = n_rollouts     \n",
    "    gamma = discount_fac    \n",
    "    s_init = starting_state\n",
    "        \n",
    "    actions = { 'one' : action_1    # dictionary to store input actions\n",
    "              , 'two' : action_2}    \n",
    "\n",
    "    r = { 'one' : [None]*n_rollouts # dictionary to store rewards of roll-outs, starting from each action\n",
    "        , 'two' : [None]*n_rollouts}  \n",
    "\n",
    "    avg_r = {}  # dictionary to store average discounted return for each action\n",
    "\n",
    "    max_traj_len = max_rollout_len # maximum roll-out trajectory length    \n",
    "    \n",
    "    # select one action from the two given action and generate roll-outs\n",
    "    for action_key, action_value in actions.items():\n",
    "\n",
    "        for rollout in range(n_rollouts):\n",
    "\n",
    "            env = gym.make(environment_name)\n",
    "            env = env.unwrapped\n",
    "            \n",
    "            env.state = s_init  # set the starting state\n",
    "\n",
    "            # pre-process the action value in case the action-space is partitioned: environment only accepts discrete action values\n",
    "            action_val_processed = int(abs(round(action_value)))\n",
    "            observation, reward, done, info = env.step(action_val_processed)\n",
    "            \n",
    "            hist = observation # store the last state (observation)\n",
    "            \n",
    "            r[action_key][rollout] = reward  # add the immediate reward received after executing the action\n",
    "\n",
    "            # follow the given policy to generate a roll-out trajectory \n",
    "            # until the agent meets a terminal state or exceeds the max. trajectory length is exceeded\n",
    "            traj_len = 1\n",
    "            while traj_len < max_traj_len and not done: \n",
    "                \n",
    "                if label_ranker: # if the policy should be derived from the label-ranking model\n",
    "                    observation, reward, done, info = env.step(policy.label_ranking_policy(hist))\n",
    "                    hist = observation\n",
    "                    #print(f'Roll-outs generated with LabelRanker', end='\\r')\n",
    "                    \n",
    "                else: # if the policy should be derived from a random-action selection model\n",
    "                    observation, reward, done, info = env.step(policy(env))\n",
    "                    #print(f'Roll-outs generated with Random policy', end='\\r')\n",
    "\n",
    "                # compute discounted-reward at each step of the roll-out and store the roll-out return\n",
    "                r[action_key][rollout] += (gamma**traj_len) * reward\n",
    "\n",
    "                traj_len += 1\n",
    "\n",
    "            # close the environment after creating a single roll-out (and delete it)\n",
    "            env.close()\n",
    "            del env\n",
    "            \n",
    "#            print(f'roll-outs for action {action_key} complete!', end='\\r')\n",
    "        \n",
    "        # calculate average discounted return for the two actions executed at starting state\n",
    "        avg_r[action_key]  = sum(r[action_key]) / len(r[action_key])\n",
    "\n",
    "    ### TO-DO ###\n",
    "    # RUN T-TEST AND RETURN ACTION PREFERENCE ONLY IF THERE IS A SIGNIFICANT DIFFERENCE\n",
    "    t_val, p_val = stats.ttest_ind(r['one'],r['two']) # unpaird t-tests: equal variance\n",
    "    #print(p_val)\n",
    "    \n",
    "    \n",
    "    # return preference info. to generate training data\n",
    "    if (avg_r['one'] > avg_r['two']) and (p_val <= p_sig):\n",
    "        return {'state': s_init\n",
    "               , 'a_j' : actions['one']\n",
    "               , 'a_k' : actions['two']\n",
    "               , 'preference_label' : 1}\n",
    "    \n",
    "    elif(avg_r['one'] < avg_r['two']) and (p_val <= p_sig):\n",
    "        return {'state': s_init\n",
    "               , 'a_j' : actions['one']\n",
    "               , 'a_k' : actions['two']\n",
    "               , 'preference_label' : 0}\n",
    "    \n",
    "    else: # return NaN if avg. rewards of both actions are the same\n",
    "        return {'state': np.nan\n",
    "               , 'a_j' : np.nan\n",
    "               , 'a_k' : np.nan\n",
    "               , 'preference_label' : np.nan}\n",
    "    \n",
    "   "
   ]
  },
  {
   "cell_type": "code",
   "execution_count": 7,
   "metadata": {
    "ExecuteTime": {
     "end_time": "2020-12-13T15:23:19.884666Z",
     "start_time": "2020-12-13T15:23:19.847029Z"
    }
   },
   "outputs": [
    {
     "data": {
      "text/plain": [
       "{'state': nan, 'a_j': nan, 'a_k': nan, 'preference_label': nan}"
      ]
     },
     "execution_count": 7,
     "metadata": {},
     "output_type": "execute_result"
    }
   ],
   "source": [
    "# test function\n",
    "evaluate_preference(env.reset(),0.1,0.6,policy_in=random_action,label_ranker=False)"
   ]
  },
  {
   "cell_type": "code",
   "execution_count": 53,
   "metadata": {
    "ExecuteTime": {
     "end_time": "2020-12-13T20:19:22.538143Z",
     "start_time": "2020-12-13T20:19:22.520560Z"
    }
   },
   "outputs": [],
   "source": [
    "############################################\n",
    "### LABEL-RANKER MODEL-TRAINING procedure ###\n",
    "\n",
    "### Description:\n",
    "###  XXX..\n",
    "\n",
    "### Functionality:\n",
    "### - INPUTS  : Xxx\n",
    "### - PROCESS : Xxx\n",
    "### - OUTPUT  : Xxx\n",
    "\n",
    "### FUNCTION TO CREATE TRAINING DATASET + MODEL + RETURN THE TRAINED MODEL ###\n",
    "\n",
    "def train_model(train_data                  # collection of all preference data\n",
    "                , action_space              # action space of the task\n",
    "                , model_name:str            # name for the model (to store)\n",
    "                , batch_s = 4               # batch size to train the NN model\n",
    "                , mod_layers = [15,7] # num. of hidden-layers (list length) and the num. of hidden units per each layer (list item value)\n",
    "                , n_epochs = 300\n",
    "                , l_rate = 0.01):          # num. of epochs to train the model\n",
    "\n",
    "    ###########################################\n",
    "    ###### CONSTRUCTING TRAINING-DATASET ######\n",
    "        \n",
    "        \n",
    "    # create a training dataframe | remove rows that have np.nan -> corresponds to roll-outs with no action preference\n",
    "    train_df = pd.DataFrame(train_data).dropna()\n",
    "\n",
    "    # create a key for state | only select pole-velocity and pole-position (2-dimensions)\n",
    "    train_df.loc[:, 'state_key'] = train_df.state.apply(lambda x: x[2].astype(str)+\"_\"+x[3].astype(str))\n",
    "\n",
    "    # drop all states (rows) which does not include any preferred action\n",
    "    temp_df1 = train_df.groupby('state_key').preference_label.sum().reset_index()\n",
    "    temp_df1 = temp_df1.loc[temp_df1.preference_label>0] # pick the states that have at least one prefered action\n",
    "    train_df = train_df.merge(right = temp_df1.loc[:,'state_key']\n",
    "                              , right_on = 'state_key'\n",
    "                              , left_on = 'state_key'\n",
    "                              , how = 'right')\n",
    "\n",
    "\n",
    "    ##########################################################\n",
    "    ##### confirm that the training-dataset is not empty #####\n",
    "    \n",
    "    if train_df.shape[0]>0:\n",
    "        \n",
    "        # create a 'prefered-action' value for each state, action-preference pair\n",
    "        train_df.loc[:,'prefered_action'] = train_df.apply(lambda row: row['a_j'] if row['preference_label'] == 1 else row['a_k']  ,axis=1)\n",
    "\n",
    "        # compute the number of times each action is prefered at a state\n",
    "        action_preference_counts = train_df.groupby('state_key').prefered_action.value_counts().unstack()\n",
    "        action_preference_counts.replace(np.nan,0,inplace=True) # if an action is not preferred at a state, set it to '0'\n",
    "\n",
    "        # remove the column index names of the `action_preference_counts' summary table\n",
    "        action_preference_counts.columns.name = None\n",
    "\n",
    "        # find actions not selected as a preferred action at any state \n",
    "        # (this is important because all actions has to be included here to create the correct target/label information for NN)\n",
    "        missed_actions = [action for action in action_space if action not in action_preference_counts.columns.tolist()]\n",
    "        missed_actions = np.array(missed_actions).astype(action_preference_counts.columns.dtype) # convert to the same data-type of remaining columns\n",
    "\n",
    "        # add any missing actions to the `action_preference_counts' summary table\n",
    "        if len(missed_actions)>0:\n",
    "\n",
    "            # add the missing action (with a preference value of zero)\n",
    "            for action in missed_actions:\n",
    "                action_preference_counts.loc[:,action] = 0\n",
    "\n",
    "            # sort the actions in the summary according to arrangement in action space (ascending order)\n",
    "            action_preference_counts = action_preference_counts.reindex(sorted(action_preference_counts.columns), axis=1)    \n",
    "\n",
    "        # convert the action-preference-counts of each action to a vector and add as a new column (to be used as training labels)\n",
    "        #action_preference_counts.loc[:, 'preference_label_vector'] = action_preference_counts.iloc[:,0:].values.tolist()\n",
    "        action_preference_counts.loc[:, 'preference_label_vector'] = pd.DataFrame({'label_data': action_preference_counts.iloc[:,0:].values.tolist()}).values\n",
    "\n",
    "        # add preference label vector to training dataset\n",
    "        train_df = train_df.merge(right = action_preference_counts.loc[:,['preference_label_vector']]\n",
    "                                  , right_index= True\n",
    "                                  , left_on = 'state_key'\n",
    "                                  , how = 'left')\n",
    "\n",
    "        # create the reduced training dataset (drop unnecessary columns & duplicate rows: which have data for the same state)\n",
    "        train_df_reduced = train_df.loc[:,['state', 'state_key', 'preference_label_vector']]\n",
    "        train_df_reduced.drop_duplicates(subset=['state_key'],inplace=True)\n",
    "\n",
    "        print(f'Training data samples: {train_df_reduced.shape[0]}')\n",
    "\n",
    "            \n",
    "        \n",
    "        ###### PREPARING TRAINING-DATA TENSORS (FOR MODEL) ######\n",
    "\n",
    "        # normalizing the target (preference label) vectors\n",
    "        output_labels_temp = np.array(train_df_reduced.preference_label_vector.tolist())\n",
    "        row_sums = output_labels_temp.sum(axis=1)\n",
    "        output_labels_normalized = output_labels_temp / row_sums[:, np.newaxis]\n",
    "\n",
    "        # creating training data tensors - only get pole-velocity and pole-position\n",
    "        # input_states  = torch.from_numpy(np.array(train_df_reduced.state.apply(lambda x: x.astype(float)).tolist()))\n",
    "        input_states  = torch.from_numpy(np.array(train_df_reduced.state.apply(lambda x: [x[2].astype(float),x[3].astype(float)]).tolist())) # only select pole-position and pole-velocity\n",
    "        output_labels = torch.from_numpy(output_labels_normalized)\n",
    "\n",
    "        # creating TensorDataset\n",
    "        train_ds = TensorDataset(input_states , output_labels)\n",
    "\n",
    "        # defining data loader\n",
    "        batch_size = batch_s\n",
    "        train_dl = DataLoader(train_ds\n",
    "                              , batch_size\n",
    "                              , shuffle=True\n",
    "                              , drop_last=True)\n",
    "\n",
    "    # if training dataset is emtpy - return None (break the training loop)\n",
    "    else:\n",
    "        \n",
    "        return None\n",
    "\n",
    "    ###### CREATING NEURAL NETWORK FUNCTION APPROXIMATOR (MODEL) ######\n",
    "\n",
    "    class Model(nn.Module):\n",
    "\n",
    "        def __init__(self, input_state_len, output_label_len, layers, p=0.3):\n",
    "\n",
    "            super(Model,self).__init__()\n",
    "\n",
    "            all_layers = []\n",
    "            input_size = input_state_len\n",
    "\n",
    "            # create layers\n",
    "            for layer_dim in layers:\n",
    "                all_layers.append(nn.Linear(input_size, layer_dim))\n",
    "                all_layers.append(nn.LeakyReLU(inplace=True))\n",
    "                #all_layers.append(nn.BatchNorm1d(layer_dim))\n",
    "                all_layers.append(nn.Dropout(p))\n",
    "                input_size = layer_dim\n",
    "\n",
    "            all_layers.append(nn.Linear(layers[-1], output_label_len))\n",
    "\n",
    "            self.layers = nn.Sequential(*all_layers)\n",
    "\n",
    "        def forward(self, state_vec):\n",
    "            x = self.layers(state_vec)\n",
    "            return x\n",
    "\n",
    "        \n",
    "    # define model instance\n",
    "    model = Model(input_states.shape[1], output_labels.shape[1], mod_layers)\n",
    "\n",
    "    opt = torch.optim.SGD(model.parameters(), lr = l_rate)\n",
    "    loss_fn = F.mse_loss\n",
    "    \n",
    "    \n",
    "    ###### DEFINING FIT-FUNCTION TO TRAIN THE MODEL ######\n",
    "\n",
    "#     print('Training model...\\n',end='\\r')\n",
    "\n",
    "    # to store losses\n",
    "    aggregated_losses = []\n",
    "\n",
    "    # Define a utility function to train the model\n",
    "    def fit(num_epochs, model, loss_fn, opt):\n",
    "        \n",
    "        for epoch in range(num_epochs):\n",
    "            for xb,yb in train_dl:\n",
    "\n",
    "                # Generate predictions\n",
    "                pred = model(xb.float())\n",
    "                loss = loss_fn(pred, yb.float())            \n",
    "\n",
    "                # Perform gradient descent\n",
    "                loss.backward()\n",
    "                opt.step()\n",
    "                opt.zero_grad()\n",
    "\n",
    "            aggregated_losses.append(loss_fn(model(input_states.float()), output_labels.float()).detach().numpy())\n",
    "\n",
    "#             if epoch%100 == 0:\n",
    "#                     print(f'epoch: {epoch:3} loss: {loss.item():10.8f}')\n",
    "        print('\\nTraining loss: ', loss_fn(model(input_states.float()), output_labels.float()).detach().numpy(),'\\n')\n",
    "\n",
    "\n",
    "    ###### TRAINING-DATA THE MODEL ######\n",
    "    \n",
    "    ## UNCOMMENT TO RETRAIN THE SAME NETWORK ##\n",
    "    # load most recently saved model to re-train using new training data\n",
    "    try:\n",
    "        # path to load the model (if already saved)\n",
    "        PATH = f\"./models/{model_name}_pbpi_model.pt\" # path\n",
    "        model.load_state_dict(torch.load(PATH))\n",
    "    except:\n",
    "        pass\n",
    "\n",
    "    epochs = n_epochs\n",
    "    fit(epochs, model, loss_fn, opt)\n",
    "\n",
    "\n",
    "    ###### SAVE MODEL (for inference) ######\n",
    "\n",
    "    PATH = f\"./models/{model_name}_pbpi_model.pt\" # path\n",
    "    torch.save(model.state_dict(), PATH) # save\n",
    "\n",
    "    # plotting model loss\n",
    "    plt.plot(range(epochs), aggregated_losses)\n",
    "    plt.ylabel('Loss')\n",
    "    plt.xlabel('epoch')\n",
    "    plt.show()\n",
    "\n",
    "    # set the model to evaluation mode\n",
    "    model.eval()\n",
    "\n",
    "    #return the model\n",
    "    return model"
   ]
  },
  {
   "cell_type": "code",
   "execution_count": 54,
   "metadata": {
    "ExecuteTime": {
     "end_time": "2020-12-13T20:19:22.780458Z",
     "start_time": "2020-12-13T20:19:22.775391Z"
    }
   },
   "outputs": [],
   "source": [
    "#############################\n",
    "### LABEL RANKER (POLICY) ###\n",
    "\n",
    "# This takes the trained model as an input\n",
    "# When a new state is given, the model makes a prediction for each action\n",
    "# This function then rank the actions based on the prediction\n",
    "# I select the Highest ranked (most prefered action) 90% time and second most preferred action 10% time\n",
    "\n",
    "class Policy():\n",
    "    \n",
    "    def __init__(self, action_space, model):\n",
    "        self.action_space = action_space\n",
    "        self.model = model\n",
    "        \n",
    "    def label_ranking_policy(self,obs):\n",
    "\n",
    "        state_obs = obs[[2,3]] # only pick the 2nd and 3rd features from the state (pole-angle and angular velocity)\n",
    "        state_obs = state_obs.reshape(-1,state_obs.shape[0]) # reshape to be a 2D array\n",
    "        state_obs = torch.from_numpy(state_obs) # convert to a tensor\n",
    "\n",
    "        # make the prediction for actions\n",
    "        with torch.no_grad():\n",
    "            preds = self.model(state_obs.float()) \n",
    "\n",
    "        # rank the indexes of actions (from highest ranked/preferred action to lowest)\n",
    "        ranked_action_idx = (-rd(preds.detach().numpy())).argsort()[:preds.shape[1]]\n",
    "\n",
    "        ## return the action value ##\n",
    "        \n",
    "        # if there are more than 2 actions\n",
    "        if len(self.action_space)>2:\n",
    "            remain_probs = .05/len(ranked_action_idx[2:])\n",
    "            n_remain_actions = ranked_action_idx.shape[0]-2\n",
    "\n",
    "            # - select first two (highest preferred actions) 90% and 5% of the time\n",
    "            # - select one of the remaining actions 5% time\n",
    "            action = np.random.choice(ranked_action_idx,1 , p=[0.9, 0.05] + list(np.repeat(remain_probs,n_remain_actions)))[0]\n",
    "        \n",
    "        else:\n",
    "            # if there are only 2 actions\n",
    "            action = np.random.choice(ranked_action_idx,1 , p=[0.95, 0.05])[0]\n",
    "        \n",
    "        # when action space is divided, return the correct action\n",
    "        return int(abs(round(self.action_space[int(action)])))"
   ]
  },
  {
   "cell_type": "code",
   "execution_count": 55,
   "metadata": {
    "ExecuteTime": {
     "end_time": "2020-12-13T20:19:23.277391Z",
     "start_time": "2020-12-13T20:19:23.273093Z"
    }
   },
   "outputs": [],
   "source": [
    "def run_evaluations(policy, state_list, env_name ='CartPole_PbPI_Version-v0' ):  \n",
    "    \n",
    "    \"\"\"function to calculate the accumulated avg. reward of roll-outs starting from a given list of states\n",
    "    and following a given policy\"\"\"\n",
    "    \n",
    "    env_test = gym.make(env_name)\n",
    "    env_test = env_test.unwrapped\n",
    "    \n",
    "    simu_per_state = 100\n",
    "    print(f'Running evaluations...')\n",
    "    \n",
    "    # sufficient policy count (across all states & simulations)\n",
    "    suf_policy_count = 0\n",
    "    \n",
    "    for state in state_list:        \n",
    "        \n",
    "        # generate 100 simulations from each state\n",
    "        for _ in range(simu_per_state):\n",
    "            \n",
    "            # set the starting state\n",
    "            env_test.state, obs = state, state\n",
    "        \n",
    "            # variable to store the return of an episode\n",
    "            return_ep = 0 \n",
    "\n",
    "            # execute 1001 steps in the environment\n",
    "            for _ in range(1001):\n",
    "                action = policy.label_ranking_policy(obs)\n",
    "                observation, reward, done, info = env_test.step(action)\n",
    "                obs = observation\n",
    "                return_ep += reward\n",
    "                if done: break\n",
    "\n",
    "            env_test.reset()\n",
    "            env_test.close()\n",
    "\n",
    "            if return_ep>=100:\n",
    "                suf_policy_count += 1\n",
    "                \n",
    "    \n",
    "    return (suf_policy_count/(len(state_list)*simu_per_state))"
   ]
  },
  {
   "cell_type": "code",
   "execution_count": null,
   "metadata": {
    "ExecuteTime": {
     "start_time": "2020-12-13T20:26:41.080Z"
    },
    "scrolled": false
   },
   "outputs": [
    {
     "name": "stdout",
     "output_type": "stream",
     "text": [
      "\n",
      "Number of initial states: 41\n",
      "\n",
      "\n",
      "Number of actions (per states): 3\n",
      "\n"
     ]
    },
    {
     "data": {
      "application/vnd.jupyter.widget-view+json": {
       "model_id": "c1f0e786bf8247309b5a1438ec48c1d2",
       "version_major": 2,
       "version_minor": 0
      },
      "text/plain": [
       "HBox(children=(FloatProgress(value=0.0, description='Iteration', max=3000.0, style=ProgressStyle(description_w…"
      ]
     },
     "metadata": {},
     "output_type": "display_data"
    },
    {
     "name": "stdout",
     "output_type": "stream",
     "text": [
      "Iteration 1:\n"
     ]
    },
    {
     "data": {
      "application/vnd.jupyter.widget-view+json": {
       "model_id": "ac294e07c9984dfc80b1d10f9eddf0f6",
       "version_major": 2,
       "version_minor": 0
      },
      "text/plain": [
       "HBox(children=(FloatProgress(value=0.0, description='States', max=41.0, style=ProgressStyle(description_width=…"
      ]
     },
     "metadata": {},
     "output_type": "display_data"
    },
    {
     "name": "stdout",
     "output_type": "stream",
     "text": [
      "Training data samples: 9\n",
      "\n",
      "Training loss:  0.050820205 \n",
      "\n"
     ]
    },
    {
     "data": {
      "image/png": "[encoded data removed]",
      "text/plain": [
       "<Figure size 432x288 with 1 Axes>"
      ]
     },
     "metadata": {
      "needs_background": "light"
     },
     "output_type": "display_data"
    },
    {
     "name": "stdout",
     "output_type": "stream",
     "text": [
      "Running evaluations...\n"
     ]
    },
    {
     "data": {
      "image/png": "[encoded data removed]",
      "text/plain": [
       "<Figure size 432x288 with 1 Axes>"
      ]
     },
     "metadata": {
      "needs_background": "light"
     },
     "output_type": "display_data"
    },
    {
     "name": "stdout",
     "output_type": "stream",
     "text": [
      "Iteration 2:\n"
     ]
    },
    {
     "data": {
      "application/vnd.jupyter.widget-view+json": {
       "model_id": "4964ae3701af425cbf756203055d16bd",
       "version_major": 2,
       "version_minor": 0
      },
      "text/plain": [
       "HBox(children=(FloatProgress(value=0.0, description='States', max=41.0, style=ProgressStyle(description_width=…"
      ]
     },
     "metadata": {},
     "output_type": "display_data"
    },
    {
     "name": "stdout",
     "output_type": "stream",
     "text": [
      "Training data samples: 4\n",
      "\n",
      "Training loss:  0.024636177 \n",
      "\n"
     ]
    },
    {
     "data": {
      "image/png": "[encoded data removed]",
      "text/plain": [
       "<Figure size 432x288 with 1 Axes>"
      ]
     },
     "metadata": {
      "needs_background": "light"
     },
     "output_type": "display_data"
    },
    {
     "name": "stdout",
     "output_type": "stream",
     "text": [
      "Running evaluations...\n"
     ]
    },
    {
     "data": {
      "image/png": "[encoded data removed]",
      "text/plain": [
       "<Figure size 432x288 with 1 Axes>"
      ]
     },
     "metadata": {
      "needs_background": "light"
     },
     "output_type": "display_data"
    },
    {
     "name": "stdout",
     "output_type": "stream",
     "text": [
      "Iteration 3:\n"
     ]
    },
    {
     "data": {
      "application/vnd.jupyter.widget-view+json": {
       "model_id": "d78566eb45404252a9ce2ea2aae81f7c",
       "version_major": 2,
       "version_minor": 0
      },
      "text/plain": [
       "HBox(children=(FloatProgress(value=0.0, description='States', max=41.0, style=ProgressStyle(description_width=…"
      ]
     },
     "metadata": {},
     "output_type": "display_data"
    },
    {
     "name": "stdout",
     "output_type": "stream",
     "text": [
      "Training data samples: 25\n",
      "\n",
      "Training loss:  0.0475268 \n",
      "\n"
     ]
    },
    {
     "data": {
      "image/png": "[encoded data removed]",
      "text/plain": [
       "<Figure size 432x288 with 1 Axes>"
      ]
     },
     "metadata": {
      "needs_background": "light"
     },
     "output_type": "display_data"
    },
    {
     "name": "stdout",
     "output_type": "stream",
     "text": [
      "Running evaluations...\n"
     ]
    },
    {
     "data": {
      "image/png": "[encoded data removed]",
      "text/plain": [
       "<Figure size 432x288 with 1 Axes>"
      ]
     },
     "metadata": {
      "needs_background": "light"
     },
     "output_type": "display_data"
    },
    {
     "name": "stdout",
     "output_type": "stream",
     "text": [
      "Iteration 4:\n"
     ]
    },
    {
     "data": {
      "application/vnd.jupyter.widget-view+json": {
       "model_id": "054169324ba04022ada0916147a77e25",
       "version_major": 2,
       "version_minor": 0
      },
      "text/plain": [
       "HBox(children=(FloatProgress(value=0.0, description='States', max=41.0, style=ProgressStyle(description_width=…"
      ]
     },
     "metadata": {},
     "output_type": "display_data"
    },
    {
     "name": "stdout",
     "output_type": "stream",
     "text": [
      "Training data samples: 2\n",
      "\n",
      "Training loss:  0.0013362588 \n",
      "\n"
     ]
    },
    {
     "data": {
      "image/png": "[encoded data removed]",
      "text/plain": [
       "<Figure size 432x288 with 1 Axes>"
      ]
     },
     "metadata": {
      "needs_background": "light"
     },
     "output_type": "display_data"
    },
    {
     "name": "stdout",
     "output_type": "stream",
     "text": [
      "Running evaluations...\n"
     ]
    },
    {
     "data": {
      "image/png": "[encoded data removed]",
      "text/plain": [
       "<Figure size 432x288 with 1 Axes>"
      ]
     },
     "metadata": {
      "needs_background": "light"
     },
     "output_type": "display_data"
    },
    {
     "name": "stdout",
     "output_type": "stream",
     "text": [
      "Iteration 5:\n"
     ]
    },
    {
     "data": {
      "application/vnd.jupyter.widget-view+json": {
       "model_id": "29ee7d89d9ea4ab8a00d1e35d7fb3de2",
       "version_major": 2,
       "version_minor": 0
      },
      "text/plain": [
       "HBox(children=(FloatProgress(value=0.0, description='States', max=41.0, style=ProgressStyle(description_width=…"
      ]
     },
     "metadata": {},
     "output_type": "display_data"
    }
   ],
   "source": [
    "###################################################\n",
    "### Preference-Based Policy Iteration Algorithm ###\n",
    "\n",
    "### Functionality:\n",
    "### - INPUTS  : sample states (s'), initial (random) policy (\\pi0), max. num. of policy iterations (p)\n",
    "### - PROCESS : generate roll-out (fixed time horizon) and calculate accumulate reward\n",
    "### - OUTPUT  : compare return from each rollout: store preference info in training dataset as (s,a_k > a_j)\n",
    "\n",
    "\n",
    "# initialize environment\n",
    "env = gym.make('CartPole_PbPI_Version-v0')\n",
    "\n",
    "# sample states\n",
    "seed = 2\n",
    "sample_states = generate_init_states_S(seed) # randomly generated states initial\n",
    "\n",
    "print(f'\\nNumber of initial states: {len(sample_states)}\\n')\n",
    "\n",
    "# maximum number of policy iterations\n",
    "max_iterr = 3000\n",
    "\n",
    "# action space to consider\n",
    "act_space = partition_action_space('CartPole_PbPI_Version-v0',3)\n",
    "print(f'\\nNumber of actions (per states): {len(act_space)}\\n')\n",
    "\n",
    "# generate action-pairs (per each)\n",
    "act_pairs = list(itertools.combinations(act_space,2))\n",
    "\n",
    "# initial random policy\n",
    "policy_init = random_action\n",
    "policy = policy_init\n",
    "\n",
    "# store evaluation results (% of learned sufficient policies)\n",
    "agg_pct_l_policies = []\n",
    "\n",
    "# LEARNING RATES\n",
    "l_rates = np.concatenate((np.linspace(0.02,0.005,1000),np.linspace(0.005,0.0001,2000)))\n",
    "\n",
    "lr_flag = False # pass empty value for Model \n",
    "\n",
    "model_name = 'cartPole_modified'\n",
    "\n",
    "# algorithm iteration loop progress\n",
    "pbar = tqdm.notebook.tqdm(total=max_iterr, desc=\"Iteration\", position = 0)\n",
    "\n",
    "iterr = 1\n",
    "while iterr < max_iterr:\n",
    "    \n",
    "    print(f'Iteration {iterr}:')\n",
    "    \n",
    "    # place-holder for training data\n",
    "    train_data = [] # uncomment this after adding LabelRanker\n",
    "\n",
    "    # state loop progress\n",
    "    pbar_states = tqdm.notebook.tqdm(total=len(sample_states), desc=\"States\", position = 1, leave=False)\n",
    "    \n",
    "    for state in sample_states:\n",
    "        \n",
    "        # action-pair loop progress\n",
    "        #pbar_act_pairs = tqdm.notebook.tqdm(total=len(act_pairs), desc=\"action pairs\", position = 2, leave=False)\n",
    "        \n",
    "        for action_pair in act_pairs:\n",
    "            \n",
    "            preference_out = evaluate_preference(starting_state = state\n",
    "                                                 , action_1 = action_pair[0]\n",
    "                                                 , action_2 = action_pair[1]\n",
    "                                                 , policy_in = policy\n",
    "                                                 , label_ranker = lr_flag\n",
    "                                                 , n_rollouts = 30)   \n",
    "            \n",
    "            if preference_out is not None:\n",
    "                train_data.append(preference_out)\n",
    "            else:\n",
    "                pass\n",
    "                    \n",
    "        # update the state loop status\n",
    "        pbar_states.update(1)\n",
    "    \n",
    "    # process training data and learn a model\n",
    "    model = train_model(train_data\n",
    "                        , act_space\n",
    "                        , model_name = model_name\n",
    "                        , mod_layers = [10]\n",
    "                        , batch_s = 4   \n",
    "                        , n_epochs = 200\n",
    "                        , l_rate = l_rates[iterr-1]\n",
    "                        )\n",
    "    \n",
    "    # when no traiing data is found -> no model returned: loop continues to next iteration.\n",
    "    if model is None:\n",
    "        print(f'No training data collected!')\n",
    "        pbar.update(1)\n",
    "        iterr += 1\n",
    "        continue\n",
    "        \n",
    "    # derive a new policy using trained model\n",
    "    policy = Policy(act_space,model)\n",
    "    \n",
    "    # turn on inference from learnt policy\n",
    "    lr_flag = True\n",
    "    \n",
    "    # compute the average return over all roll-outs starting at init. states by new policy\n",
    "    pct_succ_policies = run_evaluations(policy, sample_states)\n",
    "    agg_pct_l_policies.append(pct_succ_policies)\n",
    "    \n",
    "    # clear the last plot data\n",
    "    plt.clf()\n",
    "    plt.cla()\n",
    "    plt.close()\n",
    "    \n",
    "    # plotting rewards over iterations\n",
    "    plt.plot(range(iterr), agg_pct_l_policies)\n",
    "    plt.ylabel('% learned sufficient policies')\n",
    "    plt.xlabel('iterations')\n",
    "    plt.savefig(f'./train_imgs/{model_name}.png') # save the evaluation image\n",
    "    plt.show()\n",
    "    \n",
    "    \n",
    "    # update the algorithm iteration loop status\n",
    "    pbar.update(1)\n",
    "    iterr += 1\n",
    "        \n",
    "pbar.close()"
   ]
  },
  {
   "cell_type": "markdown",
   "metadata": {},
   "source": [
    "---\n",
    "#### Test the learned policy on random starting states"
   ]
  },
  {
   "cell_type": "code",
   "execution_count": null,
   "metadata": {
    "ExecuteTime": {
     "end_time": "2020-12-12T23:23:21.657757Z",
     "start_time": "2020-12-12T23:23:06.779197Z"
    }
   },
   "outputs": [],
   "source": [
    "### Test-run for learned policy ###\n",
    "\n",
    "# model path\n",
    "PATH = \"./models/cart_pole_2_states_pbpi_model.pt\"\n",
    "\n",
    "class Model(nn.Module):\n",
    "\n",
    "        def __init__(self, input_state_len, output_label_len, layers, p=0.3):\n",
    "\n",
    "            super(Model,self).__init__()\n",
    "\n",
    "            all_layers = []\n",
    "            input_size = input_state_len\n",
    "\n",
    "            # create layers\n",
    "            for layer_dim in layers:\n",
    "                all_layers.append(nn.Linear(input_size, layer_dim))\n",
    "                all_layers.append(nn.LeakyReLU(inplace=True))\n",
    "                #all_layers.append(nn.BatchNorm1d(layer_dim))\n",
    "                all_layers.append(nn.Dropout(p))\n",
    "                input_size = layer_dim\n",
    "\n",
    "            all_layers.append(nn.Linear(layers[-1], output_label_len))\n",
    "\n",
    "            self.layers = nn.Sequential(*all_layers)\n",
    "\n",
    "        def forward(self, state_vec):\n",
    "            x = self.layers(state_vec)\n",
    "            return x\n",
    "        \n",
    "# Load\n",
    "model = Model(2, 3, [10])\n",
    "model.load_state_dict(torch.load(PATH))\n",
    "model.eval()\n",
    "\n",
    "# create policy\n",
    "policy = Policy(act_space,model)\n",
    "\n",
    "# create environment and apply policy\n",
    "env = gym.make('CartPole_PbPI_Version-v0')\n",
    "env = wrappers.Monitor(env, \"./gym-results\", force=True)\n",
    "env.reset()\n",
    "for _ in range(1000):\n",
    "    action = policy.label_ranking_policy(obs)\n",
    "    observation, reward, done, info = env.step(action)\n",
    "    obs = observation\n",
    "    if done: break\n",
    "env.close()\n",
    "\n",
    "# observe policy performance\n",
    "video = io.open('./gym-results/openaigym.video.%s.video000000.mp4' % env.file_infix, 'r+b').read()\n",
    "encoded = base64.b64encode(video)\n",
    "HTML(data='''\n",
    "    <video width=\"360\" height=\"auto\" alt=\"test\" controls><source src=\"data:video/mp4;base64,{0}\" type=\"video/mp4\" /></video>'''\n",
    ".format(encoded.decode('ascii')))"
   ]
  },
  {
   "cell_type": "markdown",
   "metadata": {},
   "source": [
    "---\n",
    "---"
   ]
  },
  {
   "cell_type": "markdown",
   "metadata": {
    "heading_collapsed": true
   },
   "source": [
    "## APPENDIX"
   ]
  },
  {
   "cell_type": "markdown",
   "metadata": {
    "hidden": true
   },
   "source": [
    "---\n",
    "#### 1. TRAINING DATASET PREP + MODEL + TRAINING [BREAKDOWN]"
   ]
  },
  {
   "cell_type": "code",
   "execution_count": null,
   "metadata": {
    "ExecuteTime": {
     "end_time": "2020-12-11T11:42:27.342022Z",
     "start_time": "2020-12-11T11:42:27.320511Z"
    },
    "hidden": true
   },
   "outputs": [],
   "source": [
    "# create a training dataframe\n",
    "train_df = pd.DataFrame(train_data).dropna()\n",
    "train_df.head(3)"
   ]
  },
  {
   "cell_type": "code",
   "execution_count": null,
   "metadata": {
    "ExecuteTime": {
     "end_time": "2020-12-11T08:20:32.681511Z",
     "start_time": "2020-12-11T08:20:32.677137Z"
    },
    "hidden": true
   },
   "outputs": [],
   "source": [
    "# create a key for state | only select pole-velocity and pole-position\n",
    "train_df.loc[:, 'state_key'] = train_df.state.apply(lambda x: x[2].astype(str)+\"_\"+x[3].astype(str))"
   ]
  },
  {
   "cell_type": "code",
   "execution_count": null,
   "metadata": {
    "ExecuteTime": {
     "end_time": "2020-12-11T08:20:33.018398Z",
     "start_time": "2020-12-11T08:20:33.010186Z"
    },
    "hidden": true
   },
   "outputs": [],
   "source": [
    "# drop all states which does not have any preferred action\n",
    "temp_df1 = train_df.groupby('state_key').preference_label.sum().reset_index()\n",
    "temp_df1 = temp_df1.loc[temp_df1.preference_label>0] # pick the states that have at least one prefered action\n",
    "train_df = train_df.merge(right = temp_df1.loc[:,'state_key']\n",
    "                          , right_on = 'state_key'\n",
    "                          , left_on = 'state_key'\n",
    "                          , how = 'right')"
   ]
  },
  {
   "cell_type": "code",
   "execution_count": null,
   "metadata": {
    "ExecuteTime": {
     "end_time": "2020-12-11T08:21:15.623556Z",
     "start_time": "2020-12-11T08:21:15.620703Z"
    },
    "hidden": true
   },
   "outputs": [],
   "source": [
    "# confirm if the training dataset is not empty\n",
    "train_df.shape[0]>0"
   ]
  },
  {
   "cell_type": "raw",
   "metadata": {
    "hidden": true
   },
   "source": [
    "#### THIS CODE IS NOT NEEDED TO TRAIN THE MODEL ####\n",
    "\n",
    "### THERE IS AN ISSUE HERE! - IF ANY OF THE ACTIONS ARE NOT PREFERRED - THAT WILL NOT BE INCLUDED IN THE UNIQUE ACTIONS###\n",
    "### - MANUALLY PASS ALL ACTIONS IN THE ACTION SPACE TO GET THE UNIQUE SET OF ACTIONS\n",
    "\n",
    "# create a single column with the set of actions executed per state\n",
    "temp_df1 = train_df.groupby('state_key')['a_j'].unique().reset_index()\n",
    "temp_df2 = train_df.groupby('state_key')['a_k'].unique().reset_index()\n",
    "temp_df3 = temp_df1.merge(right=temp_df2\n",
    "                          , right_on = 'state_key'\n",
    "                          , left_on = 'state_key'\n",
    "                          , how = 'inner')\n",
    "temp_df3.loc[:,'unique_acts'] = temp_df3.apply(lambda row: set(list(row['a_j']) + list(row['a_k'])) ,axis=1)\n",
    "\n",
    "temp_df3.head(2)\n",
    "\n",
    "# add the unique-action column to train dataset\n",
    "train_df = train_df.merge(right = temp_df3.loc[:,['state_key', 'unique_acts']]\n",
    "              , right_on =  'state_key'\n",
    "              , left_on = 'state_key'\n",
    "              , how = 'left')"
   ]
  },
  {
   "cell_type": "code",
   "execution_count": null,
   "metadata": {
    "ExecuteTime": {
     "end_time": "2020-12-11T08:20:42.199084Z",
     "start_time": "2020-12-11T08:20:42.161762Z"
    },
    "hidden": true
   },
   "outputs": [],
   "source": [
    "# create a 'prefered-action' value for each state\n",
    "train_df.loc[:,'prefered_action'] = train_df.apply(lambda row: row['a_j'] if row['preference_label'] == 1 else row['a_k']  ,axis=1)"
   ]
  },
  {
   "cell_type": "code",
   "execution_count": null,
   "metadata": {
    "ExecuteTime": {
     "end_time": "2020-12-11T08:19:28.046270Z",
     "start_time": "2020-12-11T08:19:28.040727Z"
    },
    "hidden": true
   },
   "outputs": [],
   "source": [
    "train_df.head(3)"
   ]
  },
  {
   "cell_type": "code",
   "execution_count": null,
   "metadata": {
    "ExecuteTime": {
     "end_time": "2020-12-10T12:31:19.313009Z",
     "start_time": "2020-12-10T12:31:19.303493Z"
    },
    "hidden": true
   },
   "outputs": [],
   "source": [
    "# count the number of times each action (IN THE ACTION SPACE) is prefered at a state\n",
    "action_preference_counts = train_df.groupby('state_key').prefered_action.value_counts().unstack()\n",
    "action_preference_counts.replace(np.nan,0,inplace=True)\n",
    "action_preference_counts.head()"
   ]
  },
  {
   "cell_type": "code",
   "execution_count": null,
   "metadata": {
    "ExecuteTime": {
     "end_time": "2020-12-10T12:31:20.369303Z",
     "start_time": "2020-12-10T12:31:20.364081Z"
    },
    "hidden": true
   },
   "outputs": [],
   "source": [
    "# remove the column index nameS\n",
    "action_preference_counts.columns.name = None\n",
    "\n",
    "# find actions not selected as a preferred action at any state \n",
    "missed_actions = [action for action in act_space if action not in action_preference_counts.columns.tolist()]\n",
    "missed_actions = np.array(missed_actions).astype(action_preference_counts.columns.dtype) # convert to the same data-type of columns\n",
    "\n",
    "# add any missing actions to the summary table\n",
    "if len(missed_actions)>0:\n",
    "    \n",
    "    # add the missing action (with 0 preference value)\n",
    "    for action in missed_actions:\n",
    "        action_preference_counts.loc[:,action] = 0\n",
    "\n",
    "    # sort the actions in the summary according to arrangement in action space (ascending order)\n",
    "    action_preference_counts = action_preference_counts.reindex(sorted(action_preference_counts.columns), axis=1)"
   ]
  },
  {
   "cell_type": "code",
   "execution_count": null,
   "metadata": {
    "ExecuteTime": {
     "end_time": "2020-12-10T12:31:21.829397Z",
     "start_time": "2020-12-10T12:31:21.822087Z"
    },
    "hidden": true
   },
   "outputs": [],
   "source": [
    "action_preference_counts"
   ]
  },
  {
   "cell_type": "code",
   "execution_count": null,
   "metadata": {
    "ExecuteTime": {
     "end_time": "2020-12-10T12:33:34.528098Z",
     "start_time": "2020-12-10T12:33:34.523589Z"
    },
    "hidden": true
   },
   "outputs": [],
   "source": [
    "### convert the action-preference-counts to a vector (to be used as training labels)\n",
    "action_preference_counts.loc[:, 'preference_label_vector'] = pd.DataFrame({'label_data': action_preference_counts.iloc[:,0:].values.tolist()}).values"
   ]
  },
  {
   "cell_type": "code",
   "execution_count": null,
   "metadata": {
    "ExecuteTime": {
     "end_time": "2020-12-10T12:33:36.640747Z",
     "start_time": "2020-12-10T12:33:36.632105Z"
    },
    "hidden": true
   },
   "outputs": [],
   "source": [
    "action_preference_counts.head()"
   ]
  },
  {
   "cell_type": "code",
   "execution_count": null,
   "metadata": {
    "hidden": true
   },
   "outputs": [],
   "source": [
    "# add preference label vector to training dataset\n",
    "train_df = train_df.merge(right = action_preference_counts.loc[:,['preference_label_vector']]\n",
    "                          , right_index= True\n",
    "                          , left_on = 'state_key'\n",
    "                          , how = 'left')"
   ]
  },
  {
   "cell_type": "code",
   "execution_count": null,
   "metadata": {
    "hidden": true
   },
   "outputs": [],
   "source": [
    "train_df.head(2)"
   ]
  },
  {
   "cell_type": "code",
   "execution_count": null,
   "metadata": {
    "hidden": true
   },
   "outputs": [],
   "source": [
    "# create the reduced training dataset (drop unnecessary columns + duplicate rows: which have data for same state)\n",
    "train_df_reduced = train_df.loc[:,['state', 'state_key', 'unique_acts', 'preference_label_vector']]\n",
    "\n",
    "train_df_reduced.drop_duplicates(subset=['state_key'],inplace=True)\n",
    "train_df_reduced.head(3)"
   ]
  },
  {
   "cell_type": "code",
   "execution_count": null,
   "metadata": {
    "hidden": true
   },
   "outputs": [],
   "source": [
    "# above dataset has - state + list of actions + # preferences made for each action (at state) --> each row"
   ]
  },
  {
   "cell_type": "code",
   "execution_count": null,
   "metadata": {
    "hidden": true
   },
   "outputs": [],
   "source": [
    "output_labels_temp = np.array(train_df_reduced.preference_label_vector.tolist())\n",
    "\n",
    "# to handle 1-D output label vector\n",
    "if len(output_labels_temp.shape) == 1:\n",
    "    output_labels_normalized = output_labels_temp\n",
    "else:\n",
    "    row_sums = output_labels_temp.sum(axis=1)\n",
    "    output_labels_normalized = output_labels_temp / row_sums[:, np.newaxis]"
   ]
  },
  {
   "cell_type": "code",
   "execution_count": null,
   "metadata": {
    "hidden": true
   },
   "outputs": [],
   "source": [
    "# create training dataset\n",
    "input_states  = torch.from_numpy(np.array(train_df_reduced.state.apply(lambda x: x.astype(float)).tolist()))\n",
    "output_labels = torch.from_numpy(output_labels_normalized)"
   ]
  },
  {
   "cell_type": "code",
   "execution_count": null,
   "metadata": {
    "hidden": true
   },
   "outputs": [],
   "source": [
    "# Import tensor dataset & data loader\n",
    "from torch.utils.data import TensorDataset, DataLoader"
   ]
  },
  {
   "cell_type": "code",
   "execution_count": null,
   "metadata": {
    "hidden": true
   },
   "outputs": [],
   "source": [
    "train_ds = TensorDataset(input_states , output_labels )"
   ]
  },
  {
   "cell_type": "code",
   "execution_count": null,
   "metadata": {
    "hidden": true
   },
   "outputs": [],
   "source": [
    "# Define data loader\n",
    "batch_size = 3\n",
    "train_dl = DataLoader(train_ds, batch_size, shuffle=True, drop_last=True)\n",
    "next(iter(train_dl))"
   ]
  },
  {
   "cell_type": "code",
   "execution_count": null,
   "metadata": {
    "hidden": true
   },
   "outputs": [],
   "source": [
    "class Model(nn.Module):\n",
    "\n",
    "    def __init__(self, input_state_len, output_label_len, layers, p=0.4):\n",
    "        \n",
    "        super().__init__()\n",
    "        self.batch_norm_num = nn.BatchNorm1d(input_state_len)\n",
    "\n",
    "        all_layers = []\n",
    "        input_size = input_state_len\n",
    "\n",
    "        # create layers\n",
    "        for layer_dim in layers:\n",
    "            all_layers.append(nn.Linear(input_size, layer_dim))\n",
    "            all_layers.append(nn.ReLU(inplace=True))\n",
    "            all_layers.append(nn.BatchNorm1d(layer_dim))\n",
    "            all_layers.append(nn.Dropout(p))\n",
    "            input_size = layer_dim\n",
    "\n",
    "        all_layers.append(nn.Linear(layers[-1], output_label_len))\n",
    "\n",
    "        self.layers = nn.Sequential(*all_layers)\n",
    "\n",
    "    def forward(self, state_vec):\n",
    "        x = self.batch_norm_num(state_vec)\n",
    "        x = self.layers(x)\n",
    "        return x"
   ]
  },
  {
   "cell_type": "code",
   "execution_count": null,
   "metadata": {
    "hidden": true
   },
   "outputs": [],
   "source": [
    "# Define model\n",
    "model = Model(input_states.shape[1], output_labels.shape[1], [100,500,50], p=0.4)\n",
    "# model = Model(input_states.shape[1], 1 if len(output_labels.shape)== 1 else output_labels.shape[1], [100,500,50], p=0.4) # for 1-D targets\n"
   ]
  },
  {
   "cell_type": "code",
   "execution_count": null,
   "metadata": {
    "hidden": true
   },
   "outputs": [],
   "source": [
    "model"
   ]
  },
  {
   "cell_type": "code",
   "execution_count": null,
   "metadata": {
    "hidden": true
   },
   "outputs": [],
   "source": [
    "opt = torch.optim.SGD(model.parameters(), lr = 1e-1)\n",
    "loss_fn = F.mse_loss"
   ]
  },
  {
   "cell_type": "raw",
   "metadata": {
    "hidden": true
   },
   "source": [
    "for xb,yb in train_dl:\n",
    "    print(yb.reshape(3,1))"
   ]
  },
  {
   "cell_type": "code",
   "execution_count": null,
   "metadata": {
    "hidden": true
   },
   "outputs": [],
   "source": [
    "# to store losses\n",
    "aggregated_losses = []\n",
    "\n",
    "# Define a utility function to train the model\n",
    "def fit(num_epochs, model, loss_fn, opt):\n",
    "    \n",
    "    for epoch in range(num_epochs):\n",
    "        for xb,yb in train_dl:\n",
    "            \n",
    "            # Generate predictions\n",
    "            pred = model(xb.float())\n",
    "            #loss = loss_fn(pred, yb.float())            \n",
    "            loss = loss_fn(pred, yb.reshape(3,1).float()) \n",
    "            \n",
    "            # Perform gradient descent\n",
    "            loss.backward()\n",
    "            opt.step()\n",
    "            opt.zero_grad()\n",
    "            \n",
    "        #aggregated_losses.append(loss_fn(model(input_states.float()), output_labels.float()).detach().numpy())\n",
    "        \n",
    "        if epoch%25 == 0:\n",
    "                print(f'epoch: {epoch:3} loss: {loss.item():10.8f}')\n",
    "            \n",
    "    print('Training loss: ', loss_fn(model(input_states.float()), output_labels.float()))"
   ]
  },
  {
   "cell_type": "code",
   "execution_count": null,
   "metadata": {
    "hidden": true
   },
   "outputs": [],
   "source": [
    "xb,yb = next(iter(train_dl))\n",
    "pred = model(xb.float())\n",
    "#loss_fn(pred, yb.float())  \n",
    "yb.reshape(3,1).float()"
   ]
  },
  {
   "cell_type": "code",
   "execution_count": null,
   "metadata": {
    "hidden": true
   },
   "outputs": [],
   "source": [
    "epochs= 300\n",
    "fit(epochs, model, loss_fn, opt)"
   ]
  },
  {
   "cell_type": "code",
   "execution_count": null,
   "metadata": {
    "hidden": true
   },
   "outputs": [],
   "source": [
    "plt.plot(range(epochs), aggregated_losses)\n",
    "plt.ylabel('Loss')\n",
    "plt.xlabel('epoch')\n",
    "plt.show()"
   ]
  },
  {
   "cell_type": "markdown",
   "metadata": {
    "hidden": true
   },
   "source": [
    "---"
   ]
  },
  {
   "cell_type": "markdown",
   "metadata": {
    "hidden": true
   },
   "source": [
    "#### Label Ranking Policy"
   ]
  },
  {
   "cell_type": "code",
   "execution_count": null,
   "metadata": {
    "hidden": true
   },
   "outputs": [],
   "source": [
    "env = gym.make('CartPole-v0')\n",
    "observation = env.reset()\n",
    "\n",
    "state_obs = observation[[2,3]] # only select angel and angular velo. of pendulum from state vector\n",
    "state_obs = state_obs.reshape(-1,state_obs.shape[0]) # reshape to be a 2D array\n",
    "state_obs = torch.from_numpy(state_obs) # convert to a tensor\n",
    "\n",
    "# make the prediction for actions\n",
    "with torch.no_grad():\n",
    "    preds = model(state_obs.float()) \n",
    "    \n",
    "# rank the indexes of actions (from highest ranked/preferred action to lowest)\n",
    "ranked_action_idx = (-rd(preds.detach().numpy())).argsort()[:preds.shape[1]]\n",
    "\n",
    "# return the action value\n",
    "remain_probs = .1/len(ranked_action_idx[2:])\n",
    "n_remain_actions = ranked_action_idx.shape[0]-2\n",
    "\n",
    "# - select first two (highest preferred actions) 80% and 10% of the time\n",
    "# - select one of the remaining actions 10% time\n",
    "action = np.random.choice(ranked_action_idx,1 , p=[0.8, 0.1] + list(np.repeat(remain_probs,n_remain_actions)))[0]\n",
    "\n",
    "action"
   ]
  },
  {
   "cell_type": "markdown",
   "metadata": {
    "hidden": true
   },
   "source": [
    "---"
   ]
  },
  {
   "cell_type": "markdown",
   "metadata": {
    "hidden": true
   },
   "source": [
    "### Visualize episode"
   ]
  },
  {
   "cell_type": "markdown",
   "metadata": {
    "hidden": true
   },
   "source": [
    "##### METHOD 1:"
   ]
  },
  {
   "cell_type": "code",
   "execution_count": null,
   "metadata": {
    "hidden": true
   },
   "outputs": [],
   "source": [
    "env = gym.make('MountainCar_PbPI_Version-v0')\n",
    "env = wrappers.Monitor(env, \"./gym-results/mount-car\", force=True)\n",
    "env.reset()\n",
    "for _ in range(1000):\n",
    "    action = env.action_space.sample()\n",
    "    observation, reward, done, info = env.step(random_action(env))\n",
    "    if done: break\n",
    "env.close()\n",
    "\n",
    "video = io.open('./gym-results/mount-car/openaigym.video.%s.video000000.mp4' % env.file_infix, 'r+b').read()\n",
    "encoded = base64.b64encode(video)\n",
    "HTML(data='''\n",
    "    <video width=\"360\" height=\"auto\" alt=\"test\" controls><source src=\"data:video/mp4;base64,{0}\" type=\"video/mp4\" /></video>'''\n",
    ".format(encoded.decode('ascii')))"
   ]
  },
  {
   "cell_type": "markdown",
   "metadata": {
    "hidden": true
   },
   "source": [
    "##### METHOD 2:"
   ]
  },
  {
   "cell_type": "code",
   "execution_count": null,
   "metadata": {
    "hidden": true
   },
   "outputs": [],
   "source": [
    "nb_episodes = 20\n",
    "nb_timesteps = 100\n",
    "img = plt.imshow(env.render(mode='rgb_array')) # only call this once\n",
    "\n",
    "for episode in range(nb_episodes):  # iterate over the episodes\n",
    "    state = env.reset()             # initialise the environment\n",
    "    rewards = []\n",
    "    \n",
    "    for t in range(nb_timesteps):    # iterate over time steps\n",
    "        #env.render()                 # display the environment\n",
    "        img.set_data(env.render(mode='rgb_array')) # just update the data\n",
    "        display.display(plt.gcf())\n",
    "        display.clear_output(wait=True)\n",
    "        state, reward, done, info = env.step(0)  # implement the action chosen by the policy\n",
    "        rewards.append(reward)      # add 1 to the rewards list\n",
    "        \n",
    "        if done: # the episode ends either if the pole is > 15 deg from vertical or the cart move by > 2.4 unit from the centre\n",
    "            cumulative_reward = sum(rewards)\n",
    "            print(\"episode {} finished after {} timesteps. Total reward: {}\".format(episode, t+1, cumulative_reward))  \n",
    "            break\n",
    "    \n",
    "env.close()"
   ]
  },
  {
   "cell_type": "markdown",
   "metadata": {
    "hidden": true
   },
   "source": [
    "---"
   ]
  },
  {
   "cell_type": "markdown",
   "metadata": {
    "hidden": true
   },
   "source": [
    "##### OTHER USEFUL-INFO:"
   ]
  },
  {
   "cell_type": "raw",
   "metadata": {
    "hidden": true
   },
   "source": [
    "- useful links\n",
    "    - how to initialize to a custom state: https://stackoverflow.com/questions/57263759/how-can-i-start-the-environment-from-a-custom-initial-state-for-mountain-car"
   ]
  }
 ],
 "metadata": {
  "hide_input": false,
  "kernelspec": {
   "display_name": "Python 3",
   "language": "python",
   "name": "python3"
  },
  "language_info": {
   "codemirror_mode": {
    "name": "ipython",
    "version": 3
   },
   "file_extension": ".py",
   "mimetype": "text/x-python",
   "name": "python",
   "nbconvert_exporter": "python",
   "pygments_lexer": "ipython3",
   "version": "3.7.8"
  }
 },
 "nbformat": 4,
 "nbformat_minor": 4
}
